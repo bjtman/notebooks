{
 "cells": [
  {
   "cell_type": "markdown",
   "metadata": {},
   "source": [
    "## Chapter 11\n",
    "# Defining abstract data types"
   ]
  },
  {
   "cell_type": "markdown",
   "metadata": {},
   "source": [
    "**11-0.** Compile execute, and test the programs in this chapter."
   ]
  },
  {
   "cell_type": "markdown",
   "metadata": {},
   "source": [
    "Implemented in `Vec.cpp` and `Vec.h`."
   ]
  },
  {
   "cell_type": "code",
   "execution_count": 1,
   "metadata": {},
   "outputs": [
    {
     "data": {
      "text/plain": []
     },
     "execution_count": 1,
     "metadata": {},
     "output_type": "execute_result"
    }
   ],
   "source": [
    "#include \"Vec.h\""
   ]
  },
  {
   "cell_type": "code",
   "execution_count": 2,
   "metadata": {},
   "outputs": [
    {
     "data": {
      "text/plain": []
     },
     "execution_count": 2,
     "metadata": {},
     "output_type": "execute_result"
    }
   ],
   "source": [
    "#include <string>"
   ]
  },
  {
   "cell_type": "code",
   "execution_count": 3,
   "metadata": {},
   "outputs": [
    {
     "data": {
      "text/plain": []
     },
     "execution_count": 3,
     "metadata": {},
     "output_type": "execute_result"
    }
   ],
   "source": [
    "#include <iostream>"
   ]
  },
  {
   "cell_type": "code",
   "execution_count": 4,
   "metadata": {},
   "outputs": [
    {
     "data": {
      "text/plain": []
     },
     "execution_count": 4,
     "metadata": {},
     "output_type": "execute_result"
    }
   ],
   "source": [
    "using std::string;"
   ]
  },
  {
   "cell_type": "code",
   "execution_count": 5,
   "metadata": {},
   "outputs": [
    {
     "data": {
      "text/plain": []
     },
     "execution_count": 5,
     "metadata": {},
     "output_type": "execute_result"
    }
   ],
   "source": [
    "using std::cout;"
   ]
  },
  {
   "cell_type": "code",
   "execution_count": 6,
   "metadata": {},
   "outputs": [
    {
     "data": {
      "text/plain": []
     },
     "execution_count": 6,
     "metadata": {},
     "output_type": "execute_result"
    }
   ],
   "source": [
    "using std::endl;"
   ]
  },
  {
   "cell_type": "code",
   "execution_count": 7,
   "metadata": {},
   "outputs": [
    {
     "data": {
      "text/plain": [
       "(void) @0x70000e87aea0\n"
      ]
     },
     "execution_count": 7,
     "metadata": {},
     "output_type": "execute_result"
    }
   ],
   "source": [
    "Vec<string> vec;\n",
    "vec.push_back(\"hi\");"
   ]
  },
  {
   "cell_type": "code",
   "execution_count": 8,
   "metadata": {},
   "outputs": [
    {
     "data": {
      "text/plain": [
       "(std::basic_string<char, std::char_traits<char>, std::allocator<char> > &) \"hi\"\n"
      ]
     },
     "execution_count": 8,
     "metadata": {},
     "output_type": "execute_result"
    }
   ],
   "source": [
    "vec[0];"
   ]
  },
  {
   "cell_type": "markdown",
   "metadata": {},
   "source": [
    "**11-1.** The `Student_info` structure that we defined in Chapter 9 did not define a copy constructor, assignment operator, or destructor. Why not?"
   ]
  },
  {
   "cell_type": "markdown",
   "metadata": {},
   "source": [
    "The `Student_info` structure did not define a copy constructor, assignment operator, or destructor because the synthesized implementation of these functions is sufficient for the class. (The synthesized implementations will apply these operations on each member variable recursively.)  The member variables are all primitives or collections of primitives, which do not require manual memory allocation or deallocation."
   ]
  },
  {
   "cell_type": "markdown",
   "metadata": {},
   "source": [
    "**11-2.** That structure did define a default constructor. Why?"
   ]
  },
  {
   "cell_type": "markdown",
   "metadata": {},
   "source": [
    "Without a default constructor, when default-initialized the class would have otherwise had garbage values in its primitives, and in the primitives stored in its member vector.  (They would have held values based on whatever the contents of their memory happen to be."
   ]
  },
  {
   "cell_type": "markdown",
   "metadata": {},
   "source": [
    "**11-3.** What does the synthesized assignment operator for `Student_info` objects do?"
   ]
  },
  {
   "cell_type": "markdown",
   "metadata": {},
   "source": [
    "As mentioned above, synthesized assignment operators for a class apply recursively to each member variable.  In the case of `Student_info` objects, the member variables `n`, `midterm`, `final`, `total_grade` and `homework` will all have the corresponding elements of the right-hand `Student_info` object assigned using the assignment operators defined for the `string`, `double` and `vector<double>` objects.  The assignment operators on each of these types copies their right-hand arguments to the left-hand variables."
   ]
  },
  {
   "cell_type": "markdown",
   "metadata": {},
   "source": [
    "**11-4.** How many members does the synthesized `Student_info` destructor destroy?"
   ]
  },
  {
   "cell_type": "markdown",
   "metadata": {},
   "source": [
    "Only the members, `std::string n` and `std::vector<double> homework` will have synthesized destructors, since the built-in `double` type of the other members does technically have default destructors, but they have nothing to do (no memory to deallocate)."
   ]
  },
  {
   "cell_type": "markdown",
   "metadata": {},
   "source": [
    "**11-5.** Instrument the `Student_info` class to count how often objects are created, copied, assigned and destroyed. Use this instrumented class to execute the student record programs from Chapter 6. Using the instrumented `Student_info` class will let you see how many copies the library algorithms are doing. Comparing the number of copies will let you estimate what proportion of the cost differences we saw are accounted for by the use of each library class. Do this instrumentation and analysis."
   ]
  },
  {
   "cell_type": "markdown",
   "metadata": {},
   "source": [
    "Here's how I tackled this:\n",
    "\n",
    "First of all, the programs they're referring to are in _Chapter 5_, not Chapter 6!\n",
    "\n",
    "I had a hard time sharing static instrumentation counter variables with the main process and the `Student_info` class, since the are compiled as separate objects and thus make separate copies of the static counters.  So I ended up putting three static counter variables (`copy_count`, `assign_count` and `destroy_count`) in `Student_info.h` and _also_ added a `void print_instrumentation();` function to the same header, defined in `Student_info.cpp`.  I call this print function from the main driver, and increment the variables appropriately in `Student_info.cpp`.\n",
    "\n",
    "The extra methods look like:\n",
    "```\n",
    "Student_info::Student_info(const Student_info& other) {\n",
    "    n = other.n;\n",
    "    midterm = other.midterm;\n",
    "    final = other.final;\n",
    "    total_grade = other.total_grade;\n",
    "    homework = other.homework;\n",
    "\n",
    "    ++copy_count;\n",
    "}\n",
    "\n",
    "Student_info& Student_info::operator=(const Student_info& other) {\n",
    "    if (this != &other) {\n",
    "        n = other.n;\n",
    "        midterm = other.midterm;\n",
    "        final = other.final;\n",
    "        total_grade = other.total_grade;\n",
    "        homework = other.homework;\n",
    "    }\n",
    "    ++assign_count;\n",
    "    return *this;\n",
    "}\n",
    "\n",
    "Student_info::~Student_info() {\n",
    "    ++destroy_count;\n",
    "}\n",
    "```\n",
    "\n",
    "I used the generically-typed `failing_students` code developed in a previous exercise so that I only had to change the initial `students` declaration between `vector` and `list`.\n",
    "\n",
    "Here are the results (note that all of the remaining `destroy`s happen automatically _after_ user program termination, so the real number is much higher_:\n",
    "```\n",
    "$ gcc Student_info.cpp ../chapter_4/median.cpp failing_students_generic_type.cpp ../chapter_10/grade.cpp  -o failing_students_generic.out -lstdc++\n",
    "```\n",
    "\n",
    "**With list and size 1,000:**\n",
    "```\n",
    "Total copies: 1500\n",
    "Total assignments: 0\n",
    "Total destroys: 500\n",
    "```\n",
    "**With vector and size 1,000:**\n",
    "```\n",
    "Total copies: 3034\n",
    "Total assignments: 250000\n",
    "Total destroys: 2034\n",
    "```\n",
    "\n",
    "**With list and size 10,000:**\n",
    "```\n",
    "Total copies: 15000\n",
    "Total assignments: 0\n",
    "Total destroys: 5000\n",
    "```\n",
    "**With vector and size 10,000:**\n",
    "```\n",
    "Total copies: 39574\n",
    "Total assignments: 25000000\n",
    "Total destroys: 29574\n",
    "```\n",
    "\n",
    "\n",
    "It doesn't take much analysis to see that the number of copies only accounts for about 2X of the slowdown.  As `n` increases we see several orders of magnitude slowdown, which is clearly dominated by the explosive number of _assignments_ (of which the `list` implementation does none).\n",
    "\n",
    "I note that with 100,000 students, the number of copies stays at about 2x in the vector impl, but the number of assignments is so large it cannot be contained in an `int`!"
   ]
  },
  {
   "cell_type": "markdown",
   "metadata": {},
   "source": [
    "**11-6.** Add an operation to remove an element from a `Vec` and another to empty the entire `Vec`. These should behave analogously to the `erase` and `clear` operations on `vector`s."
   ]
  },
  {
   "cell_type": "code",
   "execution_count": 9,
   "metadata": {},
   "outputs": [
    {
     "data": {
      "text/plain": [
       "(void) @0x70000e87aea0\n"
      ]
     },
     "execution_count": 9,
     "metadata": {},
     "output_type": "execute_result"
    }
   ],
   "source": [
    "vec.push_back(\"right\");\n",
    "vec.push_back(\"now\");\n",
    "vec.push_back(\"over\");\n",
    "vec.push_back(\"me\");"
   ]
  },
  {
   "cell_type": "code",
   "execution_count": 10,
   "metadata": {},
   "outputs": [
    {
     "name": "stdout",
     "output_type": "stream",
     "text": [
      "hi\n",
      "right\n",
      "now\n",
      "over\n",
      "me\n"
     ]
    },
    {
     "data": {
      "text/plain": [
       "(void) @0x70000e87aea0\n"
      ]
     },
     "execution_count": 10,
     "metadata": {},
     "output_type": "execute_result"
    }
   ],
   "source": [
    "vec.print_all();"
   ]
  },
  {
   "cell_type": "code",
   "execution_count": 11,
   "metadata": {},
   "outputs": [
    {
     "data": {
      "text/plain": [
       "(std::basic_string<char, std::char_traits<char>, std::allocator<char> > &) \"me\"\n"
      ]
     },
     "execution_count": 11,
     "metadata": {},
     "output_type": "execute_result"
    }
   ],
   "source": [
    "*(vec.end() - 1);"
   ]
  },
  {
   "cell_type": "code",
   "execution_count": 12,
   "metadata": {},
   "outputs": [
    {
     "data": {
      "text/plain": [
       "(Vec<std::__1::basic_string<char> >::iterator) 0x7f7fd17e8a90\n"
      ]
     },
     "execution_count": 12,
     "metadata": {},
     "output_type": "execute_result"
    }
   ],
   "source": [
    "vec.erase(vec.begin());"
   ]
  },
  {
   "cell_type": "code",
   "execution_count": 13,
   "metadata": {},
   "outputs": [
    {
     "name": "stdout",
     "output_type": "stream",
     "text": [
      "right\n",
      "now\n",
      "over\n",
      "me\n"
     ]
    },
    {
     "data": {
      "text/plain": [
       "(void) @0x70000e87aea0\n"
      ]
     },
     "execution_count": 13,
     "metadata": {},
     "output_type": "execute_result"
    }
   ],
   "source": [
    "vec.print_all();"
   ]
  },
  {
   "cell_type": "code",
   "execution_count": 14,
   "metadata": {},
   "outputs": [
    {
     "data": {
      "text/plain": [
       "(std::basic_string<char, std::char_traits<char>, std::allocator<char> > &) \"right\"\n"
      ]
     },
     "execution_count": 14,
     "metadata": {},
     "output_type": "execute_result"
    }
   ],
   "source": [
    "*vec.begin();"
   ]
  },
  {
   "cell_type": "code",
   "execution_count": 15,
   "metadata": {},
   "outputs": [
    {
     "data": {
      "text/plain": [
       "(std::basic_string<char, std::char_traits<char>, std::allocator<char> > &) \"me\"\n"
      ]
     },
     "execution_count": 15,
     "metadata": {},
     "output_type": "execute_result"
    }
   ],
   "source": [
    "*(vec.end() - 1);"
   ]
  },
  {
   "cell_type": "code",
   "execution_count": 16,
   "metadata": {},
   "outputs": [
    {
     "data": {
      "text/plain": [
       "(Vec<std::__1::basic_string<char> >::iterator) 0x7f7fd17e8ad8\n"
      ]
     },
     "execution_count": 16,
     "metadata": {},
     "output_type": "execute_result"
    }
   ],
   "source": [
    "vec.erase(vec.end() - 1);"
   ]
  },
  {
   "cell_type": "code",
   "execution_count": 17,
   "metadata": {},
   "outputs": [
    {
     "name": "stdout",
     "output_type": "stream",
     "text": [
      "right\n",
      "now\n",
      "over\n"
     ]
    },
    {
     "data": {
      "text/plain": [
       "(void) @0x70000e87aea0\n"
      ]
     },
     "execution_count": 17,
     "metadata": {},
     "output_type": "execute_result"
    }
   ],
   "source": [
    "vec.print_all();"
   ]
  },
  {
   "cell_type": "code",
   "execution_count": 18,
   "metadata": {},
   "outputs": [
    {
     "data": {
      "text/plain": [
       "(std::basic_string<char, std::char_traits<char>, std::allocator<char> > &) \"over\"\n"
      ]
     },
     "execution_count": 18,
     "metadata": {},
     "output_type": "execute_result"
    }
   ],
   "source": [
    "*(vec.end() - 1);"
   ]
  },
  {
   "cell_type": "code",
   "execution_count": 19,
   "metadata": {},
   "outputs": [
    {
     "data": {
      "text/plain": [
       "(void) @0x70000e87aea0\n"
      ]
     },
     "execution_count": 19,
     "metadata": {},
     "output_type": "execute_result"
    }
   ],
   "source": [
    "vec.clear();"
   ]
  },
  {
   "cell_type": "code",
   "execution_count": 20,
   "metadata": {},
   "outputs": [
    {
     "data": {
      "text/plain": [
       "(void) @0x70000e87aea0\n"
      ]
     },
     "execution_count": 20,
     "metadata": {},
     "output_type": "execute_result"
    }
   ],
   "source": [
    "vec.print_all();"
   ]
  },
  {
   "cell_type": "markdown",
   "metadata": {},
   "source": [
    "**11-7.** Once you've added `erase` and `clear` to `Vec`, you can use that class insread of `vector` in most of the earlier programs in this book. Rewrite the `Student_info` programs from Chapter 9 and the programs that work with character pictures from Chapter 5 to use `Vec`s instead of `vector`s."
   ]
  },
  {
   "cell_type": "markdown",
   "metadata": {},
   "source": [
    "All copied over and adapted in the `vec_rewrites` folder.\n",
    "\n",
    "(Turns out we really needed several more methods for drop-in replacement:\n",
    "\n",
    "`Vec(const_iterator b, const_iterator e) { create(b, e); }`\n",
    "`bool empty() { return end() == begin(); }`\n",
    "\n",
    "I rewrote `insert` method calls to use `push_back` since they were just appending a bunch to the back."
   ]
  },
  {
   "cell_type": "markdown",
   "metadata": {},
   "source": [
    "**11-8.** Write a simplified version of the standard `list` class and its associated iterator."
   ]
  },
  {
   "cell_type": "markdown",
   "metadata": {},
   "source": [
    "All but iterators figured out in `List.h` and tested in `list_test.cpp`."
   ]
  },
  {
   "cell_type": "markdown",
   "metadata": {},
   "source": [
    "**11-9.** The `grow` function in 11.5.1/208 doubles the amount of memory each time it needs more. Estimate the efficiency gains of this strategy. Once you've predicted how much of a difference it makes, change the `grow` function appropriately and measure the difference."
   ]
  },
  {
   "cell_type": "markdown",
   "metadata": {},
   "source": [
    "The simplest alternative to doubling would be to simply grow space for one more element every time we run out.  This would incur the overhead of an `allocate`, `uninitialized_copy` call, along with a full `destroy` and `deallocate` call for the full `Vec` range, for each new element.\n",
    "\n",
    "Compare this to a much larger `allocate`, `uninitialized_copy` copy much less frequently, with much less frequent but same-overhead calls to `destroy` and `deallocate`.\n",
    "\n",
    "Assuming the call overhead of allocating memory is equal to the creation of an amount of memory of _any size_ (which is probably a bad assumption!), and assuming the penalty for each of `destroy` and `deallocate` for _any size_ are equal to the same time unit, the extra time would be something like 10-to-1.\n",
    "\n",
    "Test runs:\n",
    "**With double-style `grow`:**\n",
    "```\n",
    "$ gcc Student_info.cpp grade.cpp grading.cpp ../../chapter_4/median.cpp -o grading.out -lstdc++\n",
    "$ time cat ../../chapter_5/grades100000 | ./grading.out\n",
    "./grading.out  0.14s user 0.01s system 88% cpu 0.172 total\n",
    "```\n",
    "**With single-add-style `grow`:**\n",
    "```\n",
    "$ gcc Student_info.cpp grade.cpp grading.cpp ../../chapter_4/median.cpp -o grading.out -lstdc++\n",
    "$ time cat ../../chapter_5/grades10000 | ./grading.out\n",
    "./grading.out  10.64s user 0.06s system 99% cpu 10.714 total\n",
    "```\n",
    "\n",
    "Whewee! That's a big diff: 10.64s/0.14s = 76.0X\n",
    "\n",
    "Running on size 100,000 wouldn't stop for as long as I was patient to wait for it, so it's pretty clear that the growth is exponential."
   ]
  },
  {
   "cell_type": "code",
   "execution_count": null,
   "metadata": {},
   "outputs": [],
   "source": []
  }
 ],
 "metadata": {
  "kernelspec": {
   "display_name": "C++11",
   "language": "C++",
   "name": "cling-cpp11"
  },
  "language_info": {
   "codemirror_mode": "c++",
   "file_extension": ".c++",
   "mimetype": "text/x-c++src",
   "name": "c++"
  }
 },
 "nbformat": 4,
 "nbformat_minor": 2
}
