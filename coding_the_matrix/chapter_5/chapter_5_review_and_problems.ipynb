{
 "cells": [
  {
   "cell_type": "markdown",
   "metadata": {},
   "source": [
    "## 5.13 Review questions"
   ]
  },
  {
   "cell_type": "markdown",
   "metadata": {},
   "source": [
    "**What is coordinate representation?**"
   ]
  },
  {
   "cell_type": "markdown",
   "metadata": {},
   "source": [
    "Coordinate representation is a vector representation in which each entry $x_i$ is a scalar multiple of the corresponding basis vector $\\boldsymbol{e}_i$."
   ]
  },
  {
   "cell_type": "markdown",
   "metadata": {},
   "source": [
    "**How can you express conversion between a vector and its coordinate representation using matrices?**"
   ]
  },
  {
   "cell_type": "markdown",
   "metadata": {},
   "source": [
    "For a vector $\\boldsymbol{v}$ and a set of vectors $A=\\boldsymbol{a_1}, ..., \\boldsymbol{a_n}$, then $\\boldsymbol{u}$ is the coordinate representation of $\\boldsymbol{v}$ in $A$ if $A\\boldsymbol{u} = \\boldsymbol{v}$."
   ]
  },
  {
   "cell_type": "markdown",
   "metadata": {},
   "source": [
    "**What is linear dependence?**"
   ]
  },
  {
   "cell_type": "markdown",
   "metadata": {},
   "source": [
    "A vector is linearly dependent on another set of vectors if it can be expressed as a nontrivial linear combination of them."
   ]
  },
  {
   "cell_type": "markdown",
   "metadata": {},
   "source": [
    "**How would you prove a set of vectors are linearly independent?**"
   ]
  },
  {
   "cell_type": "markdown",
   "metadata": {},
   "source": [
    "To prove a set of vectors are linearly independent, show that there exists no linear combination of the vectors that equals the zero vector. (_Exactly_ how to do this is tricky!)"
   ]
  },
  {
   "cell_type": "markdown",
   "metadata": {},
   "source": [
    "**What is the Grow algorithm?**"
   ]
  },
  {
   "cell_type": "markdown",
   "metadata": {},
   "source": [
    "The Grow algorithm finds a minimal subset of a given set of vectors such that the subset spans the given set. (This is called a _generating_ set.)\n",
    "\n",
    "The Grow algorithm does this by starting with the empty set and adding vectors from the given set that aren't in the span of the subset until there are no such vectors left."
   ]
  },
  {
   "cell_type": "markdown",
   "metadata": {},
   "source": [
    "**What is the Shrink algorithm?**"
   ]
  },
  {
   "cell_type": "markdown",
   "metadata": {},
   "source": [
    "The Shrink algorithm _also_ finds a generating subset of a given set of vectors.\n",
    "\n",
    "The Shrink algorithm does this by starting with the full given set (or any subset that spans the given set) and removing vectors as long as the subset is still a generating set."
   ]
  },
  {
   "cell_type": "markdown",
   "metadata": {},
   "source": [
    "**How do the concepts of linear dependence and spanning apply to subsets of edges of graphs?**"
   ]
  },
  {
   "cell_type": "markdown",
   "metadata": {},
   "source": [
    "Linear dependence and spanning correspond to _cycles_ in the edges of a graph.  For example, if the vectors $\\boldsymbol{v_1}, \\boldsymbol{v_2}$ and $\\boldsymbol{v_3}$ over $GF(2)$ represent three edges in a graph, and $\\boldsymbol{v_1} = \\boldsymbol{v_2} + \\boldsymbol{v_3}$ (note that coefficients aren't needed over $GF(2)$!), then those three vectors are a cycle.\n",
    "\n",
    "With this in mind, a _generating set_ of edge-vectors is a solution to the _minimum-spanning-forest_ problem, in which the goal is a set of edges that preserves all paths in the given graph _without_ cycles."
   ]
  },
  {
   "cell_type": "markdown",
   "metadata": {},
   "source": [
    "**Why is the output of the Grow algorithm a set of linearly independent vectors?**"
   ]
  },
  {
   "cell_type": "markdown",
   "metadata": {},
   "source": [
    "Given the above description of the Grow algorithm, it is easy to see that every vector added to the returned subset was not previously in the _span_ of the subset.  Thus, by definition, every vector in the returned subset cannot be expressed as a linear combination of the other vectors in the subset."
   ]
  },
  {
   "cell_type": "markdown",
   "metadata": {},
   "source": [
    "**Why is the output of the Shrink algorithm a set of linearly independent vectors?**"
   ]
  },
  {
   "cell_type": "markdown",
   "metadata": {},
   "source": [
    "If the returned subset was _not_ linearly independent, then it would contain some vector that can be expressed as a linear combination of other vectors in the set.  But given the above description of the Shrink algorithm, any such vector would have been removed already, since it could by definition be removed while still retaining the same span (the vector is considered _superfluous_).  Thus, the set resulting from the Shink algorithm must be linearly independent."
   ]
  },
  {
   "cell_type": "markdown",
   "metadata": {},
   "source": [
    "**What is a basis?**"
   ]
  },
  {
   "cell_type": "markdown",
   "metadata": {},
   "source": [
    "A basis for a vector space $V$ is a linearly independent set of generators for $V$."
   ]
  },
  {
   "cell_type": "markdown",
   "metadata": {},
   "source": [
    "**What is unique representation?**"
   ]
  },
  {
   "cell_type": "markdown",
   "metadata": {},
   "source": [
    "Unique representation states that for any vector in a vector space $V$, there is exactly one representation of that vector in terms of the vectors of any basis for $V$."
   ]
  },
  {
   "cell_type": "markdown",
   "metadata": {},
   "source": [
    "**What is change of basis?**"
   ]
  },
  {
   "cell_type": "markdown",
   "metadata": {},
   "source": [
    "A change of basis is the conversion of a vector in the coordinate representation of some basis to the coordinate representation of the same vector in terms of another basis."
   ]
  },
  {
   "cell_type": "markdown",
   "metadata": {},
   "source": [
    "**What is the Exchange Lemma?**"
   ]
  },
  {
   "cell_type": "markdown",
   "metadata": {},
   "source": [
    "The Exchange Lemma says that you can inject a vector and eject another vector and still maintain the same span."
   ]
  },
  {
   "cell_type": "markdown",
   "metadata": {},
   "source": [
    "## 5.14 Problems"
   ]
  },
  {
   "cell_type": "markdown",
   "metadata": {},
   "source": [
    "### Span of vectors over $\\mathbb{R}$"
   ]
  },
  {
   "cell_type": "markdown",
   "metadata": {},
   "source": [
    "**Problem 5.14.1:** Let $V = \\text{Span}\\{[2,0,4,0],[0,1,0,1],[0,0,-1,-1]\\}$. For each of the following vectors, show it belongs to $V$ by writing it as a linear combination of the generators of $V$.\n",
    "\n",
    "**a)** $[2,1,4,1]$\n",
    "\n",
    "$[2,1,4,1] = [2,0,4,0]+[0,1,0,1]$\n",
    "\n",
    "**b)** $[1,1,1,0]$\n",
    "\n",
    "$[1,1,1,0] = 0.5[2,0,4,0] + [0,1,0,1] + [0,0,-1,-1]$\n",
    "\n",
    "**c)** $[0,1,1,2]$\n",
    "\n",
    "$[0,1,1,2] = [0,1,0,1]-[0,0,-1,-1]$"
   ]
  },
  {
   "cell_type": "markdown",
   "metadata": {},
   "source": [
    "**Problem 5.14.2:** Let $V = \\text{Span}\\{[0,0,1],[2,0,1],[4,1,2]\\}$. For each of the following vectors, show it belongs to $V$ by writing it as a linear combination of the generators of $V$.\n",
    "\n",
    "**a)** $[2,1,4]$\n",
    "\n",
    "$[2,1,4] = [4,1,2]-[2,0,1]+3[0,0,1]$\n",
    "\n",
    "**b)** $[1,1,1]$\n",
    "\n",
    "$[1,1,1] = [4,1,2] - 1.5[2,0,1] + 0.5[0,0,1]$\n",
    "\n",
    "**c)** $[5,4,3]$\n",
    "\n",
    "$[5,4,3] = 4[4,1,2]-5.5[2,0,1] + 0.5[0,0,1]$\n",
    "\n",
    "**d)** $[0,1,1]$\n",
    "\n",
    "$[0,1,1] = [4,1,2] - 2[2,0,1] + [0,0,1]$"
   ]
  },
  {
   "cell_type": "markdown",
   "metadata": {},
   "source": [
    "### Span of vectors over $GF(2)$"
   ]
  },
  {
   "cell_type": "markdown",
   "metadata": {},
   "source": [
    "**Problem 5.14.3:** Let $V = \\text{Span}\\{[0,1,0,1],[0,0,1,0],[1,0,0,1],[1,1,1,1]\\}$ where the vectors are over $GF(2)$. For each of the following vectors over $GF(2)$, show it belongs to $V$ by writing it as a linear combination of the generators of $V$.\n",
    "\n",
    "**a)** $[1,1,0,0]$\n",
    "\n",
    "$[1,1,0,0] = [0,1,0,1]+[1,0,0,1]$\n",
    "\n",
    "**b)** $[1,0,1,0]$\n",
    "\n",
    "$[1,0,1,0] = [0,1,0,1]+[1,1,1,1]$\n",
    "\n",
    "**c)** $[1,0,0,0]$\n",
    "\n",
    "$[1,0,0,0] = [0,1,0,1]+[0,0,1,0]+[1,1,1,1]$"
   ]
  },
  {
   "cell_type": "markdown",
   "metadata": {},
   "source": [
    "**Problem 5.14.4:** The vectors over $GF(2)$ representing a graph are\n",
    "\n",
    "||a|b|c|d|e|f|g|h|\n",
    "|-|\n",
    "|$\\boldsymbol{v}_1$|1|1|||||||\n",
    "|$\\boldsymbol{v}_2$||1|1||||||\n",
    "|$\\boldsymbol{v}_3$|1|||1|||||\n",
    "|$\\boldsymbol{v}_4$||1|||1||||\n",
    "|$\\boldsymbol{v}_5$|||1||1||||\n",
    "|$\\boldsymbol{v}_6$||||1|1||||\n",
    "|$\\boldsymbol{v}_7$||||||1||1|\n",
    "|$\\boldsymbol{v}_8$|||||||1|1|\n",
    "\n",
    "For each of the following vectors over $GF(2)$, show it belongs to the span of the above vectors by writing it as a linear combination of the above vectors.\n",
    "\n",
    "**a)** $[0,0,1,1,0,0,0,0]$\n",
    "\n",
    "$[0,0,1,1,0,0,0,0] = \\boldsymbol{v}_1 + \\boldsymbol{v}_2 + \\boldsymbol{v}_3$\n",
    "\n",
    "**b)** $[0,0,0,0,0,1,1,0]$\n",
    "\n",
    "$[0,0,0,0,0,1,1,0] = \\boldsymbol{v}_7 + \\boldsymbol{v}_8$\n",
    "\n",
    "**c)** $[1,0,0,0,1,0,0,0]$\n",
    "\n",
    "$[1,0,0,0,1,0,0,0] = \\boldsymbol{v}_3 + \\boldsymbol{v}_6$\n",
    "\n",
    "**d)** $[0,1,0,1,0,0,0,0]$\n",
    "\n",
    "$[0,1,0,1,0,0,0,0] = \\boldsymbol{v}_2 + \\boldsymbol{v}_5 + \\boldsymbol{v}_6$"
   ]
  },
  {
   "cell_type": "markdown",
   "metadata": {},
   "source": [
    "## Linear dependence over $\\mathbb{R}$"
   ]
  },
  {
   "cell_type": "markdown",
   "metadata": {},
   "source": [
    "**Problem 5.14.5:** For each of the parts below, show the given vectors over $\\mathbb{R}$ are linearly dependent by writing the zero vector as a nontrivial linear combination of the vectors.\n",
    "\n",
    "**a)** $[1,2,0],[2,4,1],[0,0,-1]$\n",
    "\n",
    "$\\boldsymbol{0} = -2[1,2,0] + [2,4,1] + [0,0,-1]$\n",
    "\n",
    "**b)** $[2,4,0],[8,16,4],[0,0,7]$\n",
    "\n",
    "$\\boldsymbol{0} = -4[2,4,0] + [8,16,4] - \\frac{4}{7}[0,0,7]$\n",
    "\n",
    "**c)** $[0,0,5],[1,34,2],[123,456,789],[-3,-6,0],[1,2,0.5]$\n",
    "\n",
    "$\\boldsymbol{0} = \\frac{3}{10}[0,0,5]+0[1,34,2]+0[123,456,789]+[-3,-6,0] + 3[1,2,0.5]$"
   ]
  },
  {
   "cell_type": "markdown",
   "metadata": {},
   "source": [
    "**Problem 5.14.16:** For each of the parts below, show the given vectors over $\\mathbb{R}$ are linearly dependent by writing the zero vector as a nontrivial linear combination of the vectors. You can use `sqrt()` and `pi`.\n",
    "\n",
    "**a)** $[1,2,3],[4,5,6],[1,1,1]$\n",
    "\n",
    "$\\boldsymbol{0} = -[1,2,3]+[4,5,6]-3[1,1,1]$\n",
    "\n",
    "**b)** $[0,-1,0,-1],[\\pi,\\pi,\\pi,\\pi],[-\\sqrt{2},\\sqrt{2},-\\sqrt{2},\\sqrt{2}]$\n",
    "\n",
    "$\\begin{align}\\boldsymbol{0} = 2&[0,-1,0,-1] \\\\+\\frac{1}{\\pi}&[\\pi,\\pi,\\pi,\\pi] \\\\+\\frac{\\sqrt{2}}{2}&[-\\sqrt{2},\\sqrt{2},-\\sqrt{2},\\sqrt{2}]\\end{align}$\n",
    "\n",
    "**c)** $[1,-1,0,0,0],[0,1,-1,0,0],[0,0,1,-1,0],[0,0,0,1,-1],[-1,0,0,0,1]$\n",
    "\n",
    "$\\begin{align}\\boldsymbol{0} = &[1,-1,0,0,0] \\\\+&[0,1,-1,0,0] \\\\+&[0,0,1,-1,0] \\\\+&[0,0,0,1,-1] \\\\+&[-1,0,0,0,1]\\end{align}$"
   ]
  },
  {
   "cell_type": "markdown",
   "metadata": {},
   "source": [
    "**Problem 5.14.7:** Show that one of the vectors is superfluous by expressing it as a linear combination of the other two.\n",
    "\n",
    "$\\begin{align}\n",
    "\\boldsymbol{u} &= [3,9,6,5,5]\\\\\n",
    "\\boldsymbol{v} &= [4,10,6,6,8]\\\\\n",
    "\\boldsymbol{w} &= [1,1,0,1,3]\\\\\n",
    "\\end{align}$"
   ]
  },
  {
   "cell_type": "markdown",
   "metadata": {},
   "source": [
    "$\\boldsymbol{v} = \\boldsymbol{u} + \\boldsymbol{w}$, so $\\boldsymbol{v}$ is superfluous."
   ]
  },
  {
   "cell_type": "markdown",
   "metadata": {},
   "source": [
    "### Linear dependence over $GF(2)$"
   ]
  },
  {
   "cell_type": "markdown",
   "metadata": {},
   "source": [
    "**Problem 5.14.9:** For each of the subproblems, show the given vectors over $GF(2)$ are linearly depedent by writing the zero vector as a nontrivial linear combination of the vectors.\n",
    "\n",
    "**a)** $[one,one,one,one],[one,0,one,0],[0,one,one,0],[0,one,0,one]$\n",
    "\n",
    "$\\begin{align}\\boldsymbol{0} = &[one,one,one,one]\\\\+&[one,0,one,0]\\\\+0&[0,one,one,0]\\\\+&[0,one,0,one]\\end{align}$\n",
    "\n",
    "**b)** $[0,0,0,one],[0,0,one,0],[one,one,0,one],[one,one,one,one]$\n",
    "\n",
    "$\\begin{align}\\boldsymbol{0} = 0&[0,0,0,one]+\\\\&[0,0,one,0]+\\\\&[one,one,0,one]+\\\\&[one,one,one,one]\\end{align}$\n",
    "\n",
    "**c)** $[one,one,0,one,one],[0,0,one,0,0],[0,0,one,one,one],[one,0,one,one,one],[one,one,one,one,one]$\n",
    "\n",
    "$\\begin{align}\\boldsymbol{0} = &[one,one,0,one,one]\\\\+&[0,0,one,0,0]\\\\+0&[0,0,one,one,one]\\\\+0&[one,0,one,one,one]\\\\+&[one,one,one,one,one]\\end{align}$"
   ]
  },
  {
   "cell_type": "markdown",
   "metadata": {},
   "source": [
    "**Problem 5.14.10:** Each of the subproblems specifies some of the vectors over $GF(2)$ specified in Problem 5.14.4. For each subproblem, show that the vectors are linearly depedent by giving the coefficients of a nontrivial linear combination whose sum is the zero vector.\n",
    "\n",
    "_This can be solved quickly by finding cycles in the provided graph!_\n",
    "\n",
    "**a)** $\\boldsymbol{v}_1, \\boldsymbol{v}_2, \\boldsymbol{v}_3, \\boldsymbol{v}_4, \\boldsymbol{v}_5$\n",
    "\n",
    "$\\boldsymbol{a} = [0,1,0,1,1]$\n",
    "\n",
    "**b)** $\\boldsymbol{v}_1, \\boldsymbol{v}_2, \\boldsymbol{v}_3, \\boldsymbol{v}_4, \\boldsymbol{v}_5, \\boldsymbol{v}_7, \\boldsymbol{v}_8$\n",
    "\n",
    "$\\boldsymbol{a} = [0,1,0,1,1,0,0]$\n",
    "\n",
    "**c)** $\\boldsymbol{v}_1, \\boldsymbol{v}_2, \\boldsymbol{v}_3, \\boldsymbol{v}_4, \\boldsymbol{v}_6$\n",
    "\n",
    "$\\boldsymbol{a} = [1,0,1,1]$\n",
    "\n",
    "**d)** $\\boldsymbol{v}_1, \\boldsymbol{v}_2, \\boldsymbol{v}_3, \\boldsymbol{v}_5, \\boldsymbol{v}_6, \\boldsymbol{v}_7, \\boldsymbol{v}_8$\n",
    "\n",
    "$\\boldsymbol{a} = [1,1,1,1,1,1,0,0]$"
   ]
  },
  {
   "cell_type": "markdown",
   "metadata": {},
   "source": [
    "### Exchange Lemma for vectors over $\\mathbb{R}$"
   ]
  },
  {
   "cell_type": "markdown",
   "metadata": {},
   "source": [
    "**Problem 5.14.11:** Let  \n",
    "$S = \\{[1,0,0,0,0],[0,1,0,0,0],[0,0,1,0,0],[0,0,0,1,0],[0,0,0,0,1]\\}$, and let  \n",
    "$A = \\{[1,0,0,0,0],[0,1,0,0,0]\\}$.  \n",
    "For each of the following vectors $\\boldsymbol{z}$, find a vector $\\boldsymbol{w}$ in $S - A$ such that $\\text{Span}\\space S = \\text{Span} (S \\cup \\{\\boldsymbol{z}\\} - \\{\\boldsymbol{w}\\})$.\n",
    "\n",
    "$S - A = \\{[0,0,1,0,0],[0,0,0,1,0],[0,0,0,0,1]\\}$\n",
    "\n",
    "**a)** $\\boldsymbol{z} = [1,1,1,1,1]$\n",
    "\n",
    "Any vector will do here. Pick $\\boldsymbol{w} = [0,0,0,0,1]$.\n",
    "\n",
    "Then, $\\text{Span}\\space S = \\text{Span} (S \\cup \\{\\boldsymbol{z}\\} - \\{\\boldsymbol{w}\\}) = \\text{Span} \\{[1,0,0,0,0],[0,1,0,0,0],[0,0,1,0,0],[0,0,0,1,0],[1,1,1,1,1]\\}$\n",
    "\n",
    "**b)** $\\boldsymbol{z} = [0,1,0,1,0]$\n",
    "\n",
    "Pick $\\boldsymbol{w} = [0,0,0,1,0]$.\n",
    "\n",
    "Then, $\\text{Span}\\space S = \\text{Span} (S \\cup \\{\\boldsymbol{z}\\} - \\{\\boldsymbol{w}\\}) = \\text{Span} \\{[1,0,0,0,0],[0,1,0,0,0],[0,0,1,0,0],[0,1,0,1,0],[0,0,0,0,1]\\}$\n",
    "\n",
    "**c)** $\\boldsymbol{z} = [1,0,1,0,1]$\n",
    "\n",
    "Pick $\\boldsymbol{w} = [0,0,1,0,0]$.\n",
    "\n",
    "Then, $\\text{Span}\\space S = \\text{Span} (S \\cup \\{\\boldsymbol{z}\\} - \\{\\boldsymbol{w}\\}) = \\text{Span} \\{[1,0,0,0,0],[0,1,0,0,0],[1,0,1,0,1],[0,0,0,1,0],[0,0,0,0,1]\\}$\n"
   ]
  },
  {
   "cell_type": "markdown",
   "metadata": {},
   "source": [
    "### Exchange Lemma for vectors over $GF(2)$"
   ]
  },
  {
   "cell_type": "markdown",
   "metadata": {},
   "source": [
    "**Problem 5.14.12:** We refer in this problem to the vectors over $GF(2)$ specified in Problem 5.14.4.  \n",
    "Let  \n",
    "$S = \\{\\boldsymbol{v}_1,\\boldsymbol{v}_2,\\boldsymbol{v}_3,\\boldsymbol{v}_4\\}$. Each of the following parts specifies a subset $A$ of $S$ and a vector $\\boldsymbol{z}$ such that $A \\cup \\{\\boldsymbol{z}\\}$ is linearly independent.\n",
    "\n",
    "For each part, specify a vector $\\boldsymbol{w}$ in $S - A$ such that $\\text{Span}\\space S = \\text{Span} (S \\cup \\{\\boldsymbol{z}\\} - \\{\\boldsymbol{w}\\})$.\n",
    "\n",
    "Here is $S$:\n",
    "\n",
    "||a|b|c|d|e|f|g|h|\n",
    "|-|\n",
    "|$\\boldsymbol{v}_1$|1|1|||||||\n",
    "|$\\boldsymbol{v}_2$||1|1||||||\n",
    "|$\\boldsymbol{v}_3$|1|||1|||||\n",
    "|$\\boldsymbol{v}_4$||1|||1||||\n",
    "\n",
    "**a)** $A = \\{\\boldsymbol{v}_1, \\boldsymbol{v}_4\\}$ and $\\boldsymbol{z}$ is\n",
    "\n",
    "||a|b|c|d|e|f|g|h|\n",
    "|-|\n",
    "|$\\boldsymbol{z}$||||1|1|||\n",
    "\n",
    "$S - A = \\{\\boldsymbol{v}_2, \\boldsymbol{v}_3\\}$ = \n",
    "\n",
    "||a|b|c|d|e|f|g|h|\n",
    "|-|\n",
    "|$\\boldsymbol{v}_2$||1|1||||||\n",
    "|$\\boldsymbol{v}_3$|1|||1|||||\n",
    "\n",
    "Pick $\\boldsymbol{w} =$\n",
    "\n",
    "||a|b|c|d|e|f|g|h|\n",
    "|-|\n",
    "|$\\boldsymbol{v}_3$|1|||1|||||\n",
    "\n",
    "Then, $\\text{Span}\\space S = \\text{Span} (S \\cup \\{\\boldsymbol{z}\\} - \\{\\boldsymbol{w}\\}) = \\text{Span}$\n",
    "\n",
    "||a|b|c|d|e|f|g|h|\n",
    "|-|\n",
    "|$\\boldsymbol{v}_1$|1|1|||||||\n",
    "|$\\boldsymbol{v}_2$||1|1||||||\n",
    "|$\\boldsymbol{z}$||||1|1|||\n",
    "|$\\boldsymbol{v}_4$||1|||1||||\n",
    "\n",
    "**b)** $A = \\{\\boldsymbol{v}_2, \\boldsymbol{v}_3\\}$ and $\\boldsymbol{z}$ is\n",
    "\n",
    "||a|b|c|d|e|f|g|h|\n",
    "|-|\n",
    "|$\\boldsymbol{z}$|||1|1||||\n",
    "\n",
    "$S - A = \\{\\boldsymbol{v}_1, \\boldsymbol{v}_4\\}$ = \n",
    "\n",
    "||a|b|c|d|e|f|g|h|\n",
    "|-|\n",
    "|$\\boldsymbol{v}_1$|1|1|||||||\n",
    "|$\\boldsymbol{v}_4$||1|||1||||\n",
    "\n",
    "Pick $\\boldsymbol{w} =$\n",
    "\n",
    "||a|b|c|d|e|f|g|h|\n",
    "|-|\n",
    "|$\\boldsymbol{v}_4$||1|||1||||\n",
    "\n",
    "Then, $\\text{Span}\\space S = \\text{Span} (S \\cup \\{\\boldsymbol{z}\\} - \\{\\boldsymbol{w}\\}) = \\text{Span}$\n",
    "\n",
    "||a|b|c|d|e|f|g|h|\n",
    "|-|\n",
    "|$\\boldsymbol{v}_1$|1|1|||||||\n",
    "|$\\boldsymbol{v}_2$||1|1||||||\n",
    "|$\\boldsymbol{v}_3$|1|||1|||||\n",
    "|$\\boldsymbol{z}$|||1|1||||\n",
    "\n",
    "**c)** $A = \\{\\boldsymbol{v}_2, \\boldsymbol{v}_3\\}$ and $\\boldsymbol{z}$ is\n",
    "\n",
    "||a|b|c|d|e|f|g|h|\n",
    "|-|\n",
    "|$\\boldsymbol{z}$|1||||1|||\n",
    "\n",
    "$S - A = \\{\\boldsymbol{v}_1, \\boldsymbol{v}_4\\}$ = \n",
    "\n",
    "||a|b|c|d|e|f|g|h|\n",
    "|-|\n",
    "|$\\boldsymbol{v}_1$|1|1|||||||\n",
    "|$\\boldsymbol{v}_4$||1|||1||||\n",
    "\n",
    "In this case, making a connection between nodes $a$ and $e$ allows us to remove _either_ of $\\boldsymbol{v}_1$ or $\\boldsymbol{v}_4$, while still maintaining a path between all the nodes $a$-$e$.\n",
    "\n",
    "\n",
    "Arbitrarily pick $\\boldsymbol{w} =$\n",
    "\n",
    "||a|b|c|d|e|f|g|h|\n",
    "|-|\n",
    "|$\\boldsymbol{v}_1$|1|1|||||||\n",
    "\n",
    "Then, $\\text{Span}\\space S = \\text{Span} (S \\cup \\{\\boldsymbol{z}\\} - \\{\\boldsymbol{w}\\}) = \\text{Span}$\n",
    "\n",
    "||a|b|c|d|e|f|g|h|\n",
    "|-|\n",
    "|$\\boldsymbol{z}$|1||||1|||\n",
    "|$\\boldsymbol{v}_2$||1|1||||||\n",
    "|$\\boldsymbol{v}_3$|1|||1|||||\n",
    "|$\\boldsymbol{v}_4$||1|||1||||"
   ]
  },
  {
   "cell_type": "markdown",
   "metadata": {},
   "source": [
    "**Problem 5.14.13:** Write and test a procedure `rep2vec(u, veclist)` with the following spec:\n",
    "\n",
    "* _input:_ a vector $\\boldsymbol{u}$ and a list `veclist` of `Vec`s $[\\boldsymbol{a}_0, ..., \\boldsymbol{a}_{n - 1}]$. The domain of $\\boldsymbol{u}$ should be $\\{0, 1, 2, n - 1\\}$ where $n$ is the length of `veclist`.\n",
    "* _output:_ the vector $\\boldsymbol{v}$ such that $\\boldsymbol{u}$ is the coordinate representation of $\\boldsymbol{v}$ with respect to $\\boldsymbol{a}_0, ..., \\boldsymbol{a}_{n - 1}$, where entry $i$ of $\\boldsymbol{u}$ is the coefficient of $\\boldsymbol{a}_i$ for $i = 0, 1, 2, ..., n - 1$.\n",
    "\n",
    "Your procedure should not use any loops or comprehensions but of course can use the operations on instances of `Mat` and `Vec` and can also use procedures from the `matutil` module. Note that the procedures `coldict2mat` and `rowdict2mat` (defined in `matutil`) can accept lists, not just dictionaries.\n",
    "\n",
    "Here is an illustration of how the procedure is used:\n",
    "```\n",
    ">>> a0 = Vec({'a', 'b', 'c', 'd'}, {'a': 1})\n",
    ">>> a1 = Vec({'a', 'b', 'c', 'd'}, {'b': 1})\n",
    ">>> a2 = Vec({'a', 'b', 'c', 'd'}, {'c': 1})\n",
    "\n",
    ">>> rep2vec(Vec({0,1,2}, {0: 2, 1: 4, 2: 6}), [a0, a1, a2])\n",
    "Vec({'a', 'c', 'b', 'd'}, {'a': 2, 'c': 6, 'b': 4, 'd': 0})\n",
    "```\n",
    "Test your procedure with the following examples:\n",
    "* $\\boldsymbol{u} = [5, 3, -2]$, `veclist` = $[[1, 0, 2, 0], [1, 2, 5, 1], [1, 5, -1, 3]]$ over $\\mathbb{R}$\n",
    "* $\\boldsymbol{u} = [1, 1, 0]$, `veclist` = $[[1, 0, 1], [1, 1, 0], [0, 0, 1]]$ over $GF(2)$"
   ]
  },
  {
   "cell_type": "code",
   "execution_count": 1,
   "metadata": {},
   "outputs": [],
   "source": [
    "import sys\n",
    "sys.path.append('../')\n",
    "\n",
    "from mat import Mat\n",
    "from vec import Vec\n",
    "from vecutil import list2vec\n",
    "from matutil import coldict2mat\n",
    "\n",
    "def rep2vec(u, veclist):\n",
    "    A = coldict2mat(veclist)\n",
    "    return A * u"
   ]
  },
  {
   "cell_type": "code",
   "execution_count": 2,
   "metadata": {},
   "outputs": [
    {
     "data": {
      "text/plain": [
       "Vec({'a', 'd', 'c', 'b'},{'a': 2, 'd': 0, 'c': 6, 'b': 4})"
      ]
     },
     "execution_count": 2,
     "metadata": {},
     "output_type": "execute_result"
    }
   ],
   "source": [
    "a0 = Vec({'a', 'b', 'c', 'd'}, {'a': 1})\n",
    "a1 = Vec({'a', 'b', 'c', 'd'}, {'b': 1})\n",
    "a2 = Vec({'a', 'b', 'c', 'd'}, {'c': 1})\n",
    "\n",
    "rep2vec(list2vec([2, 4, 6]), [a0, a1, a2])"
   ]
  },
  {
   "cell_type": "code",
   "execution_count": 3,
   "metadata": {},
   "outputs": [
    {
     "name": "stdout",
     "output_type": "stream",
     "text": [
      "\n",
      " 0  1  2  3\n",
      "-----------\n",
      " 6 -4 27 -3\n"
     ]
    }
   ],
   "source": [
    "print(rep2vec(list2vec([5, 3, -2]), [list2vec([1,0,2,0]), list2vec([1,2,5,1]), list2vec([1,5,-1,3])]))"
   ]
  },
  {
   "cell_type": "code",
   "execution_count": 4,
   "metadata": {},
   "outputs": [
    {
     "name": "stdout",
     "output_type": "stream",
     "text": [
      "\n",
      " 0   1   2\n",
      "----------\n",
      " 0 one one\n"
     ]
    }
   ],
   "source": [
    "from GF2 import zero, one\n",
    "print(rep2vec(list2vec([one, one, zero]), [list2vec([one,zero,one]), list2vec([one, one, zero]), list2vec([zero, zero, one])]))"
   ]
  },
  {
   "cell_type": "markdown",
   "metadata": {},
   "source": [
    "**Problem 5.14.14:** Write and test a procedure `vec2rep(veclist, v)` with the following spec:\n",
    "\n",
    "* _input:_ a list `veclist` of `Vec`s $[\\boldsymbol{a}_0, ..., \\boldsymbol{a}_{n - 1}]$, and a vector $\\boldsymbol{v}$ with domain $\\{0, 1, 2, n - 1\\}$ where $n$ is the length of `veclist`.\n",
    "* _output:_ the vector $\\boldsymbol{u}$ whose coordinate representation in terms of $\\boldsymbol{a}_0, ..., \\boldsymbol{a}_{n - 1}$ is $\\boldsymbol{v}$.\n",
    "\n",
    "Your procedure should not use any loops or comprehensions but of course can use procedures defined in `matutil` and can use the procedure `solve(A, b)` defined in the `solver` module.\n",
    "\n",
    "Here is an illustration of how the procedure is used:\n",
    "```\n",
    ">>> a0 = Vec({'a', 'b', 'c', 'd'}, {'a': 1})\n",
    ">>> a1 = Vec({'a', 'b', 'c', 'd'}, {'b': 1})\n",
    ">>> a2 = Vec({'a', 'b', 'c', 'd'}, {'c': 1})\n",
    "\n",
    ">>> vec2rep([a0, a1, a2], Vec({'a', 'c', 'b', 'd'}, {'a': 3, 'c': -2}))\n",
    "Vec({0,1,2}, {0: 3.0, 1: 0.0, 2: -2.0})\n",
    "```\n",
    "Test your procedure with the following examples:\n",
    "* $\\boldsymbol{v} = [6, -4, 27, -3]$, `veclist` = $[[1, 0, 2, 0], [1, 2, 5, 1], [1, 5, -1, 3]]$ over $\\mathbb{R}$\n",
    "* $\\boldsymbol{v} = [0, 1, 1]$, `veclist` = $[[1, 0, 1], [1, 1, 0], [0, 0, 1]]$ over $GF(2)$"
   ]
  },
  {
   "cell_type": "code",
   "execution_count": 5,
   "metadata": {},
   "outputs": [
    {
     "data": {
      "text/plain": [
       "Vec({0, 1, 2},{2: -2.0, 1: 0.0, 0: 3.0})"
      ]
     },
     "execution_count": 5,
     "metadata": {},
     "output_type": "execute_result"
    }
   ],
   "source": [
    "from solver import solve\n",
    "\n",
    "def vec2rep(veclist, v):\n",
    "    A = coldict2mat(veclist)\n",
    "    return solve(A, v)\n",
    "\n",
    "vec2rep([a0, a1, a2], Vec({'a', 'c', 'b', 'd'}, {'a': 3, 'c': -2}))"
   ]
  },
  {
   "cell_type": "code",
   "execution_count": 6,
   "metadata": {},
   "outputs": [
    {
     "name": "stdout",
     "output_type": "stream",
     "text": [
      "\n",
      " 0 1  2\n",
      "-------\n",
      " 5 3 -2\n"
     ]
    }
   ],
   "source": [
    "print(vec2rep([list2vec([1,0,2,0]), list2vec([1,2,5,1]), list2vec([1,5,-1,3])], list2vec([6, -4, 27, -3])))"
   ]
  },
  {
   "cell_type": "code",
   "execution_count": 7,
   "metadata": {},
   "outputs": [
    {
     "name": "stdout",
     "output_type": "stream",
     "text": [
      "\n",
      "   0   1 2\n",
      "----------\n",
      " one one 0\n"
     ]
    }
   ],
   "source": [
    "print(vec2rep([list2vec([one, zero,one]), list2vec([one, one, zero]), list2vec([zero, zero, one])], list2vec([zero, one, one])))"
   ]
  },
  {
   "cell_type": "markdown",
   "metadata": {},
   "source": [
    "**Problem 5.14.15:** Write and test a procedure `is_superfluous(L, i)` with the following spec:\n",
    "\n",
    "* _input:_ a list `L` of `Vec`s, and an integer `i` in $\\{0, 1, ..., n - 1\\}$ where $n = text{len}(L)$\n",
    "* _output:_ `True` if the span of the vectors in `L` equals the span of `L[0], L[1], ..., L[i - 1], L[i + 1], ..., L[n - 1]`\n",
    "\n",
    "Your procedure should not use any loops or comprehensions but can use procedures defined in `matutil` and can use the procedure `solve(A, b)` defined in the `solver` module. Your procedure will most likely need a special case for the case where $\\text{len}(L)$ is $1$.\n",
    "\n",
    "Note that the `solve(A, b)` method always returns a vector $\\boldsymbol{u}$. It is up to you to check that $\\boldsymbol{u}$ is in fact a solution to the equation $A\\boldsymbol{x} = \\boldsymbol{b}$. Moreover, over $\\mathbb{R}$, even if a solution exists, the solution returned by `solve` is approximate due to roundoff error. To check whether the vector $\\boldsymbol{u}$ returned is a solution, you should compute the residual $\\boldsymbol{b} - A * \\boldsymbol{u}$, and test if it is close to the zero vector:\n",
    "```\n",
    ">>> residual = b - A * u\n",
    ">>> residual * residual\n",
    "1.819555009546577e-25\n",
    "```\n",
    "If the sum of squares of the entries of the residual is less than, say $10^{-14}$, it is pretty safe to conclude that $\\boldsymbol{u}$ is indeed a solution.\n",
    "\n",
    "Here is an illustration of how the procedure is used:\n",
    "```\n",
    ">>> a0 = Vec({'a', 'b', 'c', 'd'}, {'a': 1})\n",
    ">>> a1 = Vec({'a', 'b', 'c', 'd'}, {'b': 1})\n",
    ">>> a2 = Vec({'a', 'b', 'c', 'd'}, {'c': 1})\n",
    ">>> a3 = Vec({'a', 'b', 'c', 'd'}, {'a': 1, 'c': 3})\n",
    "L = [a0, a1, a2, a3]\n",
    ">>> is_superfluous(L, 3)\n",
    "True\n",
    ">>> is_superfluous(L, 0)\n",
    "True\n",
    ">>> is_superfluous(L, 1)\n",
    "False\n",
    "```\n",
    "Test your procedure with the following examples:\n",
    "* $L = [[1, 2, 3]], \\boldsymbol{v} = [1, 2, 3]$ over $\\mathbb{R}$\n",
    "* $L = [[2, 5, 5, 6], [2, 0, 1, 3], [0, 5, 4, 3]], \\boldsymbol{v} = [0, 5, 4, 3]$ over $\\mathbb{R}$\n",
    "* $L = [[1, 1, 0, 0], [1, 1, 1, 1], [0, 0, 0, 1]], \\boldsymbol{v} = [0, 0, 0, 1]$ over $GF(2)$"
   ]
  },
  {
   "cell_type": "code",
   "execution_count": 8,
   "metadata": {},
   "outputs": [],
   "source": [
    "def is_superfluous(L, i):\n",
    "    if len(L) <= 1:\n",
    "        return False\n",
    "    L_copy = L.copy()\n",
    "    b = L_copy.pop(i)\n",
    "    A = coldict2mat(L_copy)\n",
    "    u = solve(A, b)\n",
    "    residual = b - A * u\n",
    "    return residual * residual < 10e-14"
   ]
  },
  {
   "cell_type": "code",
   "execution_count": 9,
   "metadata": {},
   "outputs": [
    {
     "data": {
      "text/plain": [
       "True"
      ]
     },
     "execution_count": 9,
     "metadata": {},
     "output_type": "execute_result"
    }
   ],
   "source": [
    "a3 = Vec({'a', 'b', 'c', 'd'}, {'a': 1, 'c': 3})\n",
    "L = [a0, a1, a2, a3]\n",
    "is_superfluous(L, 3)"
   ]
  },
  {
   "cell_type": "code",
   "execution_count": 10,
   "metadata": {},
   "outputs": [
    {
     "data": {
      "text/plain": [
       "True"
      ]
     },
     "execution_count": 10,
     "metadata": {},
     "output_type": "execute_result"
    }
   ],
   "source": [
    "is_superfluous(L, 0)"
   ]
  },
  {
   "cell_type": "code",
   "execution_count": 11,
   "metadata": {},
   "outputs": [
    {
     "data": {
      "text/plain": [
       "False"
      ]
     },
     "execution_count": 11,
     "metadata": {},
     "output_type": "execute_result"
    }
   ],
   "source": [
    "is_superfluous(L, 1)"
   ]
  },
  {
   "cell_type": "code",
   "execution_count": 12,
   "metadata": {},
   "outputs": [
    {
     "data": {
      "text/plain": [
       "False"
      ]
     },
     "execution_count": 12,
     "metadata": {},
     "output_type": "execute_result"
    }
   ],
   "source": [
    "is_superfluous([list2vec([1,2,3])], 0)"
   ]
  },
  {
   "cell_type": "code",
   "execution_count": 13,
   "metadata": {},
   "outputs": [
    {
     "data": {
      "text/plain": [
       "True"
      ]
     },
     "execution_count": 13,
     "metadata": {},
     "output_type": "execute_result"
    }
   ],
   "source": [
    "is_superfluous([list2vec([2,5,5,6]),list2vec([2,0,1,3]),list2vec([0,5,4,3])], 2)"
   ]
  },
  {
   "cell_type": "code",
   "execution_count": 14,
   "metadata": {},
   "outputs": [
    {
     "data": {
      "text/plain": [
       "False"
      ]
     },
     "execution_count": 14,
     "metadata": {},
     "output_type": "execute_result"
    }
   ],
   "source": [
    "is_superfluous([list2vec([one,one,zero,zero]),list2vec([one,one,one,one]),list2vec([zero,zero,zero,one])], 2)"
   ]
  },
  {
   "cell_type": "markdown",
   "metadata": {},
   "source": [
    "**Problem 5.14.16:** Write and test a procedure `is_independent(L)` with the following spec:\n",
    "* _input:_ a list `L` of `Vec`s\n",
    "* _output:_ `True` if the span of the vectors in `L` form a linearly independent list\n",
    "\n",
    "Your algorithm for this procedure should be based on the Span Lemma (Lemma 5.5.9). You can use as a subroutine any one of the following:\n",
    "* the procedure `is_superfluous(L, b)` from Problem 5.14.15, or\n",
    "* the `solve(A, b)` procedure from the solver module\n",
    "\n",
    "You will need a loop or comprehension for this procedure.\n",
    "\n",
    "Here is an illustration of how the procedure is used:\n",
    "```\n",
    ">>> a0 = Vec({'a', 'b', 'c', 'd'}, {'a': 1})\n",
    ">>> a1 = Vec({'a', 'b', 'c', 'd'}, {'b': 1})\n",
    ">>> a2 = Vec({'a', 'b', 'c', 'd'}, {'c': 1})\n",
    ">>> a3 = Vec({'a', 'b', 'c', 'd'}, {'a': 1, 'c': 3})\n",
    ">>> is_independent([a0, a1, a2])\n",
    "True\n",
    ">>> is_independent([a0, a2, a3])\n",
    "False\n",
    ">>> is_independent([a0, a1, a3])\n",
    "True\n",
    ">>> is_independent([a0, a1, a2, a3])\n",
    "False\n",
    "```\n",
    "Test your procedure with the following examples:\n",
    "* $[[2,4,0],[8,16,4],[0,0,7]]$ over $\\mathbb{R}$\n",
    "* $[[1,3,0,0],[2,1,1,0],[0,0,1,0],[1,1,4,-1]]$ over $\\mathbb{R}$\n",
    "* $[[1,0,1,0],[0,1,0,0],[1,1,1,1],[1,0,0,1]]$ over $GF(2)$"
   ]
  },
  {
   "cell_type": "code",
   "execution_count": 15,
   "metadata": {},
   "outputs": [],
   "source": [
    "def is_independent(L):\n",
    "    return not any([is_superfluous(L, i) for i in range(len(L))])"
   ]
  },
  {
   "cell_type": "code",
   "execution_count": 16,
   "metadata": {},
   "outputs": [
    {
     "data": {
      "text/plain": [
       "True"
      ]
     },
     "execution_count": 16,
     "metadata": {},
     "output_type": "execute_result"
    }
   ],
   "source": [
    "is_independent([a0, a1, a2])"
   ]
  },
  {
   "cell_type": "code",
   "execution_count": 17,
   "metadata": {},
   "outputs": [
    {
     "data": {
      "text/plain": [
       "False"
      ]
     },
     "execution_count": 17,
     "metadata": {},
     "output_type": "execute_result"
    }
   ],
   "source": [
    "is_independent([a0, a2, a3])"
   ]
  },
  {
   "cell_type": "code",
   "execution_count": 18,
   "metadata": {},
   "outputs": [
    {
     "data": {
      "text/plain": [
       "True"
      ]
     },
     "execution_count": 18,
     "metadata": {},
     "output_type": "execute_result"
    }
   ],
   "source": [
    "is_independent([a0, a1, a3])"
   ]
  },
  {
   "cell_type": "code",
   "execution_count": 19,
   "metadata": {},
   "outputs": [
    {
     "data": {
      "text/plain": [
       "False"
      ]
     },
     "execution_count": 19,
     "metadata": {},
     "output_type": "execute_result"
    }
   ],
   "source": [
    "is_independent([a0, a1, a2, a3])"
   ]
  },
  {
   "cell_type": "code",
   "execution_count": 20,
   "metadata": {},
   "outputs": [
    {
     "data": {
      "text/plain": [
       "False"
      ]
     },
     "execution_count": 20,
     "metadata": {},
     "output_type": "execute_result"
    }
   ],
   "source": [
    "is_independent([list2vec([2,4,0]),list2vec([8,16,4]),list2vec([0,0,7])])"
   ]
  },
  {
   "cell_type": "code",
   "execution_count": 21,
   "metadata": {},
   "outputs": [
    {
     "data": {
      "text/plain": [
       "True"
      ]
     },
     "execution_count": 21,
     "metadata": {},
     "output_type": "execute_result"
    }
   ],
   "source": [
    "is_independent([list2vec([1,3,0,0]),list2vec([2,1,1,0]),list2vec([0,0,1,0]),list2vec([1,1,4,-1])])"
   ]
  },
  {
   "cell_type": "code",
   "execution_count": 22,
   "metadata": {},
   "outputs": [
    {
     "data": {
      "text/plain": [
       "True"
      ]
     },
     "execution_count": 22,
     "metadata": {},
     "output_type": "execute_result"
    }
   ],
   "source": [
    "is_independent([list2vec([one,zero,one,zero]),list2vec([zero,one,zero,zero]),list2vec([one,one,one,one]),list2vec([one,zero,zero,one])])"
   ]
  },
  {
   "cell_type": "markdown",
   "metadata": {},
   "source": [
    "**Problem 5.14.17:** Write and test a procedure `subset_basis(T)` with the following spec:\n",
    "* _input:_ a list `T` of `Vec`s\n",
    "* _output:_ a list `S` consisting of vectors of `T` such that `S` is a basis for the span of `T`\n",
    "\n",
    "Your procedure should be based on either a version of the Grow algorithm or a version of the Shrink algorithm. You will need a loop or comprehension for this procedure. You can use as a subroutine any of the following:\n",
    "* the procedure `is_superfluous(L, b)` from Problem 5.14.15, or\n",
    "* the procedure `is_independent(L)` from Problem 5.14.16, or\n",
    "* the `solve(A, b)` procedure from the solver module\n",
    "\n",
    "Here is an illustration of how the procedure is used:\n",
    "```\n",
    ">>> a0 = Vec({'a', 'b', 'c', 'd'}, {'a': 1})\n",
    ">>> a1 = Vec({'a', 'b', 'c', 'd'}, {'b': 1})\n",
    ">>> a2 = Vec({'a', 'b', 'c', 'd'}, {'c': 1})\n",
    ">>> a3 = Vec({'a', 'b', 'c', 'd'}, {'a': 1, 'c': 3})\n",
    ">>> subset_basis([a0, a1, a2, a3])\n",
    "[Vec({'a', 'c', 'b', 'd'}, {'a': 1}), Vec({'a', 'c', 'b', 'd'}, {'b': 1}), Vec({'a', 'c', 'b', 'd'}, {'c': 1})]\n",
    ">>> subset_basis([a0, a3, a1, a2])\n",
    "[Vec({'a', 'c', 'b', 'd'}, {'a': 1}), Vec({'a', 'c', 'b', 'd'}, {'a': 1, 'c': 3}), Vec({'a', 'c', 'b', 'd'}, {'b': 1})]\n",
    "```\n",
    "\n",
    "Note that the order in which vectors appear in `T` is likely to affect the returned list. Note also that there are different valid outputs.\n",
    "\n",
    "Test your procedure with the following examples:\n",
    "* $[[1,1,2,1],[2,1,1,1],[1,2,2,1],[2,2,1,2],[2,2,2,2]]$ over $\\mathbb{R}$\n",
    "* $[[1,1,0,0],[1,1,1,1],[0,0,1,1],[0,0,0,1],[0,0,1,0]]$ over $GF(2)$"
   ]
  },
  {
   "cell_type": "code",
   "execution_count": 23,
   "metadata": {},
   "outputs": [],
   "source": [
    "def subset_basis(T):\n",
    "    B = []\n",
    "    for t in T:\n",
    "        if len(B) == 0 or not is_superfluous(B + [t], len(B)):\n",
    "            B.append(t)\n",
    "    return B"
   ]
  },
  {
   "cell_type": "code",
   "execution_count": 24,
   "metadata": {},
   "outputs": [
    {
     "data": {
      "text/plain": [
       "[Vec({'a', 'd', 'c', 'b'},{'a': 1}),\n",
       " Vec({'a', 'd', 'c', 'b'},{'b': 1}),\n",
       " Vec({'a', 'd', 'c', 'b'},{'c': 1})]"
      ]
     },
     "execution_count": 24,
     "metadata": {},
     "output_type": "execute_result"
    }
   ],
   "source": [
    "subset_basis([a0, a1, a2, a3])"
   ]
  },
  {
   "cell_type": "code",
   "execution_count": 25,
   "metadata": {},
   "outputs": [
    {
     "data": {
      "text/plain": [
       "[Vec({'a', 'd', 'c', 'b'},{'a': 1}),\n",
       " Vec({'a', 'd', 'c', 'b'},{'a': 1, 'c': 3}),\n",
       " Vec({'a', 'd', 'c', 'b'},{'b': 1})]"
      ]
     },
     "execution_count": 25,
     "metadata": {},
     "output_type": "execute_result"
    }
   ],
   "source": [
    "subset_basis([a0, a3, a1, a2])"
   ]
  },
  {
   "cell_type": "code",
   "execution_count": 26,
   "metadata": {},
   "outputs": [
    {
     "data": {
      "text/plain": [
       "[Vec({0, 1, 2, 3},{0: 1, 1: 1, 2: 2, 3: 1}),\n",
       " Vec({0, 1, 2, 3},{0: 2, 1: 1, 2: 1, 3: 1}),\n",
       " Vec({0, 1, 2, 3},{0: 1, 1: 2, 2: 2, 3: 1}),\n",
       " Vec({0, 1, 2, 3},{0: 2, 1: 2, 2: 1, 3: 2})]"
      ]
     },
     "execution_count": 26,
     "metadata": {},
     "output_type": "execute_result"
    }
   ],
   "source": [
    "subset_basis([list2vec(l) for l in [[1,1,2,1],[2,1,1,1],[1,2,2,1],[2,2,1,2],[2,2,2,2]]])"
   ]
  },
  {
   "cell_type": "code",
   "execution_count": 27,
   "metadata": {},
   "outputs": [
    {
     "data": {
      "text/plain": [
       "[Vec({0, 1, 2, 3},{0: one, 1: one, 2: 0, 3: 0}),\n",
       " Vec({0, 1, 2, 3},{0: 0, 1: 0, 2: 0, 3: one}),\n",
       " Vec({0, 1, 2, 3},{0: 0, 1: 0, 2: one, 3: 0})]"
      ]
     },
     "execution_count": 27,
     "metadata": {},
     "output_type": "execute_result"
    }
   ],
   "source": [
    "subset_basis([list2vec(l) for l in [[one,one,zero,zero],[one,one,one,one],[zero,zero,one,one],[zero,zero,zero,one],[zero,zero,one,zero]]])"
   ]
  },
  {
   "cell_type": "markdown",
   "metadata": {},
   "source": [
    "**Problem 5.14.18:** Write and test a procedure `superset_basis(T, L)` with the following spec:\n",
    "* _input:_ a linearly independent list `T` of `Vec`s, and a list `L` of `Vec`s, such that every vector in `T` is in the span of `L`.\n",
    "* _output:_ a linearly independent list `S` containing all vectors in `T` such that the span of `S` equals the span of `L` (i.e. `S` is a basis for the span of `L`).\n",
    "\n",
    "Your procedure should be based on either a version of the Grow algorithm or a version of the Shrink algorithm. You will need a loop or comprehension for this procedure. You can use as a subroutine any of the following:\n",
    "* the procedure `is_superfluous(L, b)` from Problem 5.14.15, or\n",
    "* the procedure `is_independent(L)` from Problem 5.14.16, or\n",
    "* the `solve(A, b)` procedure from the solver module\n",
    "\n",
    "Here is an illustration of how the procedure is used:\n",
    "```\n",
    ">>> a0 = Vec({'a', 'b', 'c', 'd'}, {'a': 1})\n",
    ">>> a1 = Vec({'a', 'b', 'c', 'd'}, {'b': 1})\n",
    ">>> a2 = Vec({'a', 'b', 'c', 'd'}, {'c': 1})\n",
    ">>> a3 = Vec({'a', 'b', 'c', 'd'}, {'a': 1, 'c': 3})\n",
    ">>> superset_basis([a0, a3], [a0, a1, a2])\n",
    "[Vec({'b', 'c', 'd', 'a'}, {'a': 1}), Vec({'b', 'c', 'd', 'a'}, {'c': 3, 'a': 1}), Vec({'b', 'c', 'd', 'a'}, {'b': 1})]\n",
    "```\n",
    "\n",
    "Test your procedure with the following examples:\n",
    "* $[[0,5,3],[0,2,2],[1,5,7]],L=[[1,1,1],[0,1,1],[0,0,1]]$ over $\\mathbb{R}$\n",
    "* $[[0,5,3],[0,2,2]],L=[[1,1,1],[0,1,1],[0,0,1]]$ over $\\mathbb{R}$\n",
    "* $[[0,1,1,0],[1,0,0,1]],L=[[1,1,1,1],[1,0,0,0],[0,0,0,1]]$ over $GF(2)$"
   ]
  },
  {
   "cell_type": "code",
   "execution_count": 28,
   "metadata": {},
   "outputs": [],
   "source": [
    "def superset_basis(T, L):\n",
    "    S = T.copy()\n",
    "    for l in L:\n",
    "        if len(S) == 0 or not is_superfluous(S + [l], len(S)):\n",
    "            S.append(l)\n",
    "    return S"
   ]
  },
  {
   "cell_type": "code",
   "execution_count": 29,
   "metadata": {},
   "outputs": [
    {
     "data": {
      "text/plain": [
       "[Vec({'a', 'd', 'c', 'b'},{'a': 1}),\n",
       " Vec({'a', 'd', 'c', 'b'},{'a': 1, 'c': 3}),\n",
       " Vec({'a', 'd', 'c', 'b'},{'b': 1})]"
      ]
     },
     "execution_count": 29,
     "metadata": {},
     "output_type": "execute_result"
    }
   ],
   "source": [
    "superset_basis([a0, a3], [a0, a1, a2])"
   ]
  },
  {
   "cell_type": "markdown",
   "metadata": {},
   "source": [
    "**Problem 5.14.19:** Write and test a procedure `exchange(S, A, z)` with the following spec:\n",
    "* _input:_ a list `S` of `Vec`s, a list `A` of `Vec`s that are all in `S` (such that `len(A) < len(S)`), and a `Vec` `z` such that `A + [z]` is linearly independent\n",
    "* _output:_ a vector `w` in `S` but not in `A` such that $\\text{Span}\\space S = \\text{Span}(\\{\\boldsymbol{z}\\} \\cup S - \\{\\boldsymbol{w}\\})$\n",
    "\n",
    "Your procedure should follow the proof of the Exchange Lemma (Lemma 5.11.1). You should use the `solver` module or the procedure `vec2rep(veclist, v)` from Problem 5.14.14. You can test whether a vector is in a list using the expression `v` in `L`.\n",
    "\n",
    "Here is an illustration of how the procedure is used:\n",
    "```\n",
    ">>> S = [list2vec(v) for v in [[0,0,5,3], [2,0,1,3], [0,0,1,0], [1,2,3,4]]]\n",
    ">>> A = [list2vec(v) for v in [[0,0,5,3], [2,0,1,3]]]\n",
    ">>> z = list2vec([0,2,1,1])\n",
    ">>> print(exchange(S, A, z))\n",
    "\n",
    "0 1 2 3\n",
    "-------\n",
    "0 0 1 0\n",
    "```\n",
    "\n",
    "Test your procedure with the following examples:\n",
    "* $S=[[00,5,3],[2,0,1,3],[0,0,1,0],[1,2,3,4]],A=[[0,0,5,3],[2,0,1,3]],\\boldsymbol{z}=[0,2,1,1]$ over $\\mathbb{R}$\n",
    "* $S=[[0,1,1,1],[1,0,1,1],[1,1,0,1],[1,1,1,0]],A=[[0,1,1,1],[1,1,0,1]], \\boldsymbol{z}=[1,1,1,1]$ over $GF(2)$"
   ]
  },
  {
   "cell_type": "code",
   "execution_count": 30,
   "metadata": {},
   "outputs": [
    {
     "name": "stdout",
     "output_type": "stream",
     "text": [
      "\n",
      " 0 1 2 3\n",
      "--------\n",
      " 0 0 1 0\n"
     ]
    }
   ],
   "source": [
    "def exchange(S, A, z):\n",
    "    S_copy = S.copy()\n",
    "    S_copy.append(z)\n",
    "\n",
    "    for i in range(len(S_copy)):\n",
    "        if is_superfluous(S_copy, i) and S_copy[i] not in A and S_copy[i] != z:\n",
    "            return S_copy[i]\n",
    "\n",
    "S = [list2vec(v) for v in [[0,0,5,3], [2,0,1,3], [0,0,1,0], [1,2,3,4]]]\n",
    "A = [list2vec(v) for v in [[0,0,5,3], [2,0,1,3]]]\n",
    "z = list2vec([0,2,1,1])\n",
    "print(exchange(S, A, z))"
   ]
  },
  {
   "cell_type": "code",
   "execution_count": null,
   "metadata": {},
   "outputs": [],
   "source": []
  }
 ],
 "metadata": {
  "kernelspec": {
   "display_name": "Python 3",
   "language": "python",
   "name": "python3"
  },
  "language_info": {
   "codemirror_mode": {
    "name": "ipython",
    "version": 3
   },
   "file_extension": ".py",
   "mimetype": "text/x-python",
   "name": "python",
   "nbconvert_exporter": "python",
   "pygments_lexer": "ipython3",
   "version": "3.6.4"
  }
 },
 "nbformat": 4,
 "nbformat_minor": 2
}
