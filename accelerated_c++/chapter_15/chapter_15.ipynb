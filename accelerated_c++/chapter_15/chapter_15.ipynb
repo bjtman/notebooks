{
 "cells": [
  {
   "cell_type": "markdown",
   "metadata": {},
   "source": [
    "## Chapter 15\n",
    "# Revisiting character pictures"
   ]
  },
  {
   "cell_type": "markdown",
   "metadata": {},
   "source": [
    "## Exercises"
   ]
  },
  {
   "cell_type": "markdown",
   "metadata": {},
   "source": [
    "**15-0.** Compile, execute and test the programs in this chapter."
   ]
  },
  {
   "cell_type": "markdown",
   "metadata": {},
   "source": [
    "Implemented in `Picture.h` and `Picture.cpp`."
   ]
  },
  {
   "cell_type": "code",
   "execution_count": 1,
   "metadata": {},
   "outputs": [
    {
     "data": {
      "text/plain": []
     },
     "execution_count": 1,
     "metadata": {},
     "output_type": "execute_result"
    }
   ],
   "source": [
    "#include \"Picture.h\""
   ]
  },
  {
   "cell_type": "code",
   "execution_count": 2,
   "metadata": {},
   "outputs": [
    {
     "data": {
      "text/plain": []
     },
     "execution_count": 2,
     "metadata": {},
     "output_type": "execute_result"
    }
   ],
   "source": [
    "#include \"../chapter_14/Str.h\""
   ]
  },
  {
   "cell_type": "code",
   "execution_count": 3,
   "metadata": {},
   "outputs": [
    {
     "data": {
      "text/plain": []
     },
     "execution_count": 3,
     "metadata": {},
     "output_type": "execute_result"
    }
   ],
   "source": [
    "#include \"split.h\""
   ]
  },
  {
   "cell_type": "code",
   "execution_count": 4,
   "metadata": {},
   "outputs": [
    {
     "data": {
      "text/plain": []
     },
     "execution_count": 4,
     "metadata": {},
     "output_type": "execute_result"
    }
   ],
   "source": [
    "#include \"../chapter_11/Vec.h\""
   ]
  },
  {
   "cell_type": "code",
   "execution_count": 5,
   "metadata": {},
   "outputs": [
    {
     "data": {
      "text/plain": []
     },
     "execution_count": 5,
     "metadata": {},
     "output_type": "execute_result"
    }
   ],
   "source": [
    ".L Picture.cpp"
   ]
  },
  {
   "cell_type": "code",
   "execution_count": 6,
   "metadata": {},
   "outputs": [
    {
     "data": {
      "text/plain": []
     },
     "execution_count": 6,
     "metadata": {},
     "output_type": "execute_result"
    }
   ],
   "source": [
    ".L ../chapter_14/Str.cpp"
   ]
  },
  {
   "cell_type": "code",
   "execution_count": 7,
   "metadata": {},
   "outputs": [
    {
     "data": {
      "text/plain": []
     },
     "execution_count": 7,
     "metadata": {},
     "output_type": "execute_result"
    }
   ],
   "source": [
    ".L split.cpp"
   ]
  },
  {
   "cell_type": "markdown",
   "metadata": {},
   "source": [
    "**15-1.** Test your system by writing a program that executes\n",
    "```\n",
    "Picture p = // some initial starting picture\n",
    "Picture q = frame(p)\n",
    "Picture r = hcat(p, q);\n",
    "Picture s = vcat(q, r);\n",
    "cout << frame(hcat(s, vcat(r, q))) << endl;\n",
    "```"
   ]
  },
  {
   "cell_type": "code",
   "execution_count": 8,
   "metadata": {},
   "outputs": [
    {
     "data": {
      "text/plain": []
     },
     "execution_count": 8,
     "metadata": {},
     "output_type": "execute_result"
    }
   ],
   "source": [
    "#include <iostream>"
   ]
  },
  {
   "cell_type": "code",
   "execution_count": 9,
   "metadata": {},
   "outputs": [
    {
     "data": {
      "text/plain": []
     },
     "execution_count": 9,
     "metadata": {},
     "output_type": "execute_result"
    }
   ],
   "source": [
    "using std::cout;"
   ]
  },
  {
   "cell_type": "code",
   "execution_count": 10,
   "metadata": {},
   "outputs": [
    {
     "data": {
      "text/plain": []
     },
     "execution_count": 10,
     "metadata": {},
     "output_type": "execute_result"
    }
   ],
   "source": [
    "using std::endl;"
   ]
  },
  {
   "cell_type": "code",
   "execution_count": 11,
   "metadata": {},
   "outputs": [
    {
     "name": "stdout",
     "output_type": "stream",
     "text": [
      "****************************************************\n",
      "*                                                  *\n",
      "* **************                    ************** *\n",
      "* *            *                    *            * *\n",
      "* * and        *          and       * and        * *\n",
      "* * now        *          now       * now        * *\n",
      "* * for        *          for       * for        * *\n",
      "* * something  *          something * something  * *\n",
      "* * completely *          completely* completely * *\n",
      "* * different  *          different * different  * *\n",
      "* *            *                    *            * *\n",
      "* **************                    ************** *\n",
      "*           ****************************           *\n",
      "*           *            **            *           *\n",
      "* and       * and        ** and        *           *\n",
      "* now       * now        ** now        *           *\n",
      "* for       * for        ** for        *           *\n",
      "* something * something  ** something  *           *\n",
      "* completely* completely ** completely *           *\n",
      "* different * different  ** different  *           *\n",
      "*           *            **            *           *\n",
      "*           ****************************           *\n",
      "*                                                  *\n",
      "****************************************************\n",
      "\n"
     ]
    },
    {
     "data": {
      "text/plain": [
       "(std::__1::basic_ostream &) @0x7fffa7cc4660\n"
      ]
     },
     "execution_count": 11,
     "metadata": {},
     "output_type": "execute_result"
    }
   ],
   "source": [
    "Vec<Str> strings = split(\"and now for something completely different\");\n",
    "\n",
    "Picture p = strings;\n",
    "Picture q = frame(p);\n",
    "Picture r = hcat(p, q);\n",
    "Picture s = vcat(q, r);\n",
    "Picture final = frame(hcat(s, vcat(r, q)));\n",
    "cout << final << endl;\n",
    "// Note that this has been rerun _after_ implementing all exercises.\n",
    "// The only functional different here is the centered `hcat` operation."
   ]
  },
  {
   "cell_type": "markdown",
   "metadata": {},
   "source": [
    "**15-2.** Reimplement the `Frame_Pic` class so that the frame uses three different characters: one for the corners, another for the top and bottom borders, and a third for the side borders."
   ]
  },
  {
   "cell_type": "markdown",
   "metadata": {},
   "source": [
    "I implemented this with default arguments to the `frame` method, which forwards them to the `Frame_Pic` constructor (with no defaults):\n",
    "\n",
    "`Picture frame(const Picture&, const char='*', const char='*', const char='*');\n",
    "`\n",
    "\n",
    "Example:"
   ]
  },
  {
   "cell_type": "code",
   "execution_count": 12,
   "metadata": {},
   "outputs": [
    {
     "name": "stdout",
     "output_type": "stream",
     "text": [
      "^------------^\n",
      "|            |\n",
      "| and        |\n",
      "| now        |\n",
      "| for        |\n",
      "| something  |\n",
      "| completely |\n",
      "| different  |\n",
      "|            |\n",
      "^------------^\n",
      "\n"
     ]
    },
    {
     "data": {
      "text/plain": [
       "(std::__1::basic_ostream &) @0x7fffa7cc4660\n"
      ]
     },
     "execution_count": 12,
     "metadata": {},
     "output_type": "execute_result"
    }
   ],
   "source": [
    "Picture special_edges = frame(p, '^', '-', '|');\n",
    "cout << special_edges << endl;"
   ]
  },
  {
   "cell_type": "markdown",
   "metadata": {},
   "source": [
    "**15-3.** Give users the option to specify what characters to use for these border characters."
   ]
  },
  {
   "cell_type": "markdown",
   "metadata": {},
   "source": [
    "(Done above!)"
   ]
  },
  {
   "cell_type": "markdown",
   "metadata": {},
   "source": [
    "**15-4.** Add an operation to `reframe` a `Picture`, which changes the frame characters. The operation should change all of the frames in the interior picture."
   ]
  },
  {
   "cell_type": "markdown",
   "metadata": {},
   "source": [
    "I implemented this by adding a new `virtual` function to `Pic_base` and implementing it in each sublass recursively on its `Ptr<Pic_base>` members:\n",
    "\n",
    "```\n",
    "virtual void Pic_base::reframe(const char corner_char, const char top_bottom_char, const char sides_char) { } // only Frame_Pic actually implements.\n",
    "...\n",
    "const Picture& reframe(const Picture&, const char='*', const char='*', const char='*');\n",
    "```\n",
    "\n",
    "The most interesting case is the `Frame_pic` implementation, which changes its internal members and those of its child (which may be non-`Frame` `Pic_base`s that contain other `Frame_pic`s):\n",
    "\n",
    "```\n",
    "    void reframe(const char corner_char, const char top_bottom_char, const char sides_char) {\n",
    "        this->corner_char = corner_char;\n",
    "        this->top_bottom_char = top_bottom_char;\n",
    "        this->sides_char = sides_char;\n",
    "        p->reframe(corner_char, top_bottom_char, sides_char);\n",
    "    }\n",
    "```\n",
    "\n",
    "Examples with different numbers of overloaded arguments:"
   ]
  },
  {
   "cell_type": "code",
   "execution_count": 13,
   "metadata": {},
   "outputs": [
    {
     "name": "stdout",
     "output_type": "stream",
     "text": [
      "^**************************************************^\n",
      "*                                                  *\n",
      "* ^************^                    ^************^ *\n",
      "* *            *                    *            * *\n",
      "* * and        *          and       * and        * *\n",
      "* * now        *          now       * now        * *\n",
      "* * for        *          for       * for        * *\n",
      "* * something  *          something * something  * *\n",
      "* * completely *          completely* completely * *\n",
      "* * different  *          different * different  * *\n",
      "* *            *                    *            * *\n",
      "* ^************^                    ^************^ *\n",
      "*           ^************^^************^           *\n",
      "*           *            **            *           *\n",
      "* and       * and        ** and        *           *\n",
      "* now       * now        ** now        *           *\n",
      "* for       * for        ** for        *           *\n",
      "* something * something  ** something  *           *\n",
      "* completely* completely ** completely *           *\n",
      "* different * different  ** different  *           *\n",
      "*           *            **            *           *\n",
      "*           ^************^^************^           *\n",
      "*                                                  *\n",
      "^**************************************************^\n",
      "\n",
      "^--------------------------------------------------^\n",
      "*                                                  *\n",
      "* ^------------^                    ^------------^ *\n",
      "* *            *                    *            * *\n",
      "* * and        *          and       * and        * *\n",
      "* * now        *          now       * now        * *\n",
      "* * for        *          for       * for        * *\n",
      "* * something  *          something * something  * *\n",
      "* * completely *          completely* completely * *\n",
      "* * different  *          different * different  * *\n",
      "* *            *                    *            * *\n",
      "* ^------------^                    ^------------^ *\n",
      "*           ^------------^^------------^           *\n",
      "*           *            **            *           *\n",
      "* and       * and        ** and        *           *\n",
      "* now       * now        ** now        *           *\n",
      "* for       * for        ** for        *           *\n",
      "* something * something  ** something  *           *\n",
      "* completely* completely ** completely *           *\n",
      "* different * different  ** different  *           *\n",
      "*           *            **            *           *\n",
      "*           ^------------^^------------^           *\n",
      "*                                                  *\n",
      "^--------------------------------------------------^\n",
      "\n",
      "^--------------------------------------------------^\n",
      "|                                                  |\n",
      "| ^------------^                    ^------------^ |\n",
      "| |            |                    |            | |\n",
      "| | and        |          and       | and        | |\n",
      "| | now        |          now       | now        | |\n",
      "| | for        |          for       | for        | |\n",
      "| | something  |          something | something  | |\n",
      "| | completely |          completely| completely | |\n",
      "| | different  |          different | different  | |\n",
      "| |            |                    |            | |\n",
      "| ^------------^                    ^------------^ |\n",
      "|           ^------------^^------------^           |\n",
      "|           |            ||            |           |\n",
      "| and       | and        || and        |           |\n",
      "| now       | now        || now        |           |\n",
      "| for       | for        || for        |           |\n",
      "| something | something  || something  |           |\n",
      "| completely| completely || completely |           |\n",
      "| different | different  || different  |           |\n",
      "|           |            ||            |           |\n",
      "|           ^------------^^------------^           |\n",
      "|                                                  |\n",
      "^--------------------------------------------------^\n",
      "\n"
     ]
    },
    {
     "data": {
      "text/plain": [
       "(std::__1::basic_ostream &) @0x7fffa7cc4660\n"
      ]
     },
     "execution_count": 13,
     "metadata": {},
     "output_type": "execute_result"
    }
   ],
   "source": [
    "cout << reframe(final, '^') << endl;\n",
    "cout << reframe(final, '^', '-') << endl;\n",
    "cout << reframe(final, '^', '-', '|') << endl;"
   ]
  },
  {
   "cell_type": "markdown",
   "metadata": {},
   "source": [
    "**15-5.** Reimplement `HCat_Pic` so that when pictures of a different size are concatenated, the shorter one is centered in the space consumed by the longer one. That is, if we horizontally concatenate two pictures, one of which is four lines long and the other is two lines long, the first and last rows of the output picture will be blank on the side of the shorter picture. What can we now conclude about the necessity of the tests between `row` and `0`?"
   ]
  },
  {
   "cell_type": "markdown",
   "metadata": {},
   "source": [
    "Implementation (could be DRY'd up, be eh...):\n",
    "\n",
    "```\n",
    "void HCat_Pic::display(ostream& os, ht_sz row, bool do_pad) const {\n",
    "    if (left->height() < right->height()) {\n",
    "        ht_sz half_height_diff = (right->height() - left->height()) / 2;\n",
    "        if (row < half_height_diff || row >= right->height() - half_height_diff) {\n",
    "            pad(os, 0, left->width());            \n",
    "        } else {\n",
    "            left->display(os, row - half_height_diff, do_pad || row - half_height_diff < right->height());\n",
    "        }\n",
    "    } else {\n",
    "        left->display(os, row, do_pad || row < right->height());\n",
    "    }\n",
    "\n",
    "    if (left->height() > right->height()) {\n",
    "        ht_sz half_height_diff = (left->height() - right->height()) / 2;\n",
    "        if (row < half_height_diff || row >= left->height() - half_height_diff) {\n",
    "            pad(os, 0, right->width());            \n",
    "        } else {\n",
    "            right->display(os, row - half_height_diff, do_pad);\n",
    "        }\n",
    "    } else {\n",
    "        right->display(os, row, do_pad);\n",
    "    }\n",
    "}\n",
    "```\n",
    "I can't really decipher the question about the `row` and `0` comparison. The only such comparison I see like that at all in the entire implementation is within `Frame_pic::display`, which is irrelevant when considering the general case.  I think what they're getting at is that one could choose to implement this in a different way that delegates the row-padding to another function that accepts rows that could be `<= 0`...?\n",
    "\n",
    "Example of this function in action:"
   ]
  },
  {
   "cell_type": "code",
   "execution_count": 14,
   "metadata": {},
   "outputs": [
    {
     "name": "stdout",
     "output_type": "stream",
     "text": [
      "          **************\n",
      "          *            *\n",
      "and       * and        *\n",
      "now       * now        *\n",
      "for       * for        *\n",
      "something * something  *\n",
      "completely* completely *\n",
      "different * different  *\n",
      "          *            *\n",
      "          **************\n",
      "\n"
     ]
    },
    {
     "data": {
      "text/plain": [
       "(std::__1::basic_ostream &) @0x7fffa7cc4660\n"
      ]
     },
     "execution_count": 14,
     "metadata": {},
     "output_type": "execute_result"
    }
   ],
   "source": [
    "cout << hcat(p, frame(p)) << endl;"
   ]
  },
  {
   "cell_type": "code",
   "execution_count": 15,
   "metadata": {},
   "outputs": [
    {
     "name": "stdout",
     "output_type": "stream",
     "text": [
      "and\n",
      "now\n",
      "for\n",
      "something\n",
      "completely\n",
      "different\n",
      "\n"
     ]
    },
    {
     "data": {
      "text/plain": [
       "(std::__1::basic_ostream &) @0x7fffa7cc4660\n"
      ]
     },
     "execution_count": 15,
     "metadata": {},
     "output_type": "execute_result"
    }
   ],
   "source": [
    "cout << p << endl;"
   ]
  },
  {
   "cell_type": "markdown",
   "metadata": {},
   "source": [
    "**15-6.** The `Vec` and `Str` classes that we developed in Chapters 11 and 12 are powerful enough to be used to implement `Picture`s. Reimplement the material in this chapter to use `Vec<Str>` instead of `vector<string>`, and test your implementation."
   ]
  },
  {
   "cell_type": "markdown",
   "metadata": {},
   "source": [
    "Done! All examples have been run using this implementation instead of making a copy of everything."
   ]
  },
  {
   "cell_type": "code",
   "execution_count": null,
   "metadata": {},
   "outputs": [],
   "source": []
  }
 ],
 "metadata": {
  "kernelspec": {
   "display_name": "C++11",
   "language": "C++",
   "name": "cling-cpp11"
  },
  "language_info": {
   "codemirror_mode": "c++",
   "file_extension": ".c++",
   "mimetype": "text/x-c++src",
   "name": "c++"
  }
 },
 "nbformat": 4,
 "nbformat_minor": 2
}
