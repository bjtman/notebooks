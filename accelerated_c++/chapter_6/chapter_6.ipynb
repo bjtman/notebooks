{
 "cells": [
  {
   "cell_type": "markdown",
   "metadata": {},
   "source": [
    "## Chapter 6\n",
    "# Using library algorithms"
   ]
  },
  {
   "cell_type": "code",
   "execution_count": 1,
   "metadata": {},
   "outputs": [
    {
     "data": {
      "text/plain": []
     },
     "execution_count": 1,
     "metadata": {},
     "output_type": "execute_result"
    }
   ],
   "source": [
    "#include <string>\n",
    "#include <vector>\n",
    "#include <iostream>\n",
    "\n",
    "using std::string;"
   ]
  },
  {
   "cell_type": "code",
   "execution_count": 2,
   "metadata": {},
   "outputs": [
    {
     "data": {
      "text/plain": []
     },
     "execution_count": 2,
     "metadata": {},
     "output_type": "execute_result"
    }
   ],
   "source": [
    "using std::vector;"
   ]
  },
  {
   "cell_type": "code",
   "execution_count": 3,
   "metadata": {},
   "outputs": [
    {
     "data": {
      "text/plain": []
     },
     "execution_count": 3,
     "metadata": {},
     "output_type": "execute_result"
    }
   ],
   "source": [
    "using std::max;"
   ]
  },
  {
   "cell_type": "code",
   "execution_count": 4,
   "metadata": {},
   "outputs": [
    {
     "data": {
      "text/plain": []
     },
     "execution_count": 4,
     "metadata": {},
     "output_type": "execute_result"
    }
   ],
   "source": [
    "using std::cout;"
   ]
  },
  {
   "cell_type": "code",
   "execution_count": 5,
   "metadata": {},
   "outputs": [
    {
     "data": {
      "text/plain": []
     },
     "execution_count": 5,
     "metadata": {},
     "output_type": "execute_result"
    }
   ],
   "source": [
    "using std::endl;"
   ]
  },
  {
   "cell_type": "markdown",
   "metadata": {},
   "source": [
    "## Exercises"
   ]
  },
  {
   "cell_type": "markdown",
   "metadata": {},
   "source": [
    "**6-0.** Compile, execute and test the programs in this chapter."
   ]
  },
  {
   "cell_type": "markdown",
   "metadata": {},
   "source": [
    "Student grades-related code implemented in `grading.cpp`, `grade.h` and `grade.c`.  \n",
    "Url finding code implemented in `find_urls.cpp`."
   ]
  },
  {
   "cell_type": "markdown",
   "metadata": {},
   "source": [
    "**6-1.** Reimplement the `frame` and `hcat` operations from 5.8.1/93 and 5.8.3/94 to use iterators."
   ]
  },
  {
   "cell_type": "code",
   "execution_count": 6,
   "metadata": {},
   "outputs": [
    {
     "data": {
      "text/plain": []
     },
     "execution_count": 6,
     "metadata": {},
     "output_type": "execute_result"
    }
   ],
   "source": [
    "string::size_type width(const vector<string>& v) {\n",
    "    string::size_type maxlen = 0;\n",
    "    for (vector<string>::const_iterator it = v.begin(); it != v.end(); it++) {\n",
    "        maxlen = max(maxlen, it->size());\n",
    "    }\n",
    "    return maxlen;\n",
    "}"
   ]
  },
  {
   "cell_type": "code",
   "execution_count": 7,
   "metadata": {},
   "outputs": [
    {
     "data": {
      "text/plain": []
     },
     "execution_count": 7,
     "metadata": {},
     "output_type": "execute_result"
    }
   ],
   "source": [
    "std::vector<string> frame(const vector<string>& v) {\n",
    "    vector<string> ret;\n",
    "    string::size_type maxlen = width(v);\n",
    "    string border(maxlen + 4, '*');\n",
    "\n",
    "    ret.push_back(border);\n",
    "\n",
    "    for (vector<string>::const_iterator it = v.begin(); it != v.end(); ++it) {\n",
    "        ret.push_back(\"* \" + *it + string(maxlen - it->size(), ' ') + \" *\");\n",
    "    }\n",
    "\n",
    "    ret.push_back(border);\n",
    "    return ret;\n",
    "}"
   ]
  },
  {
   "cell_type": "code",
   "execution_count": 8,
   "metadata": {},
   "outputs": [
    {
     "data": {
      "text/plain": []
     },
     "execution_count": 8,
     "metadata": {},
     "output_type": "execute_result"
    }
   ],
   "source": [
    "std::vector<string> hcat(const vector<string>& left,\n",
    "                         const vector<string>& right) {\n",
    "    vector<string> ret;\n",
    "\n",
    "    string::size_type width1 = width(left) + 1;\n",
    "    vector<string>::const_iterator i = left.begin(), j = right.begin();\n",
    "\n",
    "    while (i != left.end() || j != right.end()) {\n",
    "        string s;\n",
    "\n",
    "        if (i != left.end()) {\n",
    "            s = *i++;\n",
    "        }\n",
    "\n",
    "        s += string(width1 - s.size(), ' ');\n",
    "\n",
    "        if (j != right.end()) {\n",
    "            s += *j++;\n",
    "        }\n",
    "\n",
    "        ret.push_back(s);\n",
    "    }\n",
    "\n",
    "    return ret;\n",
    "}"
   ]
  },
  {
   "cell_type": "code",
   "execution_count": 9,
   "metadata": {},
   "outputs": [
    {
     "name": "stdout",
     "output_type": "stream",
     "text": [
      "*********\n",
      "* this  *\n",
      "* is    *\n",
      "* a --  *\n",
      "* test. *\n",
      "*********\n",
      "*****************\n",
      "* this          *\n",
      "* is  --        *\n",
      "* anoter        *\n",
      "* type of ..... *\n",
      "* test.         *\n",
      "*****************\n",
      "********* *****************\n",
      "* this  * * this          *\n",
      "* is    * * is  --        *\n",
      "* a --  * * anoter        *\n",
      "* test. * * type of ..... *\n",
      "********* * test.         *\n",
      "          *****************\n"
     ]
    },
    {
     "data": {
      "text/plain": []
     },
     "execution_count": 9,
     "metadata": {},
     "output_type": "execute_result"
    }
   ],
   "source": [
    "vector<string> testStrings;\n",
    "testStrings.push_back(\"this \");\n",
    "testStrings.push_back(\"is\");\n",
    "testStrings.push_back(\"a -- \");\n",
    "testStrings.push_back(\"test.\");\n",
    "vector<string> framed = frame(testStrings);\n",
    "for (vector<string>::const_iterator it = framed.begin(); it != framed.end(); ++it) {\n",
    "    cout << *it << endl;\n",
    "}\n",
    "\n",
    "vector<string> otherTestStrings;\n",
    "otherTestStrings.push_back(\"this \");\n",
    "otherTestStrings.push_back(\"is  --\");\n",
    "otherTestStrings.push_back(\"anoter\");\n",
    "otherTestStrings.push_back(\"type of .....\");\n",
    "otherTestStrings.push_back(\"test.\");\n",
    "vector<string> otherFramed = frame(otherTestStrings);\n",
    "for (vector<string>::const_iterator it = otherFramed.begin(); it != otherFramed.end(); ++it) {\n",
    "    cout << *it << endl;\n",
    "}\n",
    "\n",
    "vector<string> hcatted = hcat(framed, otherFramed);\n",
    "for (vector<string>::const_iterator it = hcatted.begin(); it != hcatted.end(); ++it) {\n",
    "    cout << *it << endl;\n",
    "}"
   ]
  },
  {
   "cell_type": "markdown",
   "metadata": {},
   "source": [
    "**6-2.** Write a program to test the `find_urls` function."
   ]
  },
  {
   "cell_type": "markdown",
   "metadata": {},
   "source": [
    "See `find_urls.cpp`.\n",
    "\n",
    "Using\n",
    "`    const string s = \"blah blah http://localhost:8888/notebooks/accelerated_c%2B%2B/chapter_6/chapter_6.ipynb blah blah https://www.khanacademy.org/math/statistics-probability blahhhhhh\";\n",
    "`:\n",
    "\n",
    "```\n",
    "$ gcc find_urls_main.cpp find_urls.cpp -o find_urls.out -lstdc++\n",
    "$ ./find_urls.out\n",
    "http://localhost:8888/notebooks/accelerated_c%2B%2B/chapter_6/chapter_6.ipynb\n",
    "https://www.khanacademy.org/math/statistics-probability\n",
    "```"
   ]
  },
  {
   "cell_type": "markdown",
   "metadata": {},
   "source": [
    "**6-3.** What does this program fragment do?  \n",
    "```\n",
    "vector<int> u(10, 100);\n",
    "vector<int> v;\n",
    "copy(u.begin(), u.end(), v.begin());\n",
    "```\n",
    "\n",
    "Write a program that contains this fragment, and compile and execute it."
   ]
  },
  {
   "cell_type": "markdown",
   "metadata": {},
   "source": [
    "This program fragment initializes an `int` vector `u` with 10 elements all with value `100`, and the empty `int` vector `v`.  It then attempts to copy the first elements of `u` to the beginning of `v`, but it will fail since there is no element there."
   ]
  },
  {
   "cell_type": "code",
   "execution_count": 10,
   "metadata": {},
   "outputs": [
    {
     "data": {
      "text/plain": []
     },
     "execution_count": 10,
     "metadata": {},
     "output_type": "execute_result"
    }
   ],
   "source": [
    "#include <algorithm>\n",
    "\n",
    "vector<int> u(10, 100);\n",
    "vector<int> v;\n",
    "//std::copy(u.begin(), u.end(), v.begin());\n",
    "// I comment this out because the result is a complete kernel failure."
   ]
  },
  {
   "cell_type": "markdown",
   "metadata": {},
   "source": [
    "**6-4.** Correct the program you wrote in the previous exercise to copy from `u` into `v`. There are at least two possible ways to correct the program. Implement both, and describe the relative advantages and disadvantages of each approach."
   ]
  },
  {
   "cell_type": "markdown",
   "metadata": {},
   "source": [
    "One way to correct this program is to use a `back_inserter` from the `<iterator>` library, which automatically grows the target vector as needed:"
   ]
  },
  {
   "cell_type": "code",
   "execution_count": 11,
   "metadata": {},
   "outputs": [
    {
     "data": {
      "text/plain": [
       "(std::vector<int> &) { 100, 100, 100, 100, 100, 100, 100, 100, 100, 100 }\n"
      ]
     },
     "execution_count": 11,
     "metadata": {},
     "output_type": "execute_result"
    }
   ],
   "source": [
    "#include <iterator>\n",
    "std::copy(u.begin(), u.end(), std::back_inserter(v));\n",
    "v;"
   ]
  },
  {
   "cell_type": "markdown",
   "metadata": {},
   "source": [
    "Another way to correct this program is to initialize the destination vector with the correct size, and then copy using `v.begin()`:"
   ]
  },
  {
   "cell_type": "code",
   "execution_count": 12,
   "metadata": {},
   "outputs": [
    {
     "data": {
      "text/plain": [
       "(std::vector<int> &) { 100, 100, 100, 100, 100, 100, 100, 100, 100, 100 }\n"
      ]
     },
     "execution_count": 12,
     "metadata": {},
     "output_type": "execute_result"
    }
   ],
   "source": [
    "vector<int> v_2(u.size());\n",
    "std::copy(u.begin(), u.end(), v_2.begin());\n",
    "v_2;"
   ]
  },
  {
   "cell_type": "markdown",
   "metadata": {},
   "source": [
    "The benefit of using `back_inserter` is that it can be used without needing to worry about the size of the destination vector, or the index of insertion (say, `source.size() - destination.size()`, if we wanted to do so programatically).  This makes it much more flexible and general purpose.\n",
    "\n",
    "The benefit of using a vector initialized with exactly the right number of elements is that we can allocate all the memory we need up-front (if performance is a concern), and arguably it is more clear about the programmer's intent if we want to make it clear that the vector's size will not grow after instantiation."
   ]
  },
  {
   "cell_type": "markdown",
   "metadata": {},
   "source": [
    "**6-5.** Write an analysis function to call `optimistic_median`."
   ]
  },
  {
   "cell_type": "markdown",
   "metadata": {},
   "source": [
    "An analysis function to call `optimistic_median` is implemented in `grade.cpp`."
   ]
  },
  {
   "cell_type": "markdown",
   "metadata": {},
   "source": [
    "**6-6.** Note that the function from the previous exercise and the functions from 6.2.2/113 and 6.2.3/115 do the same task. Merge these three analysis functions into a single function."
   ]
  },
  {
   "cell_type": "markdown",
   "metadata": {},
   "source": [
    "These three analysis functions are merged into the function `double analysis(const std::vector<Student_info>&, double (const Student_info&));` in `grade.cpp`."
   ]
  },
  {
   "cell_type": "markdown",
   "metadata": {},
   "source": [
    "**6-7.** The portion of the grading analysis program from 6.2.1/110 that read and classified student records depending on whether they did (or did not) do all the homework is similar to the problem we solved in `extract_fails`. Write a function to handle this subproblem."
   ]
  },
  {
   "cell_type": "markdown",
   "metadata": {},
   "source": [
    "Implemented in `grading.cpp::extract_didnt_do_all_hw(vector<Student_info>&)`."
   ]
  },
  {
   "cell_type": "markdown",
   "metadata": {},
   "source": [
    "**6-8.** Write a single function that can be used to classify students based on criteria of your choice. Test this function by using it in place of the `extract_fails` program, and use it in the program to analyze student grades."
   ]
  },
  {
   "cell_type": "markdown",
   "metadata": {},
   "source": [
    "```\n",
    "$ gcc grade.cpp rhymes_with_alligator.cpp Student_info.cpp -o rhymes_with_alligator.out  -lstdc++\n",
    "$ ./rhymes_with_alligator.out\n",
    "Karl 90 90 80 80 95 d\n",
    "Schmalligator 95 90 98 80 70 d\n",
    "Students whose last name rhymes with \"alligator\":\n",
    "\n",
    "Schmalligator 32\n",
    "Students whose last name does not rhyme with \"alligator\":\n",
    "\n",
    "Karl          32\n",
    "```"
   ]
  },
  {
   "cell_type": "markdown",
   "metadata": {},
   "source": [
    "**6-9.** Use a library algorithm to concatenate all the elements of a `vector<string>`."
   ]
  },
  {
   "cell_type": "code",
   "execution_count": 13,
   "metadata": {},
   "outputs": [
    {
     "data": {
      "text/plain": []
     },
     "execution_count": 13,
     "metadata": {},
     "output_type": "execute_result"
    }
   ],
   "source": [
    "#include <numeric>"
   ]
  },
  {
   "cell_type": "code",
   "execution_count": 14,
   "metadata": {},
   "outputs": [
    {
     "name": "stdout",
     "output_type": "stream",
     "text": [
      "AlligatorAlligatorAlligatorAlligatorAlligatorAlligatorAlligatorAlligatorAlligatorAlligator\n"
     ]
    },
    {
     "data": {
      "text/plain": [
       "(std::__1::basic_ostream &) @0x7fffc29da660\n"
      ]
     },
     "execution_count": 14,
     "metadata": {},
     "output_type": "execute_result"
    }
   ],
   "source": [
    "vector<string> vec(10, \"Alligator\");\n",
    "string a = std::accumulate(vec.begin(), vec.end(), string(\"\"));\n",
    "cout << a << endl;"
   ]
  }
 ],
 "metadata": {
  "kernelspec": {
   "display_name": "C++11",
   "language": "C++",
   "name": "cling-cpp11"
  },
  "language_info": {
   "codemirror_mode": "c++",
   "file_extension": ".c++",
   "mimetype": "text/x-c++src",
   "name": "c++"
  }
 },
 "nbformat": 4,
 "nbformat_minor": 2
}
