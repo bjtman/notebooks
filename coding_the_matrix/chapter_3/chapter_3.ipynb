{
 "cells": [
  {
   "cell_type": "markdown",
   "metadata": {},
   "source": [
    "## Chapter 3\n",
    "# The Vector Space"
   ]
  },
  {
   "cell_type": "markdown",
   "metadata": {},
   "source": [
    "**Exercise 3.2.15:** For each of the subproblems, you are to investigate whether the given vectors span $\\mathbb{R}^2$. If possible, write each of the standard generators for $\\mathbb{R}^2$ as a linear combination of the given vectors. If doing this is impossible for one of the subproblems, you should first add one additional vector and then do it.  \n",
    "\n",
    "1. `[1, 2]`, `[3, 4]`\n",
    "1. `[1, 1]`, `[2, 2]`, `[3, 3]`\n",
    "1. `[1, 1]`, `[1, -1]`, `[0, 1]`"
   ]
  },
  {
   "cell_type": "markdown",
   "metadata": {},
   "source": [
    "1)  \n",
    "$[1, 0] = -2[1, 2] + 1[3, 4]$  \n",
    "$[0, 1] = 1.5[1, 2] - 0.5[3, 4]$  \n",
    "2) It is not possible to express the standard generators for $\\mathbb{R}^2$ as a linear combination of these vectors.  We can add another vector, say $[0, 1]$. Then,  \n",
    "$[1, 0] = 1[1, 1] + 0[2, 2] + 0[3, 3] + -1[0, 1]$  \n",
    "$[0, 1] = 0[1, 1] + 0[2, 2] + 0[3, 3] +  1[0, 1]$  \n",
    "3)  \n",
    "$[1, 0] = 0.5[1, 1] + 0.5[1, -1] + 0[0, 1]$  \n",
    "$[0, 1] = 1[1, 1] - 1[1, -1] - 2[0, 1]$  \n"
   ]
  },
  {
   "cell_type": "markdown",
   "metadata": {},
   "source": [
    "**Exercise 3.2.16** You are given the vectors `[1, 1, 1]`, `[0.4, 1.3, -2.2]`. Add one additional vector and express each of the standard generators for $\\mathbb{R}^3$ as a linear combination of the three vectors."
   ]
  },
  {
   "cell_type": "markdown",
   "metadata": {},
   "source": [
    "Let the additional vector be [1, 0, 0].  Then the standard generators can be expressed as:  \n",
    "$[1, 0, 0] = 0[1, 1, 1] + 0[0.4, 1.3, -2.2] + 1[1, 0, 0]$  \n",
    "$[0, 1, 0] = \\frac{22}{35}[1, 1, 1] + \\frac{10}{35}[0.4, 1.3, -2.2] - \\frac{26}{35}[1, 0, 0]$  \n",
    "$[0, 0, 1] = \\frac{13}{35}[1, 1, 1] - \\frac{10}{35}[0.4, 1.3, -2.2] - \\frac{9}{35}[1, 0, 0]$  "
   ]
  },
  {
   "cell_type": "markdown",
   "metadata": {},
   "source": [
    "## 3.7 Review Questions"
   ]
  },
  {
   "cell_type": "markdown",
   "metadata": {},
   "source": [
    "**What is a linear combination?**"
   ]
  },
  {
   "cell_type": "markdown",
   "metadata": {},
   "source": [
    "A linear combination is the sum of a set of vectors each multiplied by a real coefficient.  \n",
    "\n",
    "For a set of vectors, $\\{\\boldsymbol{a_1} ... \\boldsymbol{a_n}\\}$ and a set of scalar coefficients $\\{\\beta_1 ... \\beta_n, \\beta_i\\}$,  \n",
    "$\\beta_1 \\boldsymbol{a_1} + \\beta_2 \\boldsymbol{a_2} + ... + \\beta_n \\boldsymbol{a_n}$"
   ]
  },
  {
   "cell_type": "markdown",
   "metadata": {},
   "source": [
    "**What are coefficients?**"
   ]
  },
  {
   "cell_type": "markdown",
   "metadata": {},
   "source": [
    "Coefficients are scalars that are each multiplied by a corresponding vector in a summation.  $\\beta_i$ are each coefficients in the above expression."
   ]
  },
  {
   "cell_type": "markdown",
   "metadata": {},
   "source": [
    "**What is the span of vectors?**"
   ]
  },
  {
   "cell_type": "markdown",
   "metadata": {},
   "source": [
    "The span of a set of vectors is the set of linear combinations of the given set.  \n",
    "\n",
    "$\\boldsymbol{span}\\{\\boldsymbol{v_1}, \\boldsymbol{v_2}, ... \\boldsymbol{v_n}\\} = \\{\\alpha_1 \\boldsymbol{v_1} + \\alpha_2 \\boldsymbol{v_2} + ... + \\alpha_n \\boldsymbol{v_n})\\}$, where $\\alpha_i$ is a scalar."
   ]
  },
  {
   "cell_type": "markdown",
   "metadata": {},
   "source": [
    "**What are standard generators?**"
   ]
  },
  {
   "cell_type": "markdown",
   "metadata": {},
   "source": [
    "The standard generators of a set of vectors are the minimal, most basic set of vectors such that their span is the span of the given set.  For any finite domain $D$ and field $\\mathbb{F}$, the standard generators for $\\mathbb{F}^D$ are defined as follows: For each $k \\in D$, $\\boldsymbol{e_k}$ is the function $\\{k: 1\\}$.  Then $\\boldsymbol{e_0}, ..., \\boldsymbol{e_k}$ are the standard generators."
   ]
  },
  {
   "cell_type": "markdown",
   "metadata": {},
   "source": [
    "**What are examples of flats?**"
   ]
  },
  {
   "cell_type": "markdown",
   "metadata": {},
   "source": [
    "Some examples of flats are:  \n",
    "* The line through the points $[0, 0]$ and $[1, 1]$ in $\\mathbb{R}^2$\n",
    "* The plane through the points $[0, 0, 0]$, $[1, 2, 3]$ and $[4, 3, 8]$ in $\\mathbb{R}^3$\n",
    "* $\\boldsymbol{span}\\{[1, 2], [2.5, -2]\\}$\n",
    "* The solution set to any homogeneous linear system.\n",
    "* The point $[1, 2]$\n",
    "* All of $\\mathbb{R}^3$"
   ]
  },
  {
   "cell_type": "markdown",
   "metadata": {},
   "source": [
    "**What is a homogeneous linear equation?**"
   ]
  },
  {
   "cell_type": "markdown",
   "metadata": {},
   "source": [
    "A homogeneous linear equation is a linear equation with the form  \n",
    "$\\boldsymbol{a} \\cdot \\boldsymbol{x} + \\beta = 0$  \n",
    "\n",
    "That is, a linear equation with $0$ on the right-hand side."
   ]
  },
  {
   "cell_type": "markdown",
   "metadata": {},
   "source": [
    "**What is a homogeneous linear system?**"
   ]
  },
  {
   "cell_type": "markdown",
   "metadata": {},
   "source": [
    "A homogeneous linear system is a set of homogeneous linear equations with at least one common solution vector $\\boldsymbol{\\hat{x}}$."
   ]
  },
  {
   "cell_type": "markdown",
   "metadata": {},
   "source": [
    "**What are the two kinds of representations of flats containing the origin?**"
   ]
  },
  {
   "cell_type": "markdown",
   "metadata": {},
   "source": [
    "All flats containing the origin can be represented either by a span of a set of vectors, or as the solution to a homogeneous linear system."
   ]
  },
  {
   "cell_type": "markdown",
   "metadata": {},
   "source": [
    "**What is a vector space?**"
   ]
  },
  {
   "cell_type": "markdown",
   "metadata": {},
   "source": [
    "A vector space $V$ is a set of vectors satisfying the following conditions:  \n",
    "\n",
    "* It contains the zero-vector.\n",
    "* It is closed under scalar-vector multiplication (if $\\boldsymbol{v} \\in V$, then $\\alpha \\boldsymbol{v} \\in V$ for all scalars $\\alpha$)\n",
    "* It is closed under vector addition (if $\\{\\boldsymbol{u}, \\boldsymbol{v}\\} \\in V$, then $\\{\\boldsymbol{u} + \\boldsymbol{v}\\} \\in V$)"
   ]
  },
  {
   "cell_type": "markdown",
   "metadata": {},
   "source": [
    "**What is a subspace?**"
   ]
  },
  {
   "cell_type": "markdown",
   "metadata": {},
   "source": [
    "The subspace of a vector space $V$ is another vector space which contains no vectors not in $V$."
   ]
  },
  {
   "cell_type": "markdown",
   "metadata": {},
   "source": [
    "**What is an affine combination?**"
   ]
  },
  {
   "cell_type": "markdown",
   "metadata": {},
   "source": [
    "An affine combination is a linear combination whose coefficents sum to 1."
   ]
  },
  {
   "cell_type": "markdown",
   "metadata": {},
   "source": [
    "**What is the affine hull of vectors?**"
   ]
  },
  {
   "cell_type": "markdown",
   "metadata": {},
   "source": [
    "The affine hull of a set of vectors $V$ is the set of all affine combinations of $V$."
   ]
  },
  {
   "cell_type": "markdown",
   "metadata": {},
   "source": [
    "**What is an affine space?**"
   ]
  },
  {
   "cell_type": "markdown",
   "metadata": {},
   "source": [
    "An affine space is the translation of a vector space. That is, it is set of vectors that can be expressed as $\\boldsymbol{u} + V$, where $V$ is a vector space."
   ]
  },
  {
   "cell_type": "markdown",
   "metadata": {},
   "source": [
    "**What are the two kinds of representations of flats not containing the origin?**"
   ]
  },
  {
   "cell_type": "markdown",
   "metadata": {},
   "source": [
    "The two kinds of representations of flats not containing the origin are:\n",
    "* The translation of a span of some vectors, (an affine space) and\n",
    "* The set of solutions to a linear system."
   ]
  },
  {
   "cell_type": "markdown",
   "metadata": {},
   "source": [
    "**Is the solution set of a linear system always an affine space?**"
   ]
  },
  {
   "cell_type": "markdown",
   "metadata": {},
   "source": [
    "Yes! (If the solution set is not empty.)  \n",
    "\n",
    "This is because the solution set for a homogeneous linear system is a vector space $V$, and the solution set for any linear system can be expressed as $\\{\\boldsymbol{u_1} + \\boldsymbol{v}, \\boldsymbol{v} \\in V\\}$, where $\\boldsymbol{u_1}$ is any solution for the linear system."
   ]
  },
  {
   "cell_type": "markdown",
   "metadata": {},
   "source": [
    "## 2.8 Problems"
   ]
  },
  {
   "cell_type": "markdown",
   "metadata": {},
   "source": [
    "### Vec review"
   ]
  },
  {
   "cell_type": "markdown",
   "metadata": {},
   "source": [
    "**Problem 3.8.1:**  \n",
    "\n",
    "1) Write and test a procedure `vec_select` using a comprehension for the following computational problem:\n",
    "* _input:_ a list `veclist` of vectors over the same domain, and an element $k$ of the domain\n",
    "* _output:_ the sublist of `veclist` consisting of the vectors `v` in `veclist` where `v[k]` is zero\n",
    "\n",
    "2) Write and test a procedure `vec_sum` using the built-in procedure `sum(.)` for the following:\n",
    "* _input:_ a list `veclist` of vectors, and a set `D` that is the common domain of these vectors\n",
    "* _output:_ the vector sum of the vectors in `veclist`.  \n",
    "\n",
    "Your procecure must work even if `veclist` has length `0`.  \n",
    "\n",
    "3) Put your procedures together to obtain a procedure `vec_select_sum` for the following:\n",
    "* _input:_ a set `D`, a list `veclist` of vectors with domain `D`, and an element $k$ of the domain\n",
    "* _output:_ the sum of all vectors `v` in `veclist` where `v[k]` is zero"
   ]
  },
  {
   "cell_type": "code",
   "execution_count": 1,
   "metadata": {},
   "outputs": [
    {
     "data": {
      "text/plain": [
       "[Vec({0, 1, 2, 3, 4, 5, 6, 7, 8, 9},{0: 0, 1: 1, 2: 2, 3: 3, 4: 4, 5: 5, 6: 6, 7: 7, 8: 8, 9: 9}),\n",
       " Vec({0, 1, 2},{0: 0, 1: 1, 2: 0})]"
      ]
     },
     "execution_count": 1,
     "metadata": {},
     "output_type": "execute_result"
    }
   ],
   "source": [
    "import sys\n",
    "sys.path.append('../')\n",
    "\n",
    "from vec import Vec\n",
    "from vecutil import list2vec\n",
    "\n",
    "def vec_select(veclist, k):\n",
    "    return [v for v in veclist if v[k] == 0]\n",
    "\n",
    "veclist = [list2vec(list(range(10))), list2vec([1, 0, 1]), list2vec([0, 1, 0])]\n",
    "vec_select(veclist, 0)"
   ]
  },
  {
   "cell_type": "code",
   "execution_count": 2,
   "metadata": {},
   "outputs": [
    {
     "data": {
      "text/plain": [
       "[Vec({0, 1, 2},{0: 1, 1: 0, 2: 1})]"
      ]
     },
     "execution_count": 2,
     "metadata": {},
     "output_type": "execute_result"
    }
   ],
   "source": [
    "vec_select(veclist, 1)"
   ]
  },
  {
   "cell_type": "code",
   "execution_count": 3,
   "metadata": {},
   "outputs": [
    {
     "data": {
      "text/plain": [
       "[Vec({0, 1, 2},{0: 0, 1: 1, 2: 0})]"
      ]
     },
     "execution_count": 3,
     "metadata": {},
     "output_type": "execute_result"
    }
   ],
   "source": [
    "vec_select(veclist, 2)"
   ]
  },
  {
   "cell_type": "code",
   "execution_count": 4,
   "metadata": {},
   "outputs": [
    {
     "data": {
      "text/plain": [
       "Vec({0, 1, 2, 3, 4, 5, 6, 7, 8, 9},{0: 1, 1: 2, 2: 3, 3: 3, 4: 4, 5: 5, 6: 6, 7: 7, 8: 8, 9: 9})"
      ]
     },
     "execution_count": 4,
     "metadata": {},
     "output_type": "execute_result"
    }
   ],
   "source": [
    "def vec_sum(veclist, D):\n",
    "    return sum([Vec(D, v.f) for v in veclist])\n",
    "\n",
    "vec_sum(veclist, veclist[0].D)"
   ]
  },
  {
   "cell_type": "code",
   "execution_count": 5,
   "metadata": {},
   "outputs": [
    {
     "data": {
      "text/plain": [
       "0"
      ]
     },
     "execution_count": 5,
     "metadata": {},
     "output_type": "execute_result"
    }
   ],
   "source": [
    "vec_sum({}, {})"
   ]
  },
  {
   "cell_type": "code",
   "execution_count": 6,
   "metadata": {},
   "outputs": [],
   "source": [
    "def vec_select_sum(veclist, D, k):\n",
    "    return vec_sum(vec_select(veclist, k), D)"
   ]
  },
  {
   "cell_type": "code",
   "execution_count": 7,
   "metadata": {},
   "outputs": [
    {
     "data": {
      "text/plain": [
       "Vec({0, 1, 2, 3, 4, 5, 6, 7, 8, 9},{0: 0, 1: 2, 2: 2, 3: 3, 4: 4, 5: 5, 6: 6, 7: 7, 8: 8, 9: 9})"
      ]
     },
     "execution_count": 7,
     "metadata": {},
     "output_type": "execute_result"
    }
   ],
   "source": [
    "vec_select_sum(veclist, veclist[0].D, 0)"
   ]
  },
  {
   "cell_type": "markdown",
   "metadata": {},
   "source": [
    "**Problem 3.8.2:** Write and test a procedure `scale_vecs(vecdict)` for the following:  \n",
    "* _input:_ A dictionary `vecdict` mapping positive numbers to vectors (instances of `Vec`)\n",
    "* _output:_ A list of vectors, one for each item in `vecdict`. If `vecdict` contains a key $k$ mapping to a vector $\\boldsymbol{v}$, the output should contain the vector $(1/k)\\boldsymbol{v}$"
   ]
  },
  {
   "cell_type": "code",
   "execution_count": 8,
   "metadata": {},
   "outputs": [],
   "source": [
    "from vecutil import zero_vec\n",
    "\n",
    "def scale_vecs(vecdict):\n",
    "    return [zero_vec(v.D) if k == 0 else (1/k) * v for k, v in vecdict.items()]"
   ]
  },
  {
   "cell_type": "code",
   "execution_count": 9,
   "metadata": {},
   "outputs": [
    {
     "data": {
      "text/plain": [
       "[Vec({0, 1, 2, 3, 4, 5, 6, 7, 8, 9},{0: 0.0, 1: 0.5, 2: 1.0, 3: 1.5, 4: 2.0, 5: 2.5, 6: 3.0, 7: 3.5, 8: 4.0, 9: 4.5}),\n",
       " Vec({0, 1, 2},{0: 0.3333333333333333, 1: 0.0, 2: 0.3333333333333333}),\n",
       " Vec({0, 1, 2},{0: 0.0, 1: 0.25, 2: 0.0})]"
      ]
     },
     "execution_count": 9,
     "metadata": {},
     "output_type": "execute_result"
    }
   ],
   "source": [
    "scale_vecs({i + 2: v for i, v in enumerate(veclist)})"
   ]
  },
  {
   "cell_type": "markdown",
   "metadata": {},
   "source": [
    "### Linear combinations"
   ]
  },
  {
   "cell_type": "markdown",
   "metadata": {},
   "source": [
    "### Constructing the span of given vectors over $GF(2)$"
   ]
  },
  {
   "cell_type": "markdown",
   "metadata": {},
   "source": [
    "**Problem 3.8.3:** Write a procedure `GF2_span` with the following spec:  \n",
    "* _input:_ a set $D$ of labels and a list $L$ of vectors over $GF(2)$ with a label-set $D$\n",
    "* _output:_ the list of all linear combinations of the vectors in $L$"
   ]
  },
  {
   "cell_type": "code",
   "execution_count": 10,
   "metadata": {},
   "outputs": [],
   "source": [
    "from GF2 import zero, one\n",
    "import itertools\n",
    "\n",
    "def GF2_span(L, D):\n",
    "    # [(zero, zero, ... , zero, zero),\n",
    "    #  (zero, zero, ... , zero, one),\n",
    "    #  (zero, zero, ... , one, zero),\n",
    "    # ...\n",
    "    #  (one, one, ... , one, one)]\n",
    "    if not L:\n",
    "        return zero_vec(D)\n",
    "    coefficient_combinations = list(itertools.product([zero, one], repeat=len(L)))\n",
    "    return [sum(coefficient * l for coefficient, l in zip(coefficient_combination, L)) for coefficient_combination in coefficient_combinations]"
   ]
  },
  {
   "cell_type": "code",
   "execution_count": 11,
   "metadata": {},
   "outputs": [
    {
     "data": {
      "text/plain": [
       "[Vec({0, 1, 2},{0: 0, 1: 0, 2: 0}), Vec({0, 1, 2},{0: one, 1: one, 2: 0})]"
      ]
     },
     "execution_count": 11,
     "metadata": {},
     "output_type": "execute_result"
    }
   ],
   "source": [
    "GF2_span([list2vec([one, one, zero])], [0, 1, 2])"
   ]
  },
  {
   "cell_type": "code",
   "execution_count": 12,
   "metadata": {},
   "outputs": [
    {
     "data": {
      "text/plain": [
       "[Vec({0, 1, 2},{0: 0, 1: 0, 2: 0}),\n",
       " Vec({0, 1, 2},{0: one, 1: one, 2: one}),\n",
       " Vec({0, 1, 2},{0: one, 1: one, 2: 0}),\n",
       " Vec({0, 1, 2},{0: 0, 1: 0, 2: one})]"
      ]
     },
     "execution_count": 12,
     "metadata": {},
     "output_type": "execute_result"
    }
   ],
   "source": [
    "GF2_span([list2vec([one, one, zero]), list2vec([one, one, one])], [0, 1, 2])"
   ]
  },
  {
   "cell_type": "code",
   "execution_count": 13,
   "metadata": {},
   "outputs": [
    {
     "data": {
      "text/plain": [
       "Vec({0, 1, 2},{})"
      ]
     },
     "execution_count": 13,
     "metadata": {},
     "output_type": "execute_result"
    }
   ],
   "source": [
    "GF2_span([], {0, 1, 2})"
   ]
  },
  {
   "cell_type": "markdown",
   "metadata": {},
   "source": [
    "**Problem 3.8.4:** Let $a, b$ be real numbers. Consider the equation $z = ax + by$. Prove that there are two 3-vectors $\\boldsymbol{v_1}, \\boldsymbol{v_2}$ such that the set of points $[x, y, z]$ satisfying the equation is exactly the set of linear combinations of $\\boldsymbol{v_1}$ and $\\boldsymbol{v_2}$. (Hint: Specify the vectors using formulas involving $a, b$.)"
   ]
  },
  {
   "cell_type": "markdown",
   "metadata": {},
   "source": [
    "Let's start by finding two linearly independent solutions to $ax + by = z$:  \n",
    "\n",
    "$1a + 0b = a$  \n",
    "$0a + 1b = b$  \n",
    "\n",
    "Thus, $[1, 0, a]$ and $[0, 1, b]$ are solutions.  \n",
    "Now, we will show that if $ax + by = z$, then there exists $\\delta, \\gamma \\in \\mathbb{R}$ such that $[x, y, z] = \\delta [1, 0, a] + \\gamma [0, 1, b] = [\\delta, \\gamma, \\delta a + \\gamma b]$:  \n",
    "\n",
    "If $ax + by = z$, then we can use basic algebra to find expressions for $x$, $y$ and $z$:  \n",
    "$x = \\frac{z - by}{a}, y = \\frac{z - ax}{b}, z = ax + by$  \n",
    "\n",
    "If we let $\\delta = x = \\frac{z - by}{a}$ and $\\gamma = y = \\frac{z - ax}{b}$, then  \n",
    "$z = \\delta a + \\gamma b = (\\frac{z - by}{a}) a + (\\frac{z - ax}{b}) b = z - by + z - ax\\\\\n",
    "=> z = ax + by$  \n",
    "QED"
   ]
  },
  {
   "cell_type": "markdown",
   "metadata": {},
   "source": [
    "**Problem 3.8.5:** Let $a, b, c$ be real numbers. Consider the equation $z = ax + by + c$. Prove that there are three 3-vectors $\\boldsymbol{v_0}, \\boldsymbol{v_1}, \\boldsymbol{v_2}$ such that the set of points $[x, y, z]$ satisfying the equation is exactly  \n",
    "$\\{\\boldsymbol{v_0} + \\alpha_1 \\boldsymbol{v_1} + \\alpha_2 \\boldsymbol{v_2} : \\alpha_1, \\alpha_2 \\in \\mathbb{R}\\}$  \n",
    "(Hint: Specify the vectors using formulas involving $a, b, c$.)"
   ]
  },
  {
   "cell_type": "markdown",
   "metadata": {},
   "source": [
    "Similar to **3.8.4**, let's start by finding two linearly independent solutions to $ax + by + c= z$:  \n",
    "\n",
    "$1a + 0b + c = a + c$  \n",
    "$0a + 1b + c = b + c$  \n",
    "$0a + 0b + c = c$  \n",
    "Thus, $[1, 0, a + c], [0, 1, b + c]$ and $[0, 0, c]$ are solutions.  \n",
    "\n",
    "We will use the same method as above to prove the claim explicitly, but note that another approach involves noticing that if we set $a = -1, b = -1$ and $c = 1$, then the above solutions are also the standard generators for $\\mathbb{R}^3$! Thus the span of these vectors is also $\\mathbb{R}^3$.\n",
    "\n",
    "Let $\\boldsymbol{v_1} = [1, 0, a + c], \\boldsymbol{v_2} = [0, 1, b + c]$, and $\\boldsymbol{v_0} = [0, 0, c]$  \n",
    "\n",
    "Now, we will show that if $ax + by + c = z$, then there exists $\\alpha_1, \\alpha_2 \\in \\mathbb{R}$ such that $[x, y, z] = [0, 0, c] + \\alpha_1 [1, 0, a + c] + \\alpha_2 [0, 1, b + c] = [\\alpha_1, \\alpha_2, \\alpha_1(a + c) + \\alpha_2(b + c)]$:  \n",
    "\n",
    "If $ax + by + c = z$, then we can use basic algebra to find expressions for $x$, $y$ and $z$:  \n",
    "$x = \\frac{z - by - c}{a}, y = \\frac{z - ax - c}{b}, z = ax + by + c$  \n",
    "\n",
    "If we let $\\alpha_0 = c(2 - x - y)$, $\\alpha_1 = x = \\frac{z - by - c}{a}$ and $\\alpha_2 = y = \\frac{z - ax - c}{b}$, then  \n",
    "$z = \\alpha_1 a + \\alpha_2 b + \\alpha_0 = (\\frac{z - by - c}{a}) a + (\\frac{z - ax - c}{b}) b + c(2 - x - y) = 2z - by -ax - 2c + c(2 - x - y) \\\\\n",
    "=> z = ax + by + 2c - 2c + cx + cy = (a + c)x + (b + c)y$  \n",
    "QED"
   ]
  },
  {
   "cell_type": "markdown",
   "metadata": {},
   "source": [
    "### Sets of linear combinations and geometry"
   ]
  },
  {
   "cell_type": "markdown",
   "metadata": {},
   "source": [
    "**Problem 3.8.6:** Express the line segment in Figure 3.1(a) using a set of linear combinations. Do the same for the plane containing the triangle in Figure 3.1(b)."
   ]
  },
  {
   "cell_type": "markdown",
   "metadata": {},
   "source": [
    "3.1(a): $\\{\\alpha [1, 3], \\alpha \\in \\mathbb{R}, 0 \\leq \\alpha \\leq 1 \\}$  \n",
    "3.1(b): $\\{\\alpha [2, 2, 2], \\alpha \\in \\mathbb{R}, 0 \\leq \\alpha \\leq 1 \\}$  "
   ]
  },
  {
   "cell_type": "markdown",
   "metadata": {},
   "source": [
    "## Vector spaces"
   ]
  },
  {
   "cell_type": "markdown",
   "metadata": {},
   "source": [
    "**Problem 3.8.7:** Prove or give a counterexample: $\\{[x, y, z] : x, y, z \\in \\mathbb{R}, x + y + z = 1\\}$ is a vector space."
   ]
  },
  {
   "cell_type": "markdown",
   "metadata": {},
   "source": [
    "This is _not_ a vector space.  As a counterexample, take the vector $\\boldsymbol{v} = [1, 0, 0]$.  Since $1 + 0 + 0 = 1$ and $1, 0, 0 \\in \\mathbb{R}$, it is a member of the set.  However, the vector $\\boldsymbol{v_2} = 2\\boldsymbol{v} = [2, 0, 0]$ is _not_ in the set, since $2 + 0 + 0 = 2 \\neq 1$. QED"
   ]
  },
  {
   "cell_type": "markdown",
   "metadata": {},
   "source": [
    "**Problem 3.8.8:** Prove or give a counterexample:  $\\{[x, y, z] : x, y, z \\in \\mathbb{R}$ and $x + y + z = 0\\}$ is a vector space."
   ]
  },
  {
   "cell_type": "markdown",
   "metadata": {},
   "source": [
    "This _is_ a vector space.  \n",
    "\n",
    "The vector contains the zero vector, since $0, 0, 0 \\in \\mathbb{R}$ and $0 + 0 + 0 = 0$.  \n",
    "\n",
    "The set is closed under scalar multiplication, since if $x + y + z = 0$, then $\\alpha(x + y + z) = 0, \\forall{\\alpha} \\in \\mathbb{R}$.  \n",
    "\n",
    "The set is closed under vector addition, since for all $\\boldsymbol{u}, \\boldsymbol{v}$ in the set, $u_1 + u_2 + u_3 = 0$ and $v_1 + v_2 + v_3 = 0$, and thus $u_1 + u_2 + u_3 + v_1 + v_2 + v_3 = 0$"
   ]
  },
  {
   "cell_type": "markdown",
   "metadata": {},
   "source": [
    "**Problem 3.8.9:** Prove or give a counterexample:  $\\{[x_1, x_2, x_3, x_4, x_5] : x_1, x_2, x_3, x_4, x_5 \\in \\mathbb{R}, x_2 = 0$ or $x_5 = 0\\}$ is a vector space."
   ]
  },
  {
   "cell_type": "markdown",
   "metadata": {},
   "source": [
    "This is _not_ a vector space.  As a counterexample, consider the vectors $\\boldsymbol{u} = [1, 0, 1, 1, 1]$ and $\\boldsymbol{v} = [1, 1, 1, 1, 0]$.  Then $\\boldsymbol{u}$ and $\\boldsymbol{v}$ are both in the set, but $\\boldsymbol{u} + \\boldsymbol{v} = [2, 1, 2, 2, 1]$  is not in the set, since $x_2 = 1 \\neq 0$ and $x_5 = 1 \\neq 0$."
   ]
  },
  {
   "cell_type": "markdown",
   "metadata": {},
   "source": [
    "**Problem 3.8.10: Explain your answers.**  \n",
    "\n",
    "1. Let $V$ be the set of 5-vectors over $GF(2)$ that have an even number of 1's. Is $V$ a vector space?\n",
    "2. Let $V$ be the set of 5-vectors over $GF(2)$ that have an odd number of 1's. Is $V$ a vector space?"
   ]
  },
  {
   "cell_type": "markdown",
   "metadata": {},
   "source": [
    "1) This _is_ a vector space.  \n",
    "\n",
    "It contains the zero vector, $[0,0,0,0,0]$, since it contains zero 1's and hence has an even number of 1's.  \n",
    "It is closed under scalar multiplication, since $\\forall{\\boldsymbol{v} \\in GF(2)}, 1\\boldsymbol{v} = \\boldsymbol{v}$, and $0\\boldsymbol{v} = [0,0,0,0,0]$, which contains an even number of 1's (zero 1's again).  \n",
    "It is closed under vector addition, to see why, consider two vectors, $\\boldsymbol{v}$ and $\\boldsymbol{u}$ in the set. If they have $n$ and $m$ 1's respectively (where $n$ and $m$ are by definition even), there are two cases: the 1 positions do not overlap, or they do overlap.  \n",
    "\n",
    "In the first case, where the 1 positions _do not_ overlap, the resulting vector will have $n + m = p$ 1's, where $p$ must also be even.  \n",
    "\n",
    "In the second case, where some 1 positions _do_ overlap, say $o \\leq min(n, m)$ positions overlap.  Then the resulting vector will have 0's in those $o$ overlapping positions. If $o$ is even, then we clearly still have an even number of 1's.  If $o$ is odd, then since $n$ and $m$ are even, and since not all of either vector can be 1's (since 5 1's is not an even number), there must also be an odd number of _non_-overlapping 1's resulting from the addition.  Thus, the total result will still be an even number of 1's."
   ]
  },
  {
   "cell_type": "markdown",
   "metadata": {},
   "source": [
    "2) This _is not_ a vector space.  \n",
    "\n",
    "No set over $GF(2)$ with an odd number of 1's is closed under scalar multiplication, since $\\forall{\\boldsymbol{v} \\in GF(2)}, 0\\boldsymbol{v} = [0,0,0,0,0]$, which has an _even_ number of 1's (no 1's)."
   ]
  },
  {
   "cell_type": "code",
   "execution_count": null,
   "metadata": {},
   "outputs": [],
   "source": []
  }
 ],
 "metadata": {
  "kernelspec": {
   "display_name": "Python 3",
   "language": "python",
   "name": "python3"
  },
  "language_info": {
   "codemirror_mode": {
    "name": "ipython",
    "version": 3
   },
   "file_extension": ".py",
   "mimetype": "text/x-python",
   "name": "python",
   "nbconvert_exporter": "python",
   "pygments_lexer": "ipython3",
   "version": "3.6.4"
  }
 },
 "nbformat": 4,
 "nbformat_minor": 2
}
