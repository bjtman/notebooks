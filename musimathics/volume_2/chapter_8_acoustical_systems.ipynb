{
 "cells": [
  {
   "cell_type": "markdown",
   "metadata": {},
   "source": [
    "## Chapter 8\n",
    "# Acoustical Systems"
   ]
  },
  {
   "cell_type": "markdown",
   "metadata": {},
   "source": [
    "Nothing to see here! This chapter focuses on the physical properties of acoustic media and coupled acoustical systems. Nothing jumped out at me in terms of exploratory visualization or audio generation.  I am taking it as prerequisite material for the development of physical models of musical instruments.\n",
    "\n",
    "I look forward to diving into much more detail and practical applications in the near future with [Julius Smith's _Physical Audio Signal Processing_](https://www.amazon.com/Physical-Audio-Signal-Processing-Instruments/dp/0974560723/ref=sr_1_1?ie=UTF8&qid=1525198117&sr=8-1&keywords=physical+audio+signal+processing)."
   ]
  },
  {
   "cell_type": "code",
   "execution_count": null,
   "metadata": {},
   "outputs": [],
   "source": []
  }
 ],
 "metadata": {
  "kernelspec": {
   "display_name": "Python 3",
   "language": "python",
   "name": "python3"
  },
  "language_info": {
   "codemirror_mode": {
    "name": "ipython",
    "version": 3
   },
   "file_extension": ".py",
   "mimetype": "text/x-python",
   "name": "python",
   "nbconvert_exporter": "python",
   "pygments_lexer": "ipython3",
   "version": "3.6.4"
  }
 },
 "nbformat": 4,
 "nbformat_minor": 2
}
