{
 "cells": [
  {
   "cell_type": "markdown",
   "metadata": {},
   "source": [
    "# Chapter 0\n",
    "## Getting started"
   ]
  },
  {
   "cell_type": "code",
   "execution_count": 1,
   "metadata": {},
   "outputs": [
    {
     "data": {
      "text/plain": []
     },
     "execution_count": 1,
     "metadata": {},
     "output_type": "execute_result"
    }
   ],
   "source": [
    "// a small C++ program\n",
    "#include <iostream>\n",
    "\n",
    "int main() {\n",
    "    std::cout << \"Hello, world!\" << std::endl;\n",
    "    return 0;\n",
    "}"
   ]
  },
  {
   "cell_type": "code",
   "execution_count": 2,
   "metadata": {},
   "outputs": [
    {
     "name": "stdout",
     "output_type": "stream",
     "text": [
      "Hello, world!\n"
     ]
    },
    {
     "data": {
      "text/plain": [
       "(int) 0\n"
      ]
     },
     "execution_count": 2,
     "metadata": {},
     "output_type": "execute_result"
    }
   ],
   "source": [
    "main()"
   ]
  },
  {
   "cell_type": "markdown",
   "metadata": {},
   "source": [
    "## Exercises"
   ]
  },
  {
   "cell_type": "markdown",
   "metadata": {},
   "source": [
    "**0-0.** Compile and run the `Hello, world!` program."
   ]
  },
  {
   "cell_type": "markdown",
   "metadata": {},
   "source": [
    "(done above)"
   ]
  },
  {
   "cell_type": "markdown",
   "metadata": {},
   "source": [
    "**0-1.** What does the following statement do?\n",
    "\n",
    "`3 + 4;`"
   ]
  },
  {
   "cell_type": "markdown",
   "metadata": {},
   "source": [
    "This statement evaluates an expression containing the binary operator `+`, adding the two operands `3` and `4`, both of the core language type, `int`.  The semicolon result is a side effect and is discarded."
   ]
  },
  {
   "cell_type": "markdown",
   "metadata": {},
   "source": [
    "**0-2.** Write a program that, when run, writes\n",
    "\n",
    "`This (\") is a quote, and this(\\) is a backslash.`"
   ]
  },
  {
   "cell_type": "code",
   "execution_count": 3,
   "metadata": {},
   "outputs": [
    {
     "name": "stdout",
     "output_type": "stream",
     "text": [
      "This (\") is a quote, and this(\\) is a backslash.\n"
     ]
    },
    {
     "data": {
      "text/plain": [
       "(std::__1::basic_ostream &) @0x7fffaf973660\n"
      ]
     },
     "execution_count": 3,
     "metadata": {},
     "output_type": "execute_result"
    }
   ],
   "source": [
    "// omitting boilerplate\n",
    "std::cout << \"This (\\\") is a quote, and this(\\\\) is a backslash.\" << std::endl;"
   ]
  },
  {
   "cell_type": "markdown",
   "metadata": {},
   "source": [
    "**0-3.** The string literal `\"\\t\"` represents a tab character; different C++ implementations diplay tabs in different ways. Experiment with your implementation to learn how it treats tabs"
   ]
  },
  {
   "cell_type": "code",
   "execution_count": 4,
   "metadata": {},
   "outputs": [
    {
     "data": {
      "text/plain": [
       "(const char [2]) \"\t\"\n"
      ]
     },
     "execution_count": 4,
     "metadata": {},
     "output_type": "execute_result"
    }
   ],
   "source": [
    "\"\\t\""
   ]
  },
  {
   "cell_type": "code",
   "execution_count": 5,
   "metadata": {},
   "outputs": [
    {
     "data": {
      "text/plain": [
       "(const char [12]) \"hello\tthere\"\n"
      ]
     },
     "execution_count": 5,
     "metadata": {},
     "output_type": "execute_result"
    }
   ],
   "source": [
    "\"hello\\tthere\""
   ]
  },
  {
   "cell_type": "markdown",
   "metadata": {},
   "source": [
    "**0-4.** Write a program that, when run, writes the `Hello, world!` program as its output."
   ]
  },
  {
   "cell_type": "code",
   "execution_count": 6,
   "metadata": {},
   "outputs": [
    {
     "name": "stdout",
     "output_type": "stream",
     "text": [
      "// a small C++ program\n",
      "#include <iostream>\n",
      "\n",
      "int main() {\n",
      "    std::cout << \"Hello, world!\" << std::endl;\n",
      "    return 0;\n",
      "}\n"
     ]
    },
    {
     "data": {
      "text/plain": [
       "(int) 0\n"
      ]
     },
     "execution_count": 6,
     "metadata": {},
     "output_type": "execute_result"
    }
   ],
   "source": [
    "#include <iostream>\n",
    "\n",
    "int main2() {\n",
    "    std::cout << \"// a small C++ program\" << std::endl;\n",
    "    std::cout << \"#include <iostream>\" << std::endl;\n",
    "    std::cout << std::endl;\n",
    "    std::cout << \"int main() {\" << std::endl;\n",
    "    std::cout << \"    std::cout << \\\"Hello, world!\\\" << std::endl;\" << std::endl;\n",
    "    std::cout << \"    return 0;\" << std::endl;\n",
    "    std::cout << \"}\" << std::endl;\n",
    "\n",
    "    return 0;\n",
    "}\n",
    "\n",
    "main2()"
   ]
  },
  {
   "cell_type": "markdown",
   "metadata": {},
   "source": [
    "**0-5.** Is this a valid program? Why or why not?\n",
    "\n",
    "```\n",
    "#include <iostream>\n",
    "int main() std::cout << \"Hello, world!\" << std::endl;\n",
    "```"
   ]
  },
  {
   "cell_type": "markdown",
   "metadata": {},
   "source": [
    "No, this is not a valid program.  Although braces are optional around blocks with a single-line statement, they are mandatory for method bodies."
   ]
  },
  {
   "cell_type": "markdown",
   "metadata": {},
   "source": [
    "**0-6.** Is this a valid program? Why or why not?\n",
    "\n",
    "```\n",
    "#include <iostream>\n",
    "int main()    {{{{{{ std::cout << \"Hello, world!\" << std::endl; }}}}}}\n",
    "```"
   ]
  },
  {
   "cell_type": "markdown",
   "metadata": {},
   "source": [
    "You betcha! There are a matching number of braces on either side of the method body.  An arbitrary number of matching braces are allowed around any statement or set of statements, and are simply thrown away!"
   ]
  },
  {
   "cell_type": "markdown",
   "metadata": {},
   "source": [
    "**0-7.** What about this one?\n",
    "\n",
    "```\n",
    "#include <iostream>\n",
    "int main() {\n",
    "    /* This is a comment that extends over several lines\n",
    "       because it uses /* and */ as its starting and ending delimiters */\n",
    "    std::cout << \"Does this work?\" << std::endl;\n",
    "    return 0;\n",
    "}\n",
    "```"
   ]
  },
  {
   "cell_type": "markdown",
   "metadata": {},
   "source": [
    "No, this is not a valid program.  Block comments begin with `/*` and end with the first subsequent `*/`, which in this case happens after `\"and\"` in `\"and */ as its ...\"`.  Thus, C++ will attempt to parse each of the following words, such as `\"as\"`, `\"its\"`, `\"starting\"`, etc. as keywords, and will fail since they are not valid C++ keywords (nor do they form a valid expression or statement!)"
   ]
  },
  {
   "cell_type": "markdown",
   "metadata": {},
   "source": [
    "**0-8.** ... and this one?\n",
    "\n",
    "```\n",
    "#include <iostream>\n",
    "int main() {\n",
    "    // This is a comment that extends over several lines\n",
    "    // by using // at the beginning of each line instead of using /*\n",
    "    // or */ to delimit comments.\n",
    "    std::cout << \"Does this work?\" << std::endl;\n",
    "    return 0;\n",
    "}\n",
    "```"
   ]
  },
  {
   "cell_type": "markdown",
   "metadata": {},
   "source": [
    "Yes, this is a valid program.  All characters on the same line after a `//` are ignored by the parser.  This includes the `\"/*\"` and `\"*/\"` strings."
   ]
  },
  {
   "cell_type": "markdown",
   "metadata": {},
   "source": [
    "**0-9.** What is the shortest valid program?"
   ]
  },
  {
   "cell_type": "markdown",
   "metadata": {},
   "source": [
    "`int main() {}`\n",
    "\n",
    "Note that the `main` function is the only one who can declare a non-void return type without containing a `return` statement."
   ]
  },
  {
   "cell_type": "markdown",
   "metadata": {},
   "source": [
    "**0-10.** Rewrite the `Hello, world!` program so that a newline occurs everywhere that whitespace is allowed in the program."
   ]
  },
  {
   "cell_type": "code",
   "execution_count": 10,
   "metadata": {},
   "outputs": [
    {
     "data": {
      "text/plain": []
     },
     "execution_count": 10,
     "metadata": {},
     "output_type": "execute_result"
    }
   ],
   "source": [
    "// a small C++ program\n",
    "\n",
    "#include <iostream>\n",
    "\n",
    "int\n",
    "newlineMain\n",
    "()\n",
    "{\n",
    "std\n",
    "::\n",
    "cout\n",
    "<<\n",
    "\"Hello, world!\"\n",
    "<<\n",
    "std\n",
    "::\n",
    "endl\n",
    ";\n",
    "return\n",
    "0\n",
    ";\n",
    "}\n"
   ]
  },
  {
   "cell_type": "code",
   "execution_count": 11,
   "metadata": {},
   "outputs": [
    {
     "name": "stdout",
     "output_type": "stream",
     "text": [
      "Hello, world!\n"
     ]
    },
    {
     "data": {
      "text/plain": [
       "(int) 0\n"
      ]
     },
     "execution_count": 11,
     "metadata": {},
     "output_type": "execute_result"
    }
   ],
   "source": [
    "newlineMain()"
   ]
  },
  {
   "cell_type": "code",
   "execution_count": null,
   "metadata": {},
   "outputs": [],
   "source": []
  }
 ],
 "metadata": {
  "kernelspec": {
   "display_name": "C++11",
   "language": "C++",
   "name": "cling-cpp11"
  },
  "language_info": {
   "codemirror_mode": "c++",
   "file_extension": ".c++",
   "mimetype": "text/x-c++src",
   "name": "c++"
  }
 },
 "nbformat": 4,
 "nbformat_minor": 2
}
