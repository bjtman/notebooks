{
 "cells": [
  {
   "cell_type": "markdown",
   "metadata": {},
   "source": [
    "## Problem 0.3.21\n",
    "Prove **Lemma 0.3.2.0**\n",
    "\n",
    "**Lemma 0.3.2.0:** If $f$ and $g$ are invertible functions and $f \\circ g$ exists then $f \\circ g$ is invertible and $(f \\circ g)^{-1} = g^{-1} \\circ f^{-1}$"
   ]
  },
  {
   "cell_type": "markdown",
   "metadata": {},
   "source": [
    "**Part 1:** $f \\circ g$ is invertible:\n",
    "\n",
    "Since $f$ and $g$ are invertible, then by the definition of inverse, $f$ and $g$ are one-to-one and onto.  \n",
    "Assume by contradiction that $f \\circ g$ is not one-to-one. Then there must be some $x$ and $y$ such that $x = y$ and $(f \\circ g)(x) \\neq (f \\circ g)(y)$.  \n",
    "Let $x = y$.  \n",
    "Since $x = y$ then $f(x) = f(y)$ and $g(x) = g(y)$ by the definition of one-to-one.  \n",
    "Since $f \\circ g$ exists, then $(f \\circ g)(x) = f(g(x)) = f(y)$ and $(f \\circ g)(x) = f(g(y)) = f(x) = f(y)$  \n",
    "Thus, $(f \\circ g)(x) = (f \\circ g)(y)$, a contradiction. So $f \\circ g$ is one-to-one.\n",
    "\n",
    "Assume by contradiction that $f \\circ g$ is not onto, and let $z*$ be an element of the co-domain such that $z*$ is not the image of any domain element.  Since $f$ is onto and $g$ are onto and $f \\circ g$ exists, then $z*$ has an image $y*$ under $f^{-1}$, , then $y*$ has an image $x*$ under $g^{-1}$.  \n",
    "Thus, $z*$ has an image $x*$ under $(f \\circ g)^{-1}$, a contradiction.  So $f \\circ g$ is onto.\n",
    "\n",
    "$\\square$\n"
   ]
  },
  {
   "cell_type": "code",
   "execution_count": null,
   "metadata": {},
   "outputs": [],
   "source": []
  }
 ],
 "metadata": {
  "kernelspec": {
   "display_name": "Python 3",
   "language": "python",
   "name": "python3"
  },
  "language_info": {
   "codemirror_mode": {
    "name": "ipython",
    "version": 3
   },
   "file_extension": ".py",
   "mimetype": "text/x-python",
   "name": "python",
   "nbconvert_exporter": "python",
   "pygments_lexer": "ipython3",
   "version": "3.6.3"
  }
 },
 "nbformat": 4,
 "nbformat_minor": 2
}
