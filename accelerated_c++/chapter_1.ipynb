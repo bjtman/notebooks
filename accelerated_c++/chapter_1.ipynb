{
 "cells": [
  {
   "cell_type": "markdown",
   "metadata": {},
   "source": [
    "# Chapter 1\n",
    "## Working with strings"
   ]
  },
  {
   "cell_type": "markdown",
   "metadata": {},
   "source": [
    "### 1.1 Input"
   ]
  },
  {
   "cell_type": "code",
   "execution_count": 1,
   "metadata": {},
   "outputs": [
    {
     "name": "stdout",
     "output_type": "stream",
     "text": [
      "Please enter your first name: Hello, !\n"
     ]
    },
    {
     "data": {
      "text/plain": [
       "(int) 0\n"
      ]
     },
     "execution_count": 1,
     "metadata": {},
     "output_type": "execute_result"
    }
   ],
   "source": [
    "// ask for a person's name, and greet the person\n",
    "#include <iostream>\n",
    "#include <string>\n",
    "\n",
    "int main() {\n",
    "    // ask for the person's name\n",
    "    std::cout << \"Please enter your first name: \";\n",
    "    \n",
    "    // read the name\n",
    "    std::string name;  // define `name`\n",
    "    std::cin >> name;  // read into `name`\n",
    "    // BOOO Cling doesn't support input in Jupyter...\n",
    "    \n",
    "    // write a greeting\n",
    "    std::cout << \"Hello, \" << name << \"!\" << std::endl;\n",
    "    return 0;\n",
    "}\n",
    "main()"
   ]
  },
  {
   "cell_type": "markdown",
   "metadata": {},
   "source": [
    "### 1.2 Framing a name"
   ]
  },
  {
   "cell_type": "code",
   "execution_count": 2,
   "metadata": {},
   "outputs": [
    {
     "name": "stdout",
     "output_type": "stream",
     "text": [
      "Please enter your first name: \n",
      "************\n",
      "*          *\n",
      "* Hello, ! *\n",
      "*          *\n",
      "************\n"
     ]
    },
    {
     "data": {
      "text/plain": [
       "(int) 0\n"
      ]
     },
     "execution_count": 2,
     "metadata": {},
     "output_type": "execute_result"
    }
   ],
   "source": [
    "// ask for a person's name, and generate a framed greeting\n",
    "#include <iostream>\n",
    "#include <string>\n",
    "\n",
    "int main2() {\n",
    "    std::cout << \"Please enter your first name: \";\n",
    "    std::string name;\n",
    "    std::cin >> name;\n",
    "\n",
    "    // build the message that we intend to write\n",
    "    const std::string greeting = \"Hello, \" + name + \"!\";\n",
    "\n",
    "    // build the second and fourth lines of the output\n",
    "    const std::string spaces(greeting.size(), ' ');\n",
    "    const std::string second = \"* \" + spaces + \" *\";\n",
    "\n",
    "    // build the first and fifth lines of the output\n",
    "    const std::string first(second.size(), '*');\n",
    "    \n",
    "    // write it all\n",
    "    std::cout << std::endl;\n",
    "    std::cout << first << std::endl;\n",
    "    std::cout << second << std::endl;\n",
    "    std::cout << \"* \" << greeting << \" *\" << std::endl;\n",
    "    std::cout << second << std::endl;\n",
    "    std::cout << first << std::endl;\n",
    "\n",
    "    return 0;\n",
    "}\n",
    "main2()"
   ]
  },
  {
   "cell_type": "code",
   "execution_count": 3,
   "metadata": {},
   "outputs": [
    {
     "name": "stderr",
     "output_type": "stream",
     "text": [
      "\u001b[1minput_line_6:2:6: \u001b[0m\u001b[0;1;31merror: \u001b[0m\u001b[1minvalid operands to binary expression ('const char *' and 'const char *')\u001b[0m\n",
      " \" \" + \" \" // cannot concatenate two string literals (only two strings or a string and a string literal)\n",
      "\u001b[0;1;32m ~~~ ^ ~~~\n",
      "\u001b[0m"
     ]
    },
    {
     "ename": "ename",
     "evalue": "evalue",
     "output_type": "error",
     "traceback": []
    }
   ],
   "source": [
    "\" \" + \" \" // cannot concatenate two string literals (only two strings or a string and a string literal)"
   ]
  },
  {
   "cell_type": "code",
   "execution_count": 4,
   "metadata": {},
   "outputs": [
    {
     "data": {
      "text/plain": [
       "(int) 64\n"
      ]
     },
     "execution_count": 4,
     "metadata": {},
     "output_type": "execute_result"
    }
   ],
   "source": [
    "' ' + ' ' // adding two chars treats them like their bit size (32 each)"
   ]
  },
  {
   "cell_type": "code",
   "execution_count": 5,
   "metadata": {},
   "outputs": [
    {
     "data": {
      "text/plain": [
       "(std::string &) \"**********\"\n"
      ]
     },
     "execution_count": 5,
     "metadata": {},
     "output_type": "execute_result"
    }
   ],
   "source": [
    "std::string stars(10, '*');\n",
    "stars;"
   ]
  },
  {
   "cell_type": "markdown",
   "metadata": {},
   "source": [
    "## Exercises"
   ]
  },
  {
   "cell_type": "markdown",
   "metadata": {},
   "source": [
    "**1-0.** Compile, execute, and test the programs in this chapter."
   ]
  },
  {
   "cell_type": "markdown",
   "metadata": {},
   "source": [
    "(Done)"
   ]
  },
  {
   "cell_type": "markdown",
   "metadata": {},
   "source": [
    "**1-1.** Are the following definitions valid? Why or why not?\n",
    "\n",
    "```\n",
    "const std::string hello = \"Hello\";\n",
    "const std::string message = hello + \", world\" + \"!\";\n",
    "```\n"
   ]
  },
  {
   "cell_type": "markdown",
   "metadata": {},
   "source": [
    "Yes, both definitions are valid.\n",
    "The first instantiation is valid as it assigns a string literal to the variable `hello`.  \n",
    "The second definition is valid because, although the two operands of the second `+` operator are string literals, during compilation, `hello + \", world\"` will be converted to a string object _first_ (since string addition is left-associative) and _then_ will be concatenated with the string literal, `\"!\"`.  Thus, the left operand will be a string and the right operand will be a string literal, which is valid."
   ]
  },
  {
   "cell_type": "code",
   "execution_count": 6,
   "metadata": {},
   "outputs": [
    {
     "data": {
      "text/plain": []
     },
     "execution_count": 6,
     "metadata": {},
     "output_type": "execute_result"
    }
   ],
   "source": [
    "const std::string hello = \"Hello\";\n",
    "const std::string message = hello + \", world\" + \"!\";"
   ]
  },
  {
   "cell_type": "markdown",
   "metadata": {},
   "source": [
    "**1-2.** Are the following definitions valid? Why or why not?\n",
    "\n",
    "```\n",
    "const std::string exclam = \"!\";\n",
    "const std::string message = \"Hello\" + \", world\" + exclam;\n",
    "```\n"
   ]
  },
  {
   "cell_type": "markdown",
   "metadata": {},
   "source": [
    "The first instantiation is valid as it assigns a string literal to the variable `exclam`.  \n",
    "The second definition is invalid because it attempts to concatenate two string literals with the `+` operator, since string addition is left-associative.  The `+` operator is only defined for strings if one of the operands is a string.  They cannot both be string literals."
   ]
  },
  {
   "cell_type": "code",
   "execution_count": 7,
   "metadata": {},
   "outputs": [
    {
     "name": "stderr",
     "output_type": "stream",
     "text": [
      "\u001b[1minput_line_10:3:38: \u001b[0m\u001b[0;1;31merror: \u001b[0m\u001b[1minvalid operands to binary expression ('const char *' and 'const char *')\u001b[0m\n",
      "const std::string message2 = \"Hello\" + \", world\" + exclam;\n",
      "\u001b[0;1;32m                             ~~~~~~~ ^ ~~~~~~~~~\n",
      "\u001b[0m"
     ]
    },
    {
     "ename": "ename",
     "evalue": "evalue",
     "output_type": "error",
     "traceback": []
    }
   ],
   "source": [
    "const std::string exclam = \"!\";\n",
    "const std::string message2 = \"Hello\" + \", world\" + exclam;"
   ]
  },
  {
   "cell_type": "markdown",
   "metadata": {},
   "source": [
    "**1-3.** Is the following program valid? If so, what does it do? If not, why not?\n",
    "```\n",
    "#include <iostream>\n",
    "#include <string>\n",
    "\n",
    "int main() {\n",
    "    { const std::string s = \"a string\";\n",
    "      std::cout << s << std::endl; }\n",
    "\n",
    "    { const std::string s = \"another string\";\n",
    "      std::cout << s << std::endl; }\n",
    "    return 0;\n",
    "}\n",
    "```\n"
   ]
  },
  {
   "cell_type": "markdown",
   "metadata": {},
   "source": [
    "Yes, this program is valid.  It prints to standard out the message:\n",
    "```\n",
    "a string\n",
    "another string\n",
    "```"
   ]
  },
  {
   "cell_type": "markdown",
   "metadata": {},
   "source": [
    "**1-4.** What about this on? What if we change `}}` to `};}` in the third line from the end?\n",
    "```\n",
    "#include <iostream>\n",
    "#include <string>\n",
    "\n",
    "int main() {\n",
    "    { const std::string s = \"a string\";\n",
    "      std::cout << s << std::endl;\n",
    "    { const std::string s = \"another string\";\n",
    "      std::cout << s << std::endl; }}\n",
    "    return 0;\n",
    "}\n",
    "```"
   ]
  },
  {
   "cell_type": "markdown",
   "metadata": {},
   "source": [
    "Yes, this program is valid.  The opening brace nested in the first brace creates a _new scope_, and so `s` is \"hidden\" from the outer scope.\n",
    "\n",
    "Changing `}}` to `};}` will have no effect, since the `;` is optional after braces, and will be simply interpretted as a statement that evaluates to `null`."
   ]
  },
  {
   "cell_type": "code",
   "execution_count": 8,
   "metadata": {},
   "outputs": [
    {
     "data": {
      "text/plain": []
     },
     "execution_count": 8,
     "metadata": {},
     "output_type": "execute_result"
    }
   ],
   "source": [
    "#include <iostream>\n",
    "#include <string>\n",
    "\n",
    "int test() {\n",
    "    { const std::string s = \"a string\";\n",
    "      std::cout << s << std::endl;\n",
    "    { const std::string s = \"another string\";\n",
    "      std::cout << s << std::endl; };}\n",
    "    return 0;\n",
    "}"
   ]
  },
  {
   "cell_type": "code",
   "execution_count": 9,
   "metadata": {},
   "outputs": [
    {
     "name": "stdout",
     "output_type": "stream",
     "text": [
      "a string\n",
      "another string\n"
     ]
    },
    {
     "data": {
      "text/plain": [
       "(int) 0\n"
      ]
     },
     "execution_count": 9,
     "metadata": {},
     "output_type": "execute_result"
    }
   ],
   "source": [
    "test()"
   ]
  },
  {
   "cell_type": "markdown",
   "metadata": {},
   "source": [
    "**1-5.** Is this program valid? If so, what does it do? If not, say why not, and rewrite it to be valid.\n",
    "```\n",
    "#include <iostream>\n",
    "#include <string>\n",
    "\n",
    "int main() {\n",
    "    { std::string s = \"a string\";\n",
    "    { std::string x = s + \", really\";\n",
    "      std::cout << s << std::endl; }\n",
    "      std::cout << x << std::endl;\n",
    "    }\n",
    "    return 0;\n",
    "}\n",
    "```"
   ]
  },
  {
   "cell_type": "markdown",
   "metadata": {},
   "source": [
    "No, this program is not valid. The string variable `x` is referenced outside of its scope.  At the point when the line `std::cout << x << std::endl;` is evaluated, the variable `x` has already had its reference cleared and its memory reclaimed by the system.  \n",
    "Rewriting to make it valid:"
   ]
  },
  {
   "cell_type": "code",
   "execution_count": 10,
   "metadata": {},
   "outputs": [
    {
     "data": {
      "text/plain": []
     },
     "execution_count": 10,
     "metadata": {},
     "output_type": "execute_result"
    }
   ],
   "source": [
    "#include <iostream>\n",
    "#include <string>\n",
    "\n",
    "int test2() {\n",
    "    { \n",
    "        std::string s = \"a string\";\n",
    "        std::string x = s + \", really\";\n",
    "        std::cout << s << std::endl;\n",
    "        std::cout << x << std::endl;\n",
    "    }\n",
    "    return 0;\n",
    "}"
   ]
  },
  {
   "cell_type": "code",
   "execution_count": 11,
   "metadata": {},
   "outputs": [
    {
     "name": "stdout",
     "output_type": "stream",
     "text": [
      "a string\n",
      "a string, really\n"
     ]
    },
    {
     "data": {
      "text/plain": [
       "(int) 0\n"
      ]
     },
     "execution_count": 11,
     "metadata": {},
     "output_type": "execute_result"
    }
   ],
   "source": [
    "test2()"
   ]
  },
  {
   "cell_type": "markdown",
   "metadata": {},
   "source": [
    "**1-6.** What does the following program do if, when it asks you for input, you type two names (for example, `Samual Beckett`)? Predict the behavior before running the program, then try it.\n",
    "```\n",
    "#include <iostream>\n",
    "#include <string>\n",
    "\n",
    "int main() {\n",
    "    std::cout << \"What is your name? \";\n",
    "    std::string name;\n",
    "    std::cin >> name;\n",
    "    std::cout << \"Hello, \" << name\n",
    "              << std::endl << \"And what is yours? \";\n",
    "    std::cin >> name;\n",
    "    std::cout << \"Hello, \" << name\n",
    "              << \"; nice to meet you too!\" << std::endl;\n",
    "\n",
    "    return 0;\n",
    "}\n",
    "```"
   ]
  },
  {
   "cell_type": "markdown",
   "metadata": {},
   "source": [
    "I predict it will respond,  \n",
    "```\n",
    "Hello, Samual\n",
    "And what is yours? Hello, Beckett; nice to meet you too!\n",
    "```\n",
    "This is because `cin` reads until it hits whitespace."
   ]
  },
  {
   "cell_type": "markdown",
   "metadata": {},
   "source": [
    "(I had to run this locally since it depends on `cin` being function, which it is not in this Jupyter kernel.)"
   ]
  },
  {
   "cell_type": "code",
   "execution_count": null,
   "metadata": {},
   "outputs": [],
   "source": []
  }
 ],
 "metadata": {
  "kernelspec": {
   "display_name": "C++11",
   "language": "C++",
   "name": "cling-cpp11"
  },
  "language_info": {
   "codemirror_mode": "c++",
   "file_extension": ".c++",
   "mimetype": "text/x-c++src",
   "name": "c++"
  }
 },
 "nbformat": 4,
 "nbformat_minor": 2
}
