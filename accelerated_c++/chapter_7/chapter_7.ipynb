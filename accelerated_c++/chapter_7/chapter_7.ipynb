{
 "cells": [
  {
   "cell_type": "markdown",
   "metadata": {},
   "source": [
    "## Chapter 7\n",
    "# Using associative containers"
   ]
  },
  {
   "cell_type": "markdown",
   "metadata": {},
   "source": [
    "## Exercises"
   ]
  },
  {
   "cell_type": "markdown",
   "metadata": {},
   "source": [
    "**7-0.** Compile, execute, and test the programs in this chapter."
   ]
  },
  {
   "cell_type": "markdown",
   "metadata": {},
   "source": [
    "Implemented in `counting_words.cpp`, `xref.cpp`, `sentence_generator.cpp` and `sentence_generator_main.cpp`:\n",
    "```\n",
    "$ gcc counting_words.cpp -o counting_words.out -lstdc++\n",
    "$ ./counting_words.out\n",
    "hey hey hey you you guys\n",
    "\n",
    "guys    1\n",
    "hey     3\n",
    "you     2\n",
    "\n",
    "$ gcc xref.cpp ../chapter_5/split.cpp -o xref.out -lstdc++\n",
    "$ ./xref.out\n",
    "hey there\n",
    "I\n",
    "am learning that there\n",
    "c++\n",
    "because c++\n",
    "is a language I like\n",
    "I occurs on line(s): 2, 6\n",
    "a occurs on line(s): 6\n",
    "am occurs on line(s): 3\n",
    "because occurs on line(s): 5\n",
    "c++ occurs on line(s): 4, 5\n",
    "hey occurs on line(s): 1\n",
    "is occurs on line(s): 6\n",
    "language occurs on line(s): 6\n",
    "learning occurs on line(s): 3\n",
    "like occurs on line(s): 6\n",
    "that occurs on line(s): 3\n",
    "there occurs on line(s): 1, 3\n",
    "\n",
    "$ gcc sentence_generator.cpp sentence_generator_main.cpp ../chapter_5/split.cpp -o sentence_generator.out -lstdc++\n",
    "$ cat grammar.txt\n",
    "<noun>          batman\n",
    "<noun>          cutting board\n",
    "<noun>          bachelor\n",
    "<noun-phrase>   <noun>\n",
    "<noun-phrase>   <adjective> <noun-phrase>\n",
    "<adjective>     jovial\n",
    "<adjective>     fearless\n",
    "<adjective>     scrumtrulescent\n",
    "<verb>          earns\n",
    "<verb>          basks\n",
    "<location>      in the city\n",
    "<location>      out on the town\n",
    "<location>      nowhere\n",
    "<sentence>      the <noun-phrase> <verb> <location>\n",
    "\n",
    "$ cat grammar.txt | ./sentence_generator.out\n",
    "the bachelor earns out on the town\n",
    "```"
   ]
  },
  {
   "cell_type": "markdown",
   "metadata": {},
   "source": [
    "**7-1.** Extend the program from 7.2/124 to produce its output sorted by occurrence count. That is, the output should group all the words that occur once, followed by those that occur twice, and so on."
   ]
  },
  {
   "cell_type": "markdown",
   "metadata": {},
   "source": [
    "Implemented in `counting_words_sorted_by_count.cpp`:\n",
    "```\n",
    "$ gcc counting_words_sorted_by_count.cpp -o counting_words_sorted_by_count.out  -lstdc++\n",
    "$ ./counting_words_sorted_by_count.out\n",
    "hey hey yo yo there dude dude dude\n",
    "there\t1\n",
    "hey\t2\n",
    "hey\t2\n",
    "dude\t3\n",
    "```"
   ]
  },
  {
   "cell_type": "markdown",
   "metadata": {},
   "source": [
    "**7-2.** Extend the program in 4.2.3/64 to assign letter grades by ranges:  \n",
    "```\n",
    "A 90-100\n",
    "B 80-89.99...\n",
    "C 70-79.99...\n",
    "D 60-69.99...\n",
    "F < 60\n",
    "```\n",
    "The output should list how many students fall into each category."
   ]
  },
  {
   "cell_type": "markdown",
   "metadata": {},
   "source": [
    "Implemented in `grade_ranges.cpp`:\n",
    "```\n",
    "$ gcc grade_ranges.cpp ../chapter_6/grade.cpp ../chapter_6/Student_info.cpp -o grade_ranges.out  -lstdc++\n",
    "$ ./grade_ranges.out\n",
    "Karl 80 80 85 90 85 80 d\n",
    "Jarl 100 90 95 90 85 85 d\n",
    "Jade 70 70 75 76 80 d\n",
    "Jake 50 50 90 50 40 60 d\n",
    "Blake 90 90 100 100 95 d\n",
    "Grade\tNumber of students\n",
    "A\t    2\n",
    "B\t    1\n",
    "C\t    1\n",
    "F\t    1\n",
    "```"
   ]
  },
  {
   "cell_type": "markdown",
   "metadata": {},
   "source": [
    "**7-3.** The cross-reference program from 7.3/126 could be improved. As it stands, if a word occurs more than once on the same input line, the program will report that line multiple times. Change the code so that it detects multiple occurrences of the same line number and inserts the line number only once."
   ]
  },
  {
   "cell_type": "markdown",
   "metadata": {},
   "source": [
    "Think the right solution here would be to change the return type of `map<string, vector<int> > xref` to return a map from strings to _sets_ of ints, to ensure uniquenuess \"for free\".  The closest data structure we've been given so far is a `map`, which ensures uniqueness in keys, but requires a matching value that would be superfluous in this case.\n",
    "\n",
    "In the absence of a set, my solution is computationally expensive but works - manually search through the vector of line numbers and only insert a line number if it's not already mapped to the word:\n",
    "\n",
    "```\n",
    "vector<int>::const_iterator find(vector<int> ints, int i) {\n",
    "    for (vector<int>::const_iterator it = ints.begin(); it != ints.end(); ++it) {\n",
    "        if (*it == i) {\n",
    "            return it;\n",
    "        }\n",
    "    }\n",
    "    return ints.end();\n",
    "}\n",
    "\n",
    "...\n",
    "\n",
    "        for (vector<string>::const_iterator it = words.begin(); it != words.end(); ++it) {\n",
    "            vector<int> line_numbers = ret[*it];\n",
    "            if (find(line_numbers, line_number) == line_numbers.end()) {\n",
    "                line_numbers.push_back(line_number);\n",
    "            }\n",
    "        }\n",
    "```\n",
    "\n",
    "Here is a run:\n",
    "```\n",
    "$ ./xref.out\n",
    "hey hey hey\n",
    "hey occurs on line(s): 1\n",
    "```"
   ]
  },
  {
   "cell_type": "markdown",
   "metadata": {},
   "source": [
    "**7-4.** The output produced by the cross-reference program will be ungainly if the input file is large. Rewrite the program to break up the output if the lines get too long."
   ]
  },
  {
   "cell_type": "markdown",
   "metadata": {},
   "source": [
    "```\n",
    "$ ./xref.out\n",
    "1\n",
    "1\n",
    "1\n",
    "1\n",
    "1\n",
    "1\n",
    "1\n",
    "1\n",
    "1\n",
    "1\n",
    "1\n",
    "1\n",
    "1\n",
    "1\n",
    "1\n",
    "1\n",
    "1\n",
    "1\n",
    "1\n",
    "1\n",
    "1\n",
    "1\n",
    "1\n",
    "2\n",
    "1 occurs on line(s): 1, 2, 3, 4, 5, 6, 7, 8, 9, 10, 11, 12, 13, 14, 15, 16, 17, 18, 19,\n",
    "                     20, 21, 22, 23\n",
    "2 occurs on line(s): 24\n",
    "```"
   ]
  },
  {
   "cell_type": "markdown",
   "metadata": {},
   "source": [
    "**7-5.** Reimplement the grammar program using a `list` as the data structure in which we build the sentence."
   ]
  },
  {
   "cell_type": "markdown",
   "metadata": {},
   "source": [
    "Implemented in `sentence_generator_with_list.cpp`:\n",
    "\n",
    "```\n",
    "$ gcc sentence_generator_with_list.cpp ../chapter_5/split.cpp -o sentence_generator_with_list.out -lstdc++\n",
    "$ cat grammar.txt | ./sentence_generator_with_list.out\n",
    "the bachelor earns out on the town\n",
    "```"
   ]
  },
  {
   "cell_type": "markdown",
   "metadata": {},
   "source": [
    "**7-6.** Reimplement the `gen_sentence` program using two `vector`s: One will hold the fully unwound, generated sentence, and the other will hold the rules and will be used as a stack. Do not use any recursive calls."
   ]
  },
  {
   "cell_type": "markdown",
   "metadata": {},
   "source": [
    "Implemented in `sentence_generator_with_stack.cpp`:\n",
    "\n",
    "```\n",
    "$ gcc sentence_generator_with_stack.cpp ../chapter_5/split.cpp -o sentence_generator_with_stack.out -lstdc++\n",
    "$ cat grammar.txt | ./sentence_generator_with_stack.out\n",
    "the cutting board basks in the city\n",
    "```"
   ]
  },
  {
   "cell_type": "markdown",
   "metadata": {},
   "source": [
    "**7-7.** Change the driver for the cross-reference program so that it writes `line` if there is only one line and `lines` otherwise."
   ]
  },
  {
   "cell_type": "markdown",
   "metadata": {},
   "source": [
    "```\n",
    "./xref.out\n",
    "1 2\n",
    "1\n",
    "1 occurs on lines: 1, 2\n",
    "2 occurs on line: 1\n",
    "```"
   ]
  },
  {
   "cell_type": "markdown",
   "metadata": {},
   "source": [
    "**7-8.** Change the cross-reference program to find all the URLs in a file, and write all the lines on which each distinct URL occurs."
   ]
  },
  {
   "cell_type": "markdown",
   "metadata": {},
   "source": [
    "This amounts to simply specifying the `find_urls` function as an argument for the `find_words` parameter.\n",
    "\n",
    "Here is an example run:\n",
    "\n",
    "```\n",
    "$ gcc xref.cpp ../chapter_5/split.cpp ../chapter_6/find_urls.cpp -o xref_with_urls.out -lstdc++\n",
    "$ ./xref_with_urls.out\n",
    "blah blah http://localhost:8888/notebooks/accelerated_c%2B%2B/chapter_6/chapter_6.ipynb blah blah https://www.khanacademy.org/math/statistics-probability blahhhhhh\n",
    "blah blah http://localhost:8888/notebooks/accelerated_c%2B%2B/chapter_6/chapter_6.ipynb blah blah\n",
    "\n",
    "http://localhost:8888/notebooks/accelerated_c%2B%2B/chapter_6/chapter_6.ipynb occurs on lines: 1, 2\n",
    "https://www.khanacademy.org/math/statistics-probability occurs on line: 1\n",
    "```"
   ]
  },
  {
   "cell_type": "markdown",
   "metadata": {},
   "source": [
    "**7-9.** (difficult) The implementation of `nrand` in 7.4.4/135 will not work for arguments greater than `RAND_MAX`. Usually, this restriction is no problem, because RAND_MAX is often the largest possible integer anyway. Nevertheless, there are implementations under which RAND_MAX is much smaller than the largest possible integer. For example, it is not uncommon for RAND_MAX to be `32767` ($2^{15} - 1$) and the largest possible integer to be `2147483647` ($2^{31} - 1$). Reimplement `nrand` so that it works well for all values of `n`."
   ]
  },
  {
   "cell_type": "markdown",
   "metadata": {},
   "source": [
    "My solution is implemented in `large_nrand.cpp`.  The solution uses the fact that adding two samples generated from ranges $[0, n)$ and $[0, m)$ yields a uniform sample generated from the range $[0, n + m - 1)$.\n",
    "\n",
    "My approach is to break up random generation into blocks of single draws, drawing from the range `[0, RAND_MAX)` while `nDraws * RAND_MAX < n`, and then to make the final draw from `[0, (n % RAND_MAX) + nDraws)`.  (Note that the `+ nDraws` is needed because the draws are right-exclusive.  The example below should make it clear:\n",
    "\n",
    "_Example_: for simplicity, assume `RAND_MAX = 4` and `n = 13`. We want a result in the range `[0, 13) = [0, 12]`.\n",
    "\n",
    "Then the result will be the sum of four uniform samples - three in the range `[0, 4) = [0, 3]`, and one in the range \n",
    "`[0, 13 % 4 + nDraws) = [0, 1 + 4) = [0, 4) = [0, 4]`. Thus, the total range will be `[0, 3 * 3 + 4] = [0, 13]`.\n",
    "\n",
    "Here are some runs, with `n = MAX_INT`:\n",
    "```\n",
    "$ gcc large_nrand.cpp -o large_nrand.out -lstdc++\n",
    "& ./large_nrand.out\n",
    "1926931274%                                                                                                           $ ./large_nrand.out\n",
    "61922876%                                                                                                             $ ./large_nrand.out\n",
    "344398125%                                                                                                             $ ./large_nrand.out\n",
    "623514601%                                                                                                             $ ./large_nrand.out\n",
    "905989850%                                                                                                             $ ./large_nrand.out\n",
    "1470940348%                                                                                                           $ ./large_nrand.out\n",
    "2035890846%\n",
    "```"
   ]
  },
  {
   "cell_type": "code",
   "execution_count": null,
   "metadata": {},
   "outputs": [],
   "source": []
  }
 ],
 "metadata": {
  "kernelspec": {
   "display_name": "C++11",
   "language": "C++",
   "name": "cling-cpp11"
  },
  "language_info": {
   "codemirror_mode": "c++",
   "file_extension": ".c++",
   "mimetype": "text/x-c++src",
   "name": "c++"
  }
 },
 "nbformat": 4,
 "nbformat_minor": 2
}
