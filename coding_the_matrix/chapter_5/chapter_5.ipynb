{
 "cells": [
  {
   "cell_type": "markdown",
   "metadata": {},
   "source": [
    "## Chapter 5\n",
    "# The Basis"
   ]
  },
  {
   "cell_type": "markdown",
   "metadata": {},
   "source": [
    "**Problem 5.5.6:** Show that no independent set contains the zero vector."
   ]
  },
  {
   "cell_type": "markdown",
   "metadata": {},
   "source": [
    "Assume that set $V$ contains the zero vector.  Say $\\boldsymbol{v}_1 = \\boldsymbol{0}, \\boldsymbol{v}_1 \\in V$.\n",
    "\n",
    "Consider the linear combination of all vectors in $V$, $\\alpha_1\\boldsymbol{v}_1 + ... + \\alpha_n\\boldsymbol{v}_n$ where $\\alpha_1 \\neq 0$ and $\\forall{i \\neq 1}, \\alpha_i = 0$.\n",
    "\n",
    "Since at least one coefficient is nonzero, the linear combination is _nontrivial_, and\n",
    "\n",
    "$\\alpha_1\\boldsymbol{v}_1 + ... + \\alpha_n\\boldsymbol{v}_n = \\alpha_1\\boldsymbol{0} + ... + 0\\boldsymbol{v}_n = \\boldsymbol{0}$.\n",
    "\n",
    "Thus, if a set contains the zero vector, it is linearly dependent."
   ]
  },
  {
   "cell_type": "markdown",
   "metadata": {},
   "source": [
    "**Problem 5.6.10:** Prove the following lemma:\n",
    "\n",
    "The standard generators for $\\mathbb{F}^D$ form a basis."
   ]
  },
  {
   "cell_type": "markdown",
   "metadata": {},
   "source": [
    "The standard generators for $\\mathbb{F}^D$ are:\n",
    "\n",
    "$\\begin{align}\n",
    "\\boldsymbol{e}_0 &= [1, 0, 0, 0, ..., 0]\\\\\n",
    "\\boldsymbol{e}_1 &= [0, 1, 0, 0, ..., 0]\\\\\n",
    "\\boldsymbol{e}_2 &= [0, 0, 1, 0, ..., 0]\\\\\n",
    "\\vdots\\\\\n",
    "\\boldsymbol{e}_{D - 1} &= [0, 0, 0, 0, ..., 1]\n",
    "\\end{align}$\n",
    "\n",
    "\n",
    "To show that the standard generators for $\\mathbb{F}^D$ form a basis, we need to show that the vectors span $\\mathbb{F}^D$, and that they are linearly independent.\n",
    "\n",
    "* Every vector $[v_0, v_1, ..., v_{D - 1}] \\in \\mathbb{F}^D$ can be expressed as $v_0\\boldsymbol{e}_0 + v_1\\boldsymbol{e}_1 + \\cdots + v_{D - 1}\\boldsymbol{e}_{D - 1}$.  Thus, they span $\\mathbb{F}^D$.\n",
    "\n",
    "* Consider any $\\boldsymbol{e}_i$. Since none of the other $D - 1$ vectors have a nonzero $i^{th}$ entry, $\\boldsymbol{e}_i$ cannot be expressed as a linear combination of them.  Thus, the standard generators are linearly independent.\n",
    "\n",
    "QED"
   ]
  },
  {
   "cell_type": "markdown",
   "metadata": {},
   "source": [
    "**Problem 5.6.13:** Give an alternative proof of _Lemma 5.6.11_ that is based instead on the _Shrink_ algorithm.\n",
    "\n",
    "_Lemma 5.6.11 (Subset-Basis Lemma):_ Any finite set $T$ of vectors contains a subset $B$ that is a basis for _Span_ $T$.\n"
   ]
  },
  {
   "cell_type": "markdown",
   "metadata": {},
   "source": [
    "Since it has already been shown that the _Shrink_ algorithm finds a set of vectors spanning the given vector space, and that the resulting set of vectors is linearly independent, _Shrink_ has already been shown to find a basis for the given vector space.\n",
    "\n",
    "We need only devise a version of the _Shrink_ algorithm for the set $T$ that is a true instantiation of the algorithm.\n",
    "\n",
    "Let $V$ = _Span_ $T$.\n",
    "\n",
    "def subset_basis($T$):\n",
    "    Initialize $B$ to the full set $T$. (Then $B$ is a finite set of vectors that spans $T$, and thus, since $V$ = _Span_ $T$, $B$ also spans $V$).\n",
    "    Repeat while possible:\n",
    "        Find a vector $\\boldsymbol{v}$ in $B$ such that _Span_ ($B - \\{\\boldsymbol{v}\\}) = T$, and remove $\\boldsymbol{v}$ from $B$.\n",
    "\n",
    "At every point during the algorithm, $B$ spans $T$, and thus also spans $V$, so it spans $V$ at the end.\n",
    "\n",
    "QED"
   ]
  },
  {
   "cell_type": "markdown",
   "metadata": {},
   "source": [
    "## 5.12 Lab: Perspective rectification"
   ]
  },
  {
   "cell_type": "markdown",
   "metadata": {},
   "source": [
    "**Task 5.12.1:** Write a procedure `move2board(y)` with the following spec:  \n",
    "* _input:_ a `{'y1', 'y2', 'y3'}`-vector $\\boldsymbol{y}$, the coordinate representation in whiteboard coordinates of a point $\\boldsymbol{q}$ (Assume $\\boldsymbol{q}$ is not in the plane through the origin that is parallel to the whiteboard plane, i.e. that the `y3` entry is nonzero.)\n",
    "* _output:_ a `{'y1', 'y2', 'y3'}`-vector $\\boldsymbol{z}$, the coordinate representation in whiteboard coordinates of the point $\\boldsymbol{p}$ such that the line through the origin and $\\boldsymbol{q}$ intersects the whiteboard plane at $\\boldsymbol{p}$."
   ]
  },
  {
   "cell_type": "code",
   "execution_count": 2,
   "metadata": {},
   "outputs": [
    {
     "data": {
      "text/plain": [
       "Vec({'y3', 'y2', 'y1'},{'y1': 15.0, 'y2': 2.5, 'y3': 1.0})"
      ]
     },
     "execution_count": 2,
     "metadata": {},
     "output_type": "execute_result"
    }
   ],
   "source": [
    "from vec import Vec\n",
    "\n",
    "def move2board(y):\n",
    "    return Vec(y.D, {k: v / y.f['y3'] for k, v in y.f.items()})\n",
    "\n",
    "move2board(Vec({'y1', 'y2', 'y3'}, {'y1': 3, 'y2': 0.5, 'y3': 0.2}))"
   ]
  },
  {
   "cell_type": "markdown",
   "metadata": {},
   "source": [
    "**Task 5.12.2:** Define the domain $D=R \\times C$.  \n",
    "Write a procedure `make_equations(x1, x2, w1, x2)` that outputs a list $[\\boldsymbol{u}, \\boldsymbol{v}]$ consisting of two $D$-vectors $\\boldsymbol{u}$ and $\\boldsymbol{v}$ such that Equations 5.11 and 5.12 are expressed as  \n",
    "$\\boldsymbol{u} \\cdot \\boldsymbol{h} = 0\\\\\n",
    "\\boldsymbol{v} \\cdot \\boldsymbol{h} = 0$\n",
    "\n",
    "where $\\boldsymbol{h}$ is the $D$-vector of unknown entries of $H$."
   ]
  },
  {
   "cell_type": "code",
   "execution_count": 13,
   "metadata": {},
   "outputs": [],
   "source": [
    "import itertools\n",
    "\n",
    "domain = set(itertools.product(('y1', 'y2', 'y3'), ('x1', 'x2', 'x3')))\n",
    "\n",
    "def make_equations(x1, x2, w1, w2):\n",
    "    u = Vec(domain, {('y3', 'x1'): w1 * x1, ('y3', 'x2'): w1 * x2, ('y3', 'x3'): w1, ('y1', 'x1'): -x1, ('y1', 'x2'): -x2, ('y1', 'x3'): -1})\n",
    "    v = Vec(domain, {('y3', 'x1'): w2 * x1, ('y3', 'x2'): w2 * x2, ('y3', 'x3'): w2, ('y2', 'x1'): -x1, ('y2', 'x2'): -x2, ('y2', 'x3'): -1})\n",
    "    return [u, v]"
   ]
  },
  {
   "cell_type": "markdown",
   "metadata": {},
   "source": [
    "**Task 5.12.3:** Write the $D$-vector $\\boldsymbol{w}$ with a 1 in the `('y1', 'x1')` entry."
   ]
  },
  {
   "cell_type": "code",
   "execution_count": 12,
   "metadata": {},
   "outputs": [],
   "source": [
    "w = Vec(domain, {('y1', 'x1'): 1.0})"
   ]
  },
  {
   "cell_type": "markdown",
   "metadata": {},
   "source": [
    "**Task 12.4:** Here are the pixel coordinates for the corners of the whiteboard in the image.\n",
    "\n",
    "||\n",
    "-|-\n",
    "top left|$x_1 = 358\\\\x_2 = 36$\n",
    "bottom left|$x_1 = 329\\\\x_2 = 597$\n",
    "top right|$x_1 = 592\\\\x_2 = 157$\n",
    "bottom right|$x_1 = 580\\\\x_2 = 483$\n",
    "\n",
    "Assign to $L$ the $\\{0,1,...,8\\} \\times D$ matrix whose rows are, in order,\n",
    "* the vector $\\boldsymbol{u}$ and the vector $\\boldsymbol{v}$ from `make_equations(x1, x2, w1, w2)` applied to the top-left corner,\n",
    "* the vector $\\boldsymbol{u}$ and the vector $\\boldsymbol{v}$ from `make_equations(x1, x2, w1, w2)` applied to the bottom-left corner,\n",
    "* the vector $\\boldsymbol{u}$ and the vector $\\boldsymbol{v}$ from `make_equations(x1, x2, w1, w2)` applied to the top-right corner,\n",
    "* the vector $\\boldsymbol{u}$ and the vector $\\boldsymbol{v}$ from `make_equations(x1, x2, w1, w2)` applied to the bottom-right corner,\n",
    "* the vector $\\boldsymbol{w}$ from the above ungraded task.\n",
    "\n",
    "Assign to $\\boldsymbol{b}$ the $\\{0,1,...,8\\}$-vector $\\boldsymbol{b}$ whose entries are all zero except for a 1 in position 8.  \n",
    "Assign to $\\boldsymbol{h}$ the solution obtained by solving the equation $L\\boldsymbol{h} = \\boldsymbol{b}$. Verity for yourself that it is indeed a solution to this equation.  \n",
    "Finally, assign to $H$ the matrix whose entries are given by the vector $\\boldsymbol{h}$."
   ]
  },
  {
   "cell_type": "code",
   "execution_count": null,
   "metadata": {},
   "outputs": [],
   "source": []
  }
 ],
 "metadata": {
  "kernelspec": {
   "display_name": "Python 3",
   "language": "python",
   "name": "python3"
  },
  "language_info": {
   "codemirror_mode": {
    "name": "ipython",
    "version": 3
   },
   "file_extension": ".py",
   "mimetype": "text/x-python",
   "name": "python",
   "nbconvert_exporter": "python",
   "pygments_lexer": "ipython3",
   "version": "3.6.4"
  }
 },
 "nbformat": 4,
 "nbformat_minor": 2
}
