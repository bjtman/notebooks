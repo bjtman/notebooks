{
 "cells": [
  {
   "cell_type": "markdown",
   "metadata": {},
   "source": [
    "## Chapter 3\n",
    "# Musical Scales, Tuning, and Intonation"
   ]
  },
  {
   "cell_type": "code",
   "execution_count": 1,
   "metadata": {},
   "outputs": [],
   "source": [
    "import sys\n",
    "sys.path.append('../')\n",
    "\n",
    "from Note import Note\n",
    "from Notes import render_notes_ipython"
   ]
  },
  {
   "cell_type": "code",
   "execution_count": 2,
   "metadata": {},
   "outputs": [
    {
     "ename": "AttributeError",
     "evalue": "'Note' object has no attribute 'release_samples'",
     "output_type": "error",
     "traceback": [
      "\u001b[0;31m---------------------------------------------------------------------------\u001b[0m",
      "\u001b[0;31mAttributeError\u001b[0m                            Traceback (most recent call last)",
      "\u001b[0;32m<ipython-input-2-061a55a16fe7>\u001b[0m in \u001b[0;36m<module>\u001b[0;34m()\u001b[0m\n\u001b[1;32m      3\u001b[0m \u001b[0;31m# Notes can be either explicitly instantiated, i.e. Note(880, 2), or just specified as an argument tuple.\u001b[0m\u001b[0;34m\u001b[0m\u001b[0;34m\u001b[0m\u001b[0m\n\u001b[1;32m      4\u001b[0m \u001b[0;31m# A frequency of `0` indicates a rest.\u001b[0m\u001b[0;34m\u001b[0m\u001b[0;34m\u001b[0m\u001b[0m\n\u001b[0;32m----> 5\u001b[0;31m \u001b[0mrender_notes_ipython\u001b[0m\u001b[0;34m(\u001b[0m\u001b[0;34m(\u001b[0m\u001b[0;36m880\u001b[0m\u001b[0;34m,\u001b[0m \u001b[0;36m2\u001b[0m\u001b[0;34m)\u001b[0m\u001b[0;34m)\u001b[0m\u001b[0;34m\u001b[0m\u001b[0m\n\u001b[0m",
      "\u001b[0;32m~/Development/notebooks/musimathics/Notes.py\u001b[0m in \u001b[0;36mrender_notes_ipython\u001b[0;34m(notes)\u001b[0m\n\u001b[1;32m     55\u001b[0m \u001b[0;34m\u001b[0m\u001b[0m\n\u001b[1;32m     56\u001b[0m \u001b[0;32mdef\u001b[0m \u001b[0mrender_notes_ipython\u001b[0m\u001b[0;34m(\u001b[0m\u001b[0mnotes\u001b[0m\u001b[0;34m)\u001b[0m\u001b[0;34m:\u001b[0m\u001b[0;34m\u001b[0m\u001b[0m\n\u001b[0;32m---> 57\u001b[0;31m     \u001b[0;32mreturn\u001b[0m \u001b[0mAudio\u001b[0m\u001b[0;34m(\u001b[0m\u001b[0mrender_notes\u001b[0m\u001b[0;34m(\u001b[0m\u001b[0mnotes\u001b[0m\u001b[0;34m)\u001b[0m\u001b[0;34m,\u001b[0m \u001b[0mrate\u001b[0m\u001b[0;34m=\u001b[0m\u001b[0mSAMPLES_PER_SECOND\u001b[0m\u001b[0;34m)\u001b[0m\u001b[0;34m\u001b[0m\u001b[0m\n\u001b[0m",
      "\u001b[0;32m~/Development/notebooks/musimathics/Notes.py\u001b[0m in \u001b[0;36mrender_notes\u001b[0;34m(notes)\u001b[0m\n\u001b[1;32m     46\u001b[0m             \u001b[0;32mraise\u001b[0m \u001b[0mArgumentException\u001b[0m\u001b[0;34m(\u001b[0m\u001b[0;34m'Invalid argument given to `render_notes`.'\u001b[0m\u001b[0;34m)\u001b[0m\u001b[0;34m\u001b[0m\u001b[0m\n\u001b[1;32m     47\u001b[0m \u001b[0;34m\u001b[0m\u001b[0m\n\u001b[0;32m---> 48\u001b[0;31m     \u001b[0mnote_sequences\u001b[0m \u001b[0;34m=\u001b[0m \u001b[0;34m[\u001b[0m\u001b[0minner_notes\u001b[0m \u001b[0;32mif\u001b[0m \u001b[0misinstance\u001b[0m\u001b[0;34m(\u001b[0m\u001b[0minner_notes\u001b[0m\u001b[0;34m,\u001b[0m \u001b[0mNoteSequence\u001b[0m\u001b[0;34m)\u001b[0m \u001b[0;32melse\u001b[0m \u001b[0mNoteSequence\u001b[0m\u001b[0;34m(\u001b[0m\u001b[0minner_notes\u001b[0m\u001b[0;34m)\u001b[0m \u001b[0;32mfor\u001b[0m \u001b[0minner_notes\u001b[0m \u001b[0;32min\u001b[0m \u001b[0mnotes\u001b[0m\u001b[0;34m]\u001b[0m\u001b[0;34m\u001b[0m\u001b[0m\n\u001b[0m\u001b[1;32m     49\u001b[0m     \u001b[0mmixed\u001b[0m \u001b[0;34m=\u001b[0m \u001b[0mnp\u001b[0m\u001b[0;34m.\u001b[0m\u001b[0mzeros\u001b[0m\u001b[0;34m(\u001b[0m\u001b[0mmax\u001b[0m\u001b[0;34m(\u001b[0m\u001b[0;34m[\u001b[0m\u001b[0mnote_sequence\u001b[0m\u001b[0;34m.\u001b[0m\u001b[0mnum_samples\u001b[0m\u001b[0;34m(\u001b[0m\u001b[0;34m)\u001b[0m \u001b[0;32mfor\u001b[0m \u001b[0mnote_sequence\u001b[0m \u001b[0;32min\u001b[0m \u001b[0mnote_sequences\u001b[0m\u001b[0;34m]\u001b[0m\u001b[0;34m)\u001b[0m\u001b[0;34m)\u001b[0m\u001b[0;34m\u001b[0m\u001b[0m\n\u001b[1;32m     50\u001b[0m \u001b[0;34m\u001b[0m\u001b[0m\n",
      "\u001b[0;32m~/Development/notebooks/musimathics/Notes.py\u001b[0m in \u001b[0;36m<listcomp>\u001b[0;34m(.0)\u001b[0m\n\u001b[1;32m     46\u001b[0m             \u001b[0;32mraise\u001b[0m \u001b[0mArgumentException\u001b[0m\u001b[0;34m(\u001b[0m\u001b[0;34m'Invalid argument given to `render_notes`.'\u001b[0m\u001b[0;34m)\u001b[0m\u001b[0;34m\u001b[0m\u001b[0m\n\u001b[1;32m     47\u001b[0m \u001b[0;34m\u001b[0m\u001b[0m\n\u001b[0;32m---> 48\u001b[0;31m     \u001b[0mnote_sequences\u001b[0m \u001b[0;34m=\u001b[0m \u001b[0;34m[\u001b[0m\u001b[0minner_notes\u001b[0m \u001b[0;32mif\u001b[0m \u001b[0misinstance\u001b[0m\u001b[0;34m(\u001b[0m\u001b[0minner_notes\u001b[0m\u001b[0;34m,\u001b[0m \u001b[0mNoteSequence\u001b[0m\u001b[0;34m)\u001b[0m \u001b[0;32melse\u001b[0m \u001b[0mNoteSequence\u001b[0m\u001b[0;34m(\u001b[0m\u001b[0minner_notes\u001b[0m\u001b[0;34m)\u001b[0m \u001b[0;32mfor\u001b[0m \u001b[0minner_notes\u001b[0m \u001b[0;32min\u001b[0m \u001b[0mnotes\u001b[0m\u001b[0;34m]\u001b[0m\u001b[0;34m\u001b[0m\u001b[0m\n\u001b[0m\u001b[1;32m     49\u001b[0m     \u001b[0mmixed\u001b[0m \u001b[0;34m=\u001b[0m \u001b[0mnp\u001b[0m\u001b[0;34m.\u001b[0m\u001b[0mzeros\u001b[0m\u001b[0;34m(\u001b[0m\u001b[0mmax\u001b[0m\u001b[0;34m(\u001b[0m\u001b[0;34m[\u001b[0m\u001b[0mnote_sequence\u001b[0m\u001b[0;34m.\u001b[0m\u001b[0mnum_samples\u001b[0m\u001b[0;34m(\u001b[0m\u001b[0;34m)\u001b[0m \u001b[0;32mfor\u001b[0m \u001b[0mnote_sequence\u001b[0m \u001b[0;32min\u001b[0m \u001b[0mnote_sequences\u001b[0m\u001b[0;34m]\u001b[0m\u001b[0;34m)\u001b[0m\u001b[0;34m)\u001b[0m\u001b[0;34m\u001b[0m\u001b[0m\n\u001b[1;32m     50\u001b[0m \u001b[0;34m\u001b[0m\u001b[0m\n",
      "\u001b[0;32m~/Development/notebooks/musimathics/Notes.py\u001b[0m in \u001b[0;36m__init__\u001b[0;34m(self, notes)\u001b[0m\n\u001b[1;32m     11\u001b[0m         \u001b[0mself\u001b[0m\u001b[0;34m.\u001b[0m\u001b[0mnotes\u001b[0m \u001b[0;34m=\u001b[0m \u001b[0;34m[\u001b[0m\u001b[0mnote\u001b[0m \u001b[0;32mif\u001b[0m \u001b[0misinstance\u001b[0m\u001b[0;34m(\u001b[0m\u001b[0mnote\u001b[0m\u001b[0;34m,\u001b[0m \u001b[0mNote\u001b[0m\u001b[0;34m)\u001b[0m \u001b[0;32melse\u001b[0m \u001b[0mNote\u001b[0m\u001b[0;34m(\u001b[0m\u001b[0;34m*\u001b[0m\u001b[0mnote\u001b[0m\u001b[0;34m)\u001b[0m \u001b[0;32mfor\u001b[0m \u001b[0mnote\u001b[0m \u001b[0;32min\u001b[0m \u001b[0mnotes\u001b[0m\u001b[0;34m]\u001b[0m\u001b[0;34m\u001b[0m\u001b[0m\n\u001b[1;32m     12\u001b[0m         \u001b[0;32mif\u001b[0m \u001b[0mnotes\u001b[0m \u001b[0;32mand\u001b[0m \u001b[0mlen\u001b[0m\u001b[0;34m(\u001b[0m\u001b[0mnotes\u001b[0m\u001b[0;34m)\u001b[0m \u001b[0;34m>\u001b[0m \u001b[0;36m0\u001b[0m\u001b[0;34m:\u001b[0m\u001b[0;34m\u001b[0m\u001b[0m\n\u001b[0;32m---> 13\u001b[0;31m             \u001b[0mself\u001b[0m\u001b[0;34m.\u001b[0m\u001b[0mdata\u001b[0m \u001b[0;34m=\u001b[0m \u001b[0mnp\u001b[0m\u001b[0;34m.\u001b[0m\u001b[0mzeros\u001b[0m\u001b[0;34m(\u001b[0m\u001b[0mnp\u001b[0m\u001b[0;34m.\u001b[0m\u001b[0msum\u001b[0m\u001b[0;34m(\u001b[0m\u001b[0;34m[\u001b[0m\u001b[0mnote\u001b[0m\u001b[0;34m.\u001b[0m\u001b[0mduration_samples\u001b[0m \u001b[0;32mfor\u001b[0m \u001b[0mnote\u001b[0m \u001b[0;32min\u001b[0m \u001b[0mself\u001b[0m\u001b[0;34m.\u001b[0m\u001b[0mnotes\u001b[0m\u001b[0;34m]\u001b[0m\u001b[0;34m)\u001b[0m \u001b[0;34m+\u001b[0m \u001b[0mself\u001b[0m\u001b[0;34m.\u001b[0m\u001b[0mnotes\u001b[0m\u001b[0;34m[\u001b[0m\u001b[0;34m-\u001b[0m\u001b[0;36m1\u001b[0m\u001b[0;34m]\u001b[0m\u001b[0;34m.\u001b[0m\u001b[0mrelease_samples\u001b[0m\u001b[0;34m)\u001b[0m\u001b[0;34m\u001b[0m\u001b[0m\n\u001b[0m\u001b[1;32m     14\u001b[0m             \u001b[0mself\u001b[0m\u001b[0;34m.\u001b[0m\u001b[0mmix\u001b[0m\u001b[0;34m(\u001b[0m\u001b[0;34m)\u001b[0m\u001b[0;34m\u001b[0m\u001b[0m\n\u001b[1;32m     15\u001b[0m \u001b[0;34m\u001b[0m\u001b[0m\n",
      "\u001b[0;31mAttributeError\u001b[0m: 'Note' object has no attribute 'release_samples'"
     ]
    }
   ],
   "source": [
    "# just testing out my Notes...\n",
    "# order is (frequency, duration_seconds, attack_seconds, decay_seconds, sustain_level, release_seconds)\n",
    "# Notes can be either explicitly instantiated, i.e. Note(880, 2), or just specified as an argument tuple.\n",
    "# A frequency of `0` indicates a rest.\n",
    "render_notes_ipython((880, 2))"
   ]
  },
  {
   "cell_type": "code",
   "execution_count": null,
   "metadata": {},
   "outputs": [],
   "source": [
    "render_notes_ipython([(880, 0.4), (440, 0.2), (660, 0.6)] * 3 + [(220, 1)])"
   ]
  },
  {
   "cell_type": "code",
   "execution_count": null,
   "metadata": {},
   "outputs": [],
   "source": [
    "# render multiple lists of notes polyphonically:\n",
    "render_notes_ipython([\n",
    "    [(880, 0.4), (440, 0.2), (660, 0.6)] * 3 + [Note(220, 1, attack_seconds=0.5)],\n",
    "    [(1340, 0.2), (330, 0.3), (220, 0.2), (0, 0.2), (1100, 0.3)] * 3 + [Note(1100, 1, attack_seconds=0.5)]\n",
    "])"
   ]
  },
  {
   "cell_type": "markdown",
   "metadata": {},
   "source": [
    "## Equal-Tempered Intervals"
   ]
  },
  {
   "cell_type": "code",
   "execution_count": null,
   "metadata": {},
   "outputs": [],
   "source": [
    "total_semitones = 12\n",
    "\n",
    "def semitones_above_reference(reference_frequency, num_semitones):\n",
    "    return reference_frequency * 2 ** (num_semitones / total_semitones)"
   ]
  },
  {
   "cell_type": "code",
   "execution_count": null,
   "metadata": {},
   "outputs": [],
   "source": [
    "a_4_hertz = 440\n",
    "render_notes_ipython([Note(semitones_above_reference(a_4_hertz, num_semitones), 0.2, release_seconds=0.01) for num_semitones in range(0, 12)])"
   ]
  },
  {
   "cell_type": "code",
   "execution_count": null,
   "metadata": {},
   "outputs": [],
   "source": [
    "print('The size of the tempered semitone is: ', 2 ** (1/total_semitones))"
   ]
  },
  {
   "cell_type": "code",
   "execution_count": null,
   "metadata": {},
   "outputs": [],
   "source": [
    "middle_c_hertz = c_3_hertz = semitones_above_reference(a_4_hertz, -12 + 3)"
   ]
  },
  {
   "cell_type": "code",
   "execution_count": null,
   "metadata": {},
   "outputs": [],
   "source": [
    "middle_c_hertz"
   ]
  },
  {
   "cell_type": "markdown",
   "metadata": {},
   "source": [
    "We can specify an arbirary reference frequency for any scale:"
   ]
  },
  {
   "cell_type": "code",
   "execution_count": null,
   "metadata": {},
   "outputs": [],
   "source": [
    "render_notes_ipython([Note(semitones_above_reference(c_3_hertz, num_semitones), 0.2, release_seconds=0.01) for num_semitones in range(0, 12)])"
   ]
  },
  {
   "cell_type": "code",
   "execution_count": null,
   "metadata": {},
   "outputs": [],
   "source": [
    "render_notes_ipython([(semitones_above_reference(c_3_hertz + 10, num_semitones), 0.2) for num_semitones in range(0, 12)])"
   ]
  },
  {
   "cell_type": "markdown",
   "metadata": {},
   "source": [
    "## Just intervals"
   ]
  },
  {
   "cell_type": "code",
   "execution_count": null,
   "metadata": {},
   "outputs": [],
   "source": [
    "render_notes_ipython([(c_3_hertz * i,) for i in range(1, 7)])"
   ]
  },
  {
   "cell_type": "code",
   "execution_count": null,
   "metadata": {},
   "outputs": [],
   "source": [
    "just_ratios = [1/1, 2/1, 3/2, 4/3, 5/4, 6/5]\n",
    "# Intervals are added by multiplying their ratios.\n",
    "# E.g. a fifth plus a fourth should be an octave:\n",
    "just_ratios[2] * just_ratios[3]"
   ]
  },
  {
   "cell_type": "code",
   "execution_count": null,
   "metadata": {},
   "outputs": [],
   "source": [
    "# so we can also render those above notes like:\n",
    "freq = c_3_hertz\n",
    "notes = []\n",
    "for just_ratio in just_ratios:\n",
    "    freq *= just_ratio\n",
    "    notes.append((freq,))\n",
    "\n",
    "render_notes_ipython(notes)"
   ]
  },
  {
   "cell_type": "markdown",
   "metadata": {},
   "source": [
    "Ascend by fifths:"
   ]
  },
  {
   "cell_type": "code",
   "execution_count": null,
   "metadata": {},
   "outputs": [],
   "source": [
    "render_notes_ipython([(c_3_hertz * (3/2)**num_fifths,) for num_fifths in range(0, 7)])"
   ]
  },
  {
   "cell_type": "markdown",
   "metadata": {},
   "source": [
    "Ascend by fourths:"
   ]
  },
  {
   "cell_type": "code",
   "execution_count": null,
   "metadata": {},
   "outputs": [],
   "source": [
    "render_notes_ipython([(c_3_hertz * (4/3)**num_fourths,) for num_fourths in range(0, 7)])"
   ]
  },
  {
   "cell_type": "markdown",
   "metadata": {},
   "source": [
    "## Just Pentatonic Scale"
   ]
  },
  {
   "cell_type": "code",
   "execution_count": null,
   "metadata": {},
   "outputs": [],
   "source": [
    "f_just_ratio = just_ratios[3]\n",
    "g_just_ratio = just_ratios[2]\n",
    "d_just_ratio = g_just_ratio / just_ratios[3]\n",
    "a_just_ratio = d_just_ratio * just_ratios[2]\n",
    "just_pentatonic_scale_ratios = [1, d_just_ratio, f_just_ratio, g_just_ratio, a_just_ratio, 2]\n",
    "render_notes_ipython([(c_3_hertz * ratio,) for ratio in just_pentatonic_scale_ratios])"
   ]
  },
  {
   "cell_type": "code",
   "execution_count": null,
   "metadata": {},
   "outputs": [],
   "source": [
    "import math\n",
    "\n",
    "# 1 \"cent\" = 1/100th of a semitone\n",
    "def interval_to_cents(interval):\n",
    "    return 1200 * math.log(interval, 10) / math.log(2, 10)"
   ]
  },
  {
   "cell_type": "code",
   "execution_count": null,
   "metadata": {},
   "outputs": [],
   "source": [
    "interval_to_cents(3/2) # just fifth"
   ]
  },
  {
   "cell_type": "code",
   "execution_count": null,
   "metadata": {},
   "outputs": [],
   "source": [
    "interval_to_cents(semitones_above_reference(1, 7)) # tempered fifth (almost 2 cents flat of perfect fifth)"
   ]
  },
  {
   "cell_type": "code",
   "execution_count": null,
   "metadata": {},
   "outputs": [],
   "source": [
    "def cents_to_interval(cents):\n",
    "    return 10 ** (cents / (1200 /math.log(2, 10)))"
   ]
  },
  {
   "cell_type": "code",
   "execution_count": null,
   "metadata": {},
   "outputs": [],
   "source": [
    "round(cents_to_interval(1200)) # octave"
   ]
  },
  {
   "cell_type": "markdown",
   "metadata": {},
   "source": [
    "**Just fifth:**"
   ]
  },
  {
   "cell_type": "code",
   "execution_count": null,
   "metadata": {},
   "outputs": [],
   "source": [
    "render_notes_ipython([[(c_3_hertz, 5)], [(c_3_hertz * 3/2, 5)]])"
   ]
  },
  {
   "cell_type": "markdown",
   "metadata": {},
   "source": [
    "**Tempered (chromatic) fifth: (_the one we're stuck with_)**  \n",
    "(_you can actually hear the beat frequency pretty clearly if you listen close!_)"
   ]
  },
  {
   "cell_type": "code",
   "execution_count": null,
   "metadata": {},
   "outputs": [],
   "source": [
    "render_notes_ipython([[(c_3_hertz, 5)], [(semitones_above_reference(c_3_hertz, 7), 5)]])"
   ]
  },
  {
   "cell_type": "markdown",
   "metadata": {},
   "source": [
    "## Pythagorean Diatonic Scale (Just Diatonic Scale)"
   ]
  },
  {
   "cell_type": "markdown",
   "metadata": {},
   "source": [
    "**Pythagorean diatonic scale:**"
   ]
  },
  {
   "cell_type": "code",
   "execution_count": null,
   "metadata": {},
   "outputs": [],
   "source": [
    "e_just_ratio = a_just_ratio / just_ratios[3]\n",
    "b_just_ratio = e_just_ratio * just_ratios[2]\n",
    "pythagorean_diatonic_scale_ratios = [1, d_just_ratio, e_just_ratio, f_just_ratio, g_just_ratio, a_just_ratio, b_just_ratio, 2]\n",
    "render_notes_ipython([(c_3_hertz * ratio, ) for ratio in pythagorean_diatonic_scale_ratios])"
   ]
  },
  {
   "cell_type": "markdown",
   "metadata": {},
   "source": [
    "**C Major triad in Pythagorean Diatonic**:\n",
    "\n",
    "(Note that the 3rd in this chord has a ration 81/64, which is a little sharp of the 3rd harmonic ratio of 5/4)"
   ]
  },
  {
   "cell_type": "code",
   "execution_count": null,
   "metadata": {},
   "outputs": [],
   "source": [
    "render_notes_ipython([[(c_3_hertz * pythagorean_diatonic_scale_ratios[step], 5)] for step in [0, 2, 4]]) # 5 seconds long"
   ]
  },
  {
   "cell_type": "markdown",
   "metadata": {},
   "source": [
    "Same in chromatic scale (_still whack..._):"
   ]
  },
  {
   "cell_type": "code",
   "execution_count": null,
   "metadata": {},
   "outputs": [],
   "source": [
    "# vs the same one in the chromatic scale\n",
    "render_notes_ipython([[(semitones_above_reference(c_3_hertz, semitone), 5)] for semitone in [0, 4, 7]])"
   ]
  },
  {
   "cell_type": "markdown",
   "metadata": {},
   "source": [
    "With the 'perfect' 3rd and 5th intervals:"
   ]
  },
  {
   "cell_type": "code",
   "execution_count": null,
   "metadata": {},
   "outputs": [],
   "source": [
    "render_notes_ipython([[(c_3_hertz * ratio, 5)] for ratio in [1, 5/4, 3/2]])"
   ]
  },
  {
   "cell_type": "markdown",
   "metadata": {},
   "source": [
    "_Ahhh..._"
   ]
  },
  {
   "cell_type": "markdown",
   "metadata": {},
   "source": [
    "## Pythagorean Dodecaphonic Scale"
   ]
  },
  {
   "cell_type": "code",
   "execution_count": null,
   "metadata": {},
   "outputs": [],
   "source": [
    "import numpy as np\n",
    "\n",
    "fifth = 3/2\n",
    "pythagorean_dodecaphonic_scale_ratios = np.array([(fifth ** degree) for degree in range(-6, 7)])\n",
    "octave_shifts = np.array([4, 3, 3, 2, 2, 1, 0, 0, -1, -1, -2, -2, -3])\n",
    "pythagorean_dodecaphonic_scale_ratios = pythagorean_dodecaphonic_scale_ratios * (2.0 ** octave_shifts)\n",
    "pythagorean_dodecaphonic_scale_ratios.sort()\n",
    "print('Pythagorean Dodecaphonic Scale:')\n",
    "print('Notice how the 7th and 8th (G_b and F_#) are actually slightly different (but ideally would be the same).')\n",
    "render_notes_ipython([(c_3_hertz * ratio,) for ratio in pythagorean_dodecaphonic_scale_ratios])"
   ]
  },
  {
   "cell_type": "markdown",
   "metadata": {},
   "source": [
    "**This is why some historic keyboard instruments had some black keys split in two.  (Which keys would need this treatment depends on the reference pitch for the scale, which changes depending on the key.)**\n",
    "![](split_sharp.png)"
   ]
  },
  {
   "cell_type": "code",
   "execution_count": null,
   "metadata": {},
   "outputs": [],
   "source": [
    "pds_g_b = pythagorean_dodecaphonic_scale_ratios[6]\n",
    "pds_f_s = pythagorean_dodecaphonic_scale_ratios[7]\n",
    "\n",
    "assert(pds_g_b == 1024 / 729) # Gb has interval ratio 1024/729\n",
    "assert(pds_f_s == 729 / 512) # F# has interval ratio 729/512"
   ]
  },
  {
   "cell_type": "markdown",
   "metadata": {},
   "source": [
    "The \"_Pythagorean comma_\" (the interval between these almost-equal \"tritones\" has this ridiculously large ratio):"
   ]
  },
  {
   "cell_type": "code",
   "execution_count": null,
   "metadata": {},
   "outputs": [],
   "source": [
    "assert(pds_f_s / pds_g_b == 531441 / 524288)"
   ]
  },
  {
   "cell_type": "markdown",
   "metadata": {},
   "source": [
    "## Natural Chromatic Scale"
   ]
  },
  {
   "cell_type": "markdown",
   "metadata": {},
   "source": [
    "The natural chromatic scale was invented by Claudius Ptolemy, and was made to more closely align with the harmonic series that musicians seemed to more naturally tend towards."
   ]
  },
  {
   "cell_type": "markdown",
   "metadata": {},
   "source": [
    "Natural Chromatic Scale:"
   ]
  },
  {
   "cell_type": "code",
   "execution_count": null,
   "metadata": {},
   "outputs": [],
   "source": [
    "natural_chromatic_scale_ratios = [1/1, 16/15, 9/8, 6/5, 5/4, 4/3, 64/45, 3/2, 8/5, 5/3, 16/9, 15/8, 2/1]\n",
    "render_notes_ipython([(c_3_hertz * ratio,) for ratio in natural_chromatic_scale_ratios])"
   ]
  },
  {
   "cell_type": "markdown",
   "metadata": {},
   "source": [
    "Let's hear that C Major triad again:\n",
    "Note that this is by design the same as the 'perfect intervals' major triad above."
   ]
  },
  {
   "cell_type": "code",
   "execution_count": null,
   "metadata": {},
   "outputs": [],
   "source": [
    "render_notes_ipython([[(c_3_hertz * natural_chromatic_scale_ratios[step], 5)] for step in [0, 4, 7]])"
   ]
  },
  {
   "cell_type": "markdown",
   "metadata": {},
   "source": [
    "But this still doesn't transpose well. Consider the major triad at D (you can here the \"wolf howl\" of the beat frequencies):"
   ]
  },
  {
   "cell_type": "code",
   "execution_count": null,
   "metadata": {},
   "outputs": [],
   "source": [
    "render_notes_ipython([[(c_3_hertz * natural_chromatic_scale_ratios[step], 5)] for step in [2, 6, 9]])"
   ]
  },
  {
   "cell_type": "markdown",
   "metadata": {},
   "source": [
    "## Foundations of Consonance"
   ]
  },
  {
   "cell_type": "markdown",
   "metadata": {},
   "source": [
    "Just intervals ordered by decreasing consonance (based on convention of Western musical theory):"
   ]
  },
  {
   "cell_type": "code",
   "execution_count": null,
   "metadata": {},
   "outputs": [],
   "source": [
    "# perfect intervals\n",
    "unison = 1/1\n",
    "octave = 2/1\n",
    "fifth = 3/2\n",
    "fourth = 4/3\n",
    "\n",
    "# imperfect intervals\n",
    "major_sixth = 5/3\n",
    "major_third = 5/4\n",
    "minor_third = 6/5\n",
    "minor_sixth = 8/5\n",
    "\n",
    "# dissonant intervals\n",
    "major_second = 9/8\n",
    "major_seventh = 15/8\n",
    "minor_seventh = 16/9\n",
    "minor_second = 16/15\n",
    "tritone = 64/45\n",
    "\n",
    "just_ratios_by_consonance = [unison, octave, fifth, fourth, major_sixth, major_third, minor_third, minor_sixth, major_second, major_seventh, minor_seventh, minor_second, tritone]\n",
    "\n",
    "render_notes_ipython([[(c_3_hertz, 2)] * len(just_ratios_by_consonance), [(c_3_hertz * just_ratio, 2) for just_ratio in just_ratios_by_consonance]])"
   ]
  },
  {
   "cell_type": "markdown",
   "metadata": {},
   "source": [
    "Giovanni Battista Benedetti (1530-1590) is probably the first to relate pitch and consonance to frequencies of vibration, proposing that wavelengths that coincide (line up) more are more consonant (pleasing)."
   ]
  },
  {
   "cell_type": "markdown",
   "metadata": {},
   "source": [
    "By this order, the some non-_superparticular_ ratios are more pleasing than _superparticular_ ratios (ratios composed of the form $\\frac{n + 1}{n}$).\n",
    "\n",
    "For example, under this hypothesis, the ratio $\\frac{7}{5}$ (which isn't is not even used in the scale) is more consonant than the minor 6th ($\\frac{8}{5}$):"
   ]
  },
  {
   "cell_type": "markdown",
   "metadata": {},
   "source": [
    "**Is the unused $\\frac{7}{5}$ interval...**"
   ]
  },
  {
   "cell_type": "code",
   "execution_count": null,
   "metadata": {},
   "outputs": [],
   "source": [
    "render_notes_ipython([[(c_3_hertz, 3)], [(c_3_hertz * 7/5, 3)]])"
   ]
  },
  {
   "cell_type": "markdown",
   "metadata": {},
   "source": [
    "**more consonant than the Minor 6th ($\\frac{8}{5}$)?**"
   ]
  },
  {
   "cell_type": "code",
   "execution_count": null,
   "metadata": {},
   "outputs": [],
   "source": [
    "render_notes_ipython([[(c_3_hertz, 3)], [(c_3_hertz * 8/5, 3)]])"
   ]
  },
  {
   "cell_type": "markdown",
   "metadata": {},
   "source": [
    "## The Powers of the Fifth and the Octave Do Not Form a Closed System"
   ]
  },
  {
   "cell_type": "markdown",
   "metadata": {},
   "source": [
    "There are several other notable attempts at keeping the just 5th and 3rd intervals, or other small-integer ratios, which still allowing transposition. But they all make compromises.\n",
    "\n",
    "The fundamental reason is that going up octaves by 5ths does not end up on the same frequency as going up by octaves the same amount:"
   ]
  },
  {
   "cell_type": "code",
   "execution_count": null,
   "metadata": {},
   "outputs": [],
   "source": [
    "fifth ** 12 # (3/2) ** 12"
   ]
  },
  {
   "cell_type": "code",
   "execution_count": null,
   "metadata": {},
   "outputs": [],
   "source": [
    "octave ** 7 # (2/1) ** 7"
   ]
  },
  {
   "cell_type": "markdown",
   "metadata": {},
   "source": [
    "In fact, it can be proven that there are no integers $m$ and $n$ such that\n",
    "\n",
    "$(\\frac{3}{2})^m = (\\frac{2}{1})^n$,\n",
    "\n",
    "apart from the trivial sollution $m = n = 0$."
   ]
  },
  {
   "cell_type": "code",
   "execution_count": null,
   "metadata": {},
   "outputs": [],
   "source": [
    "print('The closest one in reach is %.03f cents difference.' % interval_to_cents((fifth ** 12) / (octave ** 7)))"
   ]
  },
  {
   "cell_type": "markdown",
   "metadata": {},
   "source": [
    "This is the same as the \"_Pythagorean comma_\" above:"
   ]
  },
  {
   "cell_type": "code",
   "execution_count": null,
   "metadata": {},
   "outputs": [],
   "source": [
    "'%0.03f' % interval_to_cents(pds_f_s / pds_g_b)"
   ]
  },
  {
   "cell_type": "markdown",
   "metadata": {},
   "source": [
    "We could choose $m = 53, n = 31$ for only..."
   ]
  },
  {
   "cell_type": "code",
   "execution_count": null,
   "metadata": {},
   "outputs": [],
   "source": [
    "print('%.03f cents difference.' % interval_to_cents((fifth ** 53) / (octave ** 31)))"
   ]
  },
  {
   "cell_type": "markdown",
   "metadata": {},
   "source": [
    "## Interval Error of Equal-Tempered Tuning"
   ]
  },
  {
   "cell_type": "markdown",
   "metadata": {},
   "source": [
    "**Comparison of Natural and Equal-Tempered Chromatic Intervals:**"
   ]
  },
  {
   "cell_type": "code",
   "execution_count": null,
   "metadata": {},
   "outputs": [],
   "source": [
    "def find_element_closest_to_value(items, value):\n",
    "    return min(items, key=lambda x: abs(x - value))\n",
    "\n",
    "def scale_cent_comparisons(scale_ratios, other_scale_ratios):\n",
    "    cent_comparisons = [interval_to_cents(find_element_closest_to_value(other_scale_ratios, ratio) / ratio) for i, ratio in enumerate(scale_ratios)]\n",
    "    return [cent_comparison % -100.0 if cent_comparison % 100.0 >= 50 else cent_comparison % 100.0 for cent_comparison in cent_comparisons]\n",
    "\n",
    "equal_tempered_ratios = [(2 ** (1/12) ** i) for i in range(13)]\n",
    "\n",
    "equal_tempered_natural_ratio_comparisons = scale_cent_comparisons(natural_chromatic_scale_ratios, equal_tempered_ratios)[:-1]\n",
    "[print('Degree %i\\t%0.03f\\tcents' % (i + 1, relative_cent_comparison)) for i, relative_cent_comparison in enumerate(equal_tempered_natural_ratio_comparisons)]"
   ]
  },
  {
   "cell_type": "markdown",
   "metadata": {},
   "source": [
    "Note that the worst errors are for the minor and major thirds and sixths."
   ]
  },
  {
   "cell_type": "markdown",
   "metadata": {},
   "source": [
    "## Goodness-of-Fit Metric"
   ]
  },
  {
   "cell_type": "code",
   "execution_count": null,
   "metadata": {},
   "outputs": [],
   "source": [
    "print('Total error: %0.03f cents' % np.abs(equal_tempered_natural_ratio_comparisons).sum())"
   ]
  },
  {
   "cell_type": "markdown",
   "metadata": {},
   "source": [
    "## 19-Tone Scale"
   ]
  },
  {
   "cell_type": "markdown",
   "metadata": {},
   "source": [
    "The 19-tone equitempered scale has major and minor thirds and major and minor sixths all closer than the corresponding 12-tone equal-tempered (chromatic) intervals.  However, the fifth is much worse than the 12-tone chromatic scale:"
   ]
  },
  {
   "cell_type": "code",
   "execution_count": null,
   "metadata": {},
   "outputs": [],
   "source": [
    "nineteen_tone_scale_interval = 2 ** (1 / 19)\n",
    "interval_to_cents(nineteen_tone_scale_interval)"
   ]
  },
  {
   "cell_type": "code",
   "execution_count": null,
   "metadata": {},
   "outputs": [],
   "source": [
    "nineteen_tone_scale_ratios = [nineteen_tone_scale_interval ** i for i in range(19)]\n",
    "nineteen_tone_natural_ratio_comparisons = scale_cent_comparisons(natural_chromatic_scale_ratios, nineteen_tone_scale_ratios)[:-1]\n",
    "[print('Degree %i\\t%0.03f\\tcents' % (i + 1, relative_cent_comparison)) for i, relative_cent_comparison in enumerate(nineteen_tone_natural_ratio_comparisons)]"
   ]
  },
  {
   "cell_type": "code",
   "execution_count": null,
   "metadata": {},
   "outputs": [],
   "source": [
    "print('Total error: %0.03f cents' % np.abs(nineteen_tone_natural_ratio_comparisons).sum())"
   ]
  },
  {
   "cell_type": "markdown",
   "metadata": {},
   "source": [
    "This shows that the 10-tone scale still does a little worse than the 12-tone overall.\n",
    "\n",
    "Let's listen to it:"
   ]
  },
  {
   "cell_type": "code",
   "execution_count": null,
   "metadata": {},
   "outputs": [],
   "source": [
    "render_notes_ipython([(c_3_hertz * ratio, 0.3) for ratio in nineteen_tone_scale_ratios])"
   ]
  },
  {
   "cell_type": "markdown",
   "metadata": {},
   "source": [
    "## Quarter-Tone Scale"
   ]
  },
  {
   "cell_type": "markdown",
   "metadata": {},
   "source": [
    "The quarter-tone scale is formulated by simply halving the semitones of the chromatic tempered scale."
   ]
  },
  {
   "cell_type": "code",
   "execution_count": null,
   "metadata": {},
   "outputs": [],
   "source": [
    "quarter_tone_interval = 2 ** (1 / 24)\n",
    "quarter_tone_scale_ratios = [quarter_tone_interval ** i for i in range(24)]\n",
    "render_notes_ipython([(c_3_hertz * ratio, 0.3) for ratio in quarter_tone_scale_ratios])"
   ]
  },
  {
   "cell_type": "markdown",
   "metadata": {},
   "source": [
    "It is a superset of the equal-tempered scale.  To hear this, let's hear every other note:"
   ]
  },
  {
   "cell_type": "code",
   "execution_count": null,
   "metadata": {},
   "outputs": [],
   "source": [
    "render_notes_ipython([(c_3_hertz * ratio, 0.3) for i, ratio in enumerate(quarter_tone_scale_ratios) if i % 2 == 0])"
   ]
  },
  {
   "cell_type": "markdown",
   "metadata": {},
   "source": [
    "Of course, its goodness of fit to the natural chromatic scale is the same as the equal-tempered scale."
   ]
  },
  {
   "cell_type": "code",
   "execution_count": null,
   "metadata": {},
   "outputs": [],
   "source": [
    "# just to be sure of that:\n",
    "print('Total error: %0.03f cents' % np.abs(scale_cent_comparisons(natural_chromatic_scale_ratios, quarter_tone_scale_ratios)[:-1]).sum())"
   ]
  },
  {
   "cell_type": "markdown",
   "metadata": {},
   "source": [
    "## 53-Tone Scale"
   ]
  },
  {
   "cell_type": "markdown",
   "metadata": {},
   "source": [
    "Recall that the encounter of 53 fifths and 31 octaves is only 3.615 cents apart:"
   ]
  },
  {
   "cell_type": "code",
   "execution_count": null,
   "metadata": {},
   "outputs": [],
   "source": [
    "interval_to_cents((fifth ** 53) / (octave ** 31))"
   ]
  },
  {
   "cell_type": "markdown",
   "metadata": {},
   "source": [
    "Thus, a 53-tone scale achieves the best accumulated error yet:"
   ]
  },
  {
   "cell_type": "code",
   "execution_count": null,
   "metadata": {},
   "outputs": [],
   "source": [
    "fifty_three_tone_interval = 2 ** (1 / 53)\n",
    "fifty_three_tone_scale_ratios = [fifty_three_tone_interval ** i for i in range(53)]\n",
    "\n",
    "print('Total error: %0.03f cents' % np.abs(scale_cent_comparisons(natural_chromatic_scale_ratios, fifty_three_tone_scale_ratios)[:-1]).sum())"
   ]
  },
  {
   "cell_type": "markdown",
   "metadata": {},
   "source": [
    "Let's hear this one, too! _(With short notes so we can do something else with our day after)_:"
   ]
  },
  {
   "cell_type": "code",
   "execution_count": null,
   "metadata": {},
   "outputs": [],
   "source": [
    "render_notes_ipython([Note(c_3_hertz * ratio, 0.2, 0.8, 0.05, 0.1, 0.9, 0.01) for ratio in fifty_three_tone_scale_ratios])"
   ]
  },
  {
   "cell_type": "markdown",
   "metadata": {},
   "source": [
    "## Hindustani Scales"
   ]
  },
  {
   "cell_type": "markdown",
   "metadata": {},
   "source": [
    "The intervals commonly given for the 22-sruti scale are composed of both the natural chromatic and Pythagorean chromatic scales, plus four additional intervals not in either."
   ]
  },
  {
   "cell_type": "code",
   "execution_count": null,
   "metadata": {},
   "outputs": [],
   "source": [
    "hindustani_scale_ratios = [1/1, 256/243, 16/15, 10/9, 9/8, 32/27, 6/5, 5/4, 81/64, 4/3, 27/20, 45/32, 729/512, 3/2, 128/81, 8/5, 5/3, 27/16, 16/9, 9/5, 15/8, 243/128]\n",
    "render_notes_ipython([(c_3_hertz * ratio,) for ratio in hindustani_scale_ratios])"
   ]
  },
  {
   "cell_type": "markdown",
   "metadata": {},
   "source": [
    "## The Bohlen-Pierce Just Scale"
   ]
  },
  {
   "cell_type": "markdown",
   "metadata": {},
   "source": [
    "The Bohlen-Pierce scale is a non-octave-based scale developed late in the twentieth century.\n",
    "\n",
    "It is built around 3:5:7 ratios and the compass of an octave and a fifth (a twelfth).  This was dubbed the _tritave_ by John Pierce, who independently discovered this scale system."
   ]
  },
  {
   "cell_type": "code",
   "execution_count": null,
   "metadata": {},
   "outputs": [],
   "source": [
    "bohlen_pierce_just_scale_ratios = [1/1, 9/7, 7/5, 5/3, 9/5, 15/7, 7/3, 3/1]\n",
    "render_notes_ipython([(c_3_hertz * ratio,) for ratio in bohlen_pierce_just_scale_ratios])"
   ]
  },
  {
   "cell_type": "markdown",
   "metadata": {},
   "source": [
    "## The Bohlen-Pierce Chromatic Scale"
   ]
  },
  {
   "cell_type": "code",
   "execution_count": null,
   "metadata": {},
   "outputs": [],
   "source": [
    "bohlen_pierce_chromatic_scale_ratios = [1/1, 27/25, 25/21, 9/7, 7/5, 75/49, 5/3, 9/5, 49/25, 15/7, 7/3, 63/25, 25/9, 3/1]\n",
    "render_notes_ipython([(c_3_hertz * ratio,) for ratio in bohlen_pierce_chromatic_scale_ratios])"
   ]
  },
  {
   "cell_type": "markdown",
   "metadata": {},
   "source": [
    "## The Bohlen-Pierce Equal-Tempered Scale"
   ]
  },
  {
   "cell_type": "code",
   "execution_count": null,
   "metadata": {},
   "outputs": [],
   "source": [
    "bohlen_pierce_interval = 3 ** (1 / 13)\n",
    "bohlen_pierce_equal_tempered_scale_ratios = [bohlen_pierce_interval ** i for i in range(14)]\n",
    "render_notes_ipython([(c_3_hertz * ratio,) for ratio in bohlen_pierce_equal_tempered_scale_ratios])"
   ]
  },
  {
   "cell_type": "code",
   "execution_count": null,
   "metadata": {},
   "outputs": [],
   "source": [
    "print('Total error: %0.03f cents' % np.abs(scale_cent_comparisons(bohlen_pierce_chromatic_scale_ratios, bohlen_pierce_equal_tempered_scale_ratios)).sum())"
   ]
  },
  {
   "cell_type": "markdown",
   "metadata": {},
   "source": [
    "Note that the equal-tempered version of the Bohlen-Pierce scale is a much closer fit to its just-chromatic counterpart than the 103.624 cent goodness-of-fit for the equal-tempered scale."
   ]
  },
  {
   "cell_type": "markdown",
   "metadata": {},
   "source": [
    "Here is an example of an actual usage of this scale system from Dr. Richard Boulanger: https://www.youtube.com/watch?v=Jq8RIE3iDD4"
   ]
  },
  {
   "cell_type": "code",
   "execution_count": null,
   "metadata": {},
   "outputs": [],
   "source": []
  }
 ],
 "metadata": {
  "kernelspec": {
   "display_name": "Python 3",
   "language": "python",
   "name": "python3"
  },
  "language_info": {
   "codemirror_mode": {
    "name": "ipython",
    "version": 3
   },
   "file_extension": ".py",
   "mimetype": "text/x-python",
   "name": "python",
   "nbconvert_exporter": "python",
   "pygments_lexer": "ipython3",
   "version": "3.6.4"
  }
 },
 "nbformat": 4,
 "nbformat_minor": 2
}
