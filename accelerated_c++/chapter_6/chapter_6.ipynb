{
 "cells": [
  {
   "cell_type": "markdown",
   "metadata": {},
   "source": [
    "## Chapter 6\n",
    "# Using library algorithms"
   ]
  },
  {
   "cell_type": "markdown",
   "metadata": {},
   "source": [
    "## Exercises"
   ]
  },
  {
   "cell_type": "markdown",
   "metadata": {},
   "source": [
    "**6-0.** Compile, execute and test the programs in this chapter."
   ]
  },
  {
   "cell_type": "markdown",
   "metadata": {},
   "source": [
    "Student grades-related code implemented in `grading.cpp`, `grade.h` and `grade.c`.  \n",
    "Url finding code implemented in `find_urls.cpp`."
   ]
  },
  {
   "cell_type": "markdown",
   "metadata": {},
   "source": [
    "**6-1.** Reimplement the `frame` and `hcat` operations from 5.8.1/93 and 5.8.3/94 to use iterators."
   ]
  },
  {
   "cell_type": "markdown",
   "metadata": {},
   "source": [
    "**6-2.** Write a program to test the `find_urls` function."
   ]
  },
  {
   "cell_type": "markdown",
   "metadata": {},
   "source": [
    "**6-3.** What does this program fragment do?  \n",
    "```\n",
    "vector<int> u(10, 100);\n",
    "vector<int> v;\n",
    "copy(u.begin(), u.end(), v.begin());\n",
    "```\n",
    "\n",
    "Write a program that contains this fragment, and compile and execute it."
   ]
  },
  {
   "cell_type": "markdown",
   "metadata": {},
   "source": [
    "**6-4.** Correct the program you wrote in the previous exercise to copy from `u` into `v`. There are at least two possible ways to correct the program. Implement both, and describe the relative advantages and disadvantages of each approach."
   ]
  },
  {
   "cell_type": "markdown",
   "metadata": {},
   "source": [
    "**6-5.** Write an analysis function to call `optimistic_median`."
   ]
  },
  {
   "cell_type": "markdown",
   "metadata": {},
   "source": [
    "**6-6.** Note that the function from the previous exercise and the functions from 6.2.2/113 and 6.2.3/115 do the same task. Merge these three analysis functions into a single function."
   ]
  },
  {
   "cell_type": "markdown",
   "metadata": {},
   "source": [
    "**6-7.** The portion of the grading analysis program from 6.2.1/110 that read and classified student records depending on whether they did (or did not) do all the homework is similar to the problem we solved in `extract_fails`. Write a function to handle this subproblem."
   ]
  },
  {
   "cell_type": "markdown",
   "metadata": {},
   "source": [
    "**6-8.** Write a single function that can be used to classify studens based on criteria of your choise. Test this function by using it in place of the `extract_fails` program, and use it in the program to analyze student grades."
   ]
  },
  {
   "cell_type": "markdown",
   "metadata": {},
   "source": [
    "**6-9.** Use a library algorithm to concatenate all the elements of a `vector<string>`."
   ]
  },
  {
   "cell_type": "code",
   "execution_count": null,
   "metadata": {},
   "outputs": [],
   "source": []
  }
 ],
 "metadata": {
  "kernelspec": {
   "display_name": "C++11",
   "language": "C++",
   "name": "cling-cpp11"
  },
  "language_info": {
   "codemirror_mode": "c++",
   "file_extension": ".c++",
   "mimetype": "text/x-c++src",
   "name": "c++"
  }
 },
 "nbformat": 4,
 "nbformat_minor": 2
}
