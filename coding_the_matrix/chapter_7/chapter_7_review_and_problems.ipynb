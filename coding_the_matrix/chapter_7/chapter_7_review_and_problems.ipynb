{
 "cells": [
  {
   "cell_type": "markdown",
   "metadata": {},
   "source": [
    "## Chapter 7\n",
    "# Gaussian Elimination"
   ]
  },
  {
   "cell_type": "markdown",
   "metadata": {},
   "source": [
    "## 7.9 Review questions"
   ]
  },
  {
   "cell_type": "markdown",
   "metadata": {},
   "source": [
    "**What is echelon form?**"
   ]
  },
  {
   "cell_type": "markdown",
   "metadata": {},
   "source": [
    "A matrix is in echelon form if for any row, if that row's first nonzero entry is in position $k$ then every previous row's first nonzero entry is in a position less than $k$."
   ]
  },
  {
   "cell_type": "markdown",
   "metadata": {},
   "source": [
    "**What can we learn about the rank of a matrix in echelon form?**"
   ]
  },
  {
   "cell_type": "markdown",
   "metadata": {},
   "source": [
    "The rank of a matrix in echelon form is the number of its nonzero rows."
   ]
  },
  {
   "cell_type": "markdown",
   "metadata": {},
   "source": [
    "**How can a matrix be converted into echelon form by multiplication by an invertible matrix?**"
   ]
  },
  {
   "cell_type": "markdown",
   "metadata": {},
   "source": [
    "We can compute an elementary row-addition matrix by keeping track of the row additions during the Gaussian elimination process for a matrix, and then left-multiply this row-addition matrix by the given invertible matrix to get the echelon form of the matrix."
   ]
  },
  {
   "cell_type": "markdown",
   "metadata": {},
   "source": [
    "**How can Gaussian elimination be used to find a basis for the null space of a matrix?**"
   ]
  },
  {
   "cell_type": "markdown",
   "metadata": {},
   "source": [
    "We first use the above described process using Gaussian elimination to find the matrix $M$ that, when multiplied with the given matrix, produces its echelon form. Then we find the positions of the zero-vectors in the echelon-form matrix. Then, the corresponding rows in $M$ will form the basis of the null space of the matrix."
   ]
  },
  {
   "cell_type": "markdown",
   "metadata": {},
   "source": [
    "**How can Gaussian elimination be used to solve a matrix-vector equation when the matrix is invertible?**"
   ]
  },
  {
   "cell_type": "markdown",
   "metadata": {},
   "source": [
    "To solve a matrix-vector equation $A\\boldsymbol{x} = \\boldsymbol{b}$, find a matrix $M$ such that $MA$ is a matrix in echelon form, and solve the equation $MA\\boldsymbol{x} = M\\boldsymbol{B}$ using a simpler technique like backward-substitution (which is possible since the left-hand matrix is in echelon form)."
   ]
  },
  {
   "cell_type": "markdown",
   "metadata": {},
   "source": [
    "## Problems"
   ]
  },
  {
   "cell_type": "markdown",
   "metadata": {},
   "source": [
    "### Practice on Gaussian elimination"
   ]
  },
  {
   "cell_type": "markdown",
   "metadata": {},
   "source": [
    "**Problem 7.9.1:** Carry out Gaussian elimination by hand for the following matrix over $GF(2)$. Handle the columns in the order $A, B, C, D$. For each of the column-labels, tell us\n",
    "* which row you select as the pivot row,\n",
    "* which rows the pivot row is added to (if any), and\n",
    "* what the resulting matrix is.\n",
    "\n",
    "Finally, reorder the rows of the resulting matrix to obtain a matrix in echelon form.\n",
    "\n",
    "||A|B|C|D\n",
    "|-|\n",
    "|0|one|one|0|0\n",
    "|1|one|0|one|0\n",
    "|2|0|one|one|one\n",
    "|3|one|0|0|0"
   ]
  },
  {
   "cell_type": "markdown",
   "metadata": {},
   "source": [
    "For column A, select row 0 as the pivot row.  Since rows 1 and 3 also have $one$s in column A, add row 1 to rows 1 and 3, obtaining the matrix\n",
    "\n",
    "||A|B|C|D\n",
    "|-|\n",
    "|0|one|one|0|0\n",
    "|1|0|one|one|0\n",
    "|2|0|one|one|one\n",
    "|3|0|one|0|0"
   ]
  },
  {
   "cell_type": "markdown",
   "metadata": {},
   "source": [
    "For column B, select row 1 as the pivot row. Since rows 2 and 3 also have `one`s in column B, add row 1 to rows 2 and 3 (row 1 has already been a pivot row, so is not a candidate), obtaining the matrix\n",
    "\n",
    "||A|B|C|D\n",
    "|-|\n",
    "|0|one|one|0|0\n",
    "|1|0|one|one|0\n",
    "|2|0|0|0|one\n",
    "|3|0|0|one|0"
   ]
  },
  {
   "cell_type": "markdown",
   "metadata": {},
   "source": [
    "For column C, select row 3 as the pivot row. Since the only remaining row is row 2, and it does not have a $one$ in column C, there is nothing to do, and we have the same matrix.\n",
    "\n",
    "For column D, the only remaining row is row 2.  There are no other $one$s in column D, so there is nothing to do.\n",
    "\n",
    "Reordering the rows into echelon form, we have\n",
    "\n",
    "||A|B|C|D\n",
    "|-|\n",
    "|0|one|one|0|0\n",
    "|1|0|one|one|0\n",
    "|2|0|0|one|0\n",
    "|3|0|0|0|one"
   ]
  },
  {
   "cell_type": "markdown",
   "metadata": {},
   "source": [
    "### Recognizing echelon form"
   ]
  },
  {
   "cell_type": "markdown",
   "metadata": {},
   "source": [
    "**Problem 7.9.2:** Each of the matrices given below is almost in echelon form; replace the _minimum_ number of elements with zeroes to obtain a matrix in echelon form. You are not allowed to reorder the rows or columns of the matrix. (No Gaussian elimination steps needed.)\n",
    "\n",
    "Example: Given the matrix\n",
    "\n",
    "$\\begin{bmatrix}1 &2 &3 &4\\\\9 &2 &3 &4\\\\0 &0 &3 &4\\\\0 &8 &0 &4\\end{bmatrix}$\n",
    "\n",
    "you would replace the 9 and 8 with zeroes, so your answer would be the matrix\n",
    "\n",
    "$\\begin{bmatrix}1 &2 &3 &4\\\\0 &2 &3 &4\\\\0 &0 &3 &4\\\\0 &0 &0 &4\\end{bmatrix}$\n",
    "\n",
    "1. $\\begin{bmatrix}1 &2 &0 &2 &0\\\\0 &1 &0 &3 &4\\\\0 &0 &2 &3 &4\\\\1 &0 &0 &2 &0\\\\0 &3 &0 &0 &4\\end{bmatrix}$\n",
    "\n",
    "  $\\begin{bmatrix}1 &2 &0 &2 &0\\\\0 &1 &0 &3 &4\\\\0 &0 &2 &3 &4\\\\0 &0 &0 &2 &0\\\\0 &0 &0 &0 &4\\end{bmatrix}$\n",
    "  \n",
    "2. $\\begin{bmatrix}0 &4 &3 &4 &4\\\\6 &5 &4 &2 &0\\\\0 &0 &0 &0 &1\\\\0 &0 &0 &0 &2\\end{bmatrix}$\n",
    "\n",
    "  $\\begin{bmatrix}0 &4 &3 &4 &4\\\\0 &0 &4 &2 &0\\\\0 &0 &0 &0 &1\\\\0 &0 &0 &0 &0\\end{bmatrix}$\n",
    "\n",
    "3. $\\begin{bmatrix}1 &0 &0 &1\\\\1 &0 &0 &1\\\\0 &0 &0 &1\\end{bmatrix}$\n",
    "\n",
    "  $\\begin{bmatrix}1 &0 &0 &1\\\\0 &0 &0 &1\\\\0 &0 &0 &0\\end{bmatrix}$\n",
    "\n",
    "4. $\\begin{bmatrix}1 &0 &0 &0\\\\0 &1 &0 &0\\\\1 &1 &0 &0\\\\0 &0 &0 &1\\end{bmatrix}$\n",
    "\n",
    "  $\\begin{bmatrix}1 &0 &0 &0\\\\0 &1 &0 &0\\\\0 &0 &0 &0\\\\0 &0 &0 &0\\end{bmatrix}$"
   ]
  },
  {
   "cell_type": "markdown",
   "metadata": {},
   "source": [
    "**Problem 7.9.3:** Write a procedure `is_echelon(A)` that takes a matrix in list of row lists and returns `True` if it is echelon form, and `False` otherwise.\n",
    "\n",
    "Try out your procedure on the following matrices:\n",
    "\n",
    "$\\begin{bmatrix}2 &1 &0\\\\0 &-4 &0\\\\0 &0 &1\\end{bmatrix}$ (True), $\\begin{bmatrix}2 &1 &0\\\\-4 &0 &0\\\\0 &0 &1\\end{bmatrix}$ (False), $\\begin{bmatrix}2 &1 &0\\\\0 &3 &0\\\\1 &0 &1\\end{bmatrix}$ (False), $\\begin{bmatrix}1 &1 &1 &1 &1\\\\0 &2 &0 &1 &3\\\\0 &0 &0 &5 &3\\end{bmatrix}$ (True)"
   ]
  },
  {
   "cell_type": "code",
   "execution_count": 2,
   "metadata": {},
   "outputs": [],
   "source": [
    "def is_echelon(A):\n",
    "    previous_first_nonzero_column_index = -1\n",
    "    for row in A:\n",
    "        for i, col in enumerate(row):\n",
    "            if col != 0:\n",
    "                if i <= previous_first_nonzero_column_index:\n",
    "                    return False\n",
    "                previous_first_nonzero_column_index = i\n",
    "                break\n",
    "    return True"
   ]
  },
  {
   "cell_type": "code",
   "execution_count": 3,
   "metadata": {},
   "outputs": [
    {
     "data": {
      "text/plain": [
       "True"
      ]
     },
     "execution_count": 3,
     "metadata": {},
     "output_type": "execute_result"
    }
   ],
   "source": [
    "is_echelon([[2, 1, 0], [0, -4, 0], [0, 0, 1]])"
   ]
  },
  {
   "cell_type": "code",
   "execution_count": 4,
   "metadata": {},
   "outputs": [
    {
     "data": {
      "text/plain": [
       "False"
      ]
     },
     "execution_count": 4,
     "metadata": {},
     "output_type": "execute_result"
    }
   ],
   "source": [
    "is_echelon([[2, 1, 0], [-4, 0, 0], [0, 0, 1]])"
   ]
  },
  {
   "cell_type": "code",
   "execution_count": 5,
   "metadata": {},
   "outputs": [
    {
     "data": {
      "text/plain": [
       "False"
      ]
     },
     "execution_count": 5,
     "metadata": {},
     "output_type": "execute_result"
    }
   ],
   "source": [
    "is_echelon([[2, 1, 0], [0, 3, 0], [1, 0, 1]])"
   ]
  },
  {
   "cell_type": "code",
   "execution_count": 6,
   "metadata": {},
   "outputs": [
    {
     "data": {
      "text/plain": [
       "True"
      ]
     },
     "execution_count": 6,
     "metadata": {},
     "output_type": "execute_result"
    }
   ],
   "source": [
    "is_echelon([[1, 1, 1, 1, 1], [0, 2, 0, 1, 3], [0, 0, 0, 5, 3]])"
   ]
  },
  {
   "cell_type": "markdown",
   "metadata": {},
   "source": [
    "### Solving a matrix-vector equation when the matrix is in echelon form"
   ]
  },
  {
   "cell_type": "markdown",
   "metadata": {},
   "source": [
    "**Problem 7.9.4:** For each of the following matrix-vector equations, find the solution:\n",
    "\n",
    "**a)** $\\begin{bmatrix}10 &2 &-3 &53\\\\0 &0 &1 &2013\\end{bmatrix} * \\begin{bmatrix}x_1,x_2,x_3,x_4\\end{bmatrix} = \\begin{bmatrix}1,3\\end{bmatrix}$\n",
    "\n",
    "Ignoring columns 2 and 4, we have\n",
    "\n",
    "$\\begin{bmatrix}10 &-3\\\\0 &1\\end{bmatrix} * \\begin{bmatrix}x_1,x_3\\end{bmatrix} = \\begin{bmatrix}1,3\\end{bmatrix}$\n",
    "\n",
    "So $x_1 = 1, x_3 = 3$, and the rest are 0.\n",
    "\n",
    "**b)** $\\begin{bmatrix}2 &0 &1 &3\\\\0 &0 &5 &3\\\\0 &0 &0 &1\\end{bmatrix} * \\begin{bmatrix}x_1,x_2,x_3,x_4\\end{bmatrix} = \\begin{bmatrix}1,-1,3\\end{bmatrix}$\n",
    "\n",
    "Ignoring column 2, we have\n",
    "\n",
    "$\\begin{bmatrix}2 &1 &3\\\\0 &5 &3\\\\0 &0 &1\\end{bmatrix} * \\begin{bmatrix}x_1,x_3,x_4\\end{bmatrix} = \\begin{bmatrix}1,-1,3\\end{bmatrix}$\n",
    "\n",
    "$x_1 = -3, x_2 = 0, x_3 = -2, x_4 = 3$\n",
    "\n",
    "**c)** $\\begin{bmatrix}2 &2 &4 &3 &2\\\\0 &0 &-1 &11 &1\\\\0 &0 &0 &0 &5\\end{bmatrix} * \\begin{bmatrix}x_1,x_2,x_3,x_4,x_5\\end{bmatrix} = \\begin{bmatrix}2,0,10\\end{bmatrix}$\n",
    "\n",
    "Ignoring columns 2 and 4, we have\n",
    "\n",
    "$\\begin{bmatrix}2 &4 &2\\\\0 &-1 &1\\\\0 &0 &5\\end{bmatrix} * \\begin{bmatrix}x_1,x_3,x_5\\end{bmatrix} = \\begin{bmatrix}2,0,10\\end{bmatrix}$\n",
    "\n",
    "$x_1 = 3, x_3 = -2, x_5 = 2$, and of course $x_2 = 0$ and $x_4 = 0$."
   ]
  },
  {
   "cell_type": "markdown",
   "metadata": {},
   "source": [
    "**Problem 7.9.5:** For each of the following matrix-vector equations, say whether the equation has a solution. If so, compute the solution.\n",
    "\n",
    "**a)** $\\begin{bmatrix}1 &3 &-2 &1 &0\\\\0 &0 &2 &-3 &0\\\\0 &0 &0 &0 &0\\end{bmatrix} * \\begin{bmatrix}x_1,x_2,x_3,x_4,x_5\\end{bmatrix} = \\begin{bmatrix}5,3,2\\end{bmatrix}$\n",
    "\n",
    "This equation can have no solution, since the right-hand side has three nonzero elements, but the matrix on the left-hand side only has two nonzero rows.\n",
    "\n",
    "**b)** $\\begin{bmatrix}1 &2 &-8 &-4 &0\\\\0 &0 &2 &12 &0\\\\0 &0 &0 &0 &0\\\\0 &0 &0 &0 &0\\end{bmatrix} * \\begin{bmatrix}x_1,x_2,x_3,x_4,x_5\\end{bmatrix} = \\begin{bmatrix}5,4,0,0\\end{bmatrix}$\n",
    "\n",
    "This equation has a solution!  Using the method from Problem 7.9.4, after ignoring rows 2 and 3, we can ignore columns 2, 4 and 5:\n",
    "\n",
    "$\\begin{bmatrix}1 &-8\\\\0 &2\\end{bmatrix} * \\begin{bmatrix}x_1,x_3\\end{bmatrix} = \\begin{bmatrix}5,4\\end{bmatrix}$\n",
    "\n",
    "Giving $x_1=21, x_3 = 2$, and $x_2, x_4, x_5 = 0$."
   ]
  },
  {
   "cell_type": "markdown",
   "metadata": {},
   "source": [
    "**Problem 7.9.6:** Give a procedure `echelon_solve(row_list, label_list, b)` with the following spec:\n",
    "\n",
    "* _input:_ for some integer $n$, a matrix in echelon form represented by a list `row_list` of $n$ vectors, a list of column-labels giving the order of the columns of the matrix (i.e. the domain of the vectors), and a length-$n$ list $\\boldsymbol{b}$ of field elements\n",
    "* _output:_ a vector $\\boldsymbol{x}$ such that, for $i = 0, 1, ..., n - 1$, the dot-product of `row_list[i]` with $\\boldsymbol{x}$ equals $\\boldsymbol{b}[i]$ if `rowlist[i]` is not a zero vector\n",
    "\n",
    "Your code should not use the `solver` module.\n",
    "\n",
    "Assume that the field is $GF(2)$.\n",
    "\n",
    "Consider adapting the code in `triangular_solve` in the module `triangular`."
   ]
  },
  {
   "cell_type": "code",
   "execution_count": 11,
   "metadata": {},
   "outputs": [],
   "source": [
    "import sys\n",
    "sys.path.append('../')\n",
    "\n",
    "from vec import Vec\n",
    "from vecutil import zero_vec\n",
    "\n",
    "def echelon_solve(rowlist, label_list, b):\n",
    "    D = rowlist[0].D\n",
    "    x = zero_vec(D)\n",
    "    for j in reversed(range(len(D))):\n",
    "        row = rowlist[j]\n",
    "        for c in label_list:\n",
    "            if row[c] != 0:\n",
    "                x[c] = (b[j] - x*row)/row[c]\n",
    "                break\n",
    "    return x"
   ]
  },
  {
   "cell_type": "code",
   "execution_count": 13,
   "metadata": {},
   "outputs": [
    {
     "name": "stdout",
     "output_type": "stream",
     "text": [
      "\n",
      "   A   B C D   E\n",
      "----------------\n",
      " one one 0 0 one\n"
     ]
    }
   ],
   "source": [
    "from vecutil import list2vec\n",
    "from GF2 import one\n",
    "\n",
    "print(echelon_solve([Vec({'A', 'B', 'C', 'D', 'E'}, dict(zip(['A', 'B', 'C', 'D', 'E'], rowlist))) for rowlist in [[one, 0, one, one, 0], [0, one, 0, 0, one], [0, 0, one, 0, one], [0, 0, 0, 0, one]]], ['A', 'B', 'C', 'D', 'E'], [one, 0, one, one]))"
   ]
  },
  {
   "cell_type": "code",
   "execution_count": 14,
   "metadata": {},
   "outputs": [
    {
     "name": "stdout",
     "output_type": "stream",
     "text": [
      "\n",
      "   A B   C D E\n",
      "--------------\n",
      " one 0 one 0 0\n"
     ]
    }
   ],
   "source": [
    "print(echelon_solve([Vec({'A', 'B', 'C', 'D', 'E'}, dict(zip(['A', 'B', 'C', 'D', 'E'], rowlist))) for rowlist in [[one, one, 0, one, 0], [0, one, 0, one, one], [0, 0, one, 0, one], [0, 0, 0, 0, 0]]], ['A', 'B', 'C', 'D', 'E'], [one, 0, one, 0]))"
   ]
  },
  {
   "cell_type": "markdown",
   "metadata": {},
   "source": [
    "These solutions match the test examples in the book!"
   ]
  },
  {
   "cell_type": "markdown",
   "metadata": {},
   "source": [
    "**Problem 7.9.7:** Use the following data and `solve` procedure to figure out not the solutino but what actual arguments should be provided to `echelon_solve` in order to obtain the solution to the original matrix-vector equation."
   ]
  },
  {
   "cell_type": "markdown",
   "metadata": {},
   "source": [
    "$A =$\n",
    "\n",
    "||A|B|C|D\n",
    "|-|\n",
    "|0|one|one|0|one\n",
    "|1|one|0|0|one\n",
    "|2|one|one|one|one\n",
    "|3|0|0|one|one\n",
    "\n",
    "$\\boldsymbol{g} = $\n",
    "\n",
    "|a|b|c|d\n",
    "|-|\n",
    "|one|0|one|0\n",
    "\n",
    "Suppose we want to find the solution to the matrix-vector equation $A\\boldsymbol{x} = \\boldsymbol{g}$.\n",
    "\n",
    "The matrix $M$ such taht $MA$ is in echolon form:\n",
    "$M = $\n",
    "\n",
    "||A|B|C|D\n",
    "|-|\n",
    "|a|one|0|0|0\n",
    "|b|one|one|0|0\n",
    "|c|one|0|one|0\n",
    "|d|one|0|one|one\n",
    "\n",
    "$MA = $\n",
    "\n",
    "||A|B|C|D\n",
    "|-|\n",
    "|0|one|one|0|one\n",
    "|1|0|one|0|0\n",
    "|2|0|0|one|0\n",
    "|3|0|0|0|one\n",
    "\n",
    "```\n",
    "def solve(A, b):\n",
    "    M = echelon.transformation(A)\n",
    "    U = M * A\n",
    "    col_label_list = sorted(A.D[1])\n",
    "    U_rows_dict = mat2rowdict(U)\n",
    "    row_list = [U_rows_dict[i] for i in sorted(U_rows_dict)]\n",
    "    return echelon_solve(row_list, col_label_list, M * b)\n",
    "```"
   ]
  },
  {
   "cell_type": "markdown",
   "metadata": {},
   "source": [
    "The arguments provided to `echelon_solve` will be:\n",
    "```\n",
    "row_list = [Vec({'A': one, 'B', one, 'C': 0, 'D': one}),\n",
    "            Vec({'A': 0, 'B', one, 'C': 0, 'D': 0}),\n",
    "            Vec({'A': 0, 'B', 0, 'C': one, 'D': 0}),\n",
    "            Vec({'A': 0, 'B', 0, 'C': 0, 'D': one})]\n",
    "\n",
    "col_label_list = ['A', 'B', 'C', 'D']\n",
    "\n",
    "M * b = Vec({0: one, 1: one, 2: 0, 3: 0})\n",
    "```"
   ]
  },
  {
   "cell_type": "markdown",
   "metadata": {},
   "source": [
    "### Finding a basis for $\\{\\boldsymbol{u} : \\boldsymbol{u} * A = \\boldsymbol{0} \\} = A^T$"
   ]
  },
  {
   "cell_type": "markdown",
   "metadata": {},
   "source": [
    "**Problem 7.9.8:** We consider matrices over $GF(2)$. Let\n"
   ]
  },
  {
   "cell_type": "markdown",
   "metadata": {},
   "source": [
    "$A = $\n",
    "\n",
    "||A|B|C|D|E\n",
    "|-|\n",
    "|a|0|0|0|one|0\n",
    "|b|0|0|0|one|one\n",
    "|c|one|0|0|one|0\n",
    "|d|one|0|0|0|one\n",
    "|e|one|0|0|0|0\n",
    "\n",
    "Then the matrix\n",
    "\n",
    "$M = $\n",
    "\n",
    "||a|b|c|d|e\n",
    "|-|\n",
    "|0|0|0|one|0|0\n",
    "|1|one|0|0|0|0\n",
    "|2|one|one|0|0|0\n",
    "|3|0|one|one|one|0\n",
    "|4|one|0|one|0|one\n",
    "\n",
    "has the property that $MA$ is a matrix in echelon form, namely\n",
    "\n",
    "$MA = $\n",
    "\n",
    "||A|B|C|D|E\n",
    "|-|\n",
    "|0|one|0|0|one|0\n",
    "|1|0|0|0|one|0\n",
    "|2|0|0|0|0|one\n",
    "|3|0|0|0|0|0\n",
    "|4|0|0|0|0|0\n",
    "\n",
    "List the rows $\\boldsymbol{u}$ of $M$ such that $\\boldsymbol{u} * A = \\boldsymbol{0}$. (Note that these are vectors in the null space of the transpose $A^T$.)"
   ]
  },
  {
   "cell_type": "markdown",
   "metadata": {},
   "source": [
    "**Answer:** $\\boldsymbol{u} = $\n",
    "\n",
    "||a|b|c|d|e\n",
    "|-|\n",
    "|0|0|one|one|one|0\n",
    "|1|one|0|one|0|one"
   ]
  },
  {
   "cell_type": "markdown",
   "metadata": {},
   "source": [
    "**Problem 7.9.9:** We consider matrices over $GF(2)$. Let\n",
    "\n",
    "$A = $\n",
    "\n",
    "||A|B|C|D|E\n",
    "|-|\n",
    "|a|0|0|0|one|0\n",
    "|b|0|0|0|one|one\n",
    "|c|one|0|0|one|0\n",
    "|d|one|one|one|0|one\n",
    "|e|one|0|0|one|0\n",
    "\n",
    "Then the matrix\n",
    "\n",
    "$M = $\n",
    "\n",
    "||a|b|c|d|e\n",
    "|-|\n",
    "|0|0|0|one|0|0\n",
    "|1|0|0|one|one|0\n",
    "|2|one|0|0|0|0\n",
    "|3|one|one|0|0|0\n",
    "|4|0|0|one|0|one\n",
    "\n",
    "has the property that $MA$ is a matrix in echelon form, namely\n",
    "\n",
    "$MA = $\n",
    "\n",
    "||A|B|C|D|E\n",
    "|-|\n",
    "|0|one|0|0|one|0\n",
    "|1|0|one|one|one|one\n",
    "|2|0|0|0|one|0\n",
    "|3|0|0|0|0|one\n",
    "|4|0|0|0|0|0\n",
    "\n",
    "List the rows $\\boldsymbol{u}$ of $M$ such that $\\boldsymbol{u} * A = \\boldsymbol{0}$. (Note that these are vectors in the null space of the transpose $A^T$.)"
   ]
  },
  {
   "cell_type": "markdown",
   "metadata": {},
   "source": [
    "**Answer:** $\\boldsymbol{u} = $\n",
    "\n",
    "||a|b|c|d|e\n",
    "|-|\n",
    "|0|0|0|one|0|one"
   ]
  },
  {
   "cell_type": "code",
   "execution_count": null,
   "metadata": {},
   "outputs": [],
   "source": []
  }
 ],
 "metadata": {
  "kernelspec": {
   "display_name": "Python 3",
   "language": "python",
   "name": "python3"
  },
  "language_info": {
   "codemirror_mode": {
    "name": "ipython",
    "version": 3
   },
   "file_extension": ".py",
   "mimetype": "text/x-python",
   "name": "python",
   "nbconvert_exporter": "python",
   "pygments_lexer": "ipython3",
   "version": "3.6.4"
  }
 },
 "nbformat": 4,
 "nbformat_minor": 2
}
