{
 "cells": [
  {
   "cell_type": "markdown",
   "metadata": {},
   "source": [
    "## Chapter 5\n",
    "# Using sequential containers and analyzing strings"
   ]
  },
  {
   "cell_type": "markdown",
   "metadata": {},
   "source": [
    "## Exercises"
   ]
  },
  {
   "cell_type": "markdown",
   "metadata": {},
   "source": [
    "**5-0.** Compile, execute, and test the programs in this chapter."
   ]
  },
  {
   "cell_type": "markdown",
   "metadata": {},
   "source": [
    "**5-1.** Design and implement a program to produce a permuted index.  A permuted index is one in which each phrase is indexed by every word in the phrase. So, given the following input,  \n",
    "```\n",
    "The quick brown fox\n",
    "jumped over the fence\n",
    "```\n",
    "the output would be . \n",
    "```\n",
    "      The quick    brown fox\n",
    "jumped over the    fence\n",
    "The quick brown    fox\n",
    "                   jumped over the fence\n",
    "         jumped    over the fence\n",
    "            The    quick brown fox\n",
    "    jumped over    the fence\n",
    "                   The quick brown fox\n",
    "```\n",
    "\n",
    "A good algorithm is suggested in _The AWK Programming Language_. That solution divides the problem into three steps:  \n",
    "1. Read each line of the input and generate a set of rotations of that line. Each rotation puts the next word of the input in the first position and rotates the previous first word to the end of the phrase. So the output of this phrase for the first line of our input would be\n",
    "```\n",
    "The quick brown fox\n",
    "quick brown fox The\n",
    "brown fox The quick\n",
    "fox The quick brown\n",
    "```\n",
    "Of course, it will be important to know where the original phrase ends and where the rotated beginning begins.\n",
    "2. Sort the rotations.\n",
    "3. Unrotate and write the permuted index, which involves finding the separator, putting the phrase back together, and writing it properly formatted.\n"
   ]
  },
  {
   "cell_type": "markdown",
   "metadata": {},
   "source": [
    "**5-2.** Write the complete new version of the student-grading program, which extracts records for failing students, using `vector`s. Write another that uses `list`s. Measure the performance difference on input files of ten lines, 1000 lines, and 10000 lines.\n"
   ]
  },
  {
   "cell_type": "markdown",
   "metadata": {},
   "source": [
    "**5-3.** By using a `typedef`, we can write on version of the program that implements either a `vector`-based solution or a `list`-based one. Write and test this version of the program."
   ]
  },
  {
   "cell_type": "markdown",
   "metadata": {},
   "source": [
    "**5-4.** Look again at the driver functions you wrote in the previous exercise. Note that it is possible to write a driver that differs only in the declaration of the type for the data structure that holds the input file. If your vector and list test drivers differ in any other way, rewrite them so that they differ only in this declaration."
   ]
  },
  {
   "cell_type": "markdown",
   "metadata": {},
   "source": [
    "**5-5.** Write a function named `center(const vector<string>&)` that returns a picture in which all the lines of the original picture are padded out to . their full width, and the padding is as evenly divided as possible between the left and right sides of the picture. What are the properties of pictures for which such a function is useful? How can you tell whether a given picture has those properties?"
   ]
  },
  {
   "cell_type": "markdown",
   "metadata": {},
   "source": [
    "**5-6.** Rewrite the `extract_fails` function from $5.1.1/77 so tha tinstead of erasing each failing student from the input vector `students`, it copies the records for the passing students to the beginning of `students`, and then uses the `resize` function to remove the extra elements from the end of `students`. How does the performance of this version compare with othe one in 5.1.1/77?"
   ]
  },
  {
   "cell_type": "markdown",
   "metadata": {},
   "source": [
    "**5-7.** Given the implementation of `frame` in 5.8.1/93, and the following code fragmant  \n",
    "```\n",
    "vector<string> v;\n",
    "frame(v);\n",
    "```\n",
    "describe what happens in this call. In particular, trace through how both the `width` function and the `frame` function operate. Now, run this code. If the results differ from your expectations, first understand why your expectations and the program differ, and then change one to match the other."
   ]
  },
  {
   "cell_type": "markdown",
   "metadata": {},
   "source": [
    "**5-8.** In the `hcat` function from 5.8.3/95, what would happen if we defined `s` outside the scope of the `while`? Rewrite and execute the program to confirm your hypothesis."
   ]
  },
  {
   "cell_type": "markdown",
   "metadata": {},
   "source": [
    "**5-9.** Write a program to write the words in the input that do not contain any uppercase letters followed by the words that contain one or more uppercase letters."
   ]
  },
  {
   "cell_type": "markdown",
   "metadata": {},
   "source": [
    "**5-10.** Palindromes are words that are spelled the same right to left as left to right. Write a program to find all the palindromes in a dictionary. Next, find the longest palindrome."
   ]
  },
  {
   "cell_type": "markdown",
   "metadata": {},
   "source": [
    "**5-11.** In text processing it is sometimes usefult to know whether a word has any ascenders or descenders. Ascenders are the parts of lowercase letters that extend above the text line; in the English alphabet, the letters b, d, f, h, k, l, and t have ascenders. Similarly, the descenders are the parts of lowercase letters that descend below the line; In English, the letters g, j, p, q, and y have descenders. Write a program to determine whether a word has any ascenders or descenders. Extend that program to find the longest word in the dictionary that has neither ascenders nor descenders."
   ]
  },
  {
   "cell_type": "code",
   "execution_count": null,
   "metadata": {},
   "outputs": [],
   "source": []
  }
 ],
 "metadata": {
  "kernelspec": {
   "display_name": "C++11",
   "language": "C++",
   "name": "cling-cpp11"
  },
  "language_info": {
   "codemirror_mode": "c++",
   "file_extension": ".c++",
   "mimetype": "text/x-c++src",
   "name": "c++"
  }
 },
 "nbformat": 4,
 "nbformat_minor": 2
}
