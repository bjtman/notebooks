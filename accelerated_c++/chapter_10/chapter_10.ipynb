{
 "cells": [
  {
   "cell_type": "markdown",
   "metadata": {},
   "source": [
    "## Chapter 10\n",
    "# Managing memory and low-level data structures"
   ]
  },
  {
   "cell_type": "markdown",
   "metadata": {},
   "source": [
    "**10-0.** Compile, execute and test the programs in this chapter."
   ]
  },
  {
   "cell_type": "code",
   "execution_count": 1,
   "metadata": {},
   "outputs": [
    {
     "data": {
      "text/plain": []
     },
     "execution_count": 1,
     "metadata": {},
     "output_type": "execute_result"
    }
   ],
   "source": [
    "#include <string>\n",
    "#include <iostream>"
   ]
  },
  {
   "cell_type": "code",
   "execution_count": 2,
   "metadata": {},
   "outputs": [
    {
     "data": {
      "text/plain": []
     },
     "execution_count": 2,
     "metadata": {},
     "output_type": "execute_result"
    }
   ],
   "source": [
    "using std::string;"
   ]
  },
  {
   "cell_type": "code",
   "execution_count": 3,
   "metadata": {},
   "outputs": [
    {
     "data": {
      "text/plain": []
     },
     "execution_count": 3,
     "metadata": {},
     "output_type": "execute_result"
    }
   ],
   "source": [
    "using std::cout;"
   ]
  },
  {
   "cell_type": "code",
   "execution_count": 4,
   "metadata": {},
   "outputs": [
    {
     "data": {
      "text/plain": []
     },
     "execution_count": 4,
     "metadata": {},
     "output_type": "execute_result"
    }
   ],
   "source": [
    "using std::endl;"
   ]
  },
  {
   "cell_type": "code",
   "execution_count": 5,
   "metadata": {},
   "outputs": [
    {
     "name": "stdout",
     "output_type": "stream",
     "text": [
      "x = 5\n",
      "x = 6\n"
     ]
    },
    {
     "data": {
      "text/plain": [
       "(int) 0\n"
      ]
     },
     "execution_count": 5,
     "metadata": {},
     "output_type": "execute_result"
    }
   ],
   "source": [
    "int simple_pointer_example() {\n",
    "    int x = 5;\n",
    "    int* p = &x;\n",
    "    cout << \"x = \" << x << endl;\n",
    "    \n",
    "    *p = 6;\n",
    "    cout << \"x = \" << x << endl;\n",
    "    return 0;\n",
    "}\n",
    "\n",
    "simple_pointer_example();"
   ]
  },
  {
   "cell_type": "code",
   "execution_count": 6,
   "metadata": {},
   "outputs": [
    {
     "data": {
      "text/plain": []
     },
     "execution_count": 6,
     "metadata": {},
     "output_type": "execute_result"
    }
   ],
   "source": [
    "// Example implementation of sstandard-library function\n",
    "size_t my_strlen(const char* p) {\n",
    "    size_t size = 0;\n",
    "    while (*p++ != '\\0')\n",
    "        ++size;\n",
    "    return size;\n",
    "}"
   ]
  },
  {
   "cell_type": "code",
   "execution_count": 7,
   "metadata": {},
   "outputs": [
    {
     "data": {
      "text/plain": [
       "(unsigned long) 5\n"
      ]
     },
     "execution_count": 7,
     "metadata": {},
     "output_type": "execute_result"
    }
   ],
   "source": [
    "my_strlen(\"hello\");"
   ]
  },
  {
   "cell_type": "code",
   "execution_count": 8,
   "metadata": {},
   "outputs": [
    {
     "data": {
      "text/plain": [
       "(std::string) \"B-\"\n"
      ]
     },
     "execution_count": 8,
     "metadata": {},
     "output_type": "execute_result"
    }
   ],
   "source": [
    "string letter_grade(double grade) {\n",
    "    static const double numbers[] = {\n",
    "        97, 94, 90, 87, 84, 80, 77, 74, 70, 60, 0\n",
    "    };\n",
    "    \n",
    "    static const char* const letters[] = {\n",
    "        \"A+\", \"A\", \"A-\", \"B+\", \"B\", \"B-\", \"C+\", \"C\", \"C-\", \"D\", \"F\"\n",
    "    };\n",
    "    \n",
    "    static const size_t ngrades = sizeof(numbers) / sizeof(*numbers);\n",
    "    \n",
    "    for (size_t i = 0; i < ngrades; ++i) {\n",
    "        if (grade >= numbers[i]) {\n",
    "            return letters[i];\n",
    "        }\n",
    "    }\n",
    "    \n",
    "    return \"?\\?\\?\";\n",
    "}\n",
    "\n",
    "letter_grade(80);"
   ]
  },
  {
   "cell_type": "code",
   "execution_count": 9,
   "metadata": {},
   "outputs": [
    {
     "data": {
      "text/plain": [
       "(std::string) \"???\"\n"
      ]
     },
     "execution_count": 9,
     "metadata": {},
     "output_type": "execute_result"
    }
   ],
   "source": [
    "letter_grade(-1);"
   ]
  },
  {
   "cell_type": "code",
   "execution_count": 10,
   "metadata": {},
   "outputs": [
    {
     "data": {
      "text/plain": []
     },
     "execution_count": 10,
     "metadata": {},
     "output_type": "execute_result"
    }
   ],
   "source": [
    "#include <fstream>\n",
    "\n",
    "using std::ifstream;"
   ]
  },
  {
   "cell_type": "code",
   "execution_count": 11,
   "metadata": {},
   "outputs": [
    {
     "data": {
      "text/plain": []
     },
     "execution_count": 11,
     "metadata": {},
     "output_type": "execute_result"
    }
   ],
   "source": [
    "using std::ofstream;"
   ]
  },
  {
   "cell_type": "code",
   "execution_count": 12,
   "metadata": {},
   "outputs": [
    {
     "data": {
      "text/plain": []
     },
     "execution_count": 12,
     "metadata": {},
     "output_type": "execute_result"
    }
   ],
   "source": [
    "ifstream infile(\"test_infile\");\n",
    "ofstream outfile(\"test_outfile\");\n",
    "\n",
    "string s;\n",
    "while (getline(infile, s))\n",
    "    outfile << s << endl;"
   ]
  },
  {
   "cell_type": "code",
   "execution_count": 13,
   "metadata": {},
   "outputs": [
    {
     "name": "stdout",
     "output_type": "stream",
     "text": [
      "Some sample\n",
      "text to read into\n",
      "a file\n"
     ]
    },
    {
     "data": {
      "text/plain": []
     },
     "execution_count": 13,
     "metadata": {},
     "output_type": "execute_result"
    }
   ],
   "source": [
    "// just to show the write worked...\n",
    "ifstream echofile(\"test_outfile\");\n",
    "\n",
    "while (getline(echofile, s))\n",
    "    cout << s << endl;"
   ]
  },
  {
   "cell_type": "code",
   "execution_count": 14,
   "metadata": {},
   "outputs": [
    {
     "data": {
      "text/plain": [
       "(int) 0\n"
      ]
     },
     "execution_count": 14,
     "metadata": {},
     "output_type": "execute_result"
    }
   ],
   "source": [
    "int* pointer_to_static() {\n",
    "    static int x;\n",
    "    return &x;\n",
    "}\n",
    "\n",
    "*pointer_to_static();"
   ]
  },
  {
   "cell_type": "code",
   "execution_count": 15,
   "metadata": {},
   "outputs": [
    {
     "data": {
      "text/plain": []
     },
     "execution_count": 15,
     "metadata": {},
     "output_type": "execute_result"
    }
   ],
   "source": [
    "#include <algorithm>"
   ]
  },
  {
   "cell_type": "code",
   "execution_count": 16,
   "metadata": {},
   "outputs": [
    {
     "data": {
      "text/plain": [
       "(char *) \"I pity the fool\"\n"
      ]
     },
     "execution_count": 16,
     "metadata": {},
     "output_type": "execute_result"
    }
   ],
   "source": [
    "char* duplicate_chars(const char* p) {\n",
    "    size_t length = strlen(p) + 1;\n",
    "    char* result = new char[length];\n",
    "    \n",
    "    std::copy(p, p + length, result);\n",
    "    return result;\n",
    "}\n",
    "\n",
    "duplicate_chars(\"I pity the fool\");"
   ]
  },
  {
   "cell_type": "markdown",
   "metadata": {},
   "source": [
    "**10-1.** Rewrite the student-grading program from 9.6/166 to generate letter grades."
   ]
  },
  {
   "cell_type": "markdown",
   "metadata": {},
   "source": [
    "```\n",
    "$ gcc Student_info.cpp grade.cpp grading.cpp ../chapter_4/median.cpp -o grading.out -lstdc++\n",
    "$ ./grading.out\n",
    "Karl 80 90 60 75\n",
    "Jammerman 90 98 50 60 70 70\n",
    "Jammerman 83.2: B-\n",
    "Karl      79: C+\n",
    "```"
   ]
  },
  {
   "cell_type": "markdown",
   "metadata": {},
   "source": [
    "**10-2.** Rewrite the `median` function from 8.11/140 so that we can call it with either a `vector` or a built-in array. The function should allow containers of any arithmetic type."
   ]
  },
  {
   "cell_type": "markdown",
   "metadata": {},
   "source": [
    "Implemented below, and in `median.cpp` and defined in `median.h`."
   ]
  },
  {
   "cell_type": "markdown",
   "metadata": {},
   "source": [
    "**10-3.** Write a test program to verify that the `median` function operates correctly. Ensure that calling `median` does not change the order of the elements in the container."
   ]
  },
  {
   "cell_type": "code",
   "execution_count": 17,
   "metadata": {},
   "outputs": [
    {
     "data": {
      "text/plain": []
     },
     "execution_count": 17,
     "metadata": {},
     "output_type": "execute_result"
    }
   ],
   "source": [
    "#include <stdexcept>"
   ]
  },
  {
   "cell_type": "code",
   "execution_count": 18,
   "metadata": {},
   "outputs": [
    {
     "data": {
      "text/plain": []
     },
     "execution_count": 18,
     "metadata": {},
     "output_type": "execute_result"
    }
   ],
   "source": [
    "template <class T> T median(T* begin, T* end) {\n",
    "    if (begin == end) {\n",
    "        throw std::domain_error(\"median of an empty range\");\n",
    "    }\n",
    "\n",
    "    size_t size = end - begin;\n",
    "    T* cpy = new T[size];\n",
    "    std::copy(begin, end, cpy); // don't change the original array\n",
    "    std::sort(cpy, cpy + size);\n",
    "\n",
    "    size_t mid = size / 2;\n",
    "    T med = size % 2 == 0 ? (cpy[mid] + cpy[mid - 1]) / 2 : cpy[mid];\n",
    "    delete[] cpy;\n",
    "    return med;\n",
    "}\n"
   ]
  },
  {
   "cell_type": "code",
   "execution_count": 19,
   "metadata": {},
   "outputs": [
    {
     "data": {
      "text/plain": [
       "(double) 3.0000000\n"
      ]
     },
     "execution_count": 19,
     "metadata": {},
     "output_type": "execute_result"
    }
   ],
   "source": [
    "double doubles[] = {2.0, 3.0, 1.0, 5.0, 6.0};\n",
    "median(doubles, doubles + sizeof(doubles) / sizeof(*doubles));"
   ]
  },
  {
   "cell_type": "code",
   "execution_count": 20,
   "metadata": {},
   "outputs": [
    {
     "data": {
      "text/plain": [
       "(double [5]) { 2.0000000, 3.0000000, 1.0000000, 5.0000000, 6.0000000 }\n"
      ]
     },
     "execution_count": 20,
     "metadata": {},
     "output_type": "execute_result"
    }
   ],
   "source": [
    "doubles;"
   ]
  },
  {
   "cell_type": "markdown",
   "metadata": {},
   "source": [
    "**10-4.** Write a class that implements a list that holds `string`s."
   ]
  },
  {
   "cell_type": "code",
   "execution_count": 21,
   "metadata": {},
   "outputs": [
    {
     "data": {
      "text/plain": []
     },
     "execution_count": 21,
     "metadata": {},
     "output_type": "execute_result"
    }
   ],
   "source": [
    "class String_list {\n",
    "typedef string* iterator;\n",
    "public:\n",
    "    String_list(): String_list(20) { }\n",
    "    String_list(size_t sz): N(sz) { strings = new string[N]; insert_iterator = begin(); }\n",
    "    size_t size() const { return N; }\n",
    "    string get(int i) const { return strings[i]; }\n",
    "    void set(int i, string str) { strings[i] = str; }\n",
    "    void push_back(string str) { *insert_iterator++ = str; }\n",
    "    iterator begin() const { return strings; }\n",
    "    iterator end() const { return strings + size(); }\n",
    "private:\n",
    "    size_t N;\n",
    "    string* strings;\n",
    "    iterator insert_iterator;\n",
    "}"
   ]
  },
  {
   "cell_type": "code",
   "execution_count": 22,
   "metadata": {},
   "outputs": [
    {
     "data": {
      "text/plain": [
       "(void) @0x70000691fea0\n"
      ]
     },
     "execution_count": 22,
     "metadata": {},
     "output_type": "execute_result"
    }
   ],
   "source": [
    "String_list sl;\n",
    "sl.push_back(\"hi\");\n",
    "sl.push_back(\"bye\");\n",
    "sl.push_back(\"hello\");\n",
    "sl.push_back(\"goodbye\");"
   ]
  },
  {
   "cell_type": "code",
   "execution_count": 23,
   "metadata": {},
   "outputs": [
    {
     "data": {
      "text/plain": [
       "(std::string) \"goodbye\"\n"
      ]
     },
     "execution_count": 23,
     "metadata": {},
     "output_type": "execute_result"
    }
   ],
   "source": [
    "sl.get(3);"
   ]
  },
  {
   "cell_type": "markdown",
   "metadata": {},
   "source": [
    "**10-5.** Write a bidirectional iterator for your `String_list` class."
   ]
  },
  {
   "cell_type": "markdown",
   "metadata": {},
   "source": [
    "Implemented inside of `String_list`.  Note that pointers are valid bidirectional iterators since they are random access iterators."
   ]
  },
  {
   "cell_type": "markdown",
   "metadata": {},
   "source": [
    "**10-6.** Test the class by rewriting the `split` function to put its output into a `String_list`."
   ]
  },
  {
   "cell_type": "code",
   "execution_count": 24,
   "metadata": {},
   "outputs": [
    {
     "data": {
      "text/plain": []
     },
     "execution_count": 24,
     "metadata": {},
     "output_type": "execute_result"
    }
   ],
   "source": [
    "#include <cctype>"
   ]
  },
  {
   "cell_type": "code",
   "execution_count": 25,
   "metadata": {},
   "outputs": [
    {
     "data": {
      "text/plain": []
     },
     "execution_count": 25,
     "metadata": {},
     "output_type": "execute_result"
    }
   ],
   "source": [
    "bool space(const char c) {\n",
    "    return std::isspace(c);\n",
    "}"
   ]
  },
  {
   "cell_type": "code",
   "execution_count": 26,
   "metadata": {},
   "outputs": [
    {
     "data": {
      "text/plain": []
     },
     "execution_count": 26,
     "metadata": {},
     "output_type": "execute_result"
    }
   ],
   "source": [
    "bool not_space(const char c) {\n",
    "    return !isspace(c);\n",
    "}"
   ]
  },
  {
   "cell_type": "code",
   "execution_count": 27,
   "metadata": {},
   "outputs": [
    {
     "data": {
      "text/plain": []
     },
     "execution_count": 27,
     "metadata": {},
     "output_type": "execute_result"
    }
   ],
   "source": [
    "String_list split(const string& str) {\n",
    "    String_list ret;\n",
    "    typedef string::const_iterator iter;\n",
    "\n",
    "    iter i = str.begin();\n",
    "    while (i != str.end()) {\n",
    "        i = std::find_if(i, str.end(), not_space);\n",
    "        iter j = std::find_if(i, str.end(), space);\n",
    "        if (i != str.end()) {\n",
    "            ret.push_back(string(i, j));\n",
    "        }\n",
    "        i = j;\n",
    "    }\n",
    "    return ret;\n",
    "}"
   ]
  },
  {
   "cell_type": "code",
   "execution_count": 28,
   "metadata": {},
   "outputs": [
    {
     "data": {
      "text/plain": []
     },
     "execution_count": 28,
     "metadata": {},
     "output_type": "execute_result"
    }
   ],
   "source": [
    "String_list splitted = split(\"I'm going to split you, string!\");"
   ]
  },
  {
   "cell_type": "code",
   "execution_count": 29,
   "metadata": {},
   "outputs": [
    {
     "data": {
      "text/plain": [
       "(std::string) \"going\"\n"
      ]
     },
     "execution_count": 29,
     "metadata": {},
     "output_type": "execute_result"
    }
   ],
   "source": [
    "splitted.get(1);"
   ]
  },
  {
   "cell_type": "code",
   "execution_count": 30,
   "metadata": {},
   "outputs": [
    {
     "data": {
      "text/plain": [
       "(std::string) \"string!\"\n"
      ]
     },
     "execution_count": 30,
     "metadata": {},
     "output_type": "execute_result"
    }
   ],
   "source": [
    "splitted.get(5);"
   ]
  }
 ],
 "metadata": {
  "kernelspec": {
   "display_name": "C++11",
   "language": "C++",
   "name": "cling-cpp11"
  },
  "language_info": {
   "codemirror_mode": "c++",
   "file_extension": ".c++",
   "mimetype": "text/x-c++src",
   "name": "c++"
  }
 },
 "nbformat": 4,
 "nbformat_minor": 2
}
