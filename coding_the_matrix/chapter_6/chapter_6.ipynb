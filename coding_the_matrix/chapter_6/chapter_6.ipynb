{
 "cells": [
  {
   "cell_type": "markdown",
   "metadata": {},
   "source": [
    "## Chapter 6\n",
    "# Dimension"
   ]
  },
  {
   "cell_type": "markdown",
   "metadata": {},
   "source": [
    "**Problem 6.3.13:** In each part, give a set $T$ of vectors over $\\mathbb{R}$ such that $(\\text{Span}\\space S)\\oplus (\\text{Span} \\space T) = \\mathbb{R}^3$, and show how to express a generic vector $[x,y,z]$ as a linear combination of the vectors in $S\\cup T$.\n",
    "\n",
    "**1.** $S = \\{[2,1,2],[1,1,1]\\}$\n",
    "  \n",
    "  Let $T = \\{[0,0,1]\\}$.\n",
    "  \n",
    "  Then a generic vector $[x,y,z]$ can be expressed as:\n",
    "  \n",
    "  $[x,y,z] = x([2,1,2]-[0,0,1]-[1,1,1]) + y(2[1,1,1]-[2,1,2]) + z[0,0,1]$\n",
    "\n",
    "**2.** $S = \\{[0,1,-1],[0,0,0]\\}$\n",
    "\n",
    "  Let $T = \\{[1,0,0],[0,0,1]\\}$.\n",
    "  \n",
    "  Then a generic vector $[x,y,z]$ can be expressed as:\n",
    "  \n",
    "  $[x,y,z] = x[1,0,0] + y([0,1,-1]+[0,0,1]) + z[0,0,1]$\n"
   ]
  },
  {
   "cell_type": "markdown",
   "metadata": {},
   "source": [
    "**Problem 8.3.14:** In each part, give a set $T$ of vectors over $GF(2)$ such that $(\\text{Span}\\space S) \\oplus (\\text{Span}\\space T) = GF(2)^3$, and show how to express a generic vector $[x,y,z]$ as a linear combination of the vectors in $S \\cup T$.\n",
    "\n",
    "**1.** $S = \\{[1,1,0],[0,1,1]\\}$\n",
    "\n",
    "  Let $T = \\{[0,1,0]\\}$.\n",
    "  \n",
    "  Then a generic vector $[x,y,z]$ can be expressed as:\n",
    "  \n",
    "  $[x,y,z] = x([1,1,0]+[0,1,0]) + y[0,1,0] + z([0,1,1]+[0,1,0])$\n",
    "\n",
    "\n",
    "**2.** $S = \\{[1,1,1]\\}$\n",
    "\n",
    "  Let $T = \\{[1,0,0],[0,0,1]\\}$.\n",
    "  \n",
    "  Then a generic vector $[x,y,z]$ can be expressed as:\n",
    "  \n",
    "  $[x,y,z] = x[1,0,0] + y([1,1,1]-[1,0,0]-[0,0,1]) + z[0,0,1]$\n"
   ]
  },
  {
   "cell_type": "markdown",
   "metadata": {},
   "source": [
    "## Review questions"
   ]
  },
  {
   "cell_type": "markdown",
   "metadata": {},
   "source": [
    "**Can a vector space have bases of different sizes?**"
   ]
  },
  {
   "cell_type": "markdown",
   "metadata": {},
   "source": [
    "No, a vector space cannot have bases of different sizes.  It can have _generators_ of different sizes, but not bases."
   ]
  },
  {
   "cell_type": "markdown",
   "metadata": {},
   "source": [
    "**What is the rank of a set of vectors?**"
   ]
  },
  {
   "cell_type": "markdown",
   "metadata": {},
   "source": [
    "The rank of a set of vectors is the dimension of their span, where the dimension of vector space is the size of its basis."
   ]
  },
  {
   "cell_type": "markdown",
   "metadata": {},
   "source": [
    "**What is the rank of a matrix?**"
   ]
  },
  {
   "cell_type": "markdown",
   "metadata": {},
   "source": [
    "The rank of a matrix is its row rank (the dimension of its row space) _or_ its column rank (the dimension of its column space).  The row rank and column rank of a matrix are the same in any matrix."
   ]
  },
  {
   "cell_type": "markdown",
   "metadata": {},
   "source": [
    "**What is the difference between dimension and rank?**"
   ]
  },
  {
   "cell_type": "markdown",
   "metadata": {},
   "source": [
    "A dimension is defined over a _span_, while a rank is defined over a _set of vectors_."
   ]
  },
  {
   "cell_type": "markdown",
   "metadata": {},
   "source": [
    "**How do dimension and rank apply to graphs?**"
   ]
  },
  {
   "cell_type": "markdown",
   "metadata": {},
   "source": [
    "The rank of a graph is the number of edges needed for its minimum spanning forrest (where all nodes connected in the graph are still connected by some path, with no cycles).  The rank of a connected subgraph is thus equal to the number of nodes that are endpoints of edges in the graph, minus one."
   ]
  },
  {
   "cell_type": "markdown",
   "metadata": {},
   "source": [
    "**What is the rank theorem?**"
   ]
  },
  {
   "cell_type": "markdown",
   "metadata": {},
   "source": [
    "The rank theorem states that the row rank of a matrix is equal to the column rank."
   ]
  },
  {
   "cell_type": "markdown",
   "metadata": {},
   "source": [
    "**What is the dimension principle?**"
   ]
  },
  {
   "cell_type": "markdown",
   "metadata": {},
   "source": [
    "The dimension principle states that the dimension of a subspace is at least as small as the dimension of its superspace, and furthermore that if the dimension of the subspace is the _same_ as its superspace, they are equal."
   ]
  },
  {
   "cell_type": "markdown",
   "metadata": {},
   "source": [
    "**When can two vector spaces form a direct sum?**"
   ]
  },
  {
   "cell_type": "markdown",
   "metadata": {},
   "source": [
    "Two vector spaces form a direct sum when they only share the zero vector."
   ]
  },
  {
   "cell_type": "markdown",
   "metadata": {},
   "source": [
    "**How does the dimension of a direct sum of two vector spaces relate to their dimension?**"
   ]
  },
  {
   "cell_type": "markdown",
   "metadata": {},
   "source": [
    "The dimension of a direct sum of two vector spaces is equal to the sum of the dimensions of each vector space."
   ]
  },
  {
   "cell_type": "markdown",
   "metadata": {},
   "source": [
    "**How can dimension be used in a criterion for a linear function to be invertible?**"
   ]
  },
  {
   "cell_type": "markdown",
   "metadata": {},
   "source": [
    "A linear function is invertible if and only if the dimension of its kernel is 0 and the dimension of its domain is the same as the dimension of its codomain."
   ]
  },
  {
   "cell_type": "markdown",
   "metadata": {},
   "source": [
    "**What is the Kernel-Image theorem?**"
   ]
  },
  {
   "cell_type": "markdown",
   "metadata": {},
   "source": [
    "The Kernel-Image therem states that the dimension of the domain of any linear function is equal to the sum of the dimensions of its kernel and its image."
   ]
  },
  {
   "cell_type": "markdown",
   "metadata": {},
   "source": [
    "**What is the rank-nullity theorem?**"
   ]
  },
  {
   "cell_type": "markdown",
   "metadata": {},
   "source": [
    "The rank-nullity theorem states that the sum of the rank of a matrix and the dimension of its null space is equal to the number of its columns."
   ]
  },
  {
   "cell_type": "markdown",
   "metadata": {},
   "source": [
    "**How can dimension be used to give a criterion for matrix invertibility?**"
   ]
  },
  {
   "cell_type": "markdown",
   "metadata": {},
   "source": [
    "A matrix is invertible if and only if its columns are linearly independent and if it is a square matrix.  Note that because of the _rank theorem_, if its columns are linearly independent then both its column rank and row rank will be equal to the number of its columns."
   ]
  },
  {
   "cell_type": "markdown",
   "metadata": {},
   "source": [
    "**What is the annihilator of a vector space?**"
   ]
  },
  {
   "cell_type": "markdown",
   "metadata": {},
   "source": [
    "The annihilator of a vector space is the set of vectors in its superspace such that the product of the vector and _every_ vector in the space is 0."
   ]
  },
  {
   "cell_type": "markdown",
   "metadata": {},
   "source": [
    "**What is the annihilator theorem?**"
   ]
  },
  {
   "cell_type": "markdown",
   "metadata": {},
   "source": [
    "The annihilator theorem states that the annihilator of an annihilator of a space is the original space."
   ]
  },
  {
   "cell_type": "markdown",
   "metadata": {},
   "source": [
    "## 6.7 Problems"
   ]
  },
  {
   "cell_type": "markdown",
   "metadata": {},
   "source": [
    "### Morphing using the Exchange Lemma"
   ]
  },
  {
   "cell_type": "markdown",
   "metadata": {},
   "source": [
    "**Problem 6.7.1:** Practice using the Exchange Lemma to transform one spanning forest into another.\n",
    "\n",
    "Consider the campus map in Figure 6.1(a). Use the Exchange Lemma for spanning trees to transform a spanning forest $F_0 = \\{(W, K), (W, M), (P, W), (K, A)\\}$ into the spanning forest $F_4 = \\{(P, K), (P, M), (P, A), (W, A)\\}$ (figures not reproduced here)."
   ]
  },
  {
   "cell_type": "markdown",
   "metadata": {},
   "source": [
    "The main idea here is to keep the span of the connected edges the same (introduce no cycles and keep each pair of nodes connected by some path) during each step. There are many possible sets of steps.  Here is one:\n",
    "\n",
    "1. Exchange $(K, A)$ for $(P, A)$: $F_1 = \\{(W, K), (W, M), (P, W), (P, A)\\}$\n",
    "1. Exchange $(P, W)$ for $(P, M)$: $F_2 = \\{(W, K), (W, M), (P, M), (P, A)\\}$\n",
    "1. Exchange $(W, M)$ for $(W, A)$: $F_3 = \\{(W, K), (W, A), (P, M), (P, A)\\}$\n",
    "1. Exchange $(W, K)$ for $(P, K)$: $F_4 = \\{(P, K), (W, A), (P, M), (P, A)\\}$"
   ]
  },
  {
   "cell_type": "markdown",
   "metadata": {},
   "source": [
    "**Problems 6.7.2, 6.7.3:**\n",
    "For the next two problems, use the Exchange Lemma iteratively to transform a set $S = \\{\\boldsymbol{w}_0, \\boldsymbol{w}_1, \\boldsymbol{w}_2\\}$ into a set $B = \\{\\boldsymbol{v}_0, \\boldsymbol{v}_1, \\boldsymbol{v}_2\\}$. In each step, one vector of $B$ is injected and one vector of $S$ is ejected.  Be careful to ensure that the ejection does not change the set of vectors spanned.\n",
    "\n",
    "You are to specify the list of vectors comprising $S_1$ (after one iteration) and $S_2$ (after two iterations) in the process of transforming from $\\{\\boldsymbol{w}_0, \\boldsymbol{w}_1, \\boldsymbol{w}_2\\}$ to $\\{\\boldsymbol{v}_0, \\boldsymbol{v}_1, \\boldsymbol{v}_2\\}$.\n",
    "\n",
    "**Problem 6.7.2:** Vectors over $\\mathbb{R}$:\n",
    "\n",
    "$\\boldsymbol{w}_0 = [1,0,0], \\boldsymbol{w}_1 = [0,1,0], \\boldsymbol{w}_2 = [0,0,1]$  \n",
    "$\\boldsymbol{v}_0 = [1,2,3], \\boldsymbol{v}_1 = [1,3,3], \\boldsymbol{v}_2 = [0,3,3]$  \n",
    "\n",
    "||$S_i$|$A$|$\\boldsymbol{v}$ to inject|$\\boldsymbol{w}$ to eject|\n",
    "|-|\n",
    "|i = 0|$\\{\\boldsymbol{w}_0,\\boldsymbol{w}_1,\\boldsymbol{w}_2\\}$|$\\emptyset$|$\\boldsymbol{v}_1$|$\\boldsymbol{w}_0$|\n",
    "|i = 1|$\\{\\boldsymbol{v}_1,\\boldsymbol{w}_1,\\boldsymbol{w}_2\\}$|$\\{\\boldsymbol{v}_1\\}$|$\\boldsymbol{v}_2$|$\\boldsymbol{w}_1$|\n",
    "|i = 2|$\\{\\boldsymbol{v}_1,\\boldsymbol{v}_2,\\boldsymbol{w}_2\\}$|$\\{\\boldsymbol{v}_1,\\boldsymbol{v}_2\\}$|$\\boldsymbol{v}_0$|$\\boldsymbol{w}_2$|\n",
    "|i = 3|$\\{\\boldsymbol{v}_0, \\boldsymbol{v}_1, \\boldsymbol{v}_2\\}$|$\\{\\boldsymbol{v}_0, \\boldsymbol{v}_1, \\boldsymbol{v}_2\\}$|-|-|"
   ]
  },
  {
   "cell_type": "markdown",
   "metadata": {},
   "source": [
    "**Problem 6.7.3:** Vectors over $GF(2)$:\n",
    "\n",
    "$\\boldsymbol{w}_0 = [0,one,0], \\boldsymbol{w}_1 = [0,0,one], \\boldsymbol{w}_2 = [one,one,one]$  \n",
    "$\\boldsymbol{v}_0 = [one,0,one], \\boldsymbol{v}_1 = [one,0,0], \\boldsymbol{v}_2 = [one,one,0]$  \n",
    "\n",
    "||$S_i$|$A$|$\\boldsymbol{v}$ to inject|$\\boldsymbol{w}$ to eject|\n",
    "|-|\n",
    "|i = 0|$\\{\\boldsymbol{w}_0,\\boldsymbol{w}_1,\\boldsymbol{w}_2\\}$|$\\emptyset$|$\\boldsymbol{v}_1$|$\\boldsymbol{w}_2$|\n",
    "|i = 1|$\\{\\boldsymbol{w}_0,\\boldsymbol{w}_1,\\boldsymbol{v}_1\\}$|$\\{\\boldsymbol{v}_1\\}$|$\\boldsymbol{v}_2$|$\\boldsymbol{w}_0$|\n",
    "|i = 2|$\\{\\boldsymbol{w}_1,\\boldsymbol{v}_1,\\boldsymbol{v}_2\\}$|$\\{\\boldsymbol{v}_1,\\boldsymbol{v}_2\\}$|$\\boldsymbol{v}_0$|$\\boldsymbol{w}_1$|\n",
    "|i = 3|$\\{\\boldsymbol{v}_0, \\boldsymbol{v}_1, \\boldsymbol{v}_2\\}$|$\\{\\boldsymbol{v}_0, \\boldsymbol{v}_1, \\boldsymbol{v}_2\\}$|-|-|"
   ]
  },
  {
   "cell_type": "markdown",
   "metadata": {},
   "source": [
    "**Problem 6.7.4:** In this problem, you will write a procedure to achieve the following goal:\n",
    "\n",
    "* _input:_ a list $S$ of vectors, and a list $B$ of linearly independent vectors such that $\\text{Span}\\space S = \\text{Span} \\space B$\n",
    "* _output:_ a list $T$ of vectors that includes $B$ and possibly some vectors of $S$ such that\n",
    "  - $|T| = |S|$, and\n",
    "  - $\\text{Span}\\space T = \\text{Span}\\space S$\n",
    "\n",
    "This is not useful in in its own sake, and thre is a trivial implementation in which $T$ is defined to consist of the vectors in $B$ together with enough vectors of $S$ to make $|T| = |S|$. The point of writing this procedure is to illustrate your understanding of the proof of the Morphing Lemma. The procedure should mimic that proof: $T$ should be obtained step by step from $S$ by, in each iteration, injecting a vector of $B$ and ejecting a vector of $S - B$ using the Exchange Lemma. The procedure must return the list of pairs (injected vector, ejected vector) used in morphing $S$ into $T$.\n",
    "\n",
    "The procedure is to be called `morph(S, B)`. The spec is as follows:\n",
    "* _input:_ a list $S$ of distinct vectors, and a list $B$ of linearly independent vectors such that $\\text{Span}\\space S = \\text{Span} \\space B$\n",
    "* _output:_ a $k$-element list $[(\\boldsymbol{z}_1, \\boldsymbol{w}_1),(\\boldsymbol{z}_2, \\boldsymbol{w}_2),(\\boldsymbol{z}_k, \\boldsymbol{w}_k)]$ of pairs of vectors such that, for $i = 1,2,...,k$,  \n",
    "$\\text{Span}\\space S = \\text{Span}\\space (S \\cup \\{\\boldsymbol{z}_1,\\boldsymbol{z}_2,...,\\boldsymbol{z}_i\\} - \\{\\boldsymbol{w}_1,\\boldsymbol{w}_2,...,\\boldsymbol{w}_i\\}$ where $k = |B|$.\n",
    "\n",
    "This procedure uses a loop. You can use the procedure `exchange(S, A, z)` from Problem 5.14.19 or the procedure `vec2rep(veclist, u)` from Problem 5.14.14 or the `solver` module.\n",
    "\n",
    "Here is an illustration of how the procedure is used.\n",
    "```\n",
    ">>> S = [list2vec(v) for v in [[2,4,0],[1,0,3],[0,4,4],[1,1,1]]]\n",
    ">>> B = [list2vec(v) for v in [[1,0,0],[0,1,0],[0,0,1]]]\n",
    ">>> for (z,w) in morph(S, B):\n",
    "...  print(\"injecting \", z)\n",
    "...  print(\"ejecting \", w)\n",
    "...  print()\n",
    "...\n",
    "injecting\n",
    " 0 1 2\n",
    "------\n",
    " 1 0 0\n",
    "ejecting\n",
    " 0 1 2\n",
    "------\n",
    " 2 4 0\n",
    "\n",
    "injecting\n",
    " 0 1 2\n",
    "------\n",
    " 0 1 0\n",
    "ejecting\n",
    " 0 1 2\n",
    "------\n",
    " 1 0 3\n",
    "\n",
    "injecting\n",
    " 0 1 2\n",
    "------\n",
    " 0 0 1\n",
    "ejecting\n",
    " 0 1 2\n",
    "------\n",
    " 0 4 4\n",
    "```\n",
    "\n",
    "Test your precedure with the above example. Your results need not exactly match the results above."
   ]
  },
  {
   "cell_type": "code",
   "execution_count": 1,
   "metadata": {},
   "outputs": [],
   "source": [
    "from chapter_5_procedures import exchange\n",
    "\n",
    "def morph(S, B):\n",
    "    T = S.copy()\n",
    "    A = []\n",
    "    B_copy = B.copy()\n",
    "    ret = []\n",
    "    while len(B_copy) != 0:\n",
    "        vector_to_inject = B_copy.pop(0)\n",
    "        vector_to_eject = exchange(T, A, vector_to_inject)\n",
    "        T.remove(vector_to_eject)\n",
    "        T.append(vector_to_inject)\n",
    "        A.append(vector_to_inject)\n",
    "        ret.append((vector_to_inject, vector_to_eject))\n",
    "    return ret"
   ]
  },
  {
   "cell_type": "code",
   "execution_count": 2,
   "metadata": {},
   "outputs": [
    {
     "name": "stdout",
     "output_type": "stream",
     "text": [
      "injecting  \n",
      " 0 1 2\n",
      "------\n",
      " 1 0 0\n",
      "ejecting  \n",
      " 0 1 2\n",
      "------\n",
      " 2 4 0\n",
      "\n",
      "injecting  \n",
      " 0 1 2\n",
      "------\n",
      " 0 1 0\n",
      "ejecting  \n",
      " 0 1 2\n",
      "------\n",
      " 1 0 3\n",
      "\n",
      "injecting  \n",
      " 0 1 2\n",
      "------\n",
      " 0 0 1\n",
      "ejecting  \n",
      " 0 1 2\n",
      "------\n",
      " 0 4 4\n",
      "\n"
     ]
    }
   ],
   "source": [
    "from vecutil import list2vec\n",
    "\n",
    "S = [list2vec(v) for v in [[2,4,0],[1,0,3],[0,4,4],[1,1,1]]]\n",
    "B = [list2vec(v) for v in [[1,0,0],[0,1,0],[0,0,1]]]\n",
    "for (z,w) in morph(S, B):\n",
    "    print(\"injecting \", z)\n",
    "    print(\"ejecting \", w)\n",
    "    print()"
   ]
  },
  {
   "cell_type": "markdown",
   "metadata": {},
   "source": [
    "### Dimension and rank"
   ]
  },
  {
   "cell_type": "markdown",
   "metadata": {},
   "source": [
    "**Problem 6.7.5:** For each of the following matrices, (a) give a basis for the row space, (b) give a basis for the column space and (c) verify that the row rank equals the column rank. Justify your answers."
   ]
  },
  {
   "cell_type": "markdown",
   "metadata": {},
   "source": [
    "1. $\\begin{bmatrix}1 &2 &0\\\\0 &2 &1\\end{bmatrix}$\n",
    "\n",
    "  A basis for the row space is the original set of two rows, $\\{[1, 2, 0], [0, 2, 1]\\}$. Note that since each row has a zero where the other does not, we cannot have a basis smaller than size 2.  \n",
    "  A basis for the columns space is $\\{[1, 0], [0, 1]\\}$.\n",
    "  \n",
    "  Thus, the row rank is equal to the column rank, since the basis for both the row and column space has size $2$.\n",
    "\n",
    "1. $\\begin{bmatrix}1 &4 &0 &0\\\\0 &2 &2 &0\\\\0 &0 &1 &1\\end{bmatrix}$\n",
    "\n",
    "  A basis for the row space is the original set of three rows, $\\{[1, 4, 0, 0], [0, 2, 2, 0], [0, 0, 1, 1]\\}$. Note that since each row has a nonzero entry where the others only have zeros, we cannot have a basis smaller than size 3.\n",
    "  A basis for the columns space is the standard basis, $\\{[1, 0, 0], [0, 1, 0], [0, 0, 1]\\}$.\n",
    "  \n",
    "  Thus, the row rank is equal to the column rank, since the basis for both the row and column space has size $3$.\n",
    "\n",
    "1. $\\begin{bmatrix}1\\\\2\\\\3\\end{bmatrix}$\n",
    "\n",
    "  A basis for the row space is the singleton set the single-element vector, $\\{[1]\\}$. (Note that $[2] = 2[1]$ and $[3] = 3[1]$.)\n",
    "  A basis for the columns space is the original single column, $\\{[1, 2, 3]\\}$.\n",
    "  \n",
    "  Thus, the row rank is equal to the column rank, since the basis for both the row and column space has size $1$.\n",
    "\n",
    "1. $\\begin{bmatrix}1 &0\\\\2 &1\\\\3 &4\\end{bmatrix}$\n",
    "\n",
    "  A basis for the row space is the set of the first two rows, $\\{[1, 0], [2, 1]\\}$. (Note that the standard generators can be derived with $[2, 1] - 2[1, 0]$, and thus any vector of size 2 can be generated from these two vectors.\n",
    "  A basis for the columns space is the original two columns, $\\{[1, 2, 3], [0, 1, 4]\\}$. Note that we cannot reduce the size of the column basis to one, since the second column has a zero where the first does not, and also contains nonzero element.\n",
    "  \n",
    "  Thus, the row rank is equal to the column rank, since the basis for both the row and column space has size $2$.\n"
   ]
  },
  {
   "cell_type": "markdown",
   "metadata": {},
   "source": [
    "**Problem 6.7.6:** In this problem you will again write an independence-testing procedure. Write and test a procedure `my_is_independent(L)` with the following spec:\n",
    "* _input:_ a list $L$ of vectors\n",
    "* _output:_ `True` if the vectors form a linearly independent list.\n",
    "\n",
    "Vectors are represented as instances of `Vec`. We have provided a module `independence` that provides a procedure `rank(L)`. You should use this procedure to write `my_is_independent(L)`. No loop or comprehension is needed. This is a very simple procedure.\n",
    "\n",
    "Here is an illustration of how the procedure is used.\n",
    "```\n",
    ">>> my_is_independent([list2vec(v) for v in [[2,4,0],[8,16,4],[0,0,7]]])\n",
    "False\n",
    ">>> my_is_independent([list2vec(v) for v in [[2,4,0],[8,16,4]]])\n",
    "True\n",
    "```\n",
    "\n",
    "Test your procedure with the following examples:\n",
    "* $[[2,4,0],[8,16,4],[0,0,7]]$ over $\\mathbb{R}$\n",
    "* $[[1,3,0,0],[2,1,1,0],[0,0,1,0],[1,1,4,-1]]$ over $\\mathbb{R}$\n",
    "* $[[one,0,one,0],[0,one,0,0],[one,one,one,one],[one,0,0,one]]$ over $\\mathbb{GF(2)}$"
   ]
  },
  {
   "cell_type": "code",
   "execution_count": 3,
   "metadata": {},
   "outputs": [],
   "source": [
    "from independence import rank\n",
    "\n",
    "def my_is_independent(L):\n",
    "    return rank(L) == len(L)"
   ]
  },
  {
   "cell_type": "code",
   "execution_count": 4,
   "metadata": {},
   "outputs": [
    {
     "data": {
      "text/plain": [
       "False"
      ]
     },
     "execution_count": 4,
     "metadata": {},
     "output_type": "execute_result"
    }
   ],
   "source": [
    "my_is_independent([list2vec(v) for v in [[2,4,0],[8,16,4],[0,0,7]]])"
   ]
  },
  {
   "cell_type": "code",
   "execution_count": 5,
   "metadata": {},
   "outputs": [
    {
     "data": {
      "text/plain": [
       "True"
      ]
     },
     "execution_count": 5,
     "metadata": {},
     "output_type": "execute_result"
    }
   ],
   "source": [
    "my_is_independent([list2vec(v) for v in [[2,4,0],[8,16,4]]])"
   ]
  },
  {
   "cell_type": "code",
   "execution_count": 6,
   "metadata": {},
   "outputs": [
    {
     "data": {
      "text/plain": [
       "True"
      ]
     },
     "execution_count": 6,
     "metadata": {},
     "output_type": "execute_result"
    }
   ],
   "source": [
    "my_is_independent([list2vec(v) for v in [[1,3,0,0],[2,1,1,0],[0,0,1,0],[1,1,4,-1]]])"
   ]
  },
  {
   "cell_type": "code",
   "execution_count": 7,
   "metadata": {},
   "outputs": [
    {
     "data": {
      "text/plain": [
       "True"
      ]
     },
     "execution_count": 7,
     "metadata": {},
     "output_type": "execute_result"
    }
   ],
   "source": [
    "from GF2 import one\n",
    "\n",
    "my_is_independent([list2vec(v) for v in [[one,0,one,0],[0,one,0,0],[one,one,one,one],[one,0,0,one]]])"
   ]
  },
  {
   "cell_type": "markdown",
   "metadata": {},
   "source": [
    "**Problem 6.7.7:** Write and test a procedure `my_rank(L)` with the following spec:\n",
    "* _input:_ a list `L` of `Vec`s\n",
    "* _output:_ the rank of `L`\n",
    "\n",
    "You can use the procedure `subset_basis(T)` from Problem 5.`4.`7, in which case no loop is needed.\n",
    "\n",
    "Here is an illustration of how the procedure is used:\n",
    "```\n",
    ">>> my_rank([list2vec(v) for v in [[1,2,3],[4,5,6],[1.1,1.1,1.1]]])\n",
    "2\n",
    "```\n",
    "\n",
    "Test your procedure with the following examples:\n",
    "* $[[1,2,3],[4,5,6],[1.1,1.1,1.1]]$ over $\\mathbb{R} (rank is 2)$\n",
    "* $[[1,3,0,0],[2,0,5,1],[0,0,1,0],[0,0,7,-1]]$ over $\\mathbb{R}$\n",
    "* $[[one,0,one,0],[0,one,0,0],[one,one,one,one],[0,0,0,one]]$ over $\\mathbb{GF(2)}$"
   ]
  },
  {
   "cell_type": "code",
   "execution_count": 8,
   "metadata": {},
   "outputs": [],
   "source": [
    "from chapter_5_procedures import subset_basis\n",
    "\n",
    "def my_rank(L):\n",
    "    return len(subset_basis(L))"
   ]
  },
  {
   "cell_type": "code",
   "execution_count": 9,
   "metadata": {},
   "outputs": [
    {
     "data": {
      "text/plain": [
       "2"
      ]
     },
     "execution_count": 9,
     "metadata": {},
     "output_type": "execute_result"
    }
   ],
   "source": [
    "my_rank([list2vec(v) for v in [[1,2,3],[4,5,6],[1.1,1.1,1.1]]])"
   ]
  },
  {
   "cell_type": "code",
   "execution_count": 10,
   "metadata": {},
   "outputs": [
    {
     "data": {
      "text/plain": [
       "4"
      ]
     },
     "execution_count": 10,
     "metadata": {},
     "output_type": "execute_result"
    }
   ],
   "source": [
    "my_rank([list2vec(v) for v in [[1,3,0,0],[2,0,5,1],[0,0,1,0],[0,0,7,-1]]])"
   ]
  },
  {
   "cell_type": "code",
   "execution_count": 11,
   "metadata": {},
   "outputs": [
    {
     "data": {
      "text/plain": [
       "3"
      ]
     },
     "execution_count": 11,
     "metadata": {},
     "output_type": "execute_result"
    }
   ],
   "source": [
    "my_rank([list2vec(v) for v in [[one,0,one,0],[0,one,0,0],[one,one,one,one],[0,0,0,one]]])"
   ]
  },
  {
   "cell_type": "markdown",
   "metadata": {},
   "source": [
    "**Problem 6.7.8:** Prove that if a vector space has dimension $n$ then any $n + 1$ of its vectors are linearly dependent."
   ]
  },
  {
   "cell_type": "markdown",
   "metadata": {},
   "source": [
    "Assume that a vector space $V$ has dimension $n$.  Then by definition, there exists a basis $B$ for $V$ of size $n$.\n",
    "\n",
    "Choose $n$ vectors from $V$ such that they are linearly independent.  Then since the size of this set is equal to a basis for $V$, then by the Basis Theorem, it must also form a basis for $V$.  Choose any other vector $\\boldsymbol{v}$ from $V$ to add to this set.  Then by the definition of basis, $\\boldsymbol{v}$ must be a expressable as a linear combination of the other $n$ vectors, and so the set is linearly dependent."
   ]
  },
  {
   "cell_type": "markdown",
   "metadata": {},
   "source": [
    "### Direct sum"
   ]
  },
  {
   "cell_type": "markdown",
   "metadata": {},
   "source": [
    "**Problem 6.7.9:** Each of the following subproblems specifies two subspaces $U$ and $V$ of a vector space. For each subproblem, check whether $U \\cap V = \\{\\boldsymbol{0}\\}$.\n",
    "\n",
    "1. Subspaces of $GF(2)^4$: let $U = \\text{Span}\\space \\{1010,0010\\}$ and let $V = \\text{Span}\\space \\{0101,0001\\}$.\n",
    "\n",
    "  $U \\cap V = \\{\\boldsymbol{0}\\}$ in this case.\n",
    " \n",
    "1. Subspaces of $\\mathbb{R}^3$: let $U = \\text{Span}\\space \\{[1,2,3],[1,2,0]\\}$ and let $V = \\text{Span}\\space \\{[2,1,3],[2,1,3]\\}$.\n",
    "\n",
    "  $U \\cap V = \\{\\boldsymbol{0}\\}$ in this case as well. (Note that $[2,1,3]$ is not a linear combination of $\\{[1,2,3],[1,2,0]\\}$.\n",
    "\n",
    "1. Subspaces of $\\mathbb{R}^4$: let $U = \\text{Span}\\space \\{[2,0,8,0],[1,1,4,0]\\}$ and let $V = \\text{Span}\\space \\{[2,1,1,1],[0,1,1,1]\\}$.\n",
    "\n",
    "  $U \\cap V = \\{\\boldsymbol{0}\\}$ in this case as well."
   ]
  },
  {
   "cell_type": "markdown",
   "metadata": {},
   "source": [
    "**Problem 6.7.10:** Proposition 6.3.5 states that the direct sum $U \\oplus V$ is a vector space. Prove this using the Properties V1, V2 and V3 that define vector spaces."
   ]
  },
  {
   "cell_type": "markdown",
   "metadata": {},
   "source": [
    "**Property V1** (Contains the zero vector):\n",
    "\n",
    "Since $U$ and $V$ are both vector spaces, they both contain the zero vector.  Then $\\boldsymbol{0} + \\boldsymbol{0} = \\boldsymbol{0} \\in U \\oplus V$.\n",
    "\n",
    "**Property V2** (Closed under scalar-vector multiplication):\n",
    "\n",
    "Since $U$ and $V$ are both vector spaces, for any scalar $\\alpha$, $\\alpha \\boldsymbol{u} \\in U : \\boldsymbol{u} \\in U$ and $\\alpha \\boldsymbol{v} \\in V : \\boldsymbol{v} \\in V$.  \n",
    "Thus, for any $\\boldsymbol{u} + \\boldsymbol{v} \\in U \\oplus V$, $\\alpha(\\boldsymbol{u} + \\boldsymbol{v}) = \\alpha\\boldsymbol{u} + \\alpha\\boldsymbol{v} \\in U \\oplus V$.\n",
    "\n",
    "**Property V3** (Closed under vector addition):\n",
    "\n",
    "Consider any two vectors, $\\boldsymbol{u}_1, \\boldsymbol{u}_2 \\in U$, and any two vectors, $\\boldsymbol{v}_1, \\boldsymbol{v}_2 \\in V$.  Then since $U$ and $V$ are both vector spaces, $\\boldsymbol{u}_1 + \\boldsymbol{u}_2 \\in U$ and $\\boldsymbol{v}_1 + \\boldsymbol{v}_2 \\in V$.  \n",
    "Let $\\boldsymbol{a} = \\boldsymbol{u}_1 + \\boldsymbol{v}_1$ and $\\boldsymbol{b} = \\boldsymbol{u}_2 + \\boldsymbol{v}_2$.  Then $\\boldsymbol{a} \\in U \\oplus V$, $\\boldsymbol{b} \\in U \\oplus V$ and $\\boldsymbol{a} + \\boldsymbol{b} = (\\boldsymbol{u}_1 + \\boldsymbol{v}_1) + (\\boldsymbol{u}_2 + \\boldsymbol{v}_2) = (\\boldsymbol{u}_1 + \\boldsymbol{u}_2) + (\\boldsymbol{v}_1 + \\boldsymbol{v}_2) \\in U \\oplus V$"
   ]
  },
  {
   "cell_type": "markdown",
   "metadata": {},
   "source": [
    "### Direct sum unique representation"
   ]
  },
  {
   "cell_type": "markdown",
   "metadata": {},
   "source": [
    "**Problem 6.7.11:** Write and test a procedure `direct_sum_decompose(U_basis, V_basis, w)` with the following spec:\n",
    "* _input:_ a list `U_basis` containing a basis for a vector space $U$, a list `V_basis` containing a basis for a vector space $V$, and a vector $\\boldsymbol{w}$ that belongs to the direct sum $U \\oplus V$\n",
    "* _output:_ a pair $(\\boldsymbol{u}, \\boldsymbol{v})$ such that $\\boldsymbol{w} = \\boldsymbol{u} + \\boldsymbol{v}$ and $\\boldsymbol{u}$ belongs to $U$ and $\\boldsymbol{v}$ belongs to $V$.\n",
    "\n",
    "Your procedure should use the fact that a basis of $U$ joined with a basis of $V$ is a basis for $U \\oplus V$. It should use the `solver` module or the procedure `vec2rep(veclist, u)` from Problem 5.14.14.\n",
    "\n",
    "Over $\\mathbb{R}$: Given `U_basis`$= \\{[2,1,0,0,6,0],[11,5,0,0,1,0],[3,1.5,0,0,7.5,0]\\}$, `V_basis`$= \\{[0,0,7,0,0,1],[0,0,15,0,0,2]\\}$, test your procedure with each of the following vectors $\\boldsymbol{w}$:\n",
    "\n",
    "1. $\\boldsymbol{w} = [2,5,0,0,1,0]$\n",
    "1. $\\boldsymbol{w} = [0,0,3,0,0,-4]$\n",
    "1. $\\boldsymbol{w} = [1,2,0,0,2,1]$\n",
    "1. $\\boldsymbol{w} = [-6,2,4,0,4,5]$\n",
    "\n",
    "Over $GF(2)$: Given `U_basis`$=\\{[one,one,0,one,0,one],[one,one,0,0,0,one],[one,0,0,0,0,0]\\}$, `V_basis`$= \\{[one,one,one,0,one,one]\\}$, test your procedure with each of the following vectors $\\boldsymbol{w}$:\n",
    "\n",
    "1. $\\boldsymbol{w} = [0,0,0,0,0,0]$\n",
    "1. $\\boldsymbol{w} = [one,0,0,one,0,0]$\n",
    "1. $\\boldsymbol{w} = [one,one,one,one,one,one]$"
   ]
  },
  {
   "cell_type": "code",
   "execution_count": 12,
   "metadata": {},
   "outputs": [],
   "source": [
    "from chapter_5_procedures import vec2rep, rep2vec\n",
    "from vec import Vec\n",
    "\n",
    "def direct_sum_decompose(U_basis, V_basis, w):\n",
    "    U_V_basis = U_basis + V_basis\n",
    "    w_in_U_V_basis = vec2rep(U_V_basis, w)\n",
    "    u = rep2vec(list2vec([w_in_U_V_basis[i] for i in range(len(U_basis))]), U_basis)\n",
    "    v = rep2vec(list2vec([w_in_U_V_basis[i + len(U_basis)] for i in range(len(V_basis))]), V_basis)\n",
    "    return (u, v)"
   ]
  },
  {
   "cell_type": "code",
   "execution_count": 13,
   "metadata": {},
   "outputs": [
    {
     "data": {
      "text/plain": [
       "(Vec({0, 1, 2, 3, 4, 5},{0: 2.0, 1: 4.999999999999972, 2: 0.0, 3: 0.0, 4: 1.0, 5: 0.0}),\n",
       " Vec({0, 1, 2, 3, 4, 5},{0: 0.0, 1: 0.0, 2: 0.0, 3: 0.0, 4: 0.0, 5: 0.0}))"
      ]
     },
     "execution_count": 13,
     "metadata": {},
     "output_type": "execute_result"
    }
   ],
   "source": [
    "U_basis = [list2vec(u) for u in [[2,1,0,0,6,0],[11,5,0,0,1,0],[3,1.5,0,0,7.5,0]]]\n",
    "V_basis = [list2vec(v) for v in [[0,0,7,0,0,1],[0,0,15,0,0,2]]]\n",
    "direct_sum_decompose(U_basis, V_basis, list2vec([2,5,0,0,1,0]))"
   ]
  },
  {
   "cell_type": "code",
   "execution_count": 14,
   "metadata": {},
   "outputs": [
    {
     "data": {
      "text/plain": [
       "(Vec({0, 1, 2, 3, 4, 5},{0: 0.0, 1: 0.0, 2: 0.0, 3: 0.0, 4: 0.0, 5: 0.0}),\n",
       " Vec({0, 1, 2, 3, 4, 5},{0: 0.0, 1: 0.0, 2: 3.0, 3: 0.0, 4: 0.0, 5: -3.999999999999993}))"
      ]
     },
     "execution_count": 14,
     "metadata": {},
     "output_type": "execute_result"
    }
   ],
   "source": [
    "direct_sum_decompose(U_basis, V_basis, list2vec([0,0,3,0,0,-4]))"
   ]
  },
  {
   "cell_type": "code",
   "execution_count": 15,
   "metadata": {},
   "outputs": [
    {
     "data": {
      "text/plain": [
       "(Vec({0, 1, 2, 3, 4, 5},{0: 0.0, 1: 0.0, 2: 0.0, 3: 0.0, 4: 0.0, 5: 0.0}),\n",
       " Vec({0, 1, 2, 3, 4, 5},{0: 0.0, 1: 0.0, 2: 3.0, 3: 0.0, 4: 0.0, 5: -3.999999999999993}))"
      ]
     },
     "execution_count": 15,
     "metadata": {},
     "output_type": "execute_result"
    }
   ],
   "source": [
    "direct_sum_decompose(U_basis, V_basis, list2vec([0,0,3,0,0,-4]))"
   ]
  },
  {
   "cell_type": "code",
   "execution_count": 16,
   "metadata": {},
   "outputs": [
    {
     "data": {
      "text/plain": [
       "(Vec({0, 1, 2, 3, 4, 5},{0: 1.0, 1: 1.999999999999929, 2: 0.0, 3: 0.0, 4: 2.000000000000057, 5: 0.0}),\n",
       " Vec({0, 1, 2, 3, 4, 5},{0: 0.0, 1: 0.0, 2: 0.0, 3: 0.0, 4: 0.0, 5: 1.0}))"
      ]
     },
     "execution_count": 16,
     "metadata": {},
     "output_type": "execute_result"
    }
   ],
   "source": [
    "direct_sum_decompose(U_basis, V_basis, list2vec([1,2,0,0,2,1]))"
   ]
  },
  {
   "cell_type": "code",
   "execution_count": 17,
   "metadata": {},
   "outputs": [
    {
     "data": {
      "text/plain": [
       "(Vec({0, 1, 2, 3, 4, 5},{0: -6.0, 1: 1.9999999999999432, 2: 0.0, 3: 0.0, 4: 4.0, 5: 0.0}),\n",
       " Vec({0, 1, 2, 3, 4, 5},{0: 0.0, 1: 0.0, 2: 4.0, 3: 0.0, 4: 0.0, 5: 5.000000000000007}))"
      ]
     },
     "execution_count": 17,
     "metadata": {},
     "output_type": "execute_result"
    }
   ],
   "source": [
    "direct_sum_decompose(U_basis, V_basis, list2vec([-6,2,4,0,4,5]))"
   ]
  },
  {
   "cell_type": "code",
   "execution_count": 18,
   "metadata": {},
   "outputs": [],
   "source": [
    "U_basis = [list2vec(u) for u in [[one,one,0,one,0,one],[one,one,0,0,0,one],[one,0,0,0,0,0]]]\n",
    "V_basis = [list2vec(v) for v in [[one,one,one,0,one,one]]]"
   ]
  },
  {
   "cell_type": "code",
   "execution_count": 19,
   "metadata": {},
   "outputs": [
    {
     "data": {
      "text/plain": [
       "(Vec({0, 1, 2, 3, 4, 5},{0: 0, 1: 0, 2: 0, 3: 0, 4: 0, 5: 0}),\n",
       " Vec({0, 1, 2, 3, 4, 5},{0: 0, 1: 0, 2: 0, 3: 0, 4: 0, 5: 0}))"
      ]
     },
     "execution_count": 19,
     "metadata": {},
     "output_type": "execute_result"
    }
   ],
   "source": [
    "direct_sum_decompose(U_basis, V_basis, list2vec([0,0,0,0,0,0]))"
   ]
  },
  {
   "cell_type": "code",
   "execution_count": 20,
   "metadata": {},
   "outputs": [
    {
     "data": {
      "text/plain": [
       "(Vec({0, 1, 2, 3, 4, 5},{0: one, 1: 0, 2: 0, 3: one, 4: 0, 5: 0}),\n",
       " Vec({0, 1, 2, 3, 4, 5},{0: 0, 1: 0, 2: 0, 3: 0, 4: 0, 5: 0}))"
      ]
     },
     "execution_count": 20,
     "metadata": {},
     "output_type": "execute_result"
    }
   ],
   "source": [
    "direct_sum_decompose(U_basis, V_basis, list2vec([one,0,0,one,0,0]))"
   ]
  },
  {
   "cell_type": "code",
   "execution_count": 21,
   "metadata": {},
   "outputs": [
    {
     "data": {
      "text/plain": [
       "(Vec({0, 1, 2, 3, 4, 5},{0: 0, 1: 0, 2: 0, 3: one, 4: 0, 5: 0}),\n",
       " Vec({0, 1, 2, 3, 4, 5},{0: one, 1: one, 2: one, 3: 0, 4: one, 5: one}))"
      ]
     },
     "execution_count": 21,
     "metadata": {},
     "output_type": "execute_result"
    }
   ],
   "source": [
    "direct_sum_decompose(U_basis, V_basis, list2vec([one,one,one,one,one,one]))"
   ]
  },
  {
   "cell_type": "markdown",
   "metadata": {},
   "source": [
    "### Testing invertibility"
   ]
  },
  {
   "cell_type": "markdown",
   "metadata": {},
   "source": [
    "**Problem 6.7.12:** Write and test a procedure `is_invertible(M)` with the following spec:\n",
    "* _input:_ an instance `M` of `Mat`\n",
    "* _output:_ `True` if `M` is an invertible matrix, `False` otherwise\n",
    "\n",
    "Your procedure should not use any loops or comprehensions. It can use procedures from the `matutil` module and from the `independence` module.\n",
    "\n",
    "Test your procedure with the following examples:\n",
    "\n",
    "Over $\\mathbb{R}$:\n",
    "\n",
    "$\\begin{bmatrix}1 &2 &3\\\\3 &1 &1\\end{bmatrix}$: False $\\begin{bmatrix}1 &0 &1 &0\\\\0 &2 &1 &0\\\\0 &0 &3 &1\\\\0 &0 &0 &4\\end{bmatrix}$: True $\\begin{bmatrix}1 &0\\\\0 &1\\\\2 &1\\end{bmatrix}$: False $\\begin{bmatrix}1 &0\\\\0 &1\\end{bmatrix}$: True $\\begin{bmatrix}1 &0 &1\\\\0 &1 &1\\\\1 &1 &0\\end{bmatrix}$: True\n",
    "\n",
    "Over $GF(2)$:\n",
    "\n",
    "$\\begin{bmatrix}one &0 &one\\\\0 &one &one\\\\one &one &0\\end{bmatrix}$: False $\\begin{bmatrix}one &one\\\\0 &one\\end{bmatrix}$: True\n",
    "\n",
    "Note the resemblance between two matrices, one over $\\mathbb{R}$ and one over $GF(2)$, and note that one is invertible and the other is not."
   ]
  },
  {
   "cell_type": "code",
   "execution_count": 22,
   "metadata": {},
   "outputs": [],
   "source": [
    "from matutil import mat2coldict\n",
    "\n",
    "def is_invertible(M):\n",
    "    # using a personally-implemented `is_square` function:\n",
    "    return M.is_square() and my_is_independent(list(mat2coldict(M).values()))"
   ]
  },
  {
   "cell_type": "code",
   "execution_count": 23,
   "metadata": {},
   "outputs": [
    {
     "data": {
      "text/plain": [
       "False"
      ]
     },
     "execution_count": 23,
     "metadata": {},
     "output_type": "execute_result"
    }
   ],
   "source": [
    "from matutil import listlist2mat\n",
    "\n",
    "is_invertible(listlist2mat([[1,2,3],[3,1,1]]))"
   ]
  },
  {
   "cell_type": "code",
   "execution_count": 24,
   "metadata": {},
   "outputs": [
    {
     "data": {
      "text/plain": [
       "True"
      ]
     },
     "execution_count": 24,
     "metadata": {},
     "output_type": "execute_result"
    }
   ],
   "source": [
    "is_invertible(listlist2mat([[1,0,1,0],[0,2,1,0],[0,0,3,1],[0,0,0,4]]))"
   ]
  },
  {
   "cell_type": "code",
   "execution_count": 25,
   "metadata": {},
   "outputs": [
    {
     "data": {
      "text/plain": [
       "False"
      ]
     },
     "execution_count": 25,
     "metadata": {},
     "output_type": "execute_result"
    }
   ],
   "source": [
    "is_invertible(listlist2mat([[1,0],[0,1],[2,1]]))"
   ]
  },
  {
   "cell_type": "code",
   "execution_count": 26,
   "metadata": {},
   "outputs": [
    {
     "data": {
      "text/plain": [
       "True"
      ]
     },
     "execution_count": 26,
     "metadata": {},
     "output_type": "execute_result"
    }
   ],
   "source": [
    "is_invertible(listlist2mat([[1,0],[0,1]]))"
   ]
  },
  {
   "cell_type": "code",
   "execution_count": 27,
   "metadata": {},
   "outputs": [
    {
     "data": {
      "text/plain": [
       "True"
      ]
     },
     "execution_count": 27,
     "metadata": {},
     "output_type": "execute_result"
    }
   ],
   "source": [
    "is_invertible(listlist2mat([[1,0,1],[0,1,1],[1,1,0]]))"
   ]
  },
  {
   "cell_type": "code",
   "execution_count": 28,
   "metadata": {},
   "outputs": [
    {
     "data": {
      "text/plain": [
       "False"
      ]
     },
     "execution_count": 28,
     "metadata": {},
     "output_type": "execute_result"
    }
   ],
   "source": [
    "is_invertible(listlist2mat([[one,0,one],[0,one,one], [one,one,0]]))"
   ]
  },
  {
   "cell_type": "code",
   "execution_count": 29,
   "metadata": {},
   "outputs": [
    {
     "data": {
      "text/plain": [
       "True"
      ]
     },
     "execution_count": 29,
     "metadata": {},
     "output_type": "execute_result"
    }
   ],
   "source": [
    "is_invertible(listlist2mat([[one,one],[0,one]]))"
   ]
  },
  {
   "cell_type": "markdown",
   "metadata": {},
   "source": [
    "### Finding the matrix inverse"
   ]
  },
  {
   "cell_type": "markdown",
   "metadata": {},
   "source": [
    "**Problem 6.7.13:** Write and test a procedure `find_matrix_inverse(A)` with the following spec:\n",
    "* _input:_ an invertible matrix `A` over $GF(2)$\n",
    "* _output:_ the inverse of `A`\n",
    "\n",
    "Note that the input and output matrices are over $GF(2)$.\n",
    "\n",
    "Test your inverse procedure by printing $AA^{-1}$ and $A^{-1}A$.\n",
    "\n",
    "Try out your procedure on the following matrices over $GF(2)$. (Verify it is indeed the inverse by multiplying the input and output matrices together.)\n",
    "\n",
    "* $\\begin{bmatrix}0 &one &0\\\\one &0 &0\\\\0 &0 &one\\end{bmatrix}$\n",
    "* $\\begin{bmatrix}one &one &one &one\\\\one &one &one &0\\\\0 &one &0 &one\\\\0 &0 &one &0\\end{bmatrix}$\n",
    "* $\\begin{bmatrix}one &one &0 &0 &0\\\\0 &one &one &0 &0\\\\0 &0 &one &one &0\\\\0 &0 &0 &one &one\\\\0 &0 &0 &0 &one\\end{bmatrix}$\n",
    "\n",
    "Note the resemblance between two matrices, one over $\\mathbb{R}$ and one over $GF(2)$, and note that one is invertible and the other is not.\n",
    "\n",
    "Your procedure should use as a subroutine the `solve` procedure of the `solver` module. Since we are using $GF(2)$, you need not worry about rounding errors. Your procedure should be based on the following result:\n",
    "\n",
    "_Suppose $A$ and $B$ are square matrices such that $AB$ is the identity matrix. Then $A$ and $B$ are inverses of each other._\n",
    "\n",
    "In particular, your procedure should try to find a square matrix $B$ such that $AB$ is an identity.\n",
    "\n",
    "To do this, consider $B$ and the identity matrix as consisting of columns.\n",
    "\n",
    "Using the matrix-vector definition of matrix-matrix-multiplication, you can interpret this matrix-matrix equation as a collection of $N$ matrix-vector equations: one for $\\boldsymbol{b}_1, ..., $ one for $\\boldsymbol{b}_n$. By solving these equations, you can thus obtain the columns of $B$."
   ]
  },
  {
   "cell_type": "code",
   "execution_count": 30,
   "metadata": {},
   "outputs": [],
   "source": [
    "from solver import solve\n",
    "from matutil import identity, coldict2mat\n",
    "\n",
    "def find_matrix_inverse(A):\n",
    "    assert is_invertible(A)\n",
    "    I = identity(A.D[0], one)\n",
    "    B = [solve(A, i) for i in mat2coldict(I).values()]\n",
    "    return coldict2mat(B)"
   ]
  },
  {
   "cell_type": "code",
   "execution_count": 31,
   "metadata": {},
   "outputs": [
    {
     "name": "stdout",
     "output_type": "stream",
     "text": [
      "\n",
      "         0   1   2\n",
      "     -------------\n",
      " 0  |    0 one   0\n",
      " 1  |  one   0   0\n",
      " 2  |    0   0 one\n",
      "\n",
      "\n",
      "         0   1   2\n",
      "     -------------\n",
      " 0  |  one   0   0\n",
      " 1  |    0 one   0\n",
      " 2  |    0   0 one\n",
      "\n",
      "\n",
      "         0   1   2\n",
      "     -------------\n",
      " 0  |  one   0   0\n",
      " 1  |    0 one   0\n",
      " 2  |    0   0 one\n",
      "\n",
      "\n",
      "         0   1   2   3\n",
      "     -----------------\n",
      " 0  |  one   0 one one\n",
      " 1  |  one one one   0\n",
      " 2  |    0   0   0 one\n",
      " 3  |  one one   0   0\n",
      "\n",
      "\n",
      "         0   1   2   3\n",
      "     -----------------\n",
      " 0  |  one   0   0   0\n",
      " 1  |    0 one   0   0\n",
      " 2  |    0   0 one   0\n",
      " 3  |    0   0   0 one\n",
      "\n",
      "\n",
      "         0   1   2   3\n",
      "     -----------------\n",
      " 0  |  one   0   0   0\n",
      " 1  |    0 one   0   0\n",
      " 2  |    0   0 one   0\n",
      " 3  |    0   0   0 one\n",
      "\n",
      "\n",
      "         0   1   2   3   4\n",
      "     ---------------------\n",
      " 0  |  one one one one one\n",
      " 1  |    0 one one one one\n",
      " 2  |    0   0 one one one\n",
      " 3  |    0   0   0 one one\n",
      " 4  |    0   0   0   0 one\n",
      "\n",
      "\n",
      "         0   1   2   3   4\n",
      "     ---------------------\n",
      " 0  |  one   0   0   0   0\n",
      " 1  |    0 one   0   0   0\n",
      " 2  |    0   0 one   0   0\n",
      " 3  |    0   0   0 one   0\n",
      " 4  |    0   0   0   0 one\n",
      "\n",
      "\n",
      "         0   1   2   3   4\n",
      "     ---------------------\n",
      " 0  |  one   0   0   0   0\n",
      " 1  |    0 one   0   0   0\n",
      " 2  |    0   0 one   0   0\n",
      " 3  |    0   0   0 one   0\n",
      " 4  |    0   0   0   0 one\n",
      "\n"
     ]
    }
   ],
   "source": [
    "M_lists = [\n",
    "    [[0,one,0],[one,0,0],[0,0,one]],\n",
    "    [[one,one,one,one],[one,one,one,0],[0,one,0,one],[0,0,one,0]],\n",
    "    [[one,one,0,0,0],[0,one,one,0,0],[0,0,one,one,0],[0,0,0,one,one],[0,0,0,0,one]],\n",
    "]\n",
    "\n",
    "for M_list in M_lists:\n",
    "    A = listlist2mat(M_list)\n",
    "    A_inverse = find_matrix_inverse(A)\n",
    "    print(A_inverse)\n",
    "    print(A_inverse * A)\n",
    "    print(A * A_inverse)"
   ]
  },
  {
   "cell_type": "markdown",
   "metadata": {},
   "source": [
    "**Problem 6.7.14:** Write a procedure for finding the inverse of an upper-triangular matrix, `find_triangular_matrix_inverse(A)`\n",
    "* _input:_ an instance `M` of `Mat` representing an upper triangular matrix with nonzero diagonal elements. You can assume that the row-label set and column-label set are of the form $\\{0,1,2,...,n-1\\}$.\n",
    "* _output:_ a `Mat` representing the inverse of `M`\n",
    "\n",
    "This procedure should use `triangular_solve` which is defined in the module `triangular.` It can also use the procedures in `matutil`, but that's all.\n",
    "\n",
    "Try your procedure on\n",
    "```\n",
    ">>> listlist2mat([[1, .5, .2, 4], [0, 1, .3, .9], [0, 0, 1, .1], [0, 0, 0, 1]])\n",
    "```"
   ]
  },
  {
   "cell_type": "code",
   "execution_count": 43,
   "metadata": {},
   "outputs": [],
   "source": [
    "from matutil import mat2rowdict\n",
    "from triangular import triangular_solve_n\n",
    "\n",
    "def find_triangular_matrix_inverse(A):\n",
    "    I = identity(A.D[0], one)\n",
    "    A_row_list = list(mat2rowdict(A).values())\n",
    "    B = [triangular_solve_n(A_row_list, i) for i in mat2coldict(I).values()]\n",
    "    return coldict2mat(B)"
   ]
  },
  {
   "cell_type": "code",
   "execution_count": 46,
   "metadata": {},
   "outputs": [
    {
     "name": "stdout",
     "output_type": "stream",
     "text": [
      "A\n",
      " \n",
      "       0   1   2   3\n",
      "     ---------------\n",
      " 0  |  1 0.5 0.2   4\n",
      " 1  |  0   1 0.3 0.9\n",
      " 2  |  0   0   1 0.1\n",
      " 3  |  0   0   0   1\n",
      "\n",
      "A^-1\n",
      " \n",
      "         0   1   2   3\n",
      "     -----------------\n",
      " 0  |  one one   0   0\n",
      " 1  |    0 one one   0\n",
      " 2  |    0   0 one one\n",
      " 3  |    0   0   0 one\n",
      "\n",
      "AA^-1\n",
      " \n",
      "         0   1   2   3\n",
      "     -----------------\n",
      " 0  |  one   0   0   0\n",
      " 1  |    0 one   0   0\n",
      " 2  |    0   0 one   0\n",
      " 3  |    0   0   0 one\n",
      "\n",
      "A^-1A\n",
      " \n",
      "         0   1   2   3\n",
      "     -----------------\n",
      " 0  |  one   0   0   0\n",
      " 1  |    0 one   0   0\n",
      " 2  |    0   0 one   0\n",
      " 3  |    0   0   0 one\n",
      "\n"
     ]
    }
   ],
   "source": [
    "A = listlist2mat([[1, .5, .2, 4], [0, 1, .3, .9], [0, 0, 1, .1], [0, 0, 0, 1]])\n",
    "A_inverse = find_triangular_matrix_inverse(A)\n",
    "print('A\\n', A)\n",
    "print('A^-1\\n', A_inverse)\n",
    "print('AA^-1\\n', A * A_inverse)\n",
    "print('A^-1A\\n', A_inverse * A)"
   ]
  },
  {
   "cell_type": "code",
   "execution_count": null,
   "metadata": {},
   "outputs": [],
   "source": []
  }
 ],
 "metadata": {
  "kernelspec": {
   "display_name": "Python 3",
   "language": "python",
   "name": "python3"
  },
  "language_info": {
   "codemirror_mode": {
    "name": "ipython",
    "version": 3
   },
   "file_extension": ".py",
   "mimetype": "text/x-python",
   "name": "python",
   "nbconvert_exporter": "python",
   "pygments_lexer": "ipython3",
   "version": "3.6.4"
  }
 },
 "nbformat": 4,
 "nbformat_minor": 2
}
