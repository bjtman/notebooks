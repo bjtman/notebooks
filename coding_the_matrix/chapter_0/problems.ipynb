{
 "cells": [
  {
   "cell_type": "markdown",
   "metadata": {},
   "source": [
    "## Problem 0.3.21\n",
    "Prove **Lemma 0.3.2.0**\n",
    "\n",
    "**Lemma 0.3.2.0:** If $f$ and $g$ are invertible functions and $f \\circ g$ exists then $f \\circ g$ is invertible and $(f \\circ g)^{-1} = g^{-1} \\circ f^{-1}$"
   ]
  },
  {
   "cell_type": "markdown",
   "metadata": {},
   "source": [
    "**Part 1:** $f \\circ g$ is invertible:\n",
    "\n",
    "Since $f$ and $g$ are invertible, then by the definition of inverse, $f$ and $g$ are one-to-one and onto.  \n",
    "Assume by contradiction that $f \\circ g$ is not one-to-one. Then there must be some $x$ and $y$ such that $x = y$ and $(f \\circ g)(x) \\neq (f \\circ g)(y)$.  \n",
    "Let $x = y$.  \n",
    "Since $x = y$ then $f(x) = f(y)$ and $g(x) = g(y)$ by the definition of one-to-one.  \n",
    "Since $f \\circ g$ exists, then $(f \\circ g)(x) = f(g(x)) = f(y)$ and $(f \\circ g)(x) = f(g(y)) = f(x) = f(y)$  \n",
    "Thus, $(f \\circ g)(x) = (f \\circ g)(y)$, a contradiction. So $f \\circ g$ is one-to-one.\n",
    "\n",
    "Assume by contradiction that $f \\circ g$ is not onto, and let $z*$ be an element of the co-domain such that $z*$ is not the image of any domain element.  Since $f$ is onto and $g$ are onto and $f \\circ g$ exists, then $z*$ has an image $y*$ under $f^{-1}$, , then $y*$ has an image $x*$ under $g^{-1}$.  \n",
    "Thus, $z*$ has an image $x*$ under $(f \\circ g)^{-1}$, a contradiction.  So $f \\circ g$ is onto.\n",
    "\n",
    "$\\square$\n"
   ]
  },
  {
   "cell_type": "markdown",
   "metadata": {},
   "source": [
    "# 0.7 Review questions"
   ]
  },
  {
   "cell_type": "markdown",
   "metadata": {},
   "source": [
    "#### What does the notation $f : A \\rightarrow B$ mean?"
   ]
  },
  {
   "cell_type": "markdown",
   "metadata": {},
   "source": [
    "The function $f$ whose domain is the set $A$ and co-domain is the set $B$."
   ]
  },
  {
   "cell_type": "markdown",
   "metadata": {},
   "source": [
    "#### What are the criteria for $f$ to be an invertible function?"
   ]
  },
  {
   "cell_type": "markdown",
   "metadata": {},
   "source": [
    "A function $f$ is invertible if and only if:  \n",
    "* it is one-to-one (meaning that for distinct every pair of elements $x$ and $y$ in the domain of $f$, $f(x) \\neq f(y)$)\n",
    "* it is onto (meanining that for every element $y$ in the co-domain of $f$, there exists an element $x$ in the domain of $f$ such that $f(x) = y$"
   ]
  },
  {
   "cell_type": "markdown",
   "metadata": {},
   "source": [
    "#### What is associativity of functional composition?"
   ]
  },
  {
   "cell_type": "markdown",
   "metadata": {},
   "source": [
    "$(h \\circ g) \\circ f = h \\circ (g \\circ f)$"
   ]
  },
  {
   "cell_type": "markdown",
   "metadata": {},
   "source": [
    "#### What are the criteria for a function to be a probability function?"
   ]
  },
  {
   "cell_type": "markdown",
   "metadata": {},
   "source": [
    "for $f : D \\rightarrow G$, $\\sum\\limits_{x \\in D} f(x) = 1$"
   ]
  },
  {
   "cell_type": "markdown",
   "metadata": {},
   "source": [
    "#### What is the Fundamental Principle of Probability Theory?"
   ]
  },
  {
   "cell_type": "markdown",
   "metadata": {},
   "source": [
    "The total probability of disjoint events is equal to the sum of the probability of each event."
   ]
  },
  {
   "cell_type": "markdown",
   "metadata": {},
   "source": [
    "(The way the book puts it is: the probability of an event is the sum of the probabilities of the outcomes making up the event.)"
   ]
  },
  {
   "cell_type": "markdown",
   "metadata": {},
   "source": [
    "#### If the input to an invertible function is chosen randomly according to the uniform distribution, what is the distribution of the output?"
   ]
  },
  {
   "cell_type": "markdown",
   "metadata": {},
   "source": [
    "Uniform!"
   ]
  },
  {
   "cell_type": "markdown",
   "metadata": {},
   "source": [
    "# 0.8 Problems"
   ]
  },
  {
   "cell_type": "markdown",
   "metadata": {},
   "source": [
    "## Python comprehension problems\n",
    "For each of the following problems, write the one-line procedure using a comprehension"
   ]
  },
  {
   "cell_type": "markdown",
   "metadata": {},
   "source": [
    "**Problem 0.8.1:** `increments(L)`\n",
    "\n",
    "_input:_ list `L` of numbers  \n",
    "_output:_ list of numbers in which the $i^{th}$ element is one plus the $i^{th}$ element of `L`  \n",
    "Example: `increments([1, 5, 7])` should return `[2, 6, 8]`"
   ]
  },
  {
   "cell_type": "code",
   "execution_count": 1,
   "metadata": {},
   "outputs": [
    {
     "data": {
      "text/plain": [
       "[2, 6, 8]"
      ]
     },
     "execution_count": 1,
     "metadata": {},
     "output_type": "execute_result"
    }
   ],
   "source": [
    "def increments(L):\n",
    "    return [1 + e for e in L]\n",
    "increments([1, 5, 7])"
   ]
  },
  {
   "cell_type": "markdown",
   "metadata": {},
   "source": [
    "**Problem 0.8.2:** `cubes(L)`\n",
    "\n",
    "_input:_ list `L` of numbers  \n",
    "_output:_ list of numbers in which the $i^{th}$ element is the cube of the $i^{th}$ element of `L`  \n",
    "Example: given `[1, 2, 3]`, return `[1, 8, 27]`"
   ]
  },
  {
   "cell_type": "code",
   "execution_count": 2,
   "metadata": {},
   "outputs": [
    {
     "data": {
      "text/plain": [
       "[1, 8, 27]"
      ]
     },
     "execution_count": 2,
     "metadata": {},
     "output_type": "execute_result"
    }
   ],
   "source": [
    "def cubes(L):\n",
    "    return [e ** 3 for e in L]\n",
    "cubes([1, 2, 3])"
   ]
  },
  {
   "cell_type": "markdown",
   "metadata": {},
   "source": [
    "**Problem 0.8.3:** `tuple_sum(A, B)`\n",
    "\n",
    "_input:_ lists `A` and `B` of the same length, where each element in each list is a pair `(x, y)` of numbers  \n",
    "_output:_ list of pairs `(x, y)` in which the first element of the $i^{th}$ pair is the sum of the first element of the $i^{th}$ pair in `A` and the first element of the $i^{th}$ pair in `B`  \n",
    "Example: given lists `[(1, 2), (10, 20)]` and `[(3, 4), (30, 40)]`, return `[(4, 6), (40, 60)]`."
   ]
  },
  {
   "cell_type": "code",
   "execution_count": 4,
   "metadata": {},
   "outputs": [
    {
     "data": {
      "text/plain": [
       "[(4, 6), (40, 60)]"
      ]
     },
     "execution_count": 4,
     "metadata": {},
     "output_type": "execute_result"
    }
   ],
   "source": [
    "def tuple_sum(A, B):\n",
    "    return [(x[0] + y[0], x[1] + y[1]) for x, y in zip(A, B)]\n",
    "tuple_sum([(1, 2), (10, 20)], [(3, 4), (30, 40)])"
   ]
  },
  {
   "cell_type": "markdown",
   "metadata": {},
   "source": [
    "**Problem 0.8.4:** `inv_dict(d)`\n",
    "\n",
    "_input:_ dictionary `d` representing an invertible function `f`  \n",
    "_output:_ dictionary representing the inverse of `f`, the returned dictionary's are the values of `d` and its value are the keys of `d`  \n",
    "Example: given an English-French dictionary  \n",
    "`{'thank you': 'merci', 'goodbye': 'au revoir'}`  \n",
    "return a French-English dictionary  \n",
    "`{'merci': 'thank you', 'au revoir': 'goodbye'}`"
   ]
  },
  {
   "cell_type": "code",
   "execution_count": 5,
   "metadata": {},
   "outputs": [
    {
     "data": {
      "text/plain": [
       "{'au revoir': 'goodbye', 'merci': 'thank you'}"
      ]
     },
     "execution_count": 5,
     "metadata": {},
     "output_type": "execute_result"
    }
   ],
   "source": [
    "def inv_dict(d):\n",
    "    return {v: k for k, v in d.items()}\n",
    "inv_dict({'thank you': 'merci', 'goodbye': 'au revoir'})"
   ]
  },
  {
   "cell_type": "markdown",
   "metadata": {},
   "source": [
    "**Problem 0.8.5:** First write a procedure `row(p, n)` with the following spec:\n",
    "\n",
    "_input:_ integer `p`, integer `n`  \n",
    "_output:_ n-element list such that element `i` is `p + i`  \n",
    "Example: given `p = 10` and `n = 4`, return `[10, 11, 12, 13]`"
   ]
  },
  {
   "cell_type": "code",
   "execution_count": 6,
   "metadata": {},
   "outputs": [
    {
     "data": {
      "text/plain": [
       "[10, 11, 12, 13]"
      ]
     },
     "execution_count": 6,
     "metadata": {},
     "output_type": "execute_result"
    }
   ],
   "source": [
    "def row(p, n):\n",
    "    return [p + i for i in range(n)]\n",
    "row(p=10, n=4)"
   ]
  },
  {
   "cell_type": "markdown",
   "metadata": {},
   "source": [
    "Next write a comprehension whose value is a 15-element list of 20-element lists such that the $j^{th}$ element of the $i^{th}$ list is $i + j$. You can use `row(p, n)` in your comprehension.  \n",
    "    Finally, write the same comprehension but without using `row(p, n)`."
   ]
  },
  {
   "cell_type": "code",
   "execution_count": 7,
   "metadata": {},
   "outputs": [
    {
     "data": {
      "text/plain": [
       "[[0, 1, 2, 3, 4, 5, 6, 7, 8, 9, 10, 11, 12, 13, 14, 15, 16, 17, 18, 19],\n",
       " [1, 2, 3, 4, 5, 6, 7, 8, 9, 10, 11, 12, 13, 14, 15, 16, 17, 18, 19, 20],\n",
       " [2, 3, 4, 5, 6, 7, 8, 9, 10, 11, 12, 13, 14, 15, 16, 17, 18, 19, 20, 21],\n",
       " [3, 4, 5, 6, 7, 8, 9, 10, 11, 12, 13, 14, 15, 16, 17, 18, 19, 20, 21, 22],\n",
       " [4, 5, 6, 7, 8, 9, 10, 11, 12, 13, 14, 15, 16, 17, 18, 19, 20, 21, 22, 23],\n",
       " [5, 6, 7, 8, 9, 10, 11, 12, 13, 14, 15, 16, 17, 18, 19, 20, 21, 22, 23, 24],\n",
       " [6, 7, 8, 9, 10, 11, 12, 13, 14, 15, 16, 17, 18, 19, 20, 21, 22, 23, 24, 25],\n",
       " [7, 8, 9, 10, 11, 12, 13, 14, 15, 16, 17, 18, 19, 20, 21, 22, 23, 24, 25, 26],\n",
       " [8,\n",
       "  9,\n",
       "  10,\n",
       "  11,\n",
       "  12,\n",
       "  13,\n",
       "  14,\n",
       "  15,\n",
       "  16,\n",
       "  17,\n",
       "  18,\n",
       "  19,\n",
       "  20,\n",
       "  21,\n",
       "  22,\n",
       "  23,\n",
       "  24,\n",
       "  25,\n",
       "  26,\n",
       "  27],\n",
       " [9,\n",
       "  10,\n",
       "  11,\n",
       "  12,\n",
       "  13,\n",
       "  14,\n",
       "  15,\n",
       "  16,\n",
       "  17,\n",
       "  18,\n",
       "  19,\n",
       "  20,\n",
       "  21,\n",
       "  22,\n",
       "  23,\n",
       "  24,\n",
       "  25,\n",
       "  26,\n",
       "  27,\n",
       "  28],\n",
       " [10,\n",
       "  11,\n",
       "  12,\n",
       "  13,\n",
       "  14,\n",
       "  15,\n",
       "  16,\n",
       "  17,\n",
       "  18,\n",
       "  19,\n",
       "  20,\n",
       "  21,\n",
       "  22,\n",
       "  23,\n",
       "  24,\n",
       "  25,\n",
       "  26,\n",
       "  27,\n",
       "  28,\n",
       "  29],\n",
       " [11,\n",
       "  12,\n",
       "  13,\n",
       "  14,\n",
       "  15,\n",
       "  16,\n",
       "  17,\n",
       "  18,\n",
       "  19,\n",
       "  20,\n",
       "  21,\n",
       "  22,\n",
       "  23,\n",
       "  24,\n",
       "  25,\n",
       "  26,\n",
       "  27,\n",
       "  28,\n",
       "  29,\n",
       "  30],\n",
       " [12,\n",
       "  13,\n",
       "  14,\n",
       "  15,\n",
       "  16,\n",
       "  17,\n",
       "  18,\n",
       "  19,\n",
       "  20,\n",
       "  21,\n",
       "  22,\n",
       "  23,\n",
       "  24,\n",
       "  25,\n",
       "  26,\n",
       "  27,\n",
       "  28,\n",
       "  29,\n",
       "  30,\n",
       "  31],\n",
       " [13,\n",
       "  14,\n",
       "  15,\n",
       "  16,\n",
       "  17,\n",
       "  18,\n",
       "  19,\n",
       "  20,\n",
       "  21,\n",
       "  22,\n",
       "  23,\n",
       "  24,\n",
       "  25,\n",
       "  26,\n",
       "  27,\n",
       "  28,\n",
       "  29,\n",
       "  30,\n",
       "  31,\n",
       "  32],\n",
       " [14,\n",
       "  15,\n",
       "  16,\n",
       "  17,\n",
       "  18,\n",
       "  19,\n",
       "  20,\n",
       "  21,\n",
       "  22,\n",
       "  23,\n",
       "  24,\n",
       "  25,\n",
       "  26,\n",
       "  27,\n",
       "  28,\n",
       "  29,\n",
       "  30,\n",
       "  31,\n",
       "  32,\n",
       "  33]]"
      ]
     },
     "execution_count": 7,
     "metadata": {},
     "output_type": "execute_result"
    }
   ],
   "source": [
    "[row(i, 20) for i in range(15)]"
   ]
  },
  {
   "cell_type": "code",
   "execution_count": 8,
   "metadata": {},
   "outputs": [
    {
     "data": {
      "text/plain": [
       "[[0, 1, 2, 3, 4, 5, 6, 7, 8, 9, 10, 11, 12, 13, 14, 15, 16, 17, 18, 19],\n",
       " [1, 2, 3, 4, 5, 6, 7, 8, 9, 10, 11, 12, 13, 14, 15, 16, 17, 18, 19, 20],\n",
       " [2, 3, 4, 5, 6, 7, 8, 9, 10, 11, 12, 13, 14, 15, 16, 17, 18, 19, 20, 21],\n",
       " [3, 4, 5, 6, 7, 8, 9, 10, 11, 12, 13, 14, 15, 16, 17, 18, 19, 20, 21, 22],\n",
       " [4, 5, 6, 7, 8, 9, 10, 11, 12, 13, 14, 15, 16, 17, 18, 19, 20, 21, 22, 23],\n",
       " [5, 6, 7, 8, 9, 10, 11, 12, 13, 14, 15, 16, 17, 18, 19, 20, 21, 22, 23, 24],\n",
       " [6, 7, 8, 9, 10, 11, 12, 13, 14, 15, 16, 17, 18, 19, 20, 21, 22, 23, 24, 25],\n",
       " [7, 8, 9, 10, 11, 12, 13, 14, 15, 16, 17, 18, 19, 20, 21, 22, 23, 24, 25, 26],\n",
       " [8,\n",
       "  9,\n",
       "  10,\n",
       "  11,\n",
       "  12,\n",
       "  13,\n",
       "  14,\n",
       "  15,\n",
       "  16,\n",
       "  17,\n",
       "  18,\n",
       "  19,\n",
       "  20,\n",
       "  21,\n",
       "  22,\n",
       "  23,\n",
       "  24,\n",
       "  25,\n",
       "  26,\n",
       "  27],\n",
       " [9,\n",
       "  10,\n",
       "  11,\n",
       "  12,\n",
       "  13,\n",
       "  14,\n",
       "  15,\n",
       "  16,\n",
       "  17,\n",
       "  18,\n",
       "  19,\n",
       "  20,\n",
       "  21,\n",
       "  22,\n",
       "  23,\n",
       "  24,\n",
       "  25,\n",
       "  26,\n",
       "  27,\n",
       "  28],\n",
       " [10,\n",
       "  11,\n",
       "  12,\n",
       "  13,\n",
       "  14,\n",
       "  15,\n",
       "  16,\n",
       "  17,\n",
       "  18,\n",
       "  19,\n",
       "  20,\n",
       "  21,\n",
       "  22,\n",
       "  23,\n",
       "  24,\n",
       "  25,\n",
       "  26,\n",
       "  27,\n",
       "  28,\n",
       "  29],\n",
       " [11,\n",
       "  12,\n",
       "  13,\n",
       "  14,\n",
       "  15,\n",
       "  16,\n",
       "  17,\n",
       "  18,\n",
       "  19,\n",
       "  20,\n",
       "  21,\n",
       "  22,\n",
       "  23,\n",
       "  24,\n",
       "  25,\n",
       "  26,\n",
       "  27,\n",
       "  28,\n",
       "  29,\n",
       "  30],\n",
       " [12,\n",
       "  13,\n",
       "  14,\n",
       "  15,\n",
       "  16,\n",
       "  17,\n",
       "  18,\n",
       "  19,\n",
       "  20,\n",
       "  21,\n",
       "  22,\n",
       "  23,\n",
       "  24,\n",
       "  25,\n",
       "  26,\n",
       "  27,\n",
       "  28,\n",
       "  29,\n",
       "  30,\n",
       "  31],\n",
       " [13,\n",
       "  14,\n",
       "  15,\n",
       "  16,\n",
       "  17,\n",
       "  18,\n",
       "  19,\n",
       "  20,\n",
       "  21,\n",
       "  22,\n",
       "  23,\n",
       "  24,\n",
       "  25,\n",
       "  26,\n",
       "  27,\n",
       "  28,\n",
       "  29,\n",
       "  30,\n",
       "  31,\n",
       "  32],\n",
       " [14,\n",
       "  15,\n",
       "  16,\n",
       "  17,\n",
       "  18,\n",
       "  19,\n",
       "  20,\n",
       "  21,\n",
       "  22,\n",
       "  23,\n",
       "  24,\n",
       "  25,\n",
       "  26,\n",
       "  27,\n",
       "  28,\n",
       "  29,\n",
       "  30,\n",
       "  31,\n",
       "  32,\n",
       "  33]]"
      ]
     },
     "execution_count": 8,
     "metadata": {},
     "output_type": "execute_result"
    }
   ],
   "source": [
    "[[i + j for j in range(20)] for i in range(15)]"
   ]
  },
  {
   "cell_type": "markdown",
   "metadata": {},
   "source": [
    "## Functional inverse"
   ]
  },
  {
   "cell_type": "markdown",
   "metadata": {},
   "source": [
    "**Problem 0.8.6:** Is the following function invertible? If yes, explain why. If not, can you change the domain and/or codomain of the function to make it invertible? Provide the drawing."
   ]
  },
  {
   "cell_type": "markdown",
   "metadata": {},
   "source": [
    "Yes, this function is invertible. It is one-to-one and onto."
   ]
  },
  {
   "cell_type": "markdown",
   "metadata": {},
   "source": [
    "**Problem 0.8.7:** Is the following function invertible? If yes, explain why. If not, can you change the domain and/or codomain of the function to make it invertible? Provide the drawing."
   ]
  },
  {
   "cell_type": "markdown",
   "metadata": {},
   "source": [
    "No, this function is not invertible.  It could be made invertible by removing the last element from the codomain."
   ]
  },
  {
   "cell_type": "markdown",
   "metadata": {},
   "source": [
    "## Functional composition"
   ]
  },
  {
   "cell_type": "markdown",
   "metadata": {},
   "source": [
    "**Problem 0.8.8:** Let $f : \\mathbb{R} \\rightarrow \\mathbb{R}$ where $f(x) = abs(x)$. Is there a choice of domain and co-domain for the function $g(x)$ with rule $g(x) = \\sqrt{x}$ such that $g \\circ f$ is defined? If so, specify it. If not, explain why not. Could you change domain and/or codomain of $f$ or $g$ so that $g \\circ f$ will be defined?"
   ]
  },
  {
   "cell_type": "markdown",
   "metadata": {},
   "source": [
    "$g \\circ f$ is defined for all $\\mathbb{R}$, since $\\sqrt{x}$ is defined $\\forall x >= 0$ and the codomain of $f$ is $x \\in \\mathbb{R},  x >= 0$"
   ]
  },
  {
   "cell_type": "markdown",
   "metadata": {},
   "source": [
    "**Problem 0.8.9:** Consider functions $f$ and $g$ in the following figure:  \n",
    "```\n",
    "     f         g\n",
    "  1 -> 11   13 -> 21\n",
    "  2 -> 12   12 -> 22\n",
    "  3 -> 13   11 -> 23\n",
    "```\n",
    "\n",
    "Is $f \\circ g$ defined? If so, draw it, otherwise explain why not."
   ]
  },
  {
   "cell_type": "markdown",
   "metadata": {},
   "source": [
    "No, $f \\circ g$ is not defined, since the image of $g = \\{21, 22, 23\\}$ is not contained in the domain of $f = \\{1, 2, 3\\}$."
   ]
  },
  {
   "cell_type": "markdown",
   "metadata": {},
   "source": [
    "## Probability"
   ]
  },
  {
   "cell_type": "markdown",
   "metadata": {},
   "source": [
    "**Problem 0.8.10:** A function $f(x) = x + 1$ with domain $\\{1, 2, 3, 5, 6\\}$ and codomain $\\{2, 3, 4, 6, 7\\}$ has the following probability function on its domain: $Pr(1) = 0.5, Pr(2) = 0.2$ and $Pr(3) = Pr(5) = Pr(6) = 0.1$. What is the probability of getting an even number as an output of $f(x)$?"
   ]
  },
  {
   "cell_type": "markdown",
   "metadata": {},
   "source": [
    "$Pr(f(x)\\ is\\ even) = Pr(f(x) \\in \\{2, 4, 6\\})$  \n",
    "$= Pr(x + 1 \\in \\{2, 4, 6\\})$  \n",
    "$= Pr(x + 1 = 2) + Pr(x + 1 = 4) + Pr(x + 1 = 6)$  \n",
    "$= Pr(1) + Pr(3) + Pr(5)$  \n",
    "$= 0.5 + 0.1 + 0.1 = 0.7$"
   ]
  },
  {
   "cell_type": "markdown",
   "metadata": {},
   "source": [
    "An odd number?"
   ]
  },
  {
   "cell_type": "markdown",
   "metadata": {},
   "source": [
    "$Pr(f(x)\\ is\\ odd) = Pr(f(x) \\in \\{1, 3, 5, 7\\})$  \n",
    "$= Pr(x + 1 \\in \\{1, 3, 5, 7\\})$  \n",
    "$= Pr(x + 1 = 1) + Pr(x + 1 = 3) + Pr(x + 1 = 5) + Pr(x + 1 = 7)$  \n",
    "$= Pr(0) + Pr(2) + Pr(4) + Pr(6)$  \n",
    "$= Pr(2) + Pr(6)$  \n",
    "$= 0.2 + 0.1 = 0.3$"
   ]
  },
  {
   "cell_type": "markdown",
   "metadata": {},
   "source": [
    "**Problem 0.8.11:** A function $g(x) = x\\ mod\\ 3$ with domain $\\{1, 2, 3, 4, 5, 6, 7\\}$ and codomain $\\{0, 1, 2\\}$ has the following probability function on its domain: $Pr(1) = Pr(2) = Pr(3) = 0.2$ and $Pr(4) = Pr(5) = Pr(6) = Pr(7) = 0.1$. What is the probability of getting $1$ as an output of $g(x)$? What is the probability of getting $0$ or $2$?"
   ]
  },
  {
   "cell_type": "markdown",
   "metadata": {},
   "source": [
    "$Pr(g(x) = 1) = Pr(x\\ mod\\ 3 = 1)$  \n",
    "$= Pr(x \\in \\{1, 4, 7\\})$  \n",
    "$= Pr(1) + Pr(4) + Pr(7)$  \n",
    "$= 0.2 + 0.1 + 0.1 = 0.4$"
   ]
  },
  {
   "cell_type": "code",
   "execution_count": null,
   "metadata": {},
   "outputs": [],
   "source": []
  }
 ],
 "metadata": {
  "kernelspec": {
   "display_name": "Python 3",
   "language": "python",
   "name": "python3"
  },
  "language_info": {
   "codemirror_mode": {
    "name": "ipython",
    "version": 3
   },
   "file_extension": ".py",
   "mimetype": "text/x-python",
   "name": "python",
   "nbconvert_exporter": "python",
   "pygments_lexer": "ipython3",
   "version": "3.6.4"
  }
 },
 "nbformat": 4,
 "nbformat_minor": 2
}
