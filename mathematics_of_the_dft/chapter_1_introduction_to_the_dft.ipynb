{
 "cells": [
  {
   "cell_type": "markdown",
   "metadata": {},
   "source": [
    "## Chapter 1\n",
    "# Introduction to the DFT"
   ]
  },
  {
   "cell_type": "markdown",
   "metadata": {},
   "source": [
    "This chapter covers definitions only, and contains no exercises or examples other than basic notational explanation of the following definitions:"
   ]
  },
  {
   "cell_type": "markdown",
   "metadata": {},
   "source": [
    "## DFT Definition\n",
    "\n",
    "The _Discrete Fourier Transform (DFT)_ of a signal $x$ may be defined by\n",
    "\n",
    "$X(\\omega_k) \\triangleq \\sum_\\limits{n=0}^{N-1} x(t_n)e^{-j\\omega_k t_n}$, $k = 0, 1, 2, ..., N - 1$."
   ]
  },
  {
   "cell_type": "markdown",
   "metadata": {},
   "source": [
    "## Inverse DFT\n",
    "\n",
    "The _inverse_ DFT (the IDFT) is given by\n",
    "\n",
    "$x(t_n) = \\frac{1}{N}\\sum_\\limits{k=0}^\\limits{N-1}X(\\omega_k)e^{j\\omega_k t_n}$, $n = 0, 1, 2, ..., N - 1$."
   ]
  },
  {
   "cell_type": "code",
   "execution_count": null,
   "metadata": {},
   "outputs": [],
   "source": []
  }
 ],
 "metadata": {
  "kernelspec": {
   "display_name": "Python 3",
   "language": "python",
   "name": "python3"
  },
  "language_info": {
   "codemirror_mode": {
    "name": "ipython",
    "version": 3
   },
   "file_extension": ".py",
   "mimetype": "text/x-python",
   "name": "python",
   "nbconvert_exporter": "python",
   "pygments_lexer": "ipython3",
   "version": "3.6.5"
  }
 },
 "nbformat": 4,
 "nbformat_minor": 2
}
