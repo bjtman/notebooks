{
 "cells": [
  {
   "cell_type": "markdown",
   "metadata": {},
   "source": [
    "## Chapter 13\n",
    "# The Linear Program"
   ]
  },
  {
   "cell_type": "markdown",
   "metadata": {},
   "source": [
    "## 13.13 Lab: Learning through linear programming"
   ]
  },
  {
   "cell_type": "markdown",
   "metadata": {},
   "source": [
    "**Task 13.13.1:** Write a procedure `main_constraint(i, a_i, d_i, features)` with the following spec:\n",
    "* _input:_ patient ID `i`, feature vector `a_i`, diagnosis `d_i` (+1 or -1), and the set `features`\n",
    "* _output:_ the vector $\\boldsymbol{v}_i$ that should be row $i$ of $A$.\n",
    "\n",
    "Try out your procedure on some data. Check that the resulting vector $\\boldsymbol{v}_i$ is correct:\n",
    "* The entry for a feature label should be positive if `d_i` is +1, negative if `d_i` is -1.\n",
    "* The entry for label $i$ is 1.\n",
    "* The entry for label `'gamma'` is negative if `d_i` is +1, positive if `d_i` is -1."
   ]
  },
  {
   "cell_type": "code",
   "execution_count": 1,
   "metadata": {},
   "outputs": [],
   "source": [
    "import sys\n",
    "sys.path.append('../')\n",
    "sys.path.append('../chapter_8') # contains cancer data & train/validate sets"
   ]
  },
  {
   "cell_type": "code",
   "execution_count": 2,
   "metadata": {},
   "outputs": [],
   "source": [
    "from vec import Vec\n",
    "\n",
    "def main_constraint(i, a_i, d_i, features):\n",
    "    v_i = {\n",
    "        i: 1, # \"slop variable\"\n",
    "        'gamma': -d_i,\n",
    "    }\n",
    "    for feature_label in features:\n",
    "        v_i[feature_label] = d_i * a_i[feature_label]\n",
    "\n",
    "    return Vec(set(v_i.keys()), v_i)"
   ]
  },
  {
   "cell_type": "code",
   "execution_count": 3,
   "metadata": {},
   "outputs": [],
   "source": [
    "from cancer_data import read_training_data\n",
    "\n",
    "feature_subset = {'area(worst)', 'smoothness(worst)', 'texture(mean)'}\n",
    "\n",
    "train_A, train_b = read_training_data('../chapter_8/train.data', feature_subset)\n",
    "validate_A, validate_b = read_training_data('../chapter_8/validate.data', feature_subset)"
   ]
  },
  {
   "cell_type": "code",
   "execution_count": 4,
   "metadata": {},
   "outputs": [
    {
     "data": {
      "text/plain": [
       "Vec({862722, 'area(worst)', 'smoothness(worst)', 'gamma', 'texture(mean)'},{862722: 1, 'gamma': 1, 'smoothness(worst)': -0.1584, 'texture(mean)': -13.43, 'area(worst)': -185.2})"
      ]
     },
     "execution_count": 4,
     "metadata": {},
     "output_type": "execute_result"
    }
   ],
   "source": [
    "from matutil import mat2rowdict\n",
    "\n",
    "features_by_patient_id = mat2rowdict(train_A)\n",
    "patient_id = list(features_by_patient_id.keys())[0]\n",
    "patient_features = features_by_patient_id[patient_id]\n",
    "\n",
    "main_constraint(patient_id, patient_features, train_b[patient_id], patient_features.D)"
   ]
  },
  {
   "cell_type": "markdown",
   "metadata": {},
   "source": [
    "**Task 13.13.2:** Write a procedure `make_matrix(feature_vectors, diagnoses, features)` with the following spec:\n",
    "* _input:_ a dictionary `feature_vectors` that maps patient IDs to feature vectors, a vector `diagnoses` that maps patient IDs to +1/-1, and a set `features` of feature labels\n",
    "* _output:_ the matrix $A$ to be used in the linear program.\n",
    "\n",
    "The rows of $A$ labeled with positive integers (patient IDs) should be the vectors for the main constraints. Those labeled with negative integers (negatives of patient IDs) should be the vectors for the nonnegative constraints."
   ]
  },
  {
   "cell_type": "code",
   "execution_count": 5,
   "metadata": {},
   "outputs": [],
   "source": [
    "from matutil import rowdict2mat\n",
    "\n",
    "def make_matrix(feature_vectors, diagnoses, features):\n",
    "    A = {}\n",
    "    for patient_id, feature_vector in feature_vectors.items():\n",
    "        A[patient_id] = main_constraint(patient_id, feature_vector, diagnoses[patient_id], features)\n",
    "        A[patient_id] = Vec(A[patient_id].D | feature_vectors.keys(), A[patient_id].f)\n",
    "        A[-patient_id] = Vec(A[patient_id].D, {patient_id: 1}) # slop variable constraint (nonnegativity constraints)\n",
    "    return rowdict2mat(A)"
   ]
  },
  {
   "cell_type": "markdown",
   "metadata": {},
   "source": [
    "**Task 13.13.3:** Write a procedure that, given a set of patient IDs, returns the right-hand side vector $\\boldsymbol{b}$"
   ]
  },
  {
   "cell_type": "code",
   "execution_count": 6,
   "metadata": {},
   "outputs": [],
   "source": [
    "def make_b(patient_ids):\n",
    "    b = {}\n",
    "    for patient_id in patient_ids:\n",
    "        b[patient_id] = 1\n",
    "        b[-patient_id] = 0\n",
    "    return Vec(set(b.keys()), b)"
   ]
  },
  {
   "cell_type": "markdown",
   "metadata": {},
   "source": [
    "**Task 13.13.4:** Write a procedure that, given a set of patient IDs and feature labels, returns the objective function vector $\\boldsymbol{c}$."
   ]
  },
  {
   "cell_type": "code",
   "execution_count": 7,
   "metadata": {},
   "outputs": [],
   "source": [
    "def make_c(patient_ids, feature_labels):\n",
    "    return Vec(feature_labels, {patient_id: 1 for patient_id in patient_ids})"
   ]
  },
  {
   "cell_type": "markdown",
   "metadata": {},
   "source": [
    "**Task 13.13.5:** Using the procedures you defined, construct the matrix $A$ and the vectors $\\boldsymbol{b}$ and $\\boldsymbol{c}$."
   ]
  },
  {
   "cell_type": "code",
   "execution_count": 10,
   "metadata": {},
   "outputs": [],
   "source": [
    "A = make_matrix(features_by_patient_id, train_b, feature_subset)\n",
    "b = make_b(list(features_by_patient_id.keys()))\n",
    "c = make_c(list(features_by_patient_id.keys()), A.D[1])"
   ]
  },
  {
   "cell_type": "code",
   "execution_count": 11,
   "metadata": {},
   "outputs": [
    {
     "name": "stdout",
     "output_type": "stream",
     "text": [
      "(value:  299.64438660894876 ) "
     ]
    },
    {
     "ename": "AttributeError",
     "evalue": "'Vec' object has no attribute 'values'",
     "output_type": "error",
     "traceback": [
      "\u001b[0;31m---------------------------------------------------------------------------\u001b[0m",
      "\u001b[0;31mAttributeError\u001b[0m                            Traceback (most recent call last)",
      "\u001b[0;32m<ipython-input-11-f32f0270ae4b>\u001b[0m in \u001b[0;36m<module>\u001b[0;34m()\u001b[0m\n\u001b[1;32m      4\u001b[0m \u001b[0mR_square\u001b[0m \u001b[0;34m=\u001b[0m \u001b[0;34m{\u001b[0m\u001b[0mpatient_id\u001b[0m \u001b[0;32mfor\u001b[0m \u001b[0mpatient_id\u001b[0m \u001b[0;32min\u001b[0m \u001b[0mfeatures_by_patient_id\u001b[0m\u001b[0;34m.\u001b[0m\u001b[0mkeys\u001b[0m\u001b[0;34m(\u001b[0m\u001b[0;34m)\u001b[0m\u001b[0;34m}\u001b[0m \u001b[0;34m|\u001b[0m \u001b[0;34m{\u001b[0m\u001b[0;34m-\u001b[0m\u001b[0mpatient_id\u001b[0m \u001b[0;32mfor\u001b[0m \u001b[0mpatient_id\u001b[0m \u001b[0;32min\u001b[0m \u001b[0mlist\u001b[0m\u001b[0;34m(\u001b[0m\u001b[0mfeatures_by_patient_id\u001b[0m\u001b[0;34m.\u001b[0m\u001b[0mkeys\u001b[0m\u001b[0;34m(\u001b[0m\u001b[0;34m)\u001b[0m\u001b[0;34m)\u001b[0m\u001b[0;34m[\u001b[0m\u001b[0;34m:\u001b[0m\u001b[0;34m(\u001b[0m\u001b[0mn\u001b[0m \u001b[0;34m-\u001b[0m \u001b[0mlen\u001b[0m\u001b[0;34m(\u001b[0m\u001b[0mfeatures_by_patient_id\u001b[0m\u001b[0;34m)\u001b[0m\u001b[0;34m)\u001b[0m\u001b[0;34m]\u001b[0m\u001b[0;34m}\u001b[0m\u001b[0;34m\u001b[0m\u001b[0m\n\u001b[1;32m      5\u001b[0m \u001b[0;32massert\u001b[0m\u001b[0;34m(\u001b[0m\u001b[0mlen\u001b[0m\u001b[0;34m(\u001b[0m\u001b[0mR_square\u001b[0m\u001b[0;34m)\u001b[0m \u001b[0;34m==\u001b[0m \u001b[0mn\u001b[0m\u001b[0;34m)\u001b[0m\u001b[0;34m\u001b[0m\u001b[0m\n\u001b[0;32m----> 6\u001b[0;31m \u001b[0;32massert\u001b[0m\u001b[0;34m(\u001b[0m\u001b[0mfind_vertex\u001b[0m\u001b[0;34m(\u001b[0m\u001b[0mA\u001b[0m\u001b[0;34m,\u001b[0m \u001b[0mb\u001b[0m\u001b[0;34m,\u001b[0m \u001b[0mR_square\u001b[0m\u001b[0;34m)\u001b[0m\u001b[0;34m)\u001b[0m \u001b[0;31m# mutates R_square to be the set of row-lables of A defining a vertex\u001b[0m\u001b[0;34m\u001b[0m\u001b[0m\n\u001b[0m",
      "\u001b[0;32m~/Development/notebooks/coding_the_matrix/chapter_13/simplex.py\u001b[0m in \u001b[0;36mfind_vertex\u001b[0;34m(A, b, R_square)\u001b[0m\n\u001b[1;32m     79\u001b[0m     \u001b[0mnew_R_square\u001b[0m \u001b[0;34m=\u001b[0m \u001b[0mR_square\u001b[0m \u001b[0;34m|\u001b[0m \u001b[0;34m{\u001b[0m\u001b[0mr\u001b[0m \u001b[0;32mif\u001b[0m \u001b[0mA_x\u001b[0m\u001b[0;34m[\u001b[0m\u001b[0mr\u001b[0m\u001b[0;34m]\u001b[0m\u001b[0;34m-\u001b[0m\u001b[0mb\u001b[0m\u001b[0;34m[\u001b[0m\u001b[0mr\u001b[0m\u001b[0;34m]\u001b[0m\u001b[0;34m<\u001b[0m\u001b[0;34m-\u001b[0m\u001b[0;36m1e-10\u001b[0m \u001b[0;32melse\u001b[0m \u001b[0mnew_name\u001b[0m\u001b[0;34m(\u001b[0m\u001b[0mr\u001b[0m\u001b[0;34m)\u001b[0m \u001b[0;32mfor\u001b[0m \u001b[0mr\u001b[0m \u001b[0;32min\u001b[0m \u001b[0mmissing\u001b[0m\u001b[0;34m}\u001b[0m\u001b[0;34m\u001b[0m\u001b[0m\n\u001b[1;32m     80\u001b[0m     \u001b[0mc\u001b[0m \u001b[0;34m=\u001b[0m \u001b[0mVec\u001b[0m\u001b[0;34m(\u001b[0m\u001b[0mA\u001b[0m\u001b[0;34m.\u001b[0m\u001b[0mD\u001b[0m\u001b[0;34m[\u001b[0m\u001b[0;36m1\u001b[0m\u001b[0;34m]\u001b[0m\u001b[0;34m.\u001b[0m\u001b[0munion\u001b[0m\u001b[0;34m(\u001b[0m\u001b[0mextra\u001b[0m\u001b[0;34m)\u001b[0m\u001b[0;34m,\u001b[0m \u001b[0;34m{\u001b[0m\u001b[0me\u001b[0m\u001b[0;34m:\u001b[0m\u001b[0;36m1\u001b[0m \u001b[0;32mfor\u001b[0m \u001b[0me\u001b[0m \u001b[0;32min\u001b[0m \u001b[0mextra\u001b[0m\u001b[0;34m}\u001b[0m\u001b[0;34m)\u001b[0m\u001b[0;34m\u001b[0m\u001b[0m\n\u001b[0;32m---> 81\u001b[0;31m     \u001b[0manswer\u001b[0m\u001b[0;34m=\u001b[0m \u001b[0moptimize\u001b[0m\u001b[0;34m(\u001b[0m\u001b[0mA_with_extra\u001b[0m\u001b[0;34m,\u001b[0m \u001b[0mb_with_extra\u001b[0m\u001b[0;34m,\u001b[0m \u001b[0mc\u001b[0m\u001b[0;34m,\u001b[0m \u001b[0mnew_R_square\u001b[0m\u001b[0;34m)\u001b[0m\u001b[0;34m\u001b[0m\u001b[0m\n\u001b[0m\u001b[1;32m     82\u001b[0m     \u001b[0;32mif\u001b[0m \u001b[0manswer\u001b[0m \u001b[0;32mis\u001b[0m \u001b[0;32mNone\u001b[0m\u001b[0;34m:\u001b[0m \u001b[0;32mreturn\u001b[0m \u001b[0;32mFalse\u001b[0m\u001b[0;34m\u001b[0m\u001b[0m\n\u001b[1;32m     83\u001b[0m     \u001b[0mbasis_candidates\u001b[0m\u001b[0;34m=\u001b[0m\u001b[0mlist\u001b[0m\u001b[0;34m(\u001b[0m\u001b[0mnew_R_square\u001b[0m \u001b[0;34m|\u001b[0m \u001b[0mD\u001b[0m\u001b[0;34m[\u001b[0m\u001b[0;36m0\u001b[0m\u001b[0;34m]\u001b[0m\u001b[0;34m)\u001b[0m\u001b[0;34m\u001b[0m\u001b[0m\n",
      "\u001b[0;32m~/Development/notebooks/coding_the_matrix/chapter_13/simplex.py\u001b[0m in \u001b[0;36moptimize\u001b[0;34m(A, b, c, R_square, show_bases)\u001b[0m\n\u001b[1;32m     49\u001b[0m     \u001b[0;32mwhile\u001b[0m \u001b[0;32mTrue\u001b[0m\u001b[0;34m:\u001b[0m\u001b[0;34m\u001b[0m\u001b[0m\n\u001b[1;32m     50\u001b[0m         \u001b[0mi\u001b[0m \u001b[0;34m=\u001b[0m \u001b[0mi\u001b[0m\u001b[0;34m+\u001b[0m\u001b[0;36m1\u001b[0m\u001b[0;34m\u001b[0m\u001b[0m\n\u001b[0;32m---> 51\u001b[0;31m         \u001b[0moutcome\u001b[0m\u001b[0;34m,\u001b[0m \u001b[0manswer\u001b[0m \u001b[0;34m=\u001b[0m \u001b[0msimplex_step\u001b[0m\u001b[0;34m(\u001b[0m\u001b[0mA\u001b[0m\u001b[0;34m,\u001b[0m \u001b[0mb\u001b[0m\u001b[0;34m,\u001b[0m \u001b[0mc\u001b[0m\u001b[0;34m,\u001b[0m \u001b[0mR_square\u001b[0m\u001b[0;34m,\u001b[0m \u001b[0mshow_bases\u001b[0m\u001b[0;34m)\u001b[0m\u001b[0;34m\u001b[0m\u001b[0m\n\u001b[0m\u001b[1;32m     52\u001b[0m         \u001b[0;32mif\u001b[0m \u001b[0moutcome\u001b[0m \u001b[0;34m==\u001b[0m \u001b[0;34m'STEP'\u001b[0m\u001b[0;34m:\u001b[0m\u001b[0;34m\u001b[0m\u001b[0m\n\u001b[1;32m     53\u001b[0m             \u001b[0mprint\u001b[0m\u001b[0;34m(\u001b[0m\u001b[0mi\u001b[0m\u001b[0;34m,\u001b[0m\u001b[0;34m\" \"\u001b[0m\u001b[0;34m,\u001b[0m \u001b[0mend\u001b[0m\u001b[0;34m=\u001b[0m\u001b[0;34m''\u001b[0m\u001b[0;34m)\u001b[0m\u001b[0;34m\u001b[0m\u001b[0m\n",
      "\u001b[0;32m~/Development/notebooks/coding_the_matrix/chapter_13/simplex.py\u001b[0m in \u001b[0;36msimplex_step\u001b[0;34m(A, b, c, R_square, show_bases)\u001b[0m\n\u001b[1;32m     18\u001b[0m     \u001b[0my_square\u001b[0m \u001b[0;34m=\u001b[0m \u001b[0msolve\u001b[0m\u001b[0;34m(\u001b[0m\u001b[0mA_square\u001b[0m\u001b[0;34m.\u001b[0m\u001b[0mtranspose\u001b[0m\u001b[0;34m(\u001b[0m\u001b[0;34m)\u001b[0m\u001b[0;34m,\u001b[0m \u001b[0mc\u001b[0m\u001b[0;34m)\u001b[0m \u001b[0;31m#compute entries with labels in R_square\u001b[0m\u001b[0;34m\u001b[0m\u001b[0m\n\u001b[1;32m     19\u001b[0m     \u001b[0my\u001b[0m \u001b[0;34m=\u001b[0m \u001b[0mVec\u001b[0m\u001b[0;34m(\u001b[0m\u001b[0mR\u001b[0m\u001b[0;34m,\u001b[0m \u001b[0my_square\u001b[0m\u001b[0;34m.\u001b[0m\u001b[0mf\u001b[0m\u001b[0;34m)\u001b[0m \u001b[0;31m#Put in zero for the other entries\u001b[0m\u001b[0;34m\u001b[0m\u001b[0m\n\u001b[0;32m---> 20\u001b[0;31m     \u001b[0;32mif\u001b[0m \u001b[0mmin\u001b[0m\u001b[0;34m(\u001b[0m\u001b[0my\u001b[0m\u001b[0;34m.\u001b[0m\u001b[0mvalues\u001b[0m\u001b[0;34m(\u001b[0m\u001b[0;34m)\u001b[0m\u001b[0;34m)\u001b[0m \u001b[0;34m>=\u001b[0m \u001b[0;34m-\u001b[0m\u001b[0;36m1e-10\u001b[0m\u001b[0;34m:\u001b[0m \u001b[0;32mreturn\u001b[0m \u001b[0;34m(\u001b[0m\u001b[0;34m'OPTIMUM'\u001b[0m\u001b[0;34m,\u001b[0m \u001b[0mx\u001b[0m\u001b[0;34m)\u001b[0m \u001b[0;31m#found optimum!\u001b[0m\u001b[0;34m\u001b[0m\u001b[0m\n\u001b[0m\u001b[1;32m     21\u001b[0m     \u001b[0mR_leave\u001b[0m \u001b[0;34m=\u001b[0m \u001b[0;34m{\u001b[0m\u001b[0mi\u001b[0m \u001b[0;32mfor\u001b[0m \u001b[0mi\u001b[0m \u001b[0;32min\u001b[0m \u001b[0mR\u001b[0m \u001b[0;32mif\u001b[0m \u001b[0my\u001b[0m\u001b[0;34m[\u001b[0m\u001b[0mi\u001b[0m\u001b[0;34m]\u001b[0m\u001b[0;34m<\u001b[0m \u001b[0;34m-\u001b[0m\u001b[0;36m1e-10\u001b[0m\u001b[0;34m}\u001b[0m \u001b[0;31m#labels at which y is negative\u001b[0m\u001b[0;34m\u001b[0m\u001b[0m\n\u001b[1;32m     22\u001b[0m     \u001b[0mr_leave\u001b[0m \u001b[0;34m=\u001b[0m \u001b[0mmin\u001b[0m\u001b[0;34m(\u001b[0m\u001b[0mR_leave\u001b[0m\u001b[0;34m,\u001b[0m \u001b[0mkey\u001b[0m\u001b[0;34m=\u001b[0m\u001b[0mhash\u001b[0m\u001b[0;34m)\u001b[0m \u001b[0;31m#choose first label at which y is negative\u001b[0m\u001b[0;34m\u001b[0m\u001b[0m\n",
      "\u001b[0;31mAttributeError\u001b[0m: 'Vec' object has no attribute 'values'"
     ]
    }
   ],
   "source": [
    "from simplex import find_vertex, optimize\n",
    "\n",
    "n = len(A.D[1])\n",
    "R_square = {patient_id for patient_id in features_by_patient_id.keys()} | {-patient_id for patient_id in list(features_by_patient_id.keys())[:(n - len(features_by_patient_id))]}\n",
    "assert(len(R_square) == n)\n",
    "assert(find_vertex(A, b, R_square)) # mutates R_square to be the set of row-lables of A defining a vertex"
   ]
  },
  {
   "cell_type": "markdown",
   "metadata": {},
   "source": [
    "I have concluded that the given simplex algorithm isn't quite up-to-snuff for the problem at hand, due to long running time and the bug above (it should be `min(y.f.values())`, not `min(y.values())`).\n",
    "\n",
    "This last chapter seems to be a bit of a \"bonus\" since it's not in the Brown University or Coursera course material, and there is no published errata or seemingly anything on Github to do with this lab."
   ]
  },
  {
   "cell_type": "code",
   "execution_count": null,
   "metadata": {},
   "outputs": [],
   "source": []
  }
 ],
 "metadata": {
  "kernelspec": {
   "display_name": "Python 3",
   "language": "python",
   "name": "python3"
  },
  "language_info": {
   "codemirror_mode": {
    "name": "ipython",
    "version": 3
   },
   "file_extension": ".py",
   "mimetype": "text/x-python",
   "name": "python",
   "nbconvert_exporter": "python",
   "pygments_lexer": "ipython3",
   "version": "3.6.4"
  }
 },
 "nbformat": 4,
 "nbformat_minor": 2
}
