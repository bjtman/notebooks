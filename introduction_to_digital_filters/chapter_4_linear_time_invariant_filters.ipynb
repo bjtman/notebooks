{
 "cells": [
  {
   "cell_type": "markdown",
   "metadata": {},
   "source": [
    "## Chapter 4\n",
    "# Linear Time-Invariant Filters"
   ]
  },
  {
   "cell_type": "markdown",
   "metadata": {},
   "source": [
    "## Linearity and Time-Invariance Problems"
   ]
  },
  {
   "cell_type": "markdown",
   "metadata": {},
   "source": [
    "**1. Label each of the following filters as either linear (L) or nonlinear (NL), and time-invariant (TI) or time varying (TV). When in doubt, apply the test!**"
   ]
  },
  {
   "cell_type": "markdown",
   "metadata": {},
   "source": [
    "**a) $y[n] = \\left|x[n]\\right|e^{-\\pi n}$**"
   ]
  },
  {
   "cell_type": "markdown",
   "metadata": {},
   "source": [
    "This filter is nonlinear and time varying. To see why it is nonlinear, suppose we scale $x(\\cdot)$ by a negative value. This cannot be equivalent to scaling the output by the same negative value, since we would take the absolute value of the scaled input.\n",
    "\n",
    "It is time varying because the scaling factor $e^{-\\pi n}$ depends on $n$."
   ]
  },
  {
   "cell_type": "markdown",
   "metadata": {},
   "source": [
    "**b) $y[n] = \\sqrt{x^2[n] + 2x[n-1] + x[n-2]}$** "
   ]
  },
  {
   "cell_type": "markdown",
   "metadata": {},
   "source": [
    "This filter is nonlinear (the coefficients depend on $x$) and time-invariant (no coefficients are time-dependent)."
   ]
  },
  {
   "cell_type": "markdown",
   "metadata": {},
   "source": [
    "**c) $y[n] = x[n] + 2\\cos(2\\pi n)y[n-1]$**"
   ]
  },
  {
   "cell_type": "markdown",
   "metadata": {},
   "source": [
    "This filter is linear and time varying. It is linear since no coefficients depend on $x$ or $y$, and it is time varying since the feedback coefficient depends on $n$."
   ]
  },
  {
   "cell_type": "markdown",
   "metadata": {},
   "source": [
    "**d) $y[n] = \\max\\{x[n],x[n-1],x[n-2]\\}$**"
   ]
  },
  {
   "cell_type": "markdown",
   "metadata": {},
   "source": [
    "This filter is nonlinear and time-invariant. As an example of nonlinearity, take $x_1 = [1,2,3], x_2 = [3,2,1]$. Then,\n",
    "\n",
    "\n",
    "$\\max\\{x_1[2] + x_2[2], x_1[1] + x_2[1], x_1[0] + x_2[0]\\} = \\max\\{4, 4, 4\\} = 4 \\neq y_1[2] + y_2[2]$."
   ]
  },
  {
   "cell_type": "markdown",
   "metadata": {},
   "source": [
    "**e) $y[n] = 0$**"
   ]
  },
  {
   "cell_type": "markdown",
   "metadata": {},
   "source": [
    "This filter is linear and time-invariant, since any constant signal equals all shifts of itself, and since $0 \\cdot (\\alpha x_1 + \\beta x_2) = \\alpha (0 \\cdot x_1) + \\beta (0 \\cdot x_2) = 0$."
   ]
  },
  {
   "cell_type": "markdown",
   "metadata": {},
   "source": [
    "**f) $y[n] = 1$**"
   ]
  },
  {
   "cell_type": "markdown",
   "metadata": {},
   "source": [
    "This filter is also time-invariant, but it is _nonlinear_, since $1 \\neq \\alpha\\cdot 1 + \\beta\\cdot 1$ in general."
   ]
  },
  {
   "cell_type": "markdown",
   "metadata": {},
   "source": [
    "**g) $y[n] = \\begin{cases}\\begin{array}{ll}x[n],&x[n] \\geq 0\\\\2x[n],&x[n] < 0\\end{array}\\end{cases}$**"
   ]
  },
  {
   "cell_type": "markdown",
   "metadata": {},
   "source": [
    "This filter is nonlinear, since the coefficient is dependent on the value of $x$.  It is time-invariant, since the coefficient is not dependent on $n$."
   ]
  },
  {
   "cell_type": "markdown",
   "metadata": {},
   "source": [
    "**h) $y[n] = \\cos(x[n]) + \\sin(x[n-1])\\cos(100n)$**"
   ]
  },
  {
   "cell_type": "markdown",
   "metadata": {},
   "source": [
    "Nonlinear, time varying."
   ]
  },
  {
   "cell_type": "markdown",
   "metadata": {},
   "source": [
    "**i) $y[n] = x[n] + x[n-1]y[n-1]$**"
   ]
  },
  {
   "cell_type": "markdown",
   "metadata": {},
   "source": [
    "This is a nonlinear, time varying filter. The coefficent in the second term is obviously dependent on the value of $x$, and the same coefficient changes with time (since it is affected by previous input values)."
   ]
  },
  {
   "cell_type": "markdown",
   "metadata": {},
   "source": [
    "**j) $y[n] = x[n] + y[n-1]/n$**"
   ]
  },
  {
   "cell_type": "markdown",
   "metadata": {},
   "source": [
    "This is a linear, time varying filter."
   ]
  },
  {
   "cell_type": "markdown",
   "metadata": {},
   "source": [
    "**k) $y[n] = \\sum_\\limits{m=-\\infty}^\\limits{\\infty}h[m](x[n+m]+x[n-m])$**"
   ]
  },
  {
   "cell_type": "markdown",
   "metadata": {},
   "source": [
    "This is a linear, time-invariant filter. This filter simply adds a flipped version of an infinite signal to itself, and then scales the result.  The result will be the same regardless of the value of $n$ and the coefficients are not dependent on $x$."
   ]
  },
  {
   "cell_type": "markdown",
   "metadata": {},
   "source": [
    "**2. Show that the $z$-transform is a _linear_ operator. Specifically, show that $\\mathcal{Z}\\{\\alpha x_1(\\cdot) + \\beta x_2(\\cdot)\\} = \\alpha X_1(z) + \\beta X_2(z)$ for any two (real or complex) signals $x_1$ and $x_2$, and any two (real or complex) scalars (constant gains) $\\alpha, \\beta$.**"
   ]
  },
  {
   "cell_type": "markdown",
   "metadata": {},
   "source": [
    "$\\begin{align}\n",
    "\\mathcal{Z}\\{\\alpha x_1(\\cdot) + \\beta x_2(\\cdot)\\} &= \\sum_\\limits{n=0}^\\limits{N}(\\alpha x_1[n] + \\beta x_2[n])z^{-n}\\\\\n",
    "&= \\sum_\\limits{n=0}^\\limits{N}\\alpha x_1[n]z^{-n} + \\sum_\\limits{n=0}^\\limits{N}\\beta x_2[n]z^{-n}\\\\\n",
    "&= \\alpha\\sum_\\limits{n=0}^\\limits{N}x_1[n]z^{-n} + \\beta \\sum_\\limits{n=0}^\\limits{N} x_2[n]z^{-n}\\\\\n",
    "&= \\alpha X_1(z) + \\beta X_2(z)\n",
    "\\end{align}$"
   ]
  },
  {
   "cell_type": "markdown",
   "metadata": {},
   "source": [
    "**3. Recall that an operator $\\mathcal{L}$ is said to be _linear_ when it exhibits both superposition $\\mathcal{L}\\{x+y\\} = \\mathcal{L}\\{x\\} + \\mathcal{L}\\{y\\}$ and scaling $\\mathcal{L}\\{\\alpha x\\} = \\alpha\\mathcal{L}\\{x\\}$, where $x$ and $y$ are arbitrary signals (vectors), and $\\alpha$ is any scalar. Show that superposition implies scaling for rational scalars. Under what conditions does superposition imply scaling for real scalars?**"
   ]
  },
  {
   "cell_type": "markdown",
   "metadata": {},
   "source": [
    "_First, let's show that superposition implies scaling for __integer__ scalars:_\n",
    "\n",
    "Let $y = cx, c \\in \\mathbb{Z}$. Then\n",
    "\n",
    "$\\begin{array}{ll}\n",
    "\\mathcal{L}\\{x+y\\} = \\mathcal{L}\\{x+cx\\} &= \\mathcal{L}\\{x(c+1)\\}\\\\\n",
    "&= \\mathcal{L}\\{Nx\\} &\\text{letting }N = c + 1\\\\\n",
    "&= \\mathcal{L}\\{\\underbrace{x+\\cdots + x}_{N \\text{ times}}\\} &\\text{def. of integer multiplication}\\\\\n",
    "&= \\underbrace{\\mathcal{L}\\{x\\} + \\cdots + \\mathcal{L}\\{x\\}}_{N \\text{ times}} &\\text{superposition}\\\\\n",
    "&= N\\mathcal{L}\\{x\\} &\\text{def. of integer multiplication}\n",
    "\\end{array}$\n",
    "\n",
    "Thus, we have proven $\\mathcal{L}\\{Nx\\} = N\\mathcal{L}\\{x\\}, N \\in \\mathbb{Z}$.\n",
    "\n",
    "_Next, let's prove scaling for a reciprocal of an integer:_\n",
    "\n",
    "Define $x_M[n] = \\frac{1}{M}x[n], M, n \\in \\mathbb{Z}$.\n",
    "\n",
    "From our above proof of scaling for integer scalars,\n",
    "\n",
    "$\\begin{array}{ll}\n",
    "\\mathcal{L}\\{Mx_M\\} &= M\\mathcal{L}\\{x_M\\}\\\\\n",
    "&= \\mathcal{L}\\{M\\frac{1}{M}x(\\cdot)\\}\\\\\n",
    "&= \\mathcal{L}\\{x\\}\n",
    "\\end{array}$\n",
    "\n",
    "Combining these equalities,\n",
    "\n",
    "$M\\mathcal{L}\\{\\frac{1}{M}x\\} = \\mathcal{L}\\{x\\} \\implies \\mathcal{L}\\{\\frac{1}{M}x\\} = \\frac{1}{M}\\mathcal{L}\\{x\\}$.\n",
    "\n",
    "_Now, we have:_\n",
    "\n",
    "$\\begin{array}{lll}\n",
    "\\mathcal{L}\\{\\frac{N}{M}x\\} &= N\\mathcal{L}\\{\\frac{1}{M}x\\} &N, M \\in \\mathbb{Z} &\\text{from scaling of integer scalars}\\\\\n",
    "&= N\\frac{1}{M}\\mathcal{L}\\{x\\} &&\\text{from scaling of integer reciprocal}\\\\\n",
    "&= \\frac{N}{M}\\mathcal{L}\\{x\\} &N, M \\in \\mathbb{Z}\\\\\n",
    "&= Q\\mathcal{L}\\{x\\} &Q \\in \\mathbb{Q} &QED\n",
    "\\end{array}$\n",
    "\n",
    "Superposition implies scaling for _real_ scalars in the condition that they can be expressed as a rational, or if it can be shown that as we approximate the irrational target with a rational approximation, the behavior of $\\mathcal{L}$ incurs smaller and smaller changes (a handwavy way of expressing _continuity_ of $\\mathcal{L}$ around the range of the irrational target)."
   ]
  },
  {
   "cell_type": "markdown",
   "metadata": {},
   "source": [
    "**_Musical Time-Varying Filter._ With a time-varying gain $g(n)$, we can create a _tremolo_ effect, which can be written as $y(n) = g(n)x(n)$**\n",
    "\n",
    "**a) Show that the filter is linear.**"
   ]
  },
  {
   "cell_type": "markdown",
   "metadata": {},
   "source": [
    "$\\begin{align}\n",
    "g(n)\\left[\\alpha x_1(n) + \\beta x_2(n)\\right] &= \\alpha g(n)x_1(n) + \\beta g(n)x_2(n)\\\\\n",
    "&= \\alpha y_1(n) + \\beta y_2(n)\n",
    "\\end{align}$"
   ]
  },
  {
   "cell_type": "markdown",
   "metadata": {},
   "source": [
    "**b) State conditions under which the filter is time-invariant, if any.**"
   ]
  },
  {
   "cell_type": "markdown",
   "metadata": {},
   "source": [
    "This filter is strictly time-invariant only if the gain $g(n)$ is not dependent on $n$, meaning that it does not change over time. Thus, $g(n)$ needs to be a constant to be strictly time-invariant."
   ]
  },
  {
   "cell_type": "markdown",
   "metadata": {},
   "source": [
    "**5. A system consists of the cascade combination of a memoryless nonlinearity (such as a soft-clipper) followed by a two-pole, two-zero, LTI filter.**\n",
    "\n",
    "**a) Can we commute the nonlinearity with the LTI filter and obtain the same input-output behavior? If so, prove it. If not, find a counterexample.**"
   ]
  },
  {
   "cell_type": "markdown",
   "metadata": {},
   "source": [
    "No, we cannot commute the nonlinearity with the LTI filter and obtain the same input-output behavior.\n",
    "\n",
    "We can express any two-pole, two-zero, LTI filter as\n",
    "\n",
    "$\\text{LTI}(n) = x(n) + g_1x(n-2) + g_2y(n-2)$\n",
    "\n",
    "As a counterexample, consider the simplest nonlinearity $\\mathcal{N}(n) = x^2(n)$. Then,\n",
    "\n",
    "$\\begin{align}\n",
    "y(n) &= \\text{LTI}(\\mathcal{N}(n))\\\\\n",
    "&= x^2(n) + g_1x^2(n-2) + g_2y(n-2)\\\\\n",
    "&= x^2(n) + g_1x^2(n-2) + g_2\\left[x^2(n-2) + g_1x^2(n-4) + g_2y(n-4)\\right]\\\\\n",
    "&= \\cdots\n",
    "\\end{align}$\n",
    "\n",
    "If we commute the LTI filter and the nonlinearity, we have\n",
    "\n",
    "$\\begin{align}\n",
    "y(n) &= \\mathcal{N}(\\text{LTI}(n))\\\\\n",
    "&= \\left[x(n) + g_1x(n-2) + g_2y(n-2)\\right]^2\\\\\n",
    "&= \\left[x(n) + g_1x(n-2) + g_2\\left[x(n-2) + g_1x(n-4) + g_2y(n-4)\\right]^2\\right]^2\\\\\n",
    "&= \\cdots\n",
    "\\end{align}$\n",
    "\n",
    "Clearly these expressions will not generally equal the same value for the same input $x(\\cdot)$."
   ]
  },
  {
   "cell_type": "markdown",
   "metadata": {},
   "source": [
    "**b) Describe how we can determine the frequency response of the LTI filter by choosing known input signals and measuring the resulting response, or show that this is impossible. [Assume we can choose the input/output nonlinearity and observe the LTI filter output, with no input/output access to the signal leaving the nonlinearity and entering the LTI filter.]**"
   ]
  },
  {
   "cell_type": "markdown",
   "metadata": {},
   "source": [
    "In general, we cannot determine the frequency response of the LTI filter if the known signal passes through a nonlinearity first.  As a counterexample, consider a _constant function_ nonlinearity $\\mathcal{N}(n) = c, c \\in \\mathbb{C}$. Clearly we cannot experimentally determine the frequency response of an LTI filter when all possible input signals are transformed into the same constant value before entering the filter. In essense, this reduces all our \"probe\" signals to a single value, and thus, by linearity, would also reduce the output of our LTI to a constant value.  (The magnitude spectrum for any input signal would be a single DC component at bin 0)."
   ]
  },
  {
   "cell_type": "markdown",
   "metadata": {},
   "source": [
    "**c) Under the same conditions as the previous problem, describe what signals we can use to determine the memoryless nonlinearity, or show that this cannot be done.**"
   ]
  },
  {
   "cell_type": "markdown",
   "metadata": {},
   "source": [
    "Because a nonlinear function can be any function that is _not linear_, such a function can be limitlessly complex.  Even if we impose a _memoryless_ limitation on a linear function, we can still devise pathological cases that would require an infinite amount of test signals in the best case to find a confident approximation of the function. For example,\n",
    "\n",
    "$f(x) = \\begin{cases}\\begin{array}{ll}1, &x = \\pi\\\\0, &\\text{otherwise}\\end{array}\\end{cases}$"
   ]
  },
  {
   "cell_type": "code",
   "execution_count": null,
   "metadata": {},
   "outputs": [],
   "source": []
  }
 ],
 "metadata": {
  "kernelspec": {
   "display_name": "Python 3",
   "language": "python",
   "name": "python3"
  },
  "language_info": {
   "codemirror_mode": {
    "name": "ipython",
    "version": 3
   },
   "file_extension": ".py",
   "mimetype": "text/x-python",
   "name": "python",
   "nbconvert_exporter": "python",
   "pygments_lexer": "ipython3",
   "version": "3.6.5"
  }
 },
 "nbformat": 4,
 "nbformat_minor": 2
}
