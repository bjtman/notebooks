{
 "cells": [
  {
   "cell_type": "markdown",
   "metadata": {},
   "source": [
    "## Chapter 5\n",
    "# Using sequential containers and analyzing strings"
   ]
  },
  {
   "cell_type": "markdown",
   "metadata": {},
   "source": [
    "## Exercises"
   ]
  },
  {
   "cell_type": "markdown",
   "metadata": {},
   "source": [
    "**5-0.** Compile, execute, and test the programs in this chapter."
   ]
  },
  {
   "cell_type": "markdown",
   "metadata": {},
   "source": [
    "Splitting implemented in `split.h`, `split_main.cpp`, `split_test.cpp`.  \n",
    "Character pictures implemented in `character_pictures.cpp` (also uses `split.h` for input).\n"
   ]
  },
  {
   "cell_type": "markdown",
   "metadata": {},
   "source": [
    "**5-1.** Design and implement a program to produce a permuted index.  A permuted index is one in which each phrase is indexed by every word in the phrase. So, given the following input,  \n",
    "```\n",
    "The quick brown fox\n",
    "jumped over the fence\n",
    "```\n",
    "the output would be . \n",
    "```\n",
    "      The quick    brown fox\n",
    "jumped over the    fence\n",
    "The quick brown    fox\n",
    "                   jumped over the fence\n",
    "         jumped    over the fence\n",
    "            The    quick brown fox\n",
    "    jumped over    the fence\n",
    "                   The quick brown fox\n",
    "```\n",
    "\n",
    "A good algorithm is suggested in _The AWK Programming Language_. That solution divides the problem into three steps:  \n",
    "1. Read each line of the input and generate a set of rotations of that line. Each rotation puts the next word of the input in the first position and rotates the previous first word to the end of the phrase. So the output of this phrase for the first line of our input would be\n",
    "```\n",
    "The quick brown fox\n",
    "quick brown fox The\n",
    "brown fox The quick\n",
    "fox The quick brown\n",
    "```\n",
    "Of course, it will be important to know where the original phrase ends and where the rotated beginning begins.\n",
    "2. Sort the rotations.\n",
    "3. Unrotate and write the permuted index, which involves finding the separator, putting the phrase back together, and writing it properly formatted.\n"
   ]
  },
  {
   "cell_type": "markdown",
   "metadata": {},
   "source": [
    "**Solution**  \n",
    "I took a slightly different approach that I believe is simpler than the proposed solution.  \n",
    "\n",
    "I hold each permutation in a struct, `IndexPermutation` containing a single string for each of `index` and `phrase` (including spaces).  \n",
    "\n",
    "I then iterate through all possible `pivotIndex`s, and for each `pivotIndex`, split the line and put the left half into `index` and the right half into `phrase`.  \n",
    "\n",
    "I then sort the `IndexPermutation` vector by its consituent `phrase`s, and print the results in the correct format.\n",
    "\n",
    "Example run:  \n",
    "```\n",
    "$ gcc permuted_index.cpp split.cpp -o permuted_index.out  -lstdc++\n",
    "$ ./permuted_index.out\n",
    "      the quick     brown fox\n",
    "jumped over the     fence\n",
    "the quick brown     fox\n",
    "                    jumped over the fence\n",
    "         jumped     over the fence\n",
    "            the     quick brown fox\n",
    "    jumped over     the fence\n",
    "                    the quick brown fox\n",
    "```\n",
    "\n",
    "_**Note** the lack of capitalization.  I think the authors made a mistake in including capitalization since we haven't learned of a standard library way of comparing strings while ignoring case.  I think it's beyond the scope of the exercise to write a custom string `compare` function using `std::tolower` on each char_."
   ]
  },
  {
   "cell_type": "markdown",
   "metadata": {},
   "source": [
    "**5-2.** Write the complete new version of the student-grading program, which extracts records for failing students, using `vector`s. Write another that uses `list`s. Measure the performance difference on input files of ten lines, 1000 lines, and 10000 lines.\n"
   ]
  },
  {
   "cell_type": "markdown",
   "metadata": {},
   "source": [
    "_**Note:** I am adding a 100,000 list as well, since 10,000 performs in under 0.5s in the vector case on my machine._\n",
    "\n",
    "**Pt1: Implementation**  \n",
    "To avoid duplication, I am using the original `Student_info`, `median` and `grade` definitions from Ch4:\n",
    "```\n",
    "$ gcc failing_students_vector.cpp ../chapter_4/grade.cpp ../chapter_4/Student_info.cpp ../chapter_4/median.cpp -o failing_students_vector.out  -lstdc++\n",
    "$ gcc failing_students_list.cpp ../chapter_4/grade.cpp ../chapter_4/Student_info.cpp ../chapter_4/median.cpp -o failing_students_list.out  -lstdc++\n",
    "$ cat grades\n",
    "Karl 50 40 50 39 19 d\n",
    "Jake 90 90 80 70 95 d%\n",
    "$ cat grades | ./failing_students_vector.out\n",
    "Passing students:\n",
    "\n",
    "Jake 86\n",
    "Failing students:\n",
    "\n",
    "Karl 41.6\n",
    "```\n",
    "\n",
    "_**Also note** I used the modified extended version frmo the Ch4 exercises that reads hw input in the `grade` function and only stores `finalGrade` on the student object._\n",
    "\n",
    "**Pt2.1: Timing: vector**  \n",
    "```\n",
    "$ wc -l grades1000\n",
    "1000 grades1000\n",
    "$ wc -l grades10000\n",
    "10000 grades10000\n",
    "$ wc -l grades100000\n",
    "100000 grades100000\n",
    "$ time cat grades1000 | ./failing_students_vector.out\n",
    "...\n",
    "./failing_students_vector.out  0.02s user 0.00s system 74% cpu 0.027 total\n",
    "$ time cat grades10000 | ./failing_students_vector.out\n",
    "...\n",
    "./failing_students_vector.out  0.33s user 0.01s system 98% cpu 0.346 total\n",
    "$ time cat grades100000 | ./failing_students_vector.out\n",
    "...\n",
    "./failing_students_vector.out  18.32s user 0.08s system 99% cpu 18.449 total\n",
    "\n",
    "```\n",
    "**Pt2.2: Timing: list**  \n",
    "```\n",
    "$ time cat grades1000 | ./failing_students_list.out\n",
    "...\n",
    "./failing_students_list.out  0.02s user 0.00s system 72% cpu 0.026 total\n",
    "$ time cat grades10000 | ./failing_students_list.out\n",
    "./failing_students_list.out  0.15s user 0.01s system 90% cpu 0.170 total\n",
    "$ time cat grades100000 | ./failing_students_list.out\n",
    "./failing_students_list.out  1.37s user 0.07s system 97% cpu 1.478 total\n",
    "```\n",
    "\n",
    "Thus, with a vector implementation, it takes 18.3s for a 100,000 student file and only 1.37s for the same file with a list implementation.  The list impl performs at 1.37/18.3 = 7.5% of the time for size = 100,000!\n",
    "\n"
   ]
  },
  {
   "cell_type": "markdown",
   "metadata": {},
   "source": [
    "**5-3.** By using a `typedef`, we can write on version of the program that implements either a `vector`-based solution or a `list`-based one. Write and test this version of the program."
   ]
  },
  {
   "cell_type": "markdown",
   "metadata": {},
   "source": [
    "Implemented in `failint_students_generic.cpp`.  Note that the `sort` has been removed since the `algorithm::sort` function doesn't accept lists."
   ]
  },
  {
   "cell_type": "markdown",
   "metadata": {},
   "source": [
    "**5-4.** Look again at the driver functions you wrote in the previous exercise. Note that it is possible to write a driver that differs only in the declaration of the type for the data structure that holds the input file. If your vector and list test drivers differ in any other way, rewrite them so that they differ only in this declaration."
   ]
  },
  {
   "cell_type": "markdown",
   "metadata": {},
   "source": [
    "Yup! The only line that needs changing in the program to change from `list` to `vector` or vice-versa is this one:  \n",
    "`typedef list<Student_info> student_collection;`"
   ]
  },
  {
   "cell_type": "markdown",
   "metadata": {},
   "source": [
    "**5-5.** Write a function named `center(const vector<string>&)` that returns a picture in which all the lines of the original picture are padded out to their full width, and the padding is as evenly divided as possible between the left and right sides of the picture. What are the properties of pictures for which such a function is useful? How can you tell whether a given picture has those properties?"
   ]
  },
  {
   "cell_type": "code",
   "execution_count": 1,
   "metadata": {},
   "outputs": [
    {
     "name": "stdout",
     "output_type": "stream",
     "text": [
      "    *    \n",
      "   ***   \n",
      "  *****  \n",
      " ******* \n",
      "*********\n"
     ]
    },
    {
     "data": {
      "text/plain": [
       "(int) 0\n"
      ]
     },
     "execution_count": 1,
     "metadata": {},
     "output_type": "execute_result"
    }
   ],
   "source": [
    "#include <vector>\n",
    "#include <string>\n",
    "#include <iostream>\n",
    "\n",
    "std::vector<std::string> center(const std::vector<std::string>& picture) {\n",
    "    std::string::size_type maxlen = 0;\n",
    "    for (std::vector<std::string>::const_iterator it = picture.begin(); it != picture.end(); it++) {\n",
    "        maxlen = std::max(maxlen, it->size());\n",
    "    }\n",
    "    \n",
    "    std::vector<std::string> ret;\n",
    "    for (std::vector<std::string>::const_iterator it = picture.begin(); it != picture.end(); it++) {\n",
    "        std::string::size_type borderSize = (maxlen - it->size()) / 2;\n",
    "        ret.push_back(std::string(borderSize, ' ') + *it + std::string(borderSize, ' '));\n",
    "    }\n",
    "    \n",
    "    return ret;\n",
    "}\n",
    "\n",
    "std::vector<std::string> testPicture;\n",
    "testPicture.push_back(\"*\");\n",
    "testPicture.push_back(\"***\");\n",
    "testPicture.push_back(\"*****\");\n",
    "testPicture.push_back(\"*******\");\n",
    "testPicture.push_back(\"*********\");\n",
    "\n",
    "std::vector<std::string> centeredPicture = center(testPicture);\n",
    "for (std::vector<std::string>::const_iterator it = centeredPicture.begin(); it != centeredPicture.end(); it++) {\n",
    "    std::cout << *it << std::endl;\n",
    "}\n",
    "\n",
    "return 0;\n"
   ]
  },
  {
   "cell_type": "markdown",
   "metadata": {},
   "source": [
    "As you can see above, one property of a picture for which a `center` function is useful is one in which at least some lines are of different width and need centering (such as the triangle shape).  One could also imagine centering text _before_ putting a border on it.  \n",
    "\n",
    "One could programatically tell if a picture has these properties by seeing if lines are borderless and without the same width."
   ]
  },
  {
   "cell_type": "markdown",
   "metadata": {},
   "source": [
    "**5-6.** Rewrite the `extract_fails` function from $5.1.1/77 so that instead of erasing each failing student from the input vector `students`, it copies the records for the passing students to the beginning of `students`, and then uses the `resize` function to remove the extra elements from the end of `students`. How does the performance of this version compare with othe one in 5.1.1/77?"
   ]
  },
  {
   "cell_type": "markdown",
   "metadata": {},
   "source": [
    "Implemented in `failing_students_copy_resize.cpp`.  \n",
    "The performance, as timed with my 100,000 grades file using a `list`, is _slightly_ faster, but almost exactly the same (less than 1% speedup)."
   ]
  },
  {
   "cell_type": "markdown",
   "metadata": {},
   "source": [
    "**5-7.** Given the implementation of `frame` in 5.8.1/93, and the following code fragmant  \n",
    "```\n",
    "vector<string> v;\n",
    "frame(v);\n",
    "```\n",
    "describe what happens in this call. In particular, trace through how both the `width` function and the `frame` function operate. Now, run this code. If the results differ from your expectations, first understand why your expectations and the program differ, and then change one to match the other."
   ]
  },
  {
   "cell_type": "markdown",
   "metadata": {},
   "source": [
    "This call will produce a `vector<string>` with two entries, both 4-character strings filled with astrixes.  \n",
    "\n",
    "I tested by making this call and printing the results:\n",
    "```\n",
    "$ ./empty_character_pictures.out\n",
    "****\n",
    "****\n",
    "```"
   ]
  },
  {
   "cell_type": "markdown",
   "metadata": {},
   "source": [
    "**5-8.** In the `hcat` function from 5.8.3/95, what would happen if we defined `s` outside the scope of the `while`? Rewrite and execute the program to confirm your hypothesis."
   ]
  },
  {
   "cell_type": "markdown",
   "metadata": {},
   "source": [
    "If we defined `s` outside the scope of the `while`, and `right` was shorter than `left`, the output would be the exact same.  However, if `left` was shorter than `right`, the returned list would contain duplicated strings from `right` for each of the lines where `i >= left.size() && i < right.size()`.  In other words, each line matching that criteria would contain all of the text in the previous line plus a set of spaces and the content from the next line in `right`."
   ]
  },
  {
   "cell_type": "markdown",
   "metadata": {},
   "source": [
    "**Not true!** After actually running the program, I realized I missed something:\n",
    "```\n",
    "libc++abi.dylib: terminating with uncaught exception of type std::length_error: basic_string\n",
    "```\n",
    "\n",
    "This is because the statement:\n",
    "```\n",
    "s += string(width1 - s.size(), ' ');\n",
    "```\n",
    "will have a negative size argument when `s` is larger than `width`, which happens in this case for the reasons described above."
   ]
  },
  {
   "cell_type": "markdown",
   "metadata": {},
   "source": [
    "**5-9.** Write a program to write the words in the input that do not contain any uppercase letters followed by the words that contain one or more uppercase letters."
   ]
  },
  {
   "cell_type": "markdown",
   "metadata": {},
   "source": [
    "Implemented in `case_separation.cpp`:\n",
    "```\n",
    "$ gcc case_separation.cpp -o case_separation.out  -lstdc++\n",
    "$ ./case_separation.out\n",
    "hi Bye dry Fye\n",
    "hi\n",
    "dry\n",
    "Bye\n",
    "Fye\n",
    "```"
   ]
  },
  {
   "cell_type": "markdown",
   "metadata": {},
   "source": [
    "**5-10.** Palindromes are words that are spelled the same right to left as left to right. Write a program to find all the palindromes in a dictionary. Next, find the longest palindrome."
   ]
  },
  {
   "cell_type": "markdown",
   "metadata": {},
   "source": [
    "```\n",
    "$ gcc palindromes.cpp -o palindromes.out  -lstdc++\n",
    "$ cat /usr/share/dict/words | ./palindromes.out\n",
    "All palindromes:\n",
    "\n",
    "A\n",
    "a\n",
    "aa\n",
    "aba\n",
    "acca\n",
    "adda\n",
    "affa\n",
    "aga\n",
    "aha\n",
    "ajaja\n",
    "aka\n",
    "ala\n",
    "alala\n",
    "alula\n",
    "ama\n",
    "amma\n",
    "ana\n",
    "anana\n",
    "...\n",
    "waw\n",
    "wow\n",
    "X\n",
    "x\n",
    "Y\n",
    "y\n",
    "yaray\n",
    "yoy\n",
    "Z\n",
    "z\n",
    "\n",
    "Longest palindrome:\n",
    "deedeed\n",
    "```"
   ]
  },
  {
   "cell_type": "markdown",
   "metadata": {},
   "source": [
    "**5-11.** In text processing it is sometimes useful to know whether a word has any ascenders or descenders. Ascenders are the parts of lowercase letters that extend above the text line; in the English alphabet, the letters b, d, f, h, k, l, and t have ascenders. Similarly, the descenders are the parts of lowercase letters that descend below the line; In English, the letters g, j, p, q, and y have descenders. Write a program to determine whether a word has any ascenders or descenders. Extend that program to find the longest word in the dictionary that has neither ascenders nor descenders."
   ]
  },
  {
   "cell_type": "markdown",
   "metadata": {},
   "source": [
    "```\n",
    "$ gcc no_ascenders_or_descenders.cpp -o no_ascenders_or_descenders.out  -lstdc++\n",
    "$ cat /usr/share/dict/words | ./no_ascenders_or_descenders.out\n",
    "\n",
    "Longest word with no ascenders or descenders:\n",
    "overconsciousness\n",
    "```"
   ]
  },
  {
   "cell_type": "code",
   "execution_count": null,
   "metadata": {},
   "outputs": [],
   "source": []
  }
 ],
 "metadata": {
  "kernelspec": {
   "display_name": "C++11",
   "language": "C++",
   "name": "cling-cpp11"
  },
  "language_info": {
   "codemirror_mode": "c++",
   "file_extension": ".c++",
   "mimetype": "text/x-c++src",
   "name": "c++"
  }
 },
 "nbformat": 4,
 "nbformat_minor": 2
}
