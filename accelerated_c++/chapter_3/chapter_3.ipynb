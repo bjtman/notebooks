{
 "cells": [
  {
   "cell_type": "markdown",
   "metadata": {},
   "source": [
    "# Chapter 3\n",
    "## Working with batches of data"
   ]
  },
  {
   "cell_type": "markdown",
   "metadata": {},
   "source": [
    "Due to standard input not working yet in C++ notebooks, all programs are in the same folder as this notebook in `.cpp` files."
   ]
  },
  {
   "cell_type": "markdown",
   "metadata": {},
   "source": [
    "## Exercises"
   ]
  },
  {
   "cell_type": "markdown",
   "metadata": {},
   "source": [
    "**3-0.** Compile, execute, and test the programs in this chapter."
   ]
  },
  {
   "cell_type": "markdown",
   "metadata": {},
   "source": [
    "Done in `chapter_3_code.cpp`."
   ]
  },
  {
   "cell_type": "markdown",
   "metadata": {},
   "source": [
    "**3-1.** Suppose we wish to find the median of a collection of values. Assume that we have read some of the values so far, and that we have no idea how many values remain to be read.  \n",
    "Prove that we cannot afford to discard any of the values that we have read.  \n",
    "_Hint:_ One proof strategy is to assume that we can discard a value, and then find values for the unread - and therefore unknown - part of our collection that would cause the median to be the value that we discarded."
   ]
  },
  {
   "cell_type": "markdown",
   "metadata": {},
   "source": [
    "We are asked to prove that there exists _at least one_ possible set of current and future values such that discarding _at least one_ value from the current set will give us an incorrect result for the median after reading _at least one more_ value.  If we can show one such valid case, then it is enough to prove we cannot afford to discard any values, since our program is intended to generalize to any valid input.  \n",
    "\n",
    "Assume we have a vector `V` of `n` elements.  Assume that all `n` values are unique, and that `n` is odd and greater than `1`.  Thus, the element at index `(n - 1) / 2` is the median (and is unique in the vector). Call this element `m`.  Also assume that the two neighboring values, `x` and `y` with indices `((n - 1) / 2) - 1` and `((n - 1) / 2) + 1` respectively, contain values such that `(y + x) / 2 != m`.\n",
    "\n",
    "If we discard the value `m`, then the length of `V`, `n - 1`, will be even, and the median will thus equal the average of the two previously surrounding values, `x` and `y`.  Since `(y + x) / 2 != m`, the medium of the vector has changed.  \n",
    "QED"
   ]
  },
  {
   "cell_type": "markdown",
   "metadata": {},
   "source": [
    "**3-2.** Write a program to compute and print the quartiles (that is, the quarter of the numbers with the largest values, the next highest quarter, and so on) of a set of integers."
   ]
  },
  {
   "cell_type": "code",
   "execution_count": 1,
   "metadata": {},
   "outputs": [
    {
     "name": "stdout",
     "output_type": "stream",
     "text": [
      "Quartiles: 20, 50, 80\n",
      "Quartiles: 0, 0, 0\n",
      "Quartiles: 0, 0.5, 0.5\n"
     ]
    },
    {
     "data": {
      "text/plain": [
       "(void) @0x700008a84ea0\n"
      ]
     },
     "execution_count": 1,
     "metadata": {},
     "output_type": "execute_result"
    }
   ],
   "source": [
    "#include<vector>\n",
    "#include<iostream>\n",
    "#include<algorithm>\n",
    "\n",
    "void computeQuartiles(std::vector<double> values) {\n",
    "    std::vector<double>::size_type size = values.size();\n",
    "    if (size == 0) {\n",
    "        std::cout << \"Empty values given\" << std::endl;\n",
    "        return;\n",
    "    }\n",
    "\n",
    "    std::sort(values.begin(), values.end());\n",
    "\n",
    "    bool isEven = values.size() % 2 == 0;\n",
    "    double firstQuartile = isEven ? (values[size / 4] + values[std::max((int) (size / 4 - 1), 0)]) / 2\n",
    "                                  : values[size / 4];\n",
    "    double secondQuartile = isEven ? (values[size / 2] + values[size / 2 - 1]) / 2\n",
    "                                   : values[size / 2];\n",
    "    double thirdQuartile = isEven ? (values[3 * size / 4] + values[3 * size / 4 - 1]) / 2\n",
    "                                  : values[3 * size / 4];\n",
    "    std::cout << \"Quartiles: \" << firstQuartile << \", \" << secondQuartile << \", \" << thirdQuartile << std::endl;\n",
    "}\n",
    "\n",
    "std::vector<double> v;\n",
    "v.push_back(0);\n",
    "v.push_back(10);\n",
    "v.push_back(20);\n",
    "v.push_back(30);\n",
    "v.push_back(100);\n",
    "v.push_back(90);\n",
    "v.push_back(40);\n",
    "v.push_back(50);\n",
    "v.push_back(60);\n",
    "v.push_back(70);\n",
    "v.push_back(80);\n",
    "\n",
    "computeQuartiles(v);\n",
    "\n",
    "v.clear();\n",
    "v.push_back(0);\n",
    "computeQuartiles(v);\n",
    "\n",
    "v.clear();\n",
    "v.push_back(0);\n",
    "v.push_back(1);\n",
    "computeQuartiles(v);"
   ]
  },
  {
   "cell_type": "markdown",
   "metadata": {},
   "source": [
    "**3-3.** Write a program to count how many times each distinct word appears in its input."
   ]
  },
  {
   "cell_type": "markdown",
   "metadata": {},
   "source": [
    "Implemented in `distinct_words.cpp`"
   ]
  },
  {
   "cell_type": "markdown",
   "metadata": {},
   "source": [
    "**3-4.** Write a program to report the length of the longest and shortest `string` in its input"
   ]
  },
  {
   "cell_type": "markdown",
   "metadata": {},
   "source": [
    "Implemented in `longest_and_shortest_strings.cpp`"
   ]
  },
  {
   "cell_type": "markdown",
   "metadata": {},
   "source": [
    "**3-5.** Write a program that will keep track of grades for several students at once. The program could keep two `vectors` in sync: The first should hold the student's names, and the second the final grades that can be computed as input is read.  For now, you should assume a fixed number of homework grades."
   ]
  },
  {
   "cell_type": "markdown",
   "metadata": {},
   "source": [
    "Implemented in `multiple_students.cpp`."
   ]
  },
  {
   "cell_type": "markdown",
   "metadata": {},
   "source": [
    "**3-6.** The average-grade computation might divide by zero if the student didn't enter any grades. Division by zero is undefined in C++, which means that the implementation is permitted to do anything it likes. What does your C++ implementation do in this case?  \n",
    "Rewrite the program so that its behavior does not depend on how the implementation treats division by zero."
   ]
  },
  {
   "cell_type": "code",
   "execution_count": 2,
   "metadata": {},
   "outputs": [
    {
     "name": "stderr",
     "output_type": "stream",
     "text": [
      "\u001b[1minput_line_7:2:4: \u001b[0m\u001b[0;1;35mwarning: \u001b[0m\u001b[1mdivision by zero is undefined [-Wdivision-by-zero]\u001b[0m\n",
      " 1 / 0;\n",
      "\u001b[0;1;32m   ^ ~\n",
      "\u001b[0m"
     ]
    },
    {
     "data": {
      "text/plain": [
       "(int) 0\n"
      ]
     },
     "execution_count": 2,
     "metadata": {},
     "output_type": "execute_result"
    }
   ],
   "source": [
    "1 / 0;"
   ]
  },
  {
   "cell_type": "markdown",
   "metadata": {},
   "source": [
    "As seen above, it errors out!"
   ]
  },
  {
   "cell_type": "markdown",
   "metadata": {},
   "source": [
    "Here's a similar mean-calculation that avoids the divide-by-zero problem:"
   ]
  },
  {
   "cell_type": "code",
   "execution_count": 3,
   "metadata": {},
   "outputs": [
    {
     "data": {
      "text/plain": []
     },
     "execution_count": 3,
     "metadata": {},
     "output_type": "execute_result"
    }
   ],
   "source": [
    "#include<vector>\n",
    "\n",
    "double calculateMean(std::vector<double> values) {\n",
    "    double runningTotal = 0;\n",
    "    for (int i = 0; i < values.size(); i++) {\n",
    "        runningTotal += values[i];\n",
    "    }\n",
    "    \n",
    "    return values.size() == 0 ? 0 : runningTotal / values.size();\n",
    "}"
   ]
  },
  {
   "cell_type": "code",
   "execution_count": 4,
   "metadata": {},
   "outputs": [
    {
     "name": "stdout",
     "output_type": "stream",
     "text": [
      "67.5\n"
     ]
    },
    {
     "data": {
      "text/plain": [
       "(std::__1::basic_ostream &) @0x7fffaf973660\n"
      ]
     },
     "execution_count": 4,
     "metadata": {},
     "output_type": "execute_result"
    }
   ],
   "source": [
    "#include<iostream>\n",
    "\n",
    "std::vector<double> allGrades;\n",
    "allGrades.push_back(90.0);\n",
    "allGrades.push_back(80.0);\n",
    "allGrades.push_back(50.0);\n",
    "allGrades.push_back(50.0);\n",
    "\n",
    "std::cout << calculateMean(allGrades) << std::endl;"
   ]
  },
  {
   "cell_type": "code",
   "execution_count": 5,
   "metadata": {},
   "outputs": [
    {
     "name": "stdout",
     "output_type": "stream",
     "text": [
      "0\n"
     ]
    },
    {
     "data": {
      "text/plain": [
       "(std::__1::basic_ostream &) @0x7fffaf973660\n"
      ]
     },
     "execution_count": 5,
     "metadata": {},
     "output_type": "execute_result"
    }
   ],
   "source": [
    "allGrades.clear();\n",
    "\n",
    "std::cout << calculateMean(allGrades) << std::endl;"
   ]
  },
  {
   "cell_type": "code",
   "execution_count": null,
   "metadata": {},
   "outputs": [],
   "source": []
  }
 ],
 "metadata": {
  "kernelspec": {
   "display_name": "C++11",
   "language": "C++",
   "name": "cling-cpp11"
  },
  "language_info": {
   "codemirror_mode": "c++",
   "file_extension": ".c++",
   "mimetype": "text/x-c++src",
   "name": "c++"
  }
 },
 "nbformat": 4,
 "nbformat_minor": 2
}
