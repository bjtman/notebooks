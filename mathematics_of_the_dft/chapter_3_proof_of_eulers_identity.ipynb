{
 "cells": [
  {
   "cell_type": "markdown",
   "metadata": {},
   "source": [
    "## Chapter 3\n",
    "# Proof of Euler's Identity"
   ]
  },
  {
   "cell_type": "markdown",
   "metadata": {},
   "source": [
    "We define $e$ as the particular real number satisfying\n",
    "\n",
    "$\\lim_\\limits{\\delta \\to 0}\\frac{e^\\delta - 1}{\\delta} \\triangleq 1$,\n",
    "\n",
    "which gave us $\\frac{d}{dx}(a^x) = a^x$ when $a = e$.  From this expression we can derive\n",
    "\n",
    "$e \\triangleq \\lim_\\limits{\\delta \\to 0}(1 + \\delta)^{1/\\delta}$.\n",
    "\n",
    "This is one way to define $e$."
   ]
  },
  {
   "cell_type": "code",
   "execution_count": 2,
   "metadata": {},
   "outputs": [
    {
     "data": {
      "text/plain": [
       "2.718281828459045"
      ]
     },
     "execution_count": 2,
     "metadata": {},
     "output_type": "execute_result"
    }
   ],
   "source": [
    "import numpy as np\n",
    "np.e"
   ]
  },
  {
   "cell_type": "code",
   "execution_count": 23,
   "metadata": {},
   "outputs": [
    {
     "data": {
      "text/plain": [
       "2.7182817983473577"
      ]
     },
     "execution_count": 23,
     "metadata": {},
     "output_type": "execute_result"
    }
   ],
   "source": [
    "delta = 1e-8\n",
    "\n",
    "e = (1 + delta) ** (1/delta)\n",
    "e"
   ]
  },
  {
   "cell_type": "code",
   "execution_count": 24,
   "metadata": {},
   "outputs": [
    {
     "data": {
      "text/plain": [
       "3.011168736577474e-08"
      ]
     },
     "execution_count": 24,
     "metadata": {},
     "output_type": "execute_result"
    }
   ],
   "source": [
    "np.e - e"
   ]
  },
  {
   "cell_type": "markdown",
   "metadata": {},
   "source": [
    "For Taylor series expansions of $\\sin$, $\\cos$ and $e^x$, along with their implementations and animations of the derivatives of $\\sin$, $\\cos$ and some other functions, see the top of my notebook for [Musimathics Vol 2 Chapter 2](http://localhost:8888/notebooks/musimathics/volume_2/chapter_2_musical_signals.ipynb)."
   ]
  },
  {
   "cell_type": "markdown",
   "metadata": {},
   "source": [
    "## Roots of Unity"
   ]
  },
  {
   "cell_type": "markdown",
   "metadata": {},
   "source": [
    "Since $e^{j2\\pi k} = 1$ for every integer $k$, we can write\n",
    "\n",
    "$1^{k/M} = e^{j2\\pi k/M}$, $k=0,1,2,3,...,M - 1$.\n",
    "\n",
    "These are the _$M$th roots of unity_.  They are used so frequently that they are often given a special notation:\n",
    "\n",
    "$W_M^k \\triangleq e^{j2\\pi k/M}$, $k = 0,1,2,...,M-1$,\n",
    "\n",
    "where $W_M$ denotes a primitive $M$th root of unity (where $k = 1$)."
   ]
  },
  {
   "cell_type": "markdown",
   "metadata": {},
   "source": [
    "_This plot from_ Chapter 2 Problem 7 _demonstrates roots of unity for $M = 8$_:"
   ]
  },
  {
   "cell_type": "code",
   "execution_count": 26,
   "metadata": {},
   "outputs": [
    {
     "data": {
      "image/png": "[encoded data removed]",
      "text/plain": [
       "<matplotlib.figure.Figure at 0x10c3b5320>"
      ]
     },
     "metadata": {},
     "output_type": "display_data"
    }
   ],
   "source": [
    "import matplotlib.pyplot as plt\n",
    "%matplotlib inline\n",
    "\n",
    "complex_numbers = np.exp(1j * 2 * np.pi * np.arange(0, 8) / 8)\n",
    "fig = plt.figure(figsize=(6, 6))\n",
    "plt.title('Complex numbers $e^{j2\\\\pi k/8}$ and unit circle $\\\\left|z\\\\right| = 1$')\n",
    "plt.scatter(complex_numbers.real, complex_numbers.imag, label='$e^{j2\\\\pi k/8}$')\n",
    "angles = np.linspace(0, 2 * np.pi, 100)\n",
    "plt.plot(np.cos(angles), np.sin(angles), label='$\\\\left|z\\\\right| = 1$')\n",
    "_ = plt.legend()"
   ]
  },
  {
   "cell_type": "markdown",
   "metadata": {},
   "source": [
    "## Euler Identity Problems"
   ]
  },
  {
   "cell_type": "markdown",
   "metadata": {},
   "source": [
    "**1. What is the definition of $e$ and where does it come from? Why is it a fundamental constant?**"
   ]
  },
  {
   "cell_type": "markdown",
   "metadata": {},
   "source": [
    "$e$ is the real number $a = e$ that has the property $\\frac{d}{dx}a^x = a^x$.\n",
    "\n",
    "It comes from the analysis of the limit definition of differentiation applied to the exponentiation function and realizing that there must be such a number (one that satisfies $\\lim_\\limits{\\delta \\to 0} \\frac{a^\\delta - 1}{\\delta} = 1$).\n",
    "\n",
    "This is reason enough alone for it to be a fundamental constant. However, it also has the following going for it:\n",
    "\n",
    "* It has a remarkably simple definition and Taylor series expansion.\n",
    "* When expanded with a complex number, it \"contains\" the expansions of the cosine of the real part and sine of the imaginary part of the number.\n",
    "* It has an elegant relationship with other fundamental constants $i$ (or $j$), $\\pi$, $1$ and $0$ ($e^{j\\pi} + 1 = 0$)\n",
    "* As a biproduct of these properties, it provides a compact generator for sinusoidal series with unit magnitude, and can dramatically simplify calculations by turning phase additions into multiplications."
   ]
  },
  {
   "cell_type": "markdown",
   "metadata": {},
   "source": [
    "**2. Derive the identities**\n",
    "\n",
    "$\\cos(a+b) = \\cos(a)\\cos(b) - \\sin(a)\\sin(b)\\\\\n",
    "\\sin(a+b) = \\sin(a)\\cos(b) - \\cos(a)\\sin(b)$\n",
    "\n",
    "**using Euler's identity and the basic rule of exponents**\n",
    "\n",
    "$e^{j(a+b)} = e^{ja}e^{jb}$."
   ]
  },
  {
   "cell_type": "markdown",
   "metadata": {},
   "source": [
    "Euler's identity is:\n",
    "\n",
    "$e^{j\\theta} = \\cos(\\theta) + j\\sin(\\theta)$\n",
    "\n",
    "We have:\n",
    "\n",
    "$\\begin{align}\n",
    "\\cos(a+b) + j\\sin(a+b) &= e^{j(a+b)}\\\\\n",
    "&= e^{ja}e^{jb}\\\\\n",
    "&= (\\cos(a) + j\\sin(a))(\\cos(b) + j\\sin(b))\\\\\n",
    "&= (\\cos(a)\\cos(b) - \\sin(a)\\sin(b)) + j(\\sin(a)\\cos(b) - \\cos(a)\\sin(b))\n",
    "\\end{align}$\n",
    "\n",
    "We have a direct substitution. QED."
   ]
  },
  {
   "cell_type": "markdown",
   "metadata": {},
   "source": [
    "**3. Derive the sum-of-angle identities of the previous problem using the methods of classical geometry.**"
   ]
  },
  {
   "cell_type": "markdown",
   "metadata": {},
   "source": [
    "No thank you ;)\n",
    "\n",
    "This is laborious and honestly I would just be copying from something like the well-done [derivation on Wolfram](http://mathworld.wolfram.com/TrigonometricAdditionFormulas.html). (I'm not big on classical geometry.  It usually makes sense to me when explained, but I find I would rarely come to many of the conclusions myself.)"
   ]
  },
  {
   "cell_type": "markdown",
   "metadata": {},
   "source": [
    "**4. Using the following Taylor series expansions, prove Euler's identity:**\n",
    "\n",
    "$e^x = 1+x+\\frac{x^2}{2!}+\\frac{x^3}{3!}+\\cdots$\n",
    "\n",
    "$\\cos(\\theta) = 1-\\frac{\\theta^2}{2!}+\\frac{\\theta^4}{4!}+\\cdots$\n",
    "\n",
    "$\\sin(\\theta) = \\theta-\\frac{\\theta^3}{3!}+\\frac{\\theta^5}{5!}+\\cdots$"
   ]
  },
  {
   "cell_type": "markdown",
   "metadata": {},
   "source": [
    "Substituting $x = j\\theta$ in the expansion for $e^x$,\n",
    "\n",
    "$\\begin{align}\n",
    "e^{j\\theta} &= 1+j\\theta+\\frac{(j\\theta)^2}{2!}+\\frac{(j\\theta)^3}{3!}+\\frac{(j\\theta)^4}{4!}+\\frac{(j\\theta)^5}{5!}+\\cdots\\\\\n",
    "&= 1+j\\theta-\\frac{\\theta^2}{2!}-j\\frac{\\theta^3}{3!}+\\frac{\\theta^4}{4!}+j\\frac{\\theta^5}{5!}+\\cdots\\\\\n",
    "\\end{align}$\n",
    "\n",
    "Notice the even terms are real while the odd terms are imaginary. If we group even and odd terms, we have\n",
    "\n",
    "$\\begin{align}\n",
    "e^{j\\theta} &= (1-\\frac{\\theta^2}{2!}+\\frac{\\theta^4}{4!}-\\cdots)+(j\\theta-j\\frac{\\theta^3}{3!}+j\\frac{\\theta^5}{5!}-\\cdots)\\\\\n",
    "&= (1-\\frac{\\theta^2}{2!}+\\frac{\\theta^4}{4!}-\\cdots)+j(\\theta-\\frac{\\theta^3}{3!}+\\frac{\\theta^5}{5!}-\\cdots)\\\\\n",
    "&= \\cos(\\theta) + j\\sin(\\theta)\n",
    "\\end{align}$\n",
    "\n",
    "QED"
   ]
  },
  {
   "cell_type": "markdown",
   "metadata": {},
   "source": [
    "**5. Use Euler's identity to prove DeMoivre's theorem:**\n",
    "\n",
    "$[\\cos(\\theta) + j\\sin(\\theta)]^n = \\cos(n\\theta) + j\\sin(n\\theta)$"
   ]
  },
  {
   "cell_type": "markdown",
   "metadata": {},
   "source": [
    "$\\begin{align}\n",
    "[\\cos(\\theta) + j\\sin(\\theta)]^n &= (e^{j\\theta})^n\\\\\n",
    "&= e^{j(n\\theta)}\\\\\n",
    "&= \\cos(n\\theta) + j\\sin(n\\theta)\\\\\n",
    "\\end{align}$\n",
    "\n",
    "QED"
   ]
  },
  {
   "cell_type": "markdown",
   "metadata": {},
   "source": [
    "**6. Find the four 4th-roots of $j$. That is, find all four distinct values of $j^{\\frac{1}{4}}$. Express the answers in polar form with angles between $-\\pi$ and $\\pi$.**"
   ]
  },
  {
   "cell_type": "markdown",
   "metadata": {},
   "source": [
    "$\\begin{align}\n",
    "j^{\\frac{1}{4}} &= ((-1)^\\frac{1}{2})^{\\frac{1}{4}}\\space\\text{(by definition of $j$)}\\\\\n",
    "&= (e^{j\\pi/2})^\\frac{1}{4}\\space\\text{(by Euler's identity)}\\\\\n",
    "&= (e^{j\\pi/2}e^{j2\\pi k})^\\frac{1}{4}, k \\in \\mathbb{Z}\\space\\text{(by Euler's identity with $\\theta = 2\\pi k$)}\\\\\n",
    "&= e^{j\\pi/8}e^{jk\\pi/2}, k \\in \\mathbb{Z}\\\\\n",
    "&= e^{(j\\pi/2)(k + 1/4)}, k \\in \\mathbb{Z}\\\\\n",
    "\\end{align}$\n",
    "\n",
    "The four distinct roots are thus\n",
    "\n",
    "$e^{(j\\pi/2)(k + 1/4)}, k \\in \\{-2, -1, 0, 1\\}$\n",
    "\n",
    "$= \\{e^{-\\frac{7}{8}j\\pi}, e^{-\\frac{3}{8}j\\pi}, e^{\\frac{1}{8}j\\pi}, e^{\\frac{5}{8}j\\pi}\\}$"
   ]
  },
  {
   "cell_type": "markdown",
   "metadata": {},
   "source": [
    "**7. If $z = x + jy$, where $x$ and $y$ are real, show that $\\left|a^z\\right| = \\left|a^x\\right|$ for all real $a > 0$.**"
   ]
  },
  {
   "cell_type": "markdown",
   "metadata": {},
   "source": [
    "$\\begin{align}\n",
    "\\left|a^z\\right| &= \\left|a^{x + jy}\\right|\\\\\n",
    "&= \\left|a^{x}a^{jy}\\right|\\\\\n",
    "&= \\left|a^x\\right|\\left|a^{jy}\\right|\\\\\n",
    "\\text{(TODO still need to show $\\left|a^{jy}\\right| = 1$ - show that it lies in the unit circle.)}\\\\\n",
    "\\end{align}$"
   ]
  },
  {
   "cell_type": "code",
   "execution_count": 37,
   "metadata": {},
   "outputs": [
    {
     "data": {
      "text/plain": [
       "1.0"
      ]
     },
     "execution_count": 37,
     "metadata": {},
     "output_type": "execute_result"
    }
   ],
   "source": [
    "np.abs(1234 ** (1j * 100))"
   ]
  },
  {
   "cell_type": "markdown",
   "metadata": {},
   "source": [
    "**8. Show that the Taylor expansion of $a^z$ given in Eq (3.1) on page 23 converges for every finite $z \\in \\mathbb{C}$ and for every finite real $a > 0$.**"
   ]
  },
  {
   "cell_type": "markdown",
   "metadata": {},
   "source": [
    "TODO"
   ]
  },
  {
   "cell_type": "code",
   "execution_count": null,
   "metadata": {},
   "outputs": [],
   "source": []
  }
 ],
 "metadata": {
  "kernelspec": {
   "display_name": "Python 3",
   "language": "python",
   "name": "python3"
  },
  "language_info": {
   "codemirror_mode": {
    "name": "ipython",
    "version": 3
   },
   "file_extension": ".py",
   "mimetype": "text/x-python",
   "name": "python",
   "nbconvert_exporter": "python",
   "pygments_lexer": "ipython3",
   "version": "3.6.5"
  }
 },
 "nbformat": 4,
 "nbformat_minor": 2
}
