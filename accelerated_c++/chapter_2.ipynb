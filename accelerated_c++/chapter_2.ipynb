{
 "cells": [
  {
   "cell_type": "markdown",
   "metadata": {},
   "source": [
    "# Chapter 2\n",
    "## Looping and counting"
   ]
  },
  {
   "cell_type": "markdown",
   "metadata": {},
   "source": [
    "## Exercises"
   ]
  },
  {
   "cell_type": "markdown",
   "metadata": {},
   "source": [
    "**2-0.** Compile and run the program presented in this chapter."
   ]
  },
  {
   "cell_type": "code",
   "execution_count": 1,
   "metadata": {},
   "outputs": [
    {
     "data": {
      "text/plain": []
     },
     "execution_count": 1,
     "metadata": {},
     "output_type": "execute_result"
    }
   ],
   "source": [
    "#include <iostream>\n",
    "#include <string>\n",
    "\n",
    "// grr.. `using foo::bar` or `using namespace foo` are not working in this env.\n",
    "// It doesn't allow function definitions after.\n",
    "// So we're fully qualifying all `std` namespaced fields.\n",
    "\n",
    "int main() {\n",
    "    std::cout << \"Please enter your first name: \";\n",
    "    \n",
    "    std::string name;\n",
    "    std::cin >> name;\n",
    "    \n",
    "    const std::string greeting = \"Hello, \" + name + \"!\";\n",
    "    \n",
    "    const int pad = 1;\n",
    "    const int rows = pad * 2 + 3;\n",
    "    const std::string::size_type cols = greeting.size() + pad * 2 + 2;\n",
    "    \n",
    "    std::cout << std::endl;\n",
    "    \n",
    "    // invariant: we have written `r` rows so far\n",
    "    for (int r = 0; r != rows; ++r) {\n",
    "        std::string::size_type c = 0;\n",
    "        \n",
    "        // invariant: we have written `c` chars so far in the current row\n",
    "        while (c != cols) {\n",
    "            if (r == pad + 1 && c == pad + 1) {\n",
    "                std::cout << greeting;\n",
    "                c += greeting.size();\n",
    "            } else {\n",
    "                // are we on the border?\n",
    "                if (r == 0 || r == rows - 1 || c == 0 || c == cols - 1) {\n",
    "                    std::cout << \"*\";\n",
    "                } else {\n",
    "                    std::cout << \" \";\n",
    "                }\n",
    "                ++c;\n",
    "            }\n",
    "        }\n",
    "        \n",
    "        std::cout << std::endl;\n",
    "    }\n",
    "    \n",
    "    return 0;\n",
    "}"
   ]
  },
  {
   "cell_type": "code",
   "execution_count": 2,
   "metadata": {},
   "outputs": [
    {
     "name": "stdout",
     "output_type": "stream",
     "text": [
      "Please enter your first name: \n",
      "************\n",
      "*          *\n",
      "* Hello, ! *\n",
      "*          *\n",
      "************\n"
     ]
    },
    {
     "data": {
      "text/plain": [
       "(int) 0\n"
      ]
     },
     "execution_count": 2,
     "metadata": {},
     "output_type": "execute_result"
    }
   ],
   "source": [
    "main()"
   ]
  },
  {
   "cell_type": "markdown",
   "metadata": {},
   "source": [
    "**2-1.** Change the framing program so that it writes its greeting with no separation from the frame."
   ]
  },
  {
   "cell_type": "markdown",
   "metadata": {},
   "source": [
    "This is achievable by simply initializing `pad` to `0` instead of `1`:"
   ]
  },
  {
   "cell_type": "code",
   "execution_count": 3,
   "metadata": {},
   "outputs": [
    {
     "data": {
      "text/plain": []
     },
     "execution_count": 3,
     "metadata": {},
     "output_type": "execute_result"
    }
   ],
   "source": [
    "int frame1() {\n",
    "    std::cout << \"Please enter your first name: \";\n",
    "    \n",
    "    std::string name;\n",
    "    std::cin >> name;\n",
    "    \n",
    "    const std::string greeting = \"Hello, \" + name + \"!\";\n",
    "    \n",
    "    const int pad = 0;\n",
    "    const int rows = pad * 2 + 3;\n",
    "    const std::string::size_type cols = greeting.size() + pad * 2 + 2;\n",
    "    \n",
    "    std::cout << std::endl;\n",
    "    \n",
    "    // invariant: we have written `r` rows so far\n",
    "    for (int r = 0; r != rows; ++r) {\n",
    "        std::string::size_type c = 0;\n",
    "        \n",
    "        // invariant: we have written `c` chars so far in the current row\n",
    "        while (c != cols) {\n",
    "            if (r == pad + 1 && c == pad + 1) {\n",
    "                std::cout << greeting;\n",
    "                c += greeting.size();\n",
    "            } else {\n",
    "                // are we on the border?\n",
    "                if (r == 0 || r == rows - 1 || c == 0 || c == cols - 1) {\n",
    "                    std::cout << \"*\";\n",
    "                } else {\n",
    "                    std::cout << \" \";\n",
    "                }\n",
    "                ++c;\n",
    "            }\n",
    "        }\n",
    "        \n",
    "        std::cout << std::endl;\n",
    "    }\n",
    "    \n",
    "    return 0;\n",
    "}"
   ]
  },
  {
   "cell_type": "code",
   "execution_count": 4,
   "metadata": {},
   "outputs": [
    {
     "name": "stdout",
     "output_type": "stream",
     "text": [
      "Please enter your first name: \n",
      "**********\n",
      "*Hello, !*\n",
      "**********\n"
     ]
    },
    {
     "data": {
      "text/plain": [
       "(int) 0\n"
      ]
     },
     "execution_count": 4,
     "metadata": {},
     "output_type": "execute_result"
    }
   ],
   "source": [
    "frame1()"
   ]
  },
  {
   "cell_type": "markdown",
   "metadata": {},
   "source": [
    "**2-2.** Change the framing program so that it uses a different amount of space to separate the sides from the greeting than it uses to separate the top and bottom borders from the greeing."
   ]
  },
  {
   "cell_type": "markdown",
   "metadata": {},
   "source": [
    "The `frame2` program pelow achieves this by introducing a second padding variable, `padColumns` and changing `pad` to `padRows`, and then using each variable appropriately."
   ]
  },
  {
   "cell_type": "code",
   "execution_count": 5,
   "metadata": {},
   "outputs": [
    {
     "data": {
      "text/plain": []
     },
     "execution_count": 5,
     "metadata": {},
     "output_type": "execute_result"
    }
   ],
   "source": [
    "int frame2() {\n",
    "    std::cout << \"Please enter your first name: \";\n",
    "    \n",
    "    std::string name;\n",
    "    std::cin >> name;\n",
    "    \n",
    "    const std::string greeting = \"Hello, \" + name + \"!\";\n",
    "    \n",
    "    const int padRows = 2;\n",
    "    const int padColumns = 5;\n",
    "    const int rows = padRows * 2 + 3;\n",
    "\n",
    "    const std::string::size_type cols = greeting.size() + padColumns * 2 + 2;\n",
    "    \n",
    "    std::cout << std::endl;\n",
    "    \n",
    "    // invariant: we have written `r` rows so far\n",
    "    for (int r = 0; r != rows; ++r) {\n",
    "        std::string::size_type c = 0;\n",
    "        \n",
    "        // invariant: we have written `c` chars so far in the current row\n",
    "        while (c != cols) {\n",
    "            if (r == padRows + 1 && c == padColumns + 1) {\n",
    "                std::cout << greeting;\n",
    "                c += greeting.size();\n",
    "            } else {\n",
    "                // are we on the border?\n",
    "                if (r == 0 || r == rows - 1 || c == 0 || c == cols - 1) {\n",
    "                    std::cout << \"*\";\n",
    "                } else {\n",
    "                    std::cout << \" \";\n",
    "                }\n",
    "                ++c;\n",
    "            }\n",
    "        }\n",
    "        \n",
    "        std::cout << std::endl;\n",
    "    }\n",
    "    \n",
    "    return 0;\n",
    "}"
   ]
  },
  {
   "cell_type": "code",
   "execution_count": 6,
   "metadata": {},
   "outputs": [
    {
     "name": "stdout",
     "output_type": "stream",
     "text": [
      "Please enter your first name: \n",
      "********************\n",
      "*                  *\n",
      "*                  *\n",
      "*     Hello, !     *\n",
      "*                  *\n",
      "*                  *\n",
      "********************\n"
     ]
    },
    {
     "data": {
      "text/plain": [
       "(int) 0\n"
      ]
     },
     "execution_count": 6,
     "metadata": {},
     "output_type": "execute_result"
    }
   ],
   "source": [
    "frame2()"
   ]
  },
  {
   "cell_type": "markdown",
   "metadata": {},
   "source": [
    "**2-3.** Rewrite the framing program to ask the user to supply the amount of spacing to leave between the frame and the greeting"
   ]
  },
  {
   "cell_type": "markdown",
   "metadata": {},
   "source": [
    "This could be achieved by simply replacing the lines\n",
    "```\n",
    "    const int padRows = 2;\n",
    "    const int padColumns = 5;\n",
    "```\n",
    "\n",
    "with\n",
    "```\n",
    "    int padRows;\n",
    "    int padColumns;\n",
    "\n",
    "    cout << \"How many spaces should be on either side of the greeting?\" << std::endl;\n",
    "    cin >> padRows;\n",
    "    cout << \"How many spaces should be on above and below the greeting?\" << std::endl;\n",
    "    cin >> padColumns;\n",
    "```\n",
    "\n",
    "However, I am not implementing this here, since `cin` is not working appropriately in this Jupyter env."
   ]
  },
  {
   "cell_type": "markdown",
   "metadata": {},
   "source": [
    "**2-4.** The framing program writes the mostly blank lines that separate the borders from the greeting one character at a time. Change the program so that it writes all the spaces needed in a single output expression."
   ]
  },
  {
   "cell_type": "code",
   "execution_count": 7,
   "metadata": {},
   "outputs": [
    {
     "data": {
      "text/plain": []
     },
     "execution_count": 7,
     "metadata": {},
     "output_type": "execute_result"
    }
   ],
   "source": [
    "int frame4() {\n",
    "    std::cout << \"Please enter your first name: \";\n",
    "    \n",
    "    std::string name;\n",
    "    std::cin >> name;\n",
    "    \n",
    "    const std::string greeting = \"Hello, \" + name + \"!\";\n",
    "    \n",
    "    const int padRows = 2;\n",
    "    const int padColumns = 5;\n",
    "    const int rows = padRows * 2 + 3;\n",
    "\n",
    "    const std::string::size_type cols = greeting.size() + padColumns * 2 + 2;\n",
    "    \n",
    "    std::cout << std::endl;\n",
    "    \n",
    "    // invariant: we have written `r` rows so far\n",
    "    for (int r = 0; r != rows; ++r) {\n",
    "        std::string::size_type c = 0;\n",
    "        \n",
    "        // invariant: we have written `c` chars so far in the current row\n",
    "        while (c != cols) {\n",
    "            if (r == padRows + 1 && c == padColumns + 1) {\n",
    "                std::cout << greeting;\n",
    "                c += greeting.size();\n",
    "            } else {\n",
    "                // are we on the border?\n",
    "                if (r == 0 || r == rows - 1 || c == 0 || c == cols - 1) {\n",
    "                    std::cout << \"*\";\n",
    "                    ++c;\n",
    "                } else {\n",
    "                    std::string::size_type numSpaces = r == padRows + 1 ? padColumns : cols - c - 1;\n",
    "                    std::cout << std::string(numSpaces, ' ');\n",
    "                    c += numSpaces;\n",
    "                }\n",
    "            }\n",
    "        }\n",
    "        \n",
    "        std::cout << std::endl;\n",
    "    }\n",
    "    \n",
    "    return 0;\n",
    "}"
   ]
  },
  {
   "cell_type": "code",
   "execution_count": 8,
   "metadata": {},
   "outputs": [
    {
     "name": "stdout",
     "output_type": "stream",
     "text": [
      "Please enter your first name: \n",
      "********************\n",
      "*                  *\n",
      "*                  *\n",
      "*     Hello, !     *\n",
      "*                  *\n",
      "*                  *\n",
      "********************\n"
     ]
    },
    {
     "data": {
      "text/plain": [
       "(int) 0\n"
      ]
     },
     "execution_count": 8,
     "metadata": {},
     "output_type": "execute_result"
    }
   ],
   "source": [
    "frame4()"
   ]
  },
  {
   "cell_type": "markdown",
   "metadata": {},
   "source": [
    "**2-5.** Write a set of `\"*\"` characters so that they form a square, a rectangle, and a triangle."
   ]
  },
  {
   "cell_type": "code",
   "execution_count": 9,
   "metadata": {},
   "outputs": [
    {
     "data": {
      "text/plain": []
     },
     "execution_count": 9,
     "metadata": {},
     "output_type": "execute_result"
    }
   ],
   "source": [
    "int squareRectangleTriangle() {\n",
    "    // the containing square of all shapes\n",
    "    const int numRows = 21;\n",
    "    // lines are taller than mono font width.  This will make the perspective more like a true square\n",
    "    const int numColumns = 42;\n",
    "    \n",
    "    const int SQUARE = 0;\n",
    "    const int RECTANGLE = 1;\n",
    "    const int TRIANGLE = 2;\n",
    "\n",
    "    for (int shapeId = 0; shapeId < 3; shapeId++) {\n",
    "        std::cout << std::endl;\n",
    "\n",
    "        for (int row = 0; row < numRows; ++row) {\n",
    "            int numPrefixSpaces;\n",
    "            int numSuffixSpaces;\n",
    "            int numFill;\n",
    "         \n",
    "            if (shapeId == SQUARE) {\n",
    "                numPrefixSpaces = numSuffixSpaces = 0;\n",
    "                numFill = numColumns;\n",
    "            } else if (shapeId == RECTANGLE) {\n",
    "                numPrefixSpaces = numSuffixSpaces = numFill = numColumns / 3;\n",
    "            } else if (shapeId == TRIANGLE) {\n",
    "                numFill = row == 0 ? 0 : row * 2 - 1;\n",
    "                numPrefixSpaces = numSuffixSpaces = (numColumns - numFill) / 2;\n",
    "            }\n",
    "            \n",
    "            std::cout << std::string(numPrefixSpaces, ' ');\n",
    "            std::cout << std::string(numFill, '*');\n",
    "            std::cout << std::string(numSuffixSpaces, ' ');\n",
    "            std::cout << std::endl;\n",
    "        }\n",
    "    }\n",
    "    \n",
    "    return 0;\n",
    "}"
   ]
  },
  {
   "cell_type": "code",
   "execution_count": 10,
   "metadata": {},
   "outputs": [
    {
     "name": "stdout",
     "output_type": "stream",
     "text": [
      "\n",
      "******************************************\n",
      "******************************************\n",
      "******************************************\n",
      "******************************************\n",
      "******************************************\n",
      "******************************************\n",
      "******************************************\n",
      "******************************************\n",
      "******************************************\n",
      "******************************************\n",
      "******************************************\n",
      "******************************************\n",
      "******************************************\n",
      "******************************************\n",
      "******************************************\n",
      "******************************************\n",
      "******************************************\n",
      "******************************************\n",
      "******************************************\n",
      "******************************************\n",
      "******************************************\n",
      "\n",
      "              **************              \n",
      "              **************              \n",
      "              **************              \n",
      "              **************              \n",
      "              **************              \n",
      "              **************              \n",
      "              **************              \n",
      "              **************              \n",
      "              **************              \n",
      "              **************              \n",
      "              **************              \n",
      "              **************              \n",
      "              **************              \n",
      "              **************              \n",
      "              **************              \n",
      "              **************              \n",
      "              **************              \n",
      "              **************              \n",
      "              **************              \n",
      "              **************              \n",
      "              **************              \n",
      "\n",
      "                                          \n",
      "                    *                    \n",
      "                   ***                   \n",
      "                  *****                  \n",
      "                 *******                 \n",
      "                *********                \n",
      "               ***********               \n",
      "              *************              \n",
      "             ***************             \n",
      "            *****************            \n",
      "           *******************           \n",
      "          *********************          \n",
      "         ***********************         \n",
      "        *************************        \n",
      "       ***************************       \n",
      "      *****************************      \n",
      "     *******************************     \n",
      "    *********************************    \n",
      "   ***********************************   \n",
      "  *************************************  \n",
      " *************************************** \n"
     ]
    },
    {
     "data": {
      "text/plain": [
       "(int) 0\n"
      ]
     },
     "execution_count": 10,
     "metadata": {},
     "output_type": "execute_result"
    }
   ],
   "source": [
    "squareRectangleTriangle()"
   ]
  },
  {
   "cell_type": "markdown",
   "metadata": {},
   "source": [
    "**2-6.** What does the following code do?\n",
    "```\n",
    "    int i = 0;\n",
    "    while (i < 10) {\n",
    "        i += 1;\n",
    "        std::cout << i << std::endl;\n",
    "    }\n",
    "```"
   ]
  },
  {
   "cell_type": "markdown",
   "metadata": {},
   "source": [
    "This code prints the numbers 1 through 10, each on their own line"
   ]
  },
  {
   "cell_type": "code",
   "execution_count": 11,
   "metadata": {},
   "outputs": [
    {
     "name": "stdout",
     "output_type": "stream",
     "text": [
      "1\n",
      "2\n",
      "3\n",
      "4\n",
      "5\n",
      "6\n",
      "7\n",
      "8\n",
      "9\n",
      "10\n"
     ]
    },
    {
     "data": {
      "text/plain": []
     },
     "execution_count": 11,
     "metadata": {},
     "output_type": "execute_result"
    }
   ],
   "source": [
    "int i = 0;\n",
    "while (i < 10) {\n",
    "    i += 1;\n",
    "    std::cout << i << std::endl;\n",
    "}"
   ]
  },
  {
   "cell_type": "markdown",
   "metadata": {},
   "source": [
    "**2-7.** Write a program to count down from 10 to -5."
   ]
  },
  {
   "cell_type": "code",
   "execution_count": 12,
   "metadata": {},
   "outputs": [
    {
     "name": "stdout",
     "output_type": "stream",
     "text": [
      "10\n",
      "9\n",
      "8\n",
      "7\n",
      "6\n",
      "5\n",
      "4\n",
      "3\n",
      "2\n",
      "1\n",
      "0\n",
      "-1\n",
      "-2\n",
      "-3\n",
      "-4\n",
      "-5\n"
     ]
    },
    {
     "data": {
      "text/plain": []
     },
     "execution_count": 12,
     "metadata": {},
     "output_type": "execute_result"
    }
   ],
   "source": [
    "i = 10;\n",
    "while (i > -6) {\n",
    "    std::cout << i << std::endl;\n",
    "    --i;\n",
    "}"
   ]
  },
  {
   "cell_type": "markdown",
   "metadata": {},
   "source": [
    "**2-8.** Write a program to generate the product of the numbers in the range `[1, 10)`."
   ]
  },
  {
   "cell_type": "code",
   "execution_count": 13,
   "metadata": {},
   "outputs": [
    {
     "name": "stdout",
     "output_type": "stream",
     "text": [
      "362880"
     ]
    },
    {
     "data": {
      "text/plain": [
       "(std::__1::basic_ostream &) @0x7fffaf973660\n"
      ]
     },
     "execution_count": 13,
     "metadata": {},
     "output_type": "execute_result"
    }
   ],
   "source": [
    "int product = 1;\n",
    "for (int i = 1; i < 10; i++) {\n",
    "    product *= i;\n",
    "}\n",
    "std::cout << product;"
   ]
  },
  {
   "cell_type": "markdown",
   "metadata": {},
   "source": [
    "**2-9.** Write a program that asks the user to enter two numbers and tells the user which number is larger than the other."
   ]
  },
  {
   "cell_type": "code",
   "execution_count": 14,
   "metadata": {},
   "outputs": [
    {
     "data": {
      "text/plain": []
     },
     "execution_count": 14,
     "metadata": {},
     "output_type": "execute_result"
    }
   ],
   "source": [
    "int showLargerOfTwoNumbers() {\n",
    "    int number1;\n",
    "    int number2;\n",
    "    \n",
    "    std::cout << \"Please enter a number.\" << std::endl;\n",
    "    std::cin >> number1;\n",
    "    //number1 = 1;\n",
    "    std::cout << \"Please enter another number.\" << std::endl;\n",
    "    std::cin >> number2;\n",
    "    //number2 = 2;\n",
    "\n",
    "    if (number1 > number2) {\n",
    "        std::cout << \"The first number is larger than the second.\" << std::endl;\n",
    "    } else {\n",
    "        std::cout << \"The second number is larger than the first.\" << std::endl;\n",
    "    }\n",
    "    \n",
    "    return 0;\n",
    "}\n"
   ]
  },
  {
   "cell_type": "code",
   "execution_count": 15,
   "metadata": {},
   "outputs": [
    {
     "name": "stdout",
     "output_type": "stream",
     "text": [
      "Please enter a number.\n",
      "Please enter another number.\n",
      "The second number is larger than the first.\n"
     ]
    },
    {
     "data": {
      "text/plain": [
       "(int) 0\n"
      ]
     },
     "execution_count": 15,
     "metadata": {},
     "output_type": "execute_result"
    }
   ],
   "source": [
    "showLargerOfTwoNumbers()"
   ]
  },
  {
   "cell_type": "markdown",
   "metadata": {},
   "source": [
    "**2-10.** Explain each of the uses of `std::` in the following program:\n",
    "```\n",
    "int main() {\n",
    "    int k = 0;\n",
    "    while (k != 10) {\n",
    "        using std::cout;\n",
    "        cout << \"*\";\n",
    "        ++k;\n",
    "    }\n",
    "    std::cout << std::endl;\n",
    "    return 0;\n",
    "}\n",
    "```"
   ]
  },
  {
   "cell_type": "markdown",
   "metadata": {},
   "source": [
    "The first use, `using std::cout;`, makes `cout` available without a namespace prefix in the scope it is declared.  \n",
    "The second and third uses, `std::cout` and `std::endl` both access fields available in the `std` namespace (and are required since there is no preceding `using std::cout` or `using std::endl` in the same scope)."
   ]
  },
  {
   "cell_type": "code",
   "execution_count": null,
   "metadata": {},
   "outputs": [],
   "source": []
  }
 ],
 "metadata": {
  "kernelspec": {
   "display_name": "C++11",
   "language": "C++",
   "name": "cling-cpp11"
  },
  "language_info": {
   "codemirror_mode": "c++",
   "file_extension": ".c++",
   "mimetype": "text/x-c++src",
   "name": "c++"
  }
 },
 "nbformat": 4,
 "nbformat_minor": 2
}
