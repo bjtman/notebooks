{
 "cells": [
  {
   "cell_type": "markdown",
   "metadata": {},
   "source": [
    "## Chapter 7\n",
    "# Gaussian Elimination"
   ]
  },
  {
   "cell_type": "markdown",
   "metadata": {},
   "source": [
    "## 7.7 Lab: Threshold Secret-Sharing"
   ]
  },
  {
   "cell_type": "markdown",
   "metadata": {},
   "source": [
    "_Consult the book for a full description of the secret-sharing scheme._"
   ]
  },
  {
   "cell_type": "markdown",
   "metadata": {},
   "source": [
    "### 7.7.3 Implementing the scheme"
   ]
  },
  {
   "cell_type": "code",
   "execution_count": 1,
   "metadata": {},
   "outputs": [],
   "source": [
    "import sys\n",
    "sys.path.append('../')\n",
    "from vecutil import list2vec\n",
    "from GF2 import one"
   ]
  },
  {
   "cell_type": "code",
   "execution_count": 2,
   "metadata": {},
   "outputs": [],
   "source": [
    "a0 = list2vec([one, one, 0, one, 0, one])\n",
    "b0 = list2vec([one, one, 0, 0,   0, one])"
   ]
  },
  {
   "cell_type": "markdown",
   "metadata": {},
   "source": [
    "### 7.7.4 Generating $\\boldsymbol{u}$"
   ]
  },
  {
   "cell_type": "markdown",
   "metadata": {},
   "source": [
    "**Task 7.7.1:** Write a procedure `choose_secret_vector(s, t)` with the following spec:\n",
    "\n",
    "* _input:_ $GF(2)$ field elements `s` and `t` (i.e. bits)\n",
    "* _output:_ a random 6-vector $\\boldsymbol{u}$ such that $\\boldsymbol{a}_0 \\cdot \\boldsymbol{u} = s$ and $\\boldsymbol{b}_0 \\cdot \\boldsymbol{u} = t$"
   ]
  },
  {
   "cell_type": "code",
   "execution_count": 3,
   "metadata": {},
   "outputs": [],
   "source": [
    "import random\n",
    "\n",
    "def random_gf2_vector(length):\n",
    "    return list2vec([random.randint(0,1) * one for _ in range(length)])\n",
    "\n",
    "def choose_secret_vector(s, t):\n",
    "    while True:\n",
    "        u = random_gf2_vector(len(a0.D))\n",
    "        if a0 * u == s and b0 * u == t:\n",
    "            return u"
   ]
  },
  {
   "cell_type": "code",
   "execution_count": 4,
   "metadata": {},
   "outputs": [],
   "source": [
    "u = choose_secret_vector(0, one)"
   ]
  },
  {
   "cell_type": "markdown",
   "metadata": {},
   "source": [
    "### 7.7.5 Finding vectors that satisfy the requirement"
   ]
  },
  {
   "cell_type": "markdown",
   "metadata": {},
   "source": [
    "**Task 7.7.2:** Select vectors $\\boldsymbol{a}_1, \\boldsymbol{b}_1, \\boldsymbol{a}_2, \\boldsymbol{b}_2, \\boldsymbol{a}_3, \\boldsymbol{b}_3, \\boldsymbol{a}_4, \\boldsymbol{b}_4$ over $GF(2)$ so that the requirement is satisfied: _For any three pairs, the corresponding six vectors are linearly independent_.\n",
    "\n",
    "Include in your answer any code you used, and the vectors you came up with.\n",
    "**_Hint:_** Try selecting eight random vectors and testing whether they satisfy the requirement. Repeat until you succeed. Use the `independence` module."
   ]
  },
  {
   "cell_type": "code",
   "execution_count": 5,
   "metadata": {},
   "outputs": [],
   "source": [
    "from independence import is_independent\n",
    "from itertools import combinations\n",
    "\n",
    "# includes given a0 and b0 in results\n",
    "def find_independent_gf2_vectors(n, a0, b0):\n",
    "    while True:\n",
    "        vectors = [random_gf2_vector(len(a0.D)) for _ in range(n)]\n",
    "        vectors = [a0, b0] + vectors\n",
    "        all_combo_indices = combinations(range(n // 2 + 1), 3)\n",
    "        if all(is_independent(\n",
    "            [vectors[i*2],vectors[i*2+1],vectors[j*2],vectors[j*2+1],vectors[k*2],vectors[k*2+1]]\n",
    "        ) for i, j, k in all_combo_indices):\n",
    "            return vectors"
   ]
  },
  {
   "cell_type": "code",
   "execution_count": 6,
   "metadata": {},
   "outputs": [],
   "source": [
    "independent_gf2_vectors = find_independent_gf2_vectors(8, a0, b0)"
   ]
  },
  {
   "cell_type": "code",
   "execution_count": 7,
   "metadata": {},
   "outputs": [
    {
     "data": {
      "text/plain": [
       "[Vec({0, 1, 2, 3, 4, 5},{0: one, 1: one, 2: 0, 3: one, 4: 0, 5: one}),\n",
       " Vec({0, 1, 2, 3, 4, 5},{0: one, 1: one, 2: 0, 3: 0, 4: 0, 5: one}),\n",
       " Vec({0, 1, 2, 3, 4, 5},{0: 0, 1: 0, 2: 0, 3: one, 4: 0, 5: one}),\n",
       " Vec({0, 1, 2, 3, 4, 5},{0: one, 1: 0, 2: one, 3: 0, 4: one, 5: one}),\n",
       " Vec({0, 1, 2, 3, 4, 5},{0: one, 1: 0, 2: one, 3: 0, 4: 0, 5: one}),\n",
       " Vec({0, 1, 2, 3, 4, 5},{0: 0, 1: one, 2: 0, 3: 0, 4: 0, 5: 0}),\n",
       " Vec({0, 1, 2, 3, 4, 5},{0: 0, 1: 0, 2: 0, 3: one, 4: one, 5: 0}),\n",
       " Vec({0, 1, 2, 3, 4, 5},{0: 0, 1: 0, 2: one, 3: one, 4: one, 5: one}),\n",
       " Vec({0, 1, 2, 3, 4, 5},{0: 0, 1: 0, 2: one, 3: one, 4: one, 5: 0}),\n",
       " Vec({0, 1, 2, 3, 4, 5},{0: 0, 1: one, 2: one, 3: one, 4: 0, 5: one})]"
      ]
     },
     "execution_count": 7,
     "metadata": {},
     "output_type": "execute_result"
    }
   ],
   "source": [
    "independent_gf2_vectors"
   ]
  },
  {
   "cell_type": "markdown",
   "metadata": {},
   "source": [
    "### 7.7.6 Sharing a string"
   ]
  },
  {
   "cell_type": "markdown",
   "metadata": {},
   "source": [
    "Now that we can share two bits, we can share an arbitrarily long string. The module `bitutil` defines procedures `str2bits(str)`, `bits2str(bitlist)`, `bits2mat(bitlist, nrows)` and `mat2bits(M)`.\n",
    "\n",
    "You can use `str2bits` to transform a string, say `\"Rosebud\"`, into a list of bits, and use `bits2mat` to transform the list of bits to a $2 \\times n$ matrix.\n",
    "\n",
    "For each column of this matrix, you can use the procedure `choose_secret_vector(s, t)` of Task 7.7.1 to obtain a corresponding secret vector $\\boldsymbol{u}$, constructing a matrix $U$ whose columns are the secret vectors.\n",
    "\n",
    "To compute the shares of the TSs, multiply the matrix\n",
    "\n",
    "$\\begin{bmatrix}\\boldsymbol{a}_0\\\\\\boldsymbol{b}_0\\\\\\boldsymbol{a}_1\\\\\\boldsymbol{b}_1\\\\\\boldsymbol{a}_2\\\\\\boldsymbol{b}_2\\\\\\boldsymbol{a}_3\\\\\\boldsymbol{b}_3\\\\\\boldsymbol{a}_4\\\\\\boldsymbol{b}_4\\end{bmatrix}$\n",
    "\n",
    "times $U$. The third and fourth rows of the product form the share for TA 1, and so on."
   ]
  },
  {
   "cell_type": "code",
   "execution_count": 8,
   "metadata": {},
   "outputs": [],
   "source": [
    "from bitutil import str2bits, bits2mat\n",
    "\n",
    "bits = str2bits(\"Rosebud\")\n",
    "mat = bits2mat(bits)\n",
    "\n",
    "from matutil import listlist2mat, mat2coldict, coldict2mat, rowdict2mat, mat2rowdict\n",
    "\n",
    "mat_columns = mat2coldict(mat).values()\n",
    "U = coldict2mat([choose_secret_vector(column[0], column[1]) for column in mat_columns])\n",
    "shares_mat = rowdict2mat(independent_gf2_vectors) * U"
   ]
  },
  {
   "cell_type": "code",
   "execution_count": 9,
   "metadata": {},
   "outputs": [
    {
     "name": "stdout",
     "output_type": "stream",
     "text": [
      "\n",
      "         0   1  10  11  12  13   2   3   4   5   6   7   8   9\n",
      "     ---------------------------------------------------------\n",
      " 0  |    0 one one one   0   0 one   0 one one one   0   0   0\n",
      " 1  |  one   0   0 one   0 one one one one one   0 one one one\n",
      " 2  |  one   0   0 one   0 one   0 one   0   0   0   0   0 one\n",
      " 3  |  one   0 one   0 one one   0 one   0 one   0   0 one   0\n",
      " 4  |  one   0 one   0 one one one one one one   0 one   0 one\n",
      " 5  |  one   0   0 one   0 one   0   0 one one one one one   0\n",
      " 6  |  one one one   0   0 one one one one   0 one   0   0   0\n",
      " 7  |    0   0 one one one   0 one one   0 one one   0 one   0\n",
      " 8  |    0 one   0   0 one   0 one one   0 one   0 one   0   0\n",
      " 9  |  one   0 one   0 one one   0 one   0   0   0   0 one one\n",
      "\n"
     ]
    }
   ],
   "source": [
    "print(shares_mat)"
   ]
  },
  {
   "cell_type": "code",
   "execution_count": 10,
   "metadata": {},
   "outputs": [],
   "source": [
    "from solver import solve\n",
    "\n",
    "#recovered_u = solve(rowdict2mat(independent_gf2_vectors[2:8]), rowdict2mat(list(mat2rowdict(shares_mat).values())[2:8]))"
   ]
  },
  {
   "cell_type": "markdown",
   "metadata": {},
   "source": [
    "## 7.8 Lab: Factoring integers"
   ]
  },
  {
   "cell_type": "markdown",
   "metadata": {},
   "source": [
    "### 7.8.1 First attempt to use square roots"
   ]
  },
  {
   "cell_type": "markdown",
   "metadata": {},
   "source": [
    "**Task 7.8.1:** To find integers $a$ and $b$ such that $a^2 - b^2 = N$, write a procedure `root_method(N)` to implement the following algorithm:\n",
    "\n",
    "* Initialize integer $a$ to be an integer greater than $\\sqrt{N}$\n",
    "* Check if $\\sqrt{a^2 - N}$ is an integer.\n",
    "* If so, let $b = \\sqrt{a^2 - N}$. Success! Return $a - b$.\n",
    "* If not, repeat with the next greater value of $a$.\n",
    "\n",
    "The module `factoring_support` provides a procedure `intsqrt(x)` with the following spec:\n",
    "* _input:_ an integer $x$\n",
    "* _output:_ an integer $y$ such that $y * y$ is close to $x$ and, if $x$ happens to be a perfect square, $y * y$ is exactly $x$.\n",
    "\n",
    "You should use `intsqrt(x)` in your implementation of the above algorithm. Try it out with 55, 77, 156771 and 118. "
   ]
  },
  {
   "cell_type": "code",
   "execution_count": 11,
   "metadata": {},
   "outputs": [],
   "source": [
    "from factoring_support import intsqrt\n",
    "\n",
    "def root_method(N):\n",
    "    a = intsqrt(N) + 1\n",
    "    while a < N ** 2: # avoid running forever, against the book's instructions\n",
    "        x = a ** 2 - N\n",
    "        b = intsqrt(x)\n",
    "        if b * b == x:\n",
    "            return a - b\n",
    "        else:\n",
    "            a += 1\n",
    "    return None"
   ]
  },
  {
   "cell_type": "code",
   "execution_count": 12,
   "metadata": {},
   "outputs": [
    {
     "data": {
      "text/plain": [
       "5"
      ]
     },
     "execution_count": 12,
     "metadata": {},
     "output_type": "execute_result"
    }
   ],
   "source": [
    "root_method(55)"
   ]
  },
  {
   "cell_type": "code",
   "execution_count": 13,
   "metadata": {},
   "outputs": [
    {
     "data": {
      "text/plain": [
       "1"
      ]
     },
     "execution_count": 13,
     "metadata": {},
     "output_type": "execute_result"
    }
   ],
   "source": [
    "root_method(77)"
   ]
  },
  {
   "cell_type": "code",
   "execution_count": 14,
   "metadata": {},
   "outputs": [
    {
     "data": {
      "text/plain": [
       "9"
      ]
     },
     "execution_count": 14,
     "metadata": {},
     "output_type": "execute_result"
    }
   ],
   "source": [
    "root_method(156771)"
   ]
  },
  {
   "cell_type": "code",
   "execution_count": 15,
   "metadata": {},
   "outputs": [],
   "source": [
    "root_method(118)"
   ]
  },
  {
   "cell_type": "markdown",
   "metadata": {},
   "source": [
    "### 7.8.2 Euclid's algorithm for greatest common divisor"
   ]
  },
  {
   "cell_type": "markdown",
   "metadata": {},
   "source": [
    "**Task 7.8.2:** Enter the code for `gcd` and try it out. Use `randint(a,b)` to generate some very big integers $r$, $s$, $t$. Then set $a = r * s$ and $b = s * t$, and find the greatest common divisor $d$ of $a$ and $b$. Verify that $d$ has the following properties:\n",
    "\n",
    "* $a$ is divisible by $d$\n",
    "* $b$ is divisible by $d$, and\n",
    "* $d \\geq s$"
   ]
  },
  {
   "cell_type": "code",
   "execution_count": 16,
   "metadata": {},
   "outputs": [],
   "source": [
    "def gcd(x, y):\n",
    "    return x if y == 0 else gcd(y, x % y)"
   ]
  },
  {
   "cell_type": "code",
   "execution_count": 17,
   "metadata": {},
   "outputs": [],
   "source": [
    "from random import randint\n",
    "\n",
    "for _ in range(100):\n",
    "    r = randint(10_000, 10_000_000)\n",
    "    s = randint(10_000, 10_000_000)\n",
    "    t = randint(10_000, 10_000_000)\n",
    "    a = r * s\n",
    "    b = s * t\n",
    "    \n",
    "    d = gcd(a, b)\n",
    "    assert(a % d == 0)\n",
    "    assert(b % d == 0)\n",
    "    assert(d >= s)"
   ]
  },
  {
   "cell_type": "markdown",
   "metadata": {},
   "source": [
    "### 7.8.3 Using square roots revisited"
   ]
  },
  {
   "cell_type": "markdown",
   "metadata": {},
   "source": [
    "**Task 7.8.3:** Let $N = 367160330145890434494322103$, let $a = 67469780066325164$, and let $b = 9429601150488992$, and verity that $a * a - b * b$ is divisible by $N$. That means that the greatest common divisor of $a - b$ and $N$ has a chance of being a nontrivial divisor of $N$. Test this using the `gcd` procedure, and report the nontrivial divisor you find."
   ]
  },
  {
   "cell_type": "code",
   "execution_count": 18,
   "metadata": {},
   "outputs": [],
   "source": [
    "N=367160330145890434494322103 \n",
    "a=67469780066325164\n",
    "b=9429601150488992\n",
    "\n",
    "assert((a * a - b * b) % N == 0)"
   ]
  },
  {
   "cell_type": "code",
   "execution_count": 19,
   "metadata": {},
   "outputs": [
    {
     "data": {
      "text/plain": [
       "19117318483477"
      ]
     },
     "execution_count": 19,
     "metadata": {},
     "output_type": "execute_result"
    }
   ],
   "source": [
    "gcd(a - b, N)"
   ]
  },
  {
   "cell_type": "markdown",
   "metadata": {},
   "source": [
    "The module `factoring_support` defines a procedure `dumb_factor(x, primeset)` with the following spec:\n",
    "* _input:_ an integer `x` and a set `primeset` of primes\n",
    "* _output:_ if there are primes $p_1, ..., p_s$ in `primeset` and positive integers $e_1, e_2, ..., e_s$ (the exponents) such that $x = p_1^{e_1}p_2^{e_2} \\cdots p_s^{e_s}$, then the procedure returns the list $[(p_1,e_1),(p_2,e_2),...,(p_s,e_s)]$ of pairs (prime, exponent). If not, the procedure returns the empty list.\n",
    "\n",
    "Here are some examples:\n",
    "```\n",
    ">>> dumb_factor(75, {2,3,5,7})\n",
    "[(3, 1), (5, 2)]\n",
    ">>> dumb_factor(30, {2,3,5,7})\n",
    "[(2, 1), (3, 1), (5, 1)]\n",
    ">>> dumb_factor(1176, {2,3,5,7})\n",
    "[(2, 3), (3, 1), (7, 2)]\n",
    ">>> dumb_factor(2 * 17, {2,3,5,7})\n",
    "[]\n",
    ">>> dumb_factor(2 * 3 * 5 * 19, {2,3,5,7})\n",
    "[]\n",
    "```"
   ]
  },
  {
   "cell_type": "markdown",
   "metadata": {},
   "source": [
    "**Task 7.8.4:** Define `primeset={2,3,5,7,11,13}`. Try out `dumb_factor(x, primeset)` on integers `x = 12`, `x = 154`, `x = 2 * 3 * 3 * 3 * 11 * 11 * 13`, `x = 2 * 17`, `x = 2 * 3 * 5 * 7 * 19`.  Report the results."
   ]
  },
  {
   "cell_type": "code",
   "execution_count": 20,
   "metadata": {},
   "outputs": [
    {
     "name": "stdout",
     "output_type": "stream",
     "text": [
      "x:  12\n",
      "dumb_factor(x, primeset):  [(2, 2), (3, 1)]\n",
      "x:  154\n",
      "dumb_factor(x, primeset):  [(2, 1), (7, 1), (11, 1)]\n",
      "x:  84942\n",
      "dumb_factor(x, primeset):  [(2, 1), (3, 3), (11, 2), (13, 1)]\n",
      "x:  34\n",
      "dumb_factor(x, primeset):  []\n",
      "x:  3990\n",
      "dumb_factor(x, primeset):  []\n"
     ]
    }
   ],
   "source": [
    "from factoring_support import dumb_factor\n",
    "\n",
    "primeset={2,3,5,7,11,13}\n",
    "\n",
    "for x in [12, 154, 2*3*3*3*11*11*13, 2*17, 2*3*5*7*19]:\n",
    "    print('x: ', x)\n",
    "    print('dumb_factor(x, primeset): ', dumb_factor(x, primeset))"
   ]
  },
  {
   "cell_type": "markdown",
   "metadata": {},
   "source": [
    "**Task 7.8.5:** From the `GF2` module, import the value `one`. Write a procedure `int2GF2(i)` that, given an integer `i`, returns `one` if `i` is odd and `0` if `i` is even.\n",
    "```\n",
    ">>> int2GF2(3)\n",
    "one\n",
    ">>> int2GF2(4)\n",
    "0\n",
    "```"
   ]
  },
  {
   "cell_type": "code",
   "execution_count": 21,
   "metadata": {},
   "outputs": [],
   "source": [
    "def int2GF2(i):\n",
    "    return 0 if i % 2 == 0 else one"
   ]
  },
  {
   "cell_type": "code",
   "execution_count": 22,
   "metadata": {},
   "outputs": [
    {
     "data": {
      "text/plain": [
       "one"
      ]
     },
     "execution_count": 22,
     "metadata": {},
     "output_type": "execute_result"
    }
   ],
   "source": [
    "int2GF2(3)"
   ]
  },
  {
   "cell_type": "code",
   "execution_count": 23,
   "metadata": {},
   "outputs": [
    {
     "data": {
      "text/plain": [
       "0"
      ]
     },
     "execution_count": 23,
     "metadata": {},
     "output_type": "execute_result"
    }
   ],
   "source": [
    "int2GF2(4)"
   ]
  },
  {
   "cell_type": "markdown",
   "metadata": {},
   "source": [
    "**Task 7.8.6:** From the module `vec`, import `Vec`. Write a procedure `make_Vec(primeset, factors)` with the following spec:\n",
    "* _input:_ a set of primes `primeset` and a list `factors`$=[(p_1,e_1),(p_2,e_2),...,(p_s,e_s)]$ such as produced by `dum_factor`, where every $p_i$ belongs to `primeset`\n",
    "* _output:_ a `primeset`-vector $\\boldsymbol{v}$ over $GF(2)$ with domain `primeset` such that `v[p_i] = int2GF2(e_i)` for `i = 1, ..., s`\n",
    "\n",
    "For example,\n",
    "```\n",
    ">>> make_Vec({2,3,5,7,11}, [(3,1)])\n",
    "Vec({3, 2, 11, 5, 7}, {3: one})\n",
    ">>> make_Vec({2,3,5,7,11}, [(2,17), (3, 0), (5, 1), (11, 3)])\n",
    "Vec({3, 2, 11, 5, 7}, {11: one, 2: one, 3: 0, 5: one})\n",
    "```"
   ]
  },
  {
   "cell_type": "code",
   "execution_count": 24,
   "metadata": {},
   "outputs": [],
   "source": [
    "from vec import Vec\n",
    "\n",
    "def make_Vec(primeset, factors):\n",
    "    return Vec(primeset, {p: int2GF2(e) for p, e in factors})"
   ]
  },
  {
   "cell_type": "code",
   "execution_count": 26,
   "metadata": {},
   "outputs": [
    {
     "data": {
      "text/plain": [
       "Vec({2, 3, 5, 7, 11},{3: one})"
      ]
     },
     "execution_count": 26,
     "metadata": {},
     "output_type": "execute_result"
    }
   ],
   "source": [
    "make_Vec({2,3,5,7,11}, [(3,1)])"
   ]
  },
  {
   "cell_type": "code",
   "execution_count": 27,
   "metadata": {},
   "outputs": [
    {
     "data": {
      "text/plain": [
       "Vec({2, 3, 5, 7, 11},{2: one, 3: 0, 5: one, 11: one})"
      ]
     },
     "execution_count": 27,
     "metadata": {},
     "output_type": "execute_result"
    }
   ],
   "source": [
    "make_Vec({2,3,5,7,11}, [(2,17), (3, 0), (5, 1), (11, 3)])"
   ]
  },
  {
   "cell_type": "markdown",
   "metadata": {},
   "source": [
    "**Task 7.8.7:** Write a procedure `find_candidates(N, primeset)` that, given an integer $N$ to factor and a set `primeset` of primes, finds `len(primeset) + 1` integers `a` for which `a * a - N` can be factored completely over `primeset`. The procedure returns two lists:\n",
    "\n",
    "* the list `roots` consisting of $a_0, a_1, a_2, ...$ such that $a_i \\cdot a_i - N$ can be factored completely over `primeset`, and\n",
    "* the list `rowlist` such that element $i$ is the `primeset`-vector over $GF(2)$ corresponding to $a_i$ (that is, the vector produced by `make_Vec`).\n",
    "\n",
    "The algorithm should initialize\n",
    "```\n",
    "roots = []\n",
    "rowlist = []\n",
    "```\n",
    "and then iterate for `x = intsqrt(N) + 2, intsqrt(N) + 3, ..., ` and for each value of `x`,\n",
    "* if `x * x - N` can be factored completely over `primeset`,\n",
    "  - append `x` to roots,\n",
    "  - append to `rowlist` the vector corresponding to the factors of `x * x - N`\n",
    "\n",
    "continuing until at least `len(primeset) + 1` roots and vectors have been accumulated.\n",
    "\n",
    "Try out your procedure on `N = 2419` by calling `find_candidates(N, primes(32))`.\n",
    "\n",
    "After the loop completes, the value of `roots` should be the list `[51,52,53,58,61,62,63,67,68,71,77,79]`.  (Consult the book for the full expected value of `rowlist`."
   ]
  },
  {
   "cell_type": "code",
   "execution_count": 28,
   "metadata": {},
   "outputs": [],
   "source": [
    "def find_candidates(N, primeset):\n",
    "    roots = []\n",
    "    rowlist = []\n",
    "\n",
    "    x = intsqrt(N) + 2\n",
    "    while len(roots) < len(primeset) + 1:\n",
    "        factors = dumb_factor(x * x - N, primeset)\n",
    "        if len(factors) > 0:\n",
    "            roots.append(x)\n",
    "            rowlist.append(make_Vec(primeset, factors))\n",
    "        x += 1\n",
    "    return roots, rowlist"
   ]
  },
  {
   "cell_type": "code",
   "execution_count": 29,
   "metadata": {},
   "outputs": [],
   "source": [
    "from factoring_support import primes\n",
    "N = 2419\n",
    "roots, rowlist = find_candidates(N, primes(32))"
   ]
  },
  {
   "cell_type": "code",
   "execution_count": 30,
   "metadata": {},
   "outputs": [
    {
     "data": {
      "text/plain": [
       "[51, 52, 53, 58, 61, 62, 63, 67, 68, 71, 77, 79]"
      ]
     },
     "execution_count": 30,
     "metadata": {},
     "output_type": "execute_result"
    }
   ],
   "source": [
    "roots # matches expected value above"
   ]
  },
  {
   "cell_type": "code",
   "execution_count": 31,
   "metadata": {},
   "outputs": [
    {
     "data": {
      "text/plain": [
       "[Vec({2, 3, 5, 7, 11, 13, 17, 19, 23, 29, 31},{2: one, 7: one, 13: one}),\n",
       " Vec({2, 3, 5, 7, 11, 13, 17, 19, 23, 29, 31},{3: one, 5: one, 19: one}),\n",
       " Vec({2, 3, 5, 7, 11, 13, 17, 19, 23, 29, 31},{2: one, 3: one, 5: one, 13: one}),\n",
       " Vec({2, 3, 5, 7, 11, 13, 17, 19, 23, 29, 31},{3: one, 5: one, 7: one}),\n",
       " Vec({2, 3, 5, 7, 11, 13, 17, 19, 23, 29, 31},{2: one, 3: one, 7: one, 31: one}),\n",
       " Vec({2, 3, 5, 7, 11, 13, 17, 19, 23, 29, 31},{3: one, 5: 0, 19: one}),\n",
       " Vec({2, 3, 5, 7, 11, 13, 17, 19, 23, 29, 31},{2: one, 5: 0, 31: one}),\n",
       " Vec({2, 3, 5, 7, 11, 13, 17, 19, 23, 29, 31},{2: one, 3: 0, 5: one, 23: one}),\n",
       " Vec({2, 3, 5, 7, 11, 13, 17, 19, 23, 29, 31},{3: 0, 5: one, 7: 0}),\n",
       " Vec({2, 3, 5, 7, 11, 13, 17, 19, 23, 29, 31},{2: one, 3: one, 19: one, 23: one}),\n",
       " Vec({2, 3, 5, 7, 11, 13, 17, 19, 23, 29, 31},{2: one, 3: one, 5: one, 13: one}),\n",
       " Vec({2, 3, 5, 7, 11, 13, 17, 19, 23, 29, 31},{2: one, 3: one, 7: 0, 13: one})]"
      ]
     },
     "execution_count": 31,
     "metadata": {},
     "output_type": "execute_result"
    }
   ],
   "source": [
    "rowlist # this does indeed also matches the expected value listed in the book"
   ]
  },
  {
   "cell_type": "markdown",
   "metadata": {},
   "source": [
    "**Task 7.8.8:** To try to find a factor, let $a = 53 \\cdot 77$ and let $b = 2 \\cdot 3^2 \\cdot 5 \\cdot 13$, and compute `gcd(a - b, N)`. Did you find a proper divisor of $N$?"
   ]
  },
  {
   "cell_type": "code",
   "execution_count": 32,
   "metadata": {},
   "outputs": [
    {
     "data": {
      "text/plain": [
       "41"
      ]
     },
     "execution_count": 32,
     "metadata": {},
     "output_type": "execute_result"
    }
   ],
   "source": [
    "a = 53 * 77\n",
    "b = 2 * 3 **2 * 5 * 13\n",
    "gcd(a - b, N)"
   ]
  },
  {
   "cell_type": "code",
   "execution_count": 33,
   "metadata": {},
   "outputs": [
    {
     "data": {
      "text/plain": [
       "59.0"
      ]
     },
     "execution_count": 33,
     "metadata": {},
     "output_type": "execute_result"
    }
   ],
   "source": [
    "N / 41 # It checks out!"
   ]
  },
  {
   "cell_type": "markdown",
   "metadata": {},
   "source": [
    "**Task 7.8.9:** To again try to find a factor of $N$ (just for practice). Let $a = 52 \\cdot 67 \\cdot 71$ and let $b = 2 \\cdot 3^2 \\cdot 5 \\cdot 19 \\cdot 23$, and compute `gcd(a - b, N)`. Did you find a proper divisor of $N$?"
   ]
  },
  {
   "cell_type": "code",
   "execution_count": 34,
   "metadata": {},
   "outputs": [
    {
     "data": {
      "text/plain": [
       "2419"
      ]
     },
     "execution_count": 34,
     "metadata": {},
     "output_type": "execute_result"
    }
   ],
   "source": [
    "a = 52 * 67 * 71\n",
    "b = 2 * 3**2 * 5 * 19 * 23\n",
    "gcd(a - b, N)"
   ]
  },
  {
   "cell_type": "code",
   "execution_count": 35,
   "metadata": {},
   "outputs": [
    {
     "data": {
      "text/plain": [
       "1.0"
      ]
     },
     "execution_count": 35,
     "metadata": {},
     "output_type": "execute_result"
    }
   ],
   "source": [
    "N / 2419 # trivial divisor"
   ]
  },
  {
   "cell_type": "code",
   "execution_count": 36,
   "metadata": {},
   "outputs": [
    {
     "name": "stdout",
     "output_type": "stream",
     "text": [
      "\n",
      "          0   1  10  11   2   3   4   5   6   7   8   9\n",
      "      -------------------------------------------------\n",
      "  0  |  one   0   0   0   0   0   0   0   0   0   0   0\n",
      "  1  |    0 one   0   0   0   0   0   0   0   0   0   0\n",
      " 10  |    0   0 one   0 one   0   0   0   0   0   0   0\n",
      " 11  |    0 one   0 one one   0   0 one   0   0   0   0\n",
      "  2  |    0   0   0   0   0   0 one   0   0   0   0   0\n",
      "  3  |    0   0   0   0   0   0 one   0   0 one   0   0\n",
      "  4  |  one   0   0   0 one   0   0   0   0   0   0   0\n",
      "  5  |    0 one   0   0   0   0   0 one   0   0   0   0\n",
      "  6  |  one   0   0   0 one one   0   0   0   0   0   0\n",
      "  7  |  one one   0   0 one   0 one one one   0   0   0\n",
      "  8  |    0 one   0   0   0   0   0 one   0   0 one   0\n",
      "  9  |    0 one   0   0   0   0   0   0   0 one   0 one\n",
      "\n"
     ]
    }
   ],
   "source": [
    "from echelon import transformation_rows\n",
    "\n",
    "M = transformation_rows(rowlist)\n",
    "print(rowdict2mat(M))"
   ]
  },
  {
   "cell_type": "code",
   "execution_count": 37,
   "metadata": {},
   "outputs": [
    {
     "name": "stdout",
     "output_type": "stream",
     "text": [
      "\n",
      "        11  13 17  19   2  23 29   3  31   5   7\n",
      "      ------------------------------------------\n",
      "  0  |   0 one  0   0 one   0  0   0   0   0 one\n",
      "  1  |   0   0  0 one   0   0  0 one   0 one   0\n",
      " 10  |   0   0  0   0   0   0  0   0   0   0   0\n",
      " 11  |   0   0  0   0   0   0  0   0   0   0   0\n",
      "  2  |   0   0  0   0 one   0  0 one one   0 one\n",
      "  3  |   0   0  0   0   0 one  0 one one one one\n",
      "  4  |   0   0  0   0   0   0  0 one   0 one one\n",
      "  5  |   0   0  0   0   0   0  0   0   0 one   0\n",
      "  6  |   0   0  0   0   0   0  0   0   0   0   0\n",
      "  7  |   0   0  0   0   0   0  0   0   0   0   0\n",
      "  8  |   0   0  0   0   0   0  0   0   0   0   0\n",
      "  9  |   0   0  0   0   0   0  0   0   0   0   0\n",
      "\n"
     ]
    }
   ],
   "source": [
    "print(rowdict2mat(M) * rowdict2mat(rowlist)) # echelon form"
   ]
  },
  {
   "cell_type": "markdown",
   "metadata": {},
   "source": [
    "**Task 7.8.10:** Define a procedure `find_a_and_b(v, roots, N)` that, given a vector `v` (one of the rows of `M`, the echelon-transformation matrix), the list `roots`, and the integer `N` to factor, computes a pair $(a, b)$ of integers such that $a^2 - b^2$ is a multiple of `N`. Your procedure should work as follows:\n",
    "\n",
    "* Let `alist` be the list of elements of `roots` corresponding to nonzero entries of the vector `v` (Use a comprehension.)\n",
    "* Let `a` be the product of these. (Use the procedure `prod(alist)` defined in the module `factoring_support`.)\n",
    "* Let `c` be the produce of $\\{$ $x \\cdot x - N : x \\in $ `alist` $\\}$\n",
    "* Let `b` be `intsqrt(c)`.\n",
    "* Verify using an assertion that `b * b == c`.\n",
    "* Return the pair `(a, b)`.\n",
    "\n",
    "Try out your procedure with `v` being the last row of `M`. See if `a - b` and `N` have a nontrivial common divisor. If it doesn't work, try it with `v` being the second-to-last row of `M`, etc."
   ]
  },
  {
   "cell_type": "code",
   "execution_count": 38,
   "metadata": {},
   "outputs": [],
   "source": [
    "from factoring_support import prod\n",
    "\n",
    "def find_a_and_b(v, roots, N):\n",
    "    alist = [roots[i] for i, val in enumerate(v.f.values()) if val != 0]\n",
    "    a = prod(alist)\n",
    "    c = prod([x * x - N for x in alist])\n",
    "    b = intsqrt(c)\n",
    "    assert(b * b == c)\n",
    "    return a, b"
   ]
  },
  {
   "cell_type": "code",
   "execution_count": 39,
   "metadata": {},
   "outputs": [
    {
     "data": {
      "text/plain": [
       "(13498888, 778050)"
      ]
     },
     "execution_count": 39,
     "metadata": {},
     "output_type": "execute_result"
    }
   ],
   "source": [
    "a, b = find_a_and_b(M[-1], roots, N)\n",
    "a, b"
   ]
  },
  {
   "cell_type": "code",
   "execution_count": 40,
   "metadata": {},
   "outputs": [
    {
     "data": {
      "text/plain": [
       "1"
      ]
     },
     "execution_count": 40,
     "metadata": {},
     "output_type": "execute_result"
    }
   ],
   "source": [
    "gcd(a - b, N) # only the trivial common divisor. Try with second-to-last row of M (echelon transformation matrix of rowlist)"
   ]
  },
  {
   "cell_type": "code",
   "execution_count": 41,
   "metadata": {},
   "outputs": [
    {
     "data": {
      "text/plain": [
       "41"
      ]
     },
     "execution_count": 41,
     "metadata": {},
     "output_type": "execute_result"
    }
   ],
   "source": [
    "a, b = find_a_and_b(M[-2], roots, N)\n",
    "gcd(a - b, N) # yup! nontrivial common divisor."
   ]
  },
  {
   "cell_type": "markdown",
   "metadata": {},
   "source": [
    "**Task 7.8.11:** Let $N = 2461799993978700679$, and try to factor $N$\n",
    "* Let `primelist` be the set of primes up to 10,000.\n",
    "* Use `find_candidates(N, primelist)` to compute the lists `roots` and `rowlist`.\n",
    "* Use `echelon.transformation_rows(rowlist)` to get a matrix `M`.\n",
    "* Let `v` be the last row of `M`, and find `a` and `b` using `find_a_and_b(v, roots, N)`.\n",
    "* See if `a - b` has a nontrivial common divisor with `N`. If not, repeat with `v` being the second-to-last row of `M` or the third-to-last row...\n",
    "\n",
    "Give a nontirvial divisor of $N$.\n"
   ]
  },
  {
   "cell_type": "code",
   "execution_count": 44,
   "metadata": {},
   "outputs": [],
   "source": [
    "def factor(N):\n",
    "    primelist = primes(10_000)\n",
    "    roots, rowlist = find_candidates(N, primelist)\n",
    "    M = transformation_rows(rowlist, sorted(primelist, reverse=True))\n",
    "    for v in reversed(M):\n",
    "        a, b = find_a_and_b(v, roots, N)\n",
    "        divisor = gcd(a - b, N)\n",
    "        if divisor != 1 and divisor != N:\n",
    "            return divisor"
   ]
  },
  {
   "cell_type": "code",
   "execution_count": 45,
   "metadata": {},
   "outputs": [
    {
     "data": {
      "text/plain": [
       "1230926561"
      ]
     },
     "execution_count": 45,
     "metadata": {},
     "output_type": "execute_result"
    }
   ],
   "source": [
    "N=2461799993978700679\n",
    "factor(N)"
   ]
  },
  {
   "cell_type": "markdown",
   "metadata": {},
   "source": [
    "**Task 7.8.12:** Let $N = 20672783502493917028427$, and try to factor $N$. This time, since $N$ is a lot bigger, finding $K + 1$ rows will take a lot longer, perhaps size to ten minutes depending on your computer. Finding $M$ could take a few minutes. (Note that I have already implemented the next task to speed things up at least a little bit)."
   ]
  },
  {
   "cell_type": "code",
   "execution_count": 46,
   "metadata": {},
   "outputs": [
    {
     "data": {
      "text/plain": [
       "1230926561"
      ]
     },
     "execution_count": 46,
     "metadata": {},
     "output_type": "execute_result"
    }
   ],
   "source": [
    "N=20672783502493917028427\n",
    "factor(N)"
   ]
  },
  {
   "cell_type": "markdown",
   "metadata": {},
   "source": [
    "**Task 7.8.13:** Here is a way to speed up finding $M$: The procedure `echelon.transformation_rows` takes an optional second argument, a list of column-labels. The list instructs the procedure in which order to handle column-labels. The proceure works much faster if the list consists of the primes of `primelist` in descending order:\n",
    "```\n",
    ">>> M_rows = echelon.transformation_rows(rowlist, sorted(primelist, reverse=True))\n",
    "```"
   ]
  },
  {
   "cell_type": "code",
   "execution_count": null,
   "metadata": {},
   "outputs": [],
   "source": []
  }
 ],
 "metadata": {
  "kernelspec": {
   "display_name": "Python 3",
   "language": "python",
   "name": "python3"
  },
  "language_info": {
   "codemirror_mode": {
    "name": "ipython",
    "version": 3
   },
   "file_extension": ".py",
   "mimetype": "text/x-python",
   "name": "python",
   "nbconvert_exporter": "python",
   "pygments_lexer": "ipython3",
   "version": "3.6.4"
  }
 },
 "nbformat": 4,
 "nbformat_minor": 2
}
