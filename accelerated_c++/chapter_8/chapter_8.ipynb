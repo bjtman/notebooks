{
 "cells": [
  {
   "cell_type": "markdown",
   "metadata": {},
   "source": [
    "## Chapter 8\n",
    "# Writing generic functions"
   ]
  },
  {
   "cell_type": "markdown",
   "metadata": {},
   "source": [
    "## Exercises"
   ]
  },
  {
   "cell_type": "markdown",
   "metadata": {},
   "source": [
    "**8-0.** Compile, execute and test the programs in this chapter."
   ]
  },
  {
   "cell_type": "markdown",
   "metadata": {},
   "source": [
    "Implemented below:"
   ]
  },
  {
   "cell_type": "code",
   "execution_count": 1,
   "metadata": {},
   "outputs": [
    {
     "data": {
      "text/plain": []
     },
     "execution_count": 1,
     "metadata": {},
     "output_type": "execute_result"
    }
   ],
   "source": [
    "#include <algorithm>\n",
    "#include <stdexcept>\n",
    "#include <vector>"
   ]
  },
  {
   "cell_type": "code",
   "execution_count": 2,
   "metadata": {},
   "outputs": [
    {
     "data": {
      "text/plain": []
     },
     "execution_count": 2,
     "metadata": {},
     "output_type": "execute_result"
    }
   ],
   "source": [
    "using std::domain_error;"
   ]
  },
  {
   "cell_type": "code",
   "execution_count": 3,
   "metadata": {},
   "outputs": [
    {
     "data": {
      "text/plain": []
     },
     "execution_count": 3,
     "metadata": {},
     "output_type": "execute_result"
    }
   ],
   "source": [
    "using std::vector;"
   ]
  },
  {
   "cell_type": "code",
   "execution_count": 4,
   "metadata": {},
   "outputs": [
    {
     "data": {
      "text/plain": []
     },
     "execution_count": 4,
     "metadata": {},
     "output_type": "execute_result"
    }
   ],
   "source": [
    "using std::sort;"
   ]
  },
  {
   "cell_type": "code",
   "execution_count": 5,
   "metadata": {},
   "outputs": [
    {
     "data": {
      "text/plain": []
     },
     "execution_count": 5,
     "metadata": {},
     "output_type": "execute_result"
    }
   ],
   "source": [
    "template <class T> T median(vector<T> v) {\n",
    "    typedef typename vector<T>::size_type vec_sz;\n",
    "    \n",
    "    vec_sz size = v.size();\n",
    "    if (size == 0) {\n",
    "        throw domain_error(\"median of an empty vector\");\n",
    "    }\n",
    "    sort(v.begin(), v.end());\n",
    "\n",
    "    vec_sz mid = size / 2;\n",
    "    return size % 2 == 0 ? (v[mid] + v[mid - 1]) / 2 : v[mid];\n",
    "}"
   ]
  },
  {
   "cell_type": "code",
   "execution_count": 6,
   "metadata": {},
   "outputs": [
    {
     "data": {
      "text/plain": [
       "(int) 2\n"
      ]
     },
     "execution_count": 6,
     "metadata": {},
     "output_type": "execute_result"
    }
   ],
   "source": [
    "vector<int> ints;\n",
    "ints.push_back(4);\n",
    "ints.push_back(3);\n",
    "ints.push_back(1);\n",
    "ints.push_back(1);\n",
    "ints.push_back(2);\n",
    "ints.push_back(3);\n",
    "median(ints);"
   ]
  },
  {
   "cell_type": "code",
   "execution_count": 7,
   "metadata": {},
   "outputs": [
    {
     "data": {
      "text/plain": [
       "(double) 2.5000000\n"
      ]
     },
     "execution_count": 7,
     "metadata": {},
     "output_type": "execute_result"
    }
   ],
   "source": [
    "vector<double> doubles;\n",
    "doubles.push_back(4);\n",
    "doubles.push_back(3);\n",
    "doubles.push_back(1);\n",
    "doubles.push_back(1);\n",
    "doubles.push_back(2);\n",
    "doubles.push_back(3);\n",
    "median(doubles);"
   ]
  },
  {
   "cell_type": "code",
   "execution_count": 8,
   "metadata": {},
   "outputs": [
    {
     "data": {
      "text/plain": []
     },
     "execution_count": 8,
     "metadata": {},
     "output_type": "execute_result"
    }
   ],
   "source": [
    "// using `my_` prefix to avoid ambiguity with <algorithm> library\n",
    "template <class In, class X> In my_find(In begin, In end, const X& x) {\n",
    "    while (begin != end && *begin != x) {\n",
    "        ++begin;\n",
    "    }\n",
    "    return begin;\n",
    "}"
   ]
  },
  {
   "cell_type": "code",
   "execution_count": 9,
   "metadata": {},
   "outputs": [
    {
     "data": {
      "text/plain": [
       "(double) 2.0000000\n"
      ]
     },
     "execution_count": 9,
     "metadata": {},
     "output_type": "execute_result"
    }
   ],
   "source": [
    "*my_find(doubles.begin(), doubles.end(), 2);"
   ]
  },
  {
   "cell_type": "code",
   "execution_count": 10,
   "metadata": {},
   "outputs": [
    {
     "data": {
      "text/plain": []
     },
     "execution_count": 10,
     "metadata": {},
     "output_type": "execute_result"
    }
   ],
   "source": [
    "template <class In, class Out> Out my_copy(In begin, In end, Out dest) {\n",
    "    while (begin != end) {\n",
    "        *dest++ = *begin++;\n",
    "    }\n",
    "    return dest;\n",
    "}"
   ]
  },
  {
   "cell_type": "code",
   "execution_count": 11,
   "metadata": {},
   "outputs": [
    {
     "data": {
      "text/plain": [
       "(std::vector<double> &) { 4.0000000, 3.0000000, 1.0000000, 1.0000000, 2.0000000, 3.0000000 }\n"
      ]
     },
     "execution_count": 11,
     "metadata": {},
     "output_type": "execute_result"
    }
   ],
   "source": [
    "#include <iterator>\n",
    "using std::back_inserter;\n",
    "\n",
    "vector<double> doubles_copy;\n",
    "\n",
    "my_copy(doubles.begin(), doubles.end(), back_inserter(doubles_copy));\n",
    "\n",
    "doubles_copy;"
   ]
  },
  {
   "cell_type": "code",
   "execution_count": 12,
   "metadata": {},
   "outputs": [
    {
     "data": {
      "text/plain": []
     },
     "execution_count": 12,
     "metadata": {},
     "output_type": "execute_result"
    }
   ],
   "source": [
    "template<class For, class X> void my_replace (For beg, For end, const X& x, const X& y) {\n",
    "    while (beg != end) {\n",
    "        if (*beg == x) {\n",
    "            *beg = y;\n",
    "        }\n",
    "        ++beg;\n",
    "    }\n",
    "}"
   ]
  },
  {
   "cell_type": "code",
   "execution_count": 13,
   "metadata": {},
   "outputs": [
    {
     "data": {
      "text/plain": [
       "(std::vector<double> &) { 4.0000000, 3.0000000, 5.0000000, 5.0000000, 2.0000000, 3.0000000 }\n"
      ]
     },
     "execution_count": 13,
     "metadata": {},
     "output_type": "execute_result"
    }
   ],
   "source": [
    "my_replace(doubles_copy.begin(), doubles_copy.end(), 1.0, 5.0);\n",
    "\n",
    "doubles_copy;"
   ]
  },
  {
   "cell_type": "code",
   "execution_count": 14,
   "metadata": {},
   "outputs": [
    {
     "data": {
      "text/plain": []
     },
     "execution_count": 14,
     "metadata": {},
     "output_type": "execute_result"
    }
   ],
   "source": [
    "template<class Element> void swap(Element& a, Element& b) {\n",
    "    Element tmp = a;\n",
    "    a = b;\n",
    "    b = tmp;\n",
    "}\n",
    "\n",
    "template <class Bi> void my_reverse(Bi begin, Bi end) {\n",
    "    while (begin != end) {\n",
    "        --end;\n",
    "        if (begin != end) {\n",
    "            swap(*begin++, *end);\n",
    "        }\n",
    "    }\n",
    "}"
   ]
  },
  {
   "cell_type": "code",
   "execution_count": 15,
   "metadata": {},
   "outputs": [
    {
     "data": {
      "text/plain": [
       "(std::vector<double> &) { 3.0000000, 2.0000000, 5.0000000, 5.0000000, 3.0000000, 4.0000000 }\n"
      ]
     },
     "execution_count": 15,
     "metadata": {},
     "output_type": "execute_result"
    }
   ],
   "source": [
    "my_reverse(doubles_copy.begin(), doubles_copy.end());\n",
    "doubles_copy;"
   ]
  },
  {
   "cell_type": "code",
   "execution_count": 16,
   "metadata": {},
   "outputs": [
    {
     "data": {
      "text/plain": []
     },
     "execution_count": 16,
     "metadata": {},
     "output_type": "execute_result"
    }
   ],
   "source": [
    "template <class Ran, class X> bool my_binary_search(Ran begin, Ran end, const X& x) {\n",
    "    while (begin < end) {\n",
    "        Ran mid = begin + (end - begin) / 2;\n",
    "        if (x < *mid)\n",
    "            end = mid;\n",
    "        else if (*mid < x)\n",
    "            begin = mid + 1;\n",
    "        else\n",
    "            return true;\n",
    "    }\n",
    "    return false;\n",
    "}"
   ]
  },
  {
   "cell_type": "code",
   "execution_count": 17,
   "metadata": {},
   "outputs": [
    {
     "data": {
      "text/plain": [
       "(bool) true\n"
      ]
     },
     "execution_count": 17,
     "metadata": {},
     "output_type": "execute_result"
    }
   ],
   "source": [
    "sort(doubles_copy.begin(), doubles_copy.end());\n",
    "my_binary_search(doubles_copy.begin(), doubles_copy.end(), 3.0);"
   ]
  },
  {
   "cell_type": "code",
   "execution_count": 18,
   "metadata": {},
   "outputs": [
    {
     "data": {
      "text/plain": []
     },
     "execution_count": 18,
     "metadata": {},
     "output_type": "execute_result"
    }
   ],
   "source": [
    "#include <cctype>\n",
    "#include <string>\n",
    "\n",
    "using std::isspace;"
   ]
  },
  {
   "cell_type": "code",
   "execution_count": 19,
   "metadata": {},
   "outputs": [
    {
     "data": {
      "text/plain": []
     },
     "execution_count": 19,
     "metadata": {},
     "output_type": "execute_result"
    }
   ],
   "source": [
    "using std::find_if;"
   ]
  },
  {
   "cell_type": "code",
   "execution_count": 20,
   "metadata": {},
   "outputs": [
    {
     "data": {
      "text/plain": []
     },
     "execution_count": 20,
     "metadata": {},
     "output_type": "execute_result"
    }
   ],
   "source": [
    "using std::string;"
   ]
  },
  {
   "cell_type": "code",
   "execution_count": 21,
   "metadata": {},
   "outputs": [
    {
     "data": {
      "text/plain": []
     },
     "execution_count": 21,
     "metadata": {},
     "output_type": "execute_result"
    }
   ],
   "source": [
    "bool not_space(const char& ch) {\n",
    "    return !isspace(ch);\n",
    "}"
   ]
  },
  {
   "cell_type": "code",
   "execution_count": 22,
   "metadata": {},
   "outputs": [
    {
     "data": {
      "text/plain": []
     },
     "execution_count": 22,
     "metadata": {},
     "output_type": "execute_result"
    }
   ],
   "source": [
    "template <class Out> void split (const string& str, Out os) {\n",
    "    typedef string::const_iterator iter;\n",
    "    \n",
    "    iter i = str.begin();\n",
    "    while (i != str.end()) {\n",
    "        i = find_if(i, str.end(), not_space);\n",
    "        \n",
    "        iter j = find_if(i, str.end(), isspace);\n",
    "        \n",
    "        if (i != str.end()) {\n",
    "            *os++ = string(i, j);\n",
    "        }\n",
    "        \n",
    "        i = j;\n",
    "    }\n",
    "}"
   ]
  },
  {
   "cell_type": "code",
   "execution_count": 23,
   "metadata": {},
   "outputs": [
    {
     "data": {
      "text/plain": []
     },
     "execution_count": 23,
     "metadata": {},
     "output_type": "execute_result"
    }
   ],
   "source": [
    "#include <iostream>\n",
    "\n",
    "using std::ostream_iterator;"
   ]
  },
  {
   "cell_type": "code",
   "execution_count": 24,
   "metadata": {},
   "outputs": [
    {
     "data": {
      "text/plain": []
     },
     "execution_count": 24,
     "metadata": {},
     "output_type": "execute_result"
    }
   ],
   "source": [
    "using std::cout;"
   ]
  },
  {
   "cell_type": "code",
   "execution_count": 25,
   "metadata": {},
   "outputs": [
    {
     "name": "stdout",
     "output_type": "stream",
     "text": [
      "home\n",
      "is\n",
      "where\n",
      "I\n",
      "want\n",
      "to\n",
      "be,\n",
      "pick\n",
      "me\n",
      "up\n",
      "and\n",
      "turn\n",
      "me\n",
      "round\n"
     ]
    },
    {
     "data": {
      "text/plain": [
       "(void) @0x700010390ea0\n"
      ]
     },
     "execution_count": 25,
     "metadata": {},
     "output_type": "execute_result"
    }
   ],
   "source": [
    "split(\"home is where I want to be, pick me up and turn me round\", ostream_iterator<string>(cout, \"\\n\"));"
   ]
  },
  {
   "cell_type": "markdown",
   "metadata": {},
   "source": [
    "**8-1.** Note that the various `analysis` functions we wrote in 6.2/110 share the same behavior; they differ only in terms of the functions they call to calculate the final grade. Write a template function, parameterized by the type of the grading function, and use that function to evaluate the grading schemes."
   ]
  },
  {
   "cell_type": "markdown",
   "metadata": {},
   "source": [
    "Implemented in `analysis_template.cpp`:\n",
    "```\n",
    "$ gcc analysis_template.cpp ../chapter_6/grade.cpp ../chapter_6/Student_info.cpp -o analysis_template.out -lstdc++\n",
    "$ ./analysis_template.out\n",
    "Karl 80 90 90 0 89\n",
    "Jark 78 95 80 90 80\n",
    "median: median(did) = 85.6, median(didnt) = 87.6\n",
    "average: median(did) = 86.9333, median(didnt) = 75.8667\n",
    "median of homework turned in: median(did) = 85.6, median(didnt) = 87.8\n",
    "```\n",
    "\n",
    "(Here is the function definition: `template <class GradingScheme> double template_analysis(const vector<Student_info>& students, GradingScheme grading_scheme`)"
   ]
  },
  {
   "cell_type": "markdown",
   "metadata": {},
   "source": [
    "**8-2.** Implement the following library algorithms, which we used in Chapter 6 and described in 6.5/121. Specify what kinds of iterators they require. Try to minimize the number of distinct iterator operations that each function requires. After you have finished your implementation, see B3/322 to see how well you did.\n",
    "\n",
    "```\n",
    "equal(b, e, b2)\n",
    "find(b, e, t)\n",
    "copy(b, e, d)\n",
    "remove_copy_if(b, e, d, p)\n",
    "transform(b, e, d, f)\n",
    "accumulate(b, e, t)\n",
    "search(b, e, b2, e2)\n",
    "find_if(b, e, p)\n",
    "remove_copy(b, e, d, t)\n",
    "remove(b, e, t)\n",
    "partition(b, e, p)\n",
    "```\n"
   ]
  },
  {
   "cell_type": "code",
   "execution_count": 26,
   "metadata": {},
   "outputs": [
    {
     "data": {
      "text/plain": []
     },
     "execution_count": 26,
     "metadata": {},
     "output_type": "execute_result"
    }
   ],
   "source": [
    "template<class In1, class In2> bool my_equal(In1 begin, In1 end, In2 begin2) {\n",
    "    while (begin != end) {\n",
    "        if (!(*begin++ == *begin2++)) {\n",
    "            return false;\n",
    "        }\n",
    "    }\n",
    "    return true;\n",
    "}"
   ]
  },
  {
   "cell_type": "code",
   "execution_count": 27,
   "metadata": {},
   "outputs": [
    {
     "data": {
      "text/plain": [
       "(std::vector<double> &) { 4.0000000, 3.0000000, 1.0000000, 1.0000000, 2.0000000, 3.0000000 }\n"
      ]
     },
     "execution_count": 27,
     "metadata": {},
     "output_type": "execute_result"
    }
   ],
   "source": [
    "doubles;"
   ]
  },
  {
   "cell_type": "code",
   "execution_count": 28,
   "metadata": {},
   "outputs": [
    {
     "data": {
      "text/plain": [
       "(std::vector<double> &) { 2.0000000, 3.0000000, 3.0000000, 4.0000000, 5.0000000, 5.0000000 }\n"
      ]
     },
     "execution_count": 28,
     "metadata": {},
     "output_type": "execute_result"
    }
   ],
   "source": [
    "doubles_copy;"
   ]
  },
  {
   "cell_type": "code",
   "execution_count": 29,
   "metadata": {},
   "outputs": [
    {
     "data": {
      "text/plain": [
       "(bool) true\n"
      ]
     },
     "execution_count": 29,
     "metadata": {},
     "output_type": "execute_result"
    }
   ],
   "source": [
    "my_equal(doubles_copy.begin(), doubles_copy.begin() + 2, doubles.end() - 2);"
   ]
  },
  {
   "cell_type": "code",
   "execution_count": 30,
   "metadata": {},
   "outputs": [
    {
     "data": {
      "text/plain": [
       "(bool) false\n"
      ]
     },
     "execution_count": 30,
     "metadata": {},
     "output_type": "execute_result"
    }
   ],
   "source": [
    "my_equal(doubles_copy.begin(), doubles_copy.begin() + 3, doubles.end() - 3);"
   ]
  },
  {
   "cell_type": "markdown",
   "metadata": {},
   "source": [
    "`my_find` and `my_copy` already implemented above."
   ]
  },
  {
   "cell_type": "code",
   "execution_count": 31,
   "metadata": {},
   "outputs": [
    {
     "data": {
      "text/plain": []
     },
     "execution_count": 31,
     "metadata": {},
     "output_type": "execute_result"
    }
   ],
   "source": [
    "template <class In, class Out, class Pred> Out my_remove_copy_if(In begin, In end, Out dest, Pred predicate) {\n",
    "    while (begin != end) {\n",
    "        if (!predicate(*begin)) {\n",
    "            *dest++ = *begin;\n",
    "        }\n",
    "        ++begin;\n",
    "    }\n",
    "    return dest;\n",
    "}"
   ]
  },
  {
   "cell_type": "code",
   "execution_count": 32,
   "metadata": {},
   "outputs": [
    {
     "name": "stdout",
     "output_type": "stream",
     "text": [
      "Textwithsomespaces\n"
     ]
    },
    {
     "data": {
      "text/plain": [
       "(std::basic_ostream<char, std::char_traits<char> > &) @0x7fffc29da660\n"
      ]
     },
     "execution_count": 32,
     "metadata": {},
     "output_type": "execute_result"
    }
   ],
   "source": [
    "#include <cctype>\n",
    "\n",
    "// std::isspace returns int, not bool\n",
    "bool space(const char& c) {\n",
    "    return std::isspace(c);\n",
    "}\n",
    "\n",
    "string str = \"Text with some   spaces\";\n",
    "my_remove_copy_if(str.begin(), str.end(), ostream_iterator<char>(cout), space);\n",
    "cout << '\\n';"
   ]
  },
  {
   "cell_type": "code",
   "execution_count": 33,
   "metadata": {},
   "outputs": [
    {
     "data": {
      "text/plain": []
     },
     "execution_count": 33,
     "metadata": {},
     "output_type": "execute_result"
    }
   ],
   "source": [
    "template <class In, class Out, class Func> void my_transform(In begin, In end, Out dest, Func f) {\n",
    "    while (begin != end) {\n",
    "        *dest++ = f(*begin++);\n",
    "    }\n",
    "}"
   ]
  },
  {
   "cell_type": "code",
   "execution_count": 34,
   "metadata": {},
   "outputs": [
    {
     "data": {
      "text/plain": [
       "(std::vector<double> &) { 4.0000000, 3.0000000, 1.0000000, 1.0000000, 2.0000000, 3.0000000 }\n"
      ]
     },
     "execution_count": 34,
     "metadata": {},
     "output_type": "execute_result"
    }
   ],
   "source": [
    "doubles;"
   ]
  },
  {
   "cell_type": "code",
   "execution_count": 35,
   "metadata": {},
   "outputs": [
    {
     "data": {
      "text/plain": [
       "(std::vector<double> &) { 8.0000000, 6.0000000, 2.0000000, 2.0000000, 4.0000000, 6.0000000 }\n"
      ]
     },
     "execution_count": 35,
     "metadata": {},
     "output_type": "execute_result"
    }
   ],
   "source": [
    "double times_2(const double d) {\n",
    "    return d * 2;\n",
    "}\n",
    "\n",
    "my_transform(doubles.begin(), doubles.end(), doubles_copy.begin(), times_2);\n",
    "doubles_copy;"
   ]
  },
  {
   "cell_type": "code",
   "execution_count": 36,
   "metadata": {},
   "outputs": [
    {
     "data": {
      "text/plain": []
     },
     "execution_count": 36,
     "metadata": {},
     "output_type": "execute_result"
    }
   ],
   "source": [
    "template <class In, class T> T my_accumulate(In begin, In end, T t) {\n",
    "    while (begin != end) {\n",
    "        t += *begin++;\n",
    "    }\n",
    "    return t;\n",
    "}"
   ]
  },
  {
   "cell_type": "code",
   "execution_count": 37,
   "metadata": {},
   "outputs": [
    {
     "data": {
      "text/plain": [
       "(int) 28\n"
      ]
     },
     "execution_count": 37,
     "metadata": {},
     "output_type": "execute_result"
    }
   ],
   "source": [
    "my_accumulate(doubles_copy.begin(), doubles_copy.end(), 0);"
   ]
  },
  {
   "cell_type": "code",
   "execution_count": 38,
   "metadata": {},
   "outputs": [
    {
     "data": {
      "text/plain": []
     },
     "execution_count": 38,
     "metadata": {},
     "output_type": "execute_result"
    }
   ],
   "source": [
    "template <class In1, class In2> In1 my_search(In1 begin1, In1 end1, In2 begin2, In2 end2) {\n",
    "    In1 match_start = end1;\n",
    "\n",
    "    while (begin1 != end1 && begin2 != end2) {\n",
    "        if (*begin1++ == *begin2) {\n",
    "            match_start = begin1 - 1;\n",
    "            ++begin2;\n",
    "        } else if (match_start != end1) {\n",
    "            return end1; // only matches part of the range.\n",
    "        }\n",
    "    }\n",
    "    return match_start;\n",
    "}"
   ]
  },
  {
   "cell_type": "code",
   "execution_count": 39,
   "metadata": {},
   "outputs": [
    {
     "data": {
      "text/plain": [
       "(std::vector<double> &) { 1.0000000, 1.0000000 }\n"
      ]
     },
     "execution_count": 39,
     "metadata": {},
     "output_type": "execute_result"
    }
   ],
   "source": [
    "vector<double> doubles_section;\n",
    "my_copy(doubles.begin() + 2, doubles.begin() + 4, back_inserter(doubles_section));\n",
    "doubles_section;"
   ]
  },
  {
   "cell_type": "code",
   "execution_count": 40,
   "metadata": {},
   "outputs": [
    {
     "data": {
      "text/plain": [
       "(std::vector<double> &) { 4.0000000, 3.0000000, 1.0000000, 1.0000000, 2.0000000, 3.0000000 }\n"
      ]
     },
     "execution_count": 40,
     "metadata": {},
     "output_type": "execute_result"
    }
   ],
   "source": [
    "doubles;"
   ]
  },
  {
   "cell_type": "code",
   "execution_count": 41,
   "metadata": {},
   "outputs": [
    {
     "data": {
      "text/plain": [
       "(double) 1.0000000\n"
      ]
     },
     "execution_count": 41,
     "metadata": {},
     "output_type": "execute_result"
    }
   ],
   "source": [
    "*my_search(doubles.begin(), doubles.end(), doubles_section.begin(), doubles_section.end());"
   ]
  },
  {
   "cell_type": "code",
   "execution_count": 42,
   "metadata": {},
   "outputs": [
    {
     "data": {
      "text/plain": []
     },
     "execution_count": 42,
     "metadata": {},
     "output_type": "execute_result"
    }
   ],
   "source": [
    "template <class In, class Pred> In my_find_if(In begin, In end, const Pred predicate) {\n",
    "    while (begin != end && !predicate(*begin)) {\n",
    "        ++begin;\n",
    "    }\n",
    "    return begin;\n",
    "}"
   ]
  },
  {
   "cell_type": "code",
   "execution_count": 43,
   "metadata": {},
   "outputs": [
    {
     "data": {
      "text/plain": [
       "(double) 4.0000000\n"
      ]
     },
     "execution_count": 43,
     "metadata": {},
     "output_type": "execute_result"
    }
   ],
   "source": [
    "bool equals_4(const double d) {\n",
    "    return d == 4.0;\n",
    "}\n",
    "\n",
    "*my_find_if(doubles.begin(), doubles.end(), equals_4);"
   ]
  },
  {
   "cell_type": "code",
   "execution_count": 44,
   "metadata": {},
   "outputs": [
    {
     "data": {
      "text/plain": []
     },
     "execution_count": 44,
     "metadata": {},
     "output_type": "execute_result"
    }
   ],
   "source": [
    "template <class In, class Out, class X> Out my_remove_copy(In begin, In end, Out dest, const X& x) {\n",
    "    while (begin != end) {\n",
    "        if (*begin != x) {\n",
    "            *dest++ = *begin;\n",
    "        }\n",
    "        ++begin;\n",
    "    }\n",
    "    return dest;\n",
    "}"
   ]
  },
  {
   "cell_type": "code",
   "execution_count": 45,
   "metadata": {},
   "outputs": [
    {
     "name": "stdout",
     "output_type": "stream",
     "text": [
      "Textwithsomespaces\n"
     ]
    },
    {
     "data": {
      "text/plain": [
       "(std::basic_ostream<char, std::char_traits<char> > &) @0x7fffc29da660\n"
      ]
     },
     "execution_count": 45,
     "metadata": {},
     "output_type": "execute_result"
    }
   ],
   "source": [
    "my_remove_copy(str.begin(), str.end(), ostream_iterator<char>(cout), ' ');\n",
    "cout << '\\n';"
   ]
  },
  {
   "cell_type": "code",
   "execution_count": 46,
   "metadata": {},
   "outputs": [
    {
     "data": {
      "text/plain": []
     },
     "execution_count": 46,
     "metadata": {},
     "output_type": "execute_result"
    }
   ],
   "source": [
    "template <class In, class X> In my_remove(In begin, In end, const X& x) {\n",
    "    In ret = begin;\n",
    "    while (begin != end) {\n",
    "        while (*begin == x) {\n",
    "            ++begin;\n",
    "        }\n",
    "        *ret++ = *begin++;\n",
    "    }\n",
    "\n",
    "    return ret;\n",
    "}"
   ]
  },
  {
   "cell_type": "code",
   "execution_count": 47,
   "metadata": {},
   "outputs": [
    {
     "data": {
      "text/plain": [
       "(std::vector<double> &) { 4.0000000, 3.0000000, 1.0000000, 1.0000000, 2.0000000, 3.0000000 }\n"
      ]
     },
     "execution_count": 47,
     "metadata": {},
     "output_type": "execute_result"
    }
   ],
   "source": [
    "doubles;"
   ]
  },
  {
   "cell_type": "code",
   "execution_count": 48,
   "metadata": {},
   "outputs": [
    {
     "data": {
      "text/plain": [
       "(std::vector<double> &) { 4.0000000, 3.0000000, 2.0000000, 3.0000000, 2.0000000, 3.0000000 }\n"
      ]
     },
     "execution_count": 48,
     "metadata": {},
     "output_type": "execute_result"
    }
   ],
   "source": [
    "my_remove(doubles.begin(), doubles.end(), 1.0);\n",
    "doubles;"
   ]
  },
  {
   "cell_type": "code",
   "execution_count": 49,
   "metadata": {},
   "outputs": [
    {
     "data": {
      "text/plain": []
     },
     "execution_count": 49,
     "metadata": {},
     "output_type": "execute_result"
    }
   ],
   "source": [
    "template <class In, class Func> In my_partition(In begin, In end, Func predicate) {\n",
    "    while (begin != end) {\n",
    "        while (predicate(*begin)) {\n",
    "            ++begin;\n",
    "            if (begin == end) {\n",
    "                return begin;\n",
    "            }\n",
    "        }\n",
    "        do {\n",
    "            --end;\n",
    "            if (begin == end) {\n",
    "                return begin;\n",
    "            }\n",
    "        } while (!predicate(*end));\n",
    "\n",
    "        swap (*begin++, *end);\n",
    "    }\n",
    "    \n",
    "    return begin;\n",
    "}"
   ]
  },
  {
   "cell_type": "code",
   "execution_count": 50,
   "metadata": {},
   "outputs": [
    {
     "data": {
      "text/plain": []
     },
     "execution_count": 50,
     "metadata": {},
     "output_type": "execute_result"
    }
   ],
   "source": [
    "bool less_than_6(const double d) {\n",
    "    return d < 6.0;\n",
    "}"
   ]
  },
  {
   "cell_type": "code",
   "execution_count": 51,
   "metadata": {},
   "outputs": [
    {
     "data": {
      "text/plain": [
       "(std::vector<double> &) { 8.0000000, 6.0000000, 2.0000000, 2.0000000, 4.0000000, 6.0000000 }\n"
      ]
     },
     "execution_count": 51,
     "metadata": {},
     "output_type": "execute_result"
    }
   ],
   "source": [
    "doubles_copy;"
   ]
  },
  {
   "cell_type": "code",
   "execution_count": 52,
   "metadata": {},
   "outputs": [
    {
     "data": {
      "text/plain": [
       "(std::__wrap_iter<double *>) @0x7f94f87fb020\n"
      ]
     },
     "execution_count": 52,
     "metadata": {},
     "output_type": "execute_result"
    }
   ],
   "source": [
    "my_partition(doubles_copy.begin(), doubles_copy.end(), less_than_6);"
   ]
  },
  {
   "cell_type": "code",
   "execution_count": 53,
   "metadata": {},
   "outputs": [
    {
     "data": {
      "text/plain": [
       "(std::vector<double> &) { 4.0000000, 2.0000000, 2.0000000, 6.0000000, 8.0000000, 6.0000000 }\n"
      ]
     },
     "execution_count": 53,
     "metadata": {},
     "output_type": "execute_result"
    }
   ],
   "source": [
    "doubles_copy;"
   ]
  },
  {
   "cell_type": "markdown",
   "metadata": {},
   "source": [
    "**8-3.** As we learned in 4.14/58, it can be expensive to return (or pass) a container by value. Yet the `median` function that we wrote in 8.1.1/140 passes the `vector` by value. Could we rewrite the `median` function to operate on iterators instead of passing the `vector`? If we did so, what would you expect the performance impact to be?"
   ]
  },
  {
   "cell_type": "markdown",
   "metadata": {},
   "source": [
    "Yes, we could rewrite the `median` function to operate on iterators instead of passing the `vector`.  The iterators passed in would need to support random access.  The performance would be better since it would not entail a copy, but the improvement would be minimal, especially for large input size, since most of the time is spent in `sort`, which we still need to keep.\n",
    "\n",
    "Here's an example:"
   ]
  },
  {
   "cell_type": "code",
   "execution_count": 54,
   "metadata": {},
   "outputs": [
    {
     "data": {
      "text/plain": []
     },
     "execution_count": 54,
     "metadata": {},
     "output_type": "execute_result"
    }
   ],
   "source": [
    "template <class T, class Rand> T median_with_iterators(Rand begin, Rand end) {\n",
    "    if (begin == end) {\n",
    "        throw domain_error(\"median of an empty range\");\n",
    "    }\n",
    "    sort(begin, end);\n",
    "\n",
    "    Rand mid = begin + (end - begin) / 2;\n",
    "    return (end - begin) % 2 == 0 ? (*mid + *(mid - 1)) / 2 : *mid;\n",
    "}"
   ]
  },
  {
   "cell_type": "code",
   "execution_count": 55,
   "metadata": {},
   "outputs": [
    {
     "data": {
      "text/plain": [
       "(double) 5.0000000\n"
      ]
     },
     "execution_count": 55,
     "metadata": {},
     "output_type": "execute_result"
    }
   ],
   "source": [
    "median_with_iterators<double>(doubles_copy.begin(), doubles_copy.end());"
   ]
  },
  {
   "cell_type": "markdown",
   "metadata": {},
   "source": [
    "**8-4.** Implement the `swap` function that we used in 8.2.5/148. Why did we call `swap` rather than exchange the values of `*beg` and `*end` directly? _Hint:_ Try it and see."
   ]
  },
  {
   "cell_type": "markdown",
   "metadata": {},
   "source": [
    "(Implemented above for use in `my_reverse`.)"
   ]
  },
  {
   "cell_type": "code",
   "execution_count": 56,
   "metadata": {},
   "outputs": [
    {
     "data": {
      "text/plain": []
     },
     "execution_count": 56,
     "metadata": {},
     "output_type": "execute_result"
    }
   ],
   "source": [
    "template <class Element, class Bi> void my_reverse_with_inline_swap_attempt(Bi begin, Bi end) {\n",
    "    while (begin != end) {\n",
    "        --end;\n",
    "        if (begin != end) {\n",
    "            Element tmp = *begin;\n",
    "            *begin++ = *end;\n",
    "            *end = tmp;\n",
    "        }\n",
    "    }\n",
    "}"
   ]
  },
  {
   "cell_type": "code",
   "execution_count": 57,
   "metadata": {},
   "outputs": [
    {
     "data": {
      "text/plain": [
       "(std::vector<double> &) { 2.0000000, 2.0000000, 4.0000000, 6.0000000, 6.0000000, 8.0000000 }\n"
      ]
     },
     "execution_count": 57,
     "metadata": {},
     "output_type": "execute_result"
    }
   ],
   "source": [
    "doubles_copy;"
   ]
  },
  {
   "cell_type": "code",
   "execution_count": 58,
   "metadata": {},
   "outputs": [
    {
     "data": {
      "text/plain": [
       "(std::vector<double> &) { 8.0000000, 6.0000000, 6.0000000, 4.0000000, 2.0000000, 2.0000000 }\n"
      ]
     },
     "execution_count": 58,
     "metadata": {},
     "output_type": "execute_result"
    }
   ],
   "source": [
    "my_reverse_with_inline_swap_attempt<double>(doubles_copy.begin(), doubles_copy.end());\n",
    "doubles_copy;"
   ]
  },
  {
   "cell_type": "markdown",
   "metadata": {},
   "source": [
    "As the method above shows, if we do the swapping inline, we need to name and instantiate a template class `Element`, whereas delegating to a function allows us to be ignorant of the inner type completely.  This also requires that the caller specify a template type (`<double>`) explicitly.\n",
    "\n",
    "Taking the question more literally, we wouldn't \"exchange the values of `*beg` and `*end` directly\" without a tmp variable since we would simply overwrite one of them and lose access to it.  This is independent of the question of inlining, though."
   ]
  },
  {
   "cell_type": "markdown",
   "metadata": {},
   "source": [
    "**8-5.** Reimplement the `gen_sentence` and `xref` functions from Chapter 7 to use the output iterators rather than putting their entire output in one data structure. Test these new versions by writing programs that attach the output iterator directly to the standard output, and by storing the results in a `list<string>` and a `map<string, vector<int> >`, respectively."
   ]
  },
  {
   "cell_type": "markdown",
   "metadata": {},
   "source": [
    "Implemented in `chapter_7/sentence_generator_test.cpp`.\n",
    "\n",
    "For the `map<string, vector<int> >` case, I think the problem is ill-defined.  Using a back-inserter on the map won't work in the case where the value is a vector that needs to be retrieved at arbitrary points in the looping code.  It would work for finding the _first_ or _last_ line, but in order to have the same behavior, the code would need to still return a map from `string` to some container of `int`s."
   ]
  },
  {
   "cell_type": "markdown",
   "metadata": {},
   "source": [
    "**8-6.** Suppose that `m` has type `map<int, string>`, and that we encounter a call to `copy(m.begin(), m.end(), back_inserter(x))`. What can we say about the type of `x`? What if the call were `copy(x.begin(), x.end(), back_inserter(m))` instead?"
   ]
  },
  {
   "cell_type": "markdown",
   "metadata": {},
   "source": [
    "If the code is correct, then `x` must have a container that holds `pair<int, string>` elements, such as a `map<int, string>` or a `vector<pair<int, string> >`.  The call `copy(x.begin(), x.end(), back_inserter(m))` would not work, since `map` has no method `push_back`. We would need somethine like `std::inserter(m, m.end())` instead. Examples:"
   ]
  },
  {
   "cell_type": "code",
   "execution_count": 60,
   "metadata": {},
   "outputs": [
    {
     "data": {
      "text/plain": []
     },
     "execution_count": 60,
     "metadata": {},
     "output_type": "execute_result"
    }
   ],
   "source": [
    "#include <map>"
   ]
  },
  {
   "cell_type": "code",
   "execution_count": 61,
   "metadata": {},
   "outputs": [
    {
     "data": {
      "text/plain": [
       "(std::vector<std::pair<int, std::string> > &) { {1 , \"hello\"}, {2 , \"goodbye\"} }\n"
      ]
     },
     "execution_count": 61,
     "metadata": {},
     "output_type": "execute_result"
    }
   ],
   "source": [
    "std::map<int, string> m;\n",
    "vector<std::pair<int, string> > x;\n",
    "\n",
    "m[1] = \"hello\";\n",
    "m[2] = \"goodbye\";\n",
    "copy(m.begin(), m.end(), back_inserter(x));\n",
    "x;"
   ]
  },
  {
   "cell_type": "code",
   "execution_count": 62,
   "metadata": {},
   "outputs": [
    {
     "name": "stderr",
     "output_type": "stream",
     "text": [
      "In file included from input_line_3:1:\n",
      "In file included from /Applications/Xcode.app/Contents/Developer/Toolchains/XcodeDefault.xctoolchain/usr/include/c++/v1/algorithm:640:\n",
      "In file included from /Applications/Xcode.app/Contents/Developer/Toolchains/XcodeDefault.xctoolchain/usr/include/c++/v1/memory:635:\n",
      "\u001b[1m/Applications/Xcode.app/Contents/Developer/Toolchains/XcodeDefault.xctoolchain/usr/include/c++/v1/iterator:775:21: \u001b[0m\u001b[0;1;31merror: \u001b[0m\u001b[1mno member named 'push_back' in 'std::__1::map<int, std::__1::basic_string<char>, std::__1::less<int>,\n",
      "      std::__1::allocator<std::__1::pair<const int, std::__1::basic_string<char> > > >'\u001b[0m\n",
      "        {container->push_back(_VSTD::move(__value_)); return *this;}\n",
      "\u001b[0;1;32m         ~~~~~~~~~  ^\n",
      "\u001b[0m\u001b[1m/Applications/Xcode.app/Contents/Developer/Toolchains/XcodeDefault.xctoolchain/usr/include/c++/v1/algorithm:1706:19: \u001b[0m\u001b[0;1;30mnote: \u001b[0min instantiation of member function 'std::__1::back_insert_iterator<std::__1::map<int, std::__1::basic_string<char>,\n",
      "      std::__1::less<int>, std::__1::allocator<std::__1::pair<const int, std::__1::basic_string<char> > > > >::operator=' requested\n",
      "      here\u001b[0m\n",
      "        *__result = *__first;\n",
      "\u001b[0;1;32m                  ^\n",
      "\u001b[0m\u001b[1m/Applications/Xcode.app/Contents/Developer/Toolchains/XcodeDefault.xctoolchain/usr/include/c++/v1/algorithm:1731:19: \u001b[0m\u001b[0;1;30mnote: \u001b[0min instantiation of function template specialization 'std::__1::__copy<std::__1::__wrap_iter<std::__1::pair<int,\n",
      "      std::__1::basic_string<char> > *>, std::__1::back_insert_iterator<std::__1::map<int, std::__1::basic_string<char>,\n",
      "      std::__1::less<int>, std::__1::allocator<std::__1::pair<const int, std::__1::basic_string<char> > > > > >' requested here\u001b[0m\n",
      "    return _VSTD::__copy(__unwrap_iter(__first), __unwrap_iter(__last), __unwrap_iter(__result));\n",
      "\u001b[0;1;32m                  ^\n",
      "\u001b[0m\u001b[1minput_line_86:3:1: \u001b[0m\u001b[0;1;30mnote: \u001b[0min instantiation of function template specialization 'std::__1::copy<std::__1::__wrap_iter<std::__1::pair<int,\n",
      "      std::__1::basic_string<char> > *>, std::__1::back_insert_iterator<std::__1::map<int, std::__1::basic_string<char>,\n",
      "      std::__1::less<int>, std::__1::allocator<std::__1::pair<const int, std::__1::basic_string<char> > > > > >' requested here\u001b[0m\n",
      "copy(x.begin(), x.end(), back_inserter(m));\n",
      "\u001b[0;1;32m^\n",
      "\u001b[0m"
     ]
    },
    {
     "ename": "ename",
     "evalue": "evalue",
     "output_type": "error",
     "traceback": []
    }
   ],
   "source": [
    "x.push_back(std::pair<int, string>(3, \"another one\"));\n",
    "copy(x.begin(), x.end(), back_inserter(m)); // fails!"
   ]
  },
  {
   "cell_type": "markdown",
   "metadata": {},
   "source": [
    "**8-7.** Why doesn't the `max` function use two template parameters, one for each argument type?"
   ]
  },
  {
   "cell_type": "markdown",
   "metadata": {},
   "source": [
    "If the `max` function used two template parameters, it could not guarantee that the comparison operator would behave as expected across both types."
   ]
  },
  {
   "cell_type": "markdown",
   "metadata": {},
   "source": [
    "**8-8.** In the `binary_search` function in 8.26/148, why didn't we write `(begin + end) / 2` instead of the more complicated `begin + (end - begin) / 2`?"
   ]
  },
  {
   "cell_type": "markdown",
   "metadata": {},
   "source": [
    "The type that the expression `(begin + end) / 2` evaluates to is an `int`, whereas the expression `begin + (end - begin) / 2` evaluates to an iterator. (`it + (it - it) / 2 => it + it / 2 => it + int => it`)"
   ]
  },
  {
   "cell_type": "code",
   "execution_count": null,
   "metadata": {},
   "outputs": [],
   "source": []
  }
 ],
 "metadata": {
  "kernelspec": {
   "display_name": "C++11",
   "language": "C++",
   "name": "cling-cpp11"
  },
  "language_info": {
   "codemirror_mode": "c++",
   "file_extension": ".c++",
   "mimetype": "text/x-c++src",
   "name": "c++"
  }
 },
 "nbformat": 4,
 "nbformat_minor": 2
}
