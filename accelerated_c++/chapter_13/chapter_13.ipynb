{
 "cells": [
  {
   "cell_type": "markdown",
   "metadata": {},
   "source": [
    "## Chapter 13\n",
    "# Using inheritance and dynamic binding"
   ]
  },
  {
   "cell_type": "markdown",
   "metadata": {},
   "source": [
    "## Exercises"
   ]
  },
  {
   "cell_type": "markdown",
   "metadata": {},
   "source": [
    "**13-0.** Compile, execute and test the programs in this chapter."
   ]
  },
  {
   "cell_type": "markdown",
   "metadata": {},
   "source": [
    "Implemented in `Student_info.h`, `Core.h`, `Grad.h` and `grading.cpp`:\n",
    "```\n",
    "$ gcc grade.cpp Student_info.cpp grading.cpp ../chapter_4/median.cpp -o grading.out -lstdc++a\n",
    "$ ./grading.out\n",
    "U Karl 80 90 80 80\n",
    "G Karlito 90 80 70 90 80\n",
    "Karl    84\n",
    "\n",
    "Karlito 70\n",
    "```"
   ]
  },
  {
   "cell_type": "markdown",
   "metadata": {},
   "source": [
    "**13-1.** Annotate the `Core` and `Grad` constructors to write the constructor's name and argument list when the constructor is executed. For example, you should add a statement such as\n",
    "```\n",
    "cerr << \"Grad::Grad(istream&)\" << endl;\n",
    "```\n",
    "to the `Grad` constructor taking an `istream&` parameter. Then write a small program that exercises each constructor. Predict beforehand what the output will be. Revise your program and predictions until your predictions match what is actually written."
   ]
  },
  {
   "cell_type": "markdown",
   "metadata": {},
   "source": [
    "I predict that the output of a default constructor for `Grad` will be:\n",
    "```\n",
    "Core::Core()\n",
    "Grad::Grad()\n",
    "```\n",
    "and that the output of an `istream` constructor will be:\n",
    "```\n",
    "Core::Core()\n",
    "Grad::Grad(istream&)\n",
    "```\n",
    "(Note that the default `Core` constructor is called, not the corresponding `istream` constructor!)"
   ]
  },
  {
   "cell_type": "code",
   "execution_count": 1,
   "metadata": {},
   "outputs": [
    {
     "data": {
      "text/plain": []
     },
     "execution_count": 1,
     "metadata": {},
     "output_type": "execute_result"
    }
   ],
   "source": [
    ".L Student_info.cpp"
   ]
  },
  {
   "cell_type": "code",
   "execution_count": 2,
   "metadata": {},
   "outputs": [
    {
     "data": {
      "text/plain": []
     },
     "execution_count": 2,
     "metadata": {},
     "output_type": "execute_result"
    }
   ],
   "source": [
    ".L grade.cpp"
   ]
  },
  {
   "cell_type": "code",
   "execution_count": 3,
   "metadata": {},
   "outputs": [
    {
     "data": {
      "text/plain": []
     },
     "execution_count": 3,
     "metadata": {},
     "output_type": "execute_result"
    }
   ],
   "source": [
    ".L ../chapter_4/median.cpp"
   ]
  },
  {
   "cell_type": "code",
   "execution_count": 4,
   "metadata": {},
   "outputs": [
    {
     "data": {
      "text/plain": []
     },
     "execution_count": 4,
     "metadata": {},
     "output_type": "execute_result"
    }
   ],
   "source": [
    "#include \"Student_info.h\""
   ]
  },
  {
   "cell_type": "code",
   "execution_count": 5,
   "metadata": {},
   "outputs": [
    {
     "data": {
      "text/plain": []
     },
     "execution_count": 5,
     "metadata": {},
     "output_type": "execute_result"
    }
   ],
   "source": [
    "#include \"grade.h\""
   ]
  },
  {
   "cell_type": "code",
   "execution_count": 6,
   "metadata": {},
   "outputs": [
    {
     "data": {
      "text/plain": []
     },
     "execution_count": 6,
     "metadata": {},
     "output_type": "execute_result"
    }
   ],
   "source": [
    "#include <iostream>"
   ]
  },
  {
   "cell_type": "code",
   "execution_count": 7,
   "metadata": {},
   "outputs": [
    {
     "data": {
      "text/plain": []
     },
     "execution_count": 7,
     "metadata": {},
     "output_type": "execute_result"
    }
   ],
   "source": [
    "#include <fstream>"
   ]
  },
  {
   "cell_type": "code",
   "execution_count": 8,
   "metadata": {},
   "outputs": [
    {
     "name": "stderr",
     "output_type": "stream",
     "text": [
      "Core::Core()\n",
      "Grad::Grad()\n"
     ]
    },
    {
     "data": {
      "text/plain": []
     },
     "execution_count": 8,
     "metadata": {},
     "output_type": "execute_result"
    }
   ],
   "source": [
    "Grad grad;"
   ]
  },
  {
   "cell_type": "code",
   "execution_count": 9,
   "metadata": {},
   "outputs": [
    {
     "name": "stderr",
     "output_type": "stream",
     "text": [
      "Core::Core()\n",
      "Grad::Grad(istream&)\n"
     ]
    },
    {
     "data": {
      "text/plain": []
     },
     "execution_count": 9,
     "metadata": {},
     "output_type": "execute_result"
    }
   ],
   "source": [
    "std::ifstream infile(\"raw_grad.txt\");\n",
    "Grad grad_from_infile(infile);"
   ]
  },
  {
   "cell_type": "markdown",
   "metadata": {},
   "source": [
    "**13-2.** Given the `Core` and `Grad` classes defined in this chapter, indicate which function is called for each of these invocations:\n",
    "```\n",
    "Core* p1 = new Core;  // default constructor for Core\n",
    "Core* p2 = new Grad;  // default constructor for Grad (which also calls default const. for Core first)\n",
    "Core s1;              // default constructor for Core\n",
    "Grad s2;              // default constructor for Grad (which also calls default const. for Core first)\n",
    "\n",
    "p1->grade();          // Core::grade()\n",
    "p1->name();           // Core::name()\n",
    "\n",
    "p2->grade();          // Grade::grade() (which also calls up to Core::grade() as part of its implementation)\n",
    "p2->name();           // Core::name() (since no overriding Grad::name() function is defined)\n",
    "\n",
    "s1.grade();           // Core::grade();\n",
    "s1.name();            // Core::name();\n",
    "\n",
    "s2.name();            // Core::name() (since no overriding Grad::name() function is defined)\n",
    "s2.grade();           // Grade::grade() (which also calls up to Core::grade() as part of its implementation)\n",
    "```\n",
    "Check whether you are correct by adding output statements to the `name` and `grade` functions that indicate which function is being executed."
   ]
  },
  {
   "cell_type": "code",
   "execution_count": 10,
   "metadata": {},
   "outputs": [
    {
     "name": "stderr",
     "output_type": "stream",
     "text": [
      "Core::Core()\n",
      "Core::Core()\n",
      "Grad::Grad()\n",
      "Core::Core()\n",
      "Core::Core()\n",
      "Grad::Grad()\n",
      "Core::grade()\n",
      "Core::name()\n",
      "Grad::grade()\n",
      "Core::grade()\n",
      "Core::name()\n",
      "Core::grade()\n",
      "Core::name()\n",
      "Core::name()\n",
      "Grad::grade()\n",
      "Core::grade()\n"
     ]
    },
    {
     "data": {
      "text/plain": [
       "(double) 0.0000000\n"
      ]
     },
     "execution_count": 10,
     "metadata": {},
     "output_type": "execute_result"
    }
   ],
   "source": [
    "Core* p1 = new Core;\n",
    "Core* p2 = new Grad;\n",
    "Core s1;\n",
    "Grad s2;\n",
    "p1->grade();\n",
    "p1->name();\n",
    "p2->grade();\n",
    "p2->name();\n",
    "s1.grade();\n",
    "s1.name();\n",
    "s2.name();\n",
    "s2.grade();"
   ]
  },
  {
   "cell_type": "markdown",
   "metadata": {},
   "source": [
    "**13-3.** The class that we built in Chapter 9 included a `valid` member that allowed users to check whether the object held values for a student record or not. Add that functionality to the inheritance-based system of classes."
   ]
  },
  {
   "cell_type": "markdown",
   "metadata": {},
   "source": [
    "Added\n",
    "```\n",
    "    bool Core::valid() const { return !homework.empty(); };\n",
    "```\n",
    "and\n",
    "```\n",
    "    bool Student_info::valid() const {\n",
    "        if (cp) return cp->valid();\n",
    "        else throw std::runtime_error(\"uninitialized Student\");\n",
    "    }\n",
    "```"
   ]
  },
  {
   "cell_type": "code",
   "execution_count": 11,
   "metadata": {},
   "outputs": [
    {
     "data": {
      "text/plain": [
       "(bool) true\n"
      ]
     },
     "execution_count": 11,
     "metadata": {},
     "output_type": "execute_result"
    }
   ],
   "source": [
    "grad_from_infile.valid();"
   ]
  },
  {
   "cell_type": "code",
   "execution_count": 12,
   "metadata": {},
   "outputs": [
    {
     "data": {
      "text/plain": [
       "(bool) false\n"
      ]
     },
     "execution_count": 12,
     "metadata": {},
     "output_type": "execute_result"
    }
   ],
   "source": [
    "s2.valid();"
   ]
  },
  {
   "cell_type": "code",
   "execution_count": 13,
   "metadata": {},
   "outputs": [
    {
     "name": "stderr",
     "output_type": "stream",
     "text": [
      "Core::Core(istream&)\n"
     ]
    },
    {
     "data": {
      "text/plain": [
       "(bool) true\n"
      ]
     },
     "execution_count": 13,
     "metadata": {},
     "output_type": "execute_result"
    }
   ],
   "source": [
    "std::fstream student_infile(\"single_entry.txt\");\n",
    "Student_info student_from_infile(student_infile);\n",
    "student_from_infile.valid();"
   ]
  },
  {
   "cell_type": "markdown",
   "metadata": {},
   "source": [
    "**13-4.** Add to these classes a function that will map a numeric grade to a letter grade according to the grading policy outlined in 10.3/177."
   ]
  },
  {
   "cell_type": "markdown",
   "metadata": {},
   "source": [
    "Added\n",
    "```\n",
    "    double Core::grade() const {\n",
    "        std::cerr << \"Core::grade()\" << std::endl;\n",
    "        return ::grade(midterm, final, homework);\n",
    "    }\n",
    "    \n",
    "    double Grad::grade() const {\n",
    "        std::cerr << \"Grad::grade()\" << std::endl;\n",
    "        return min(Core::grade(), thesis);\n",
    "    }\n",
    "```\n",
    "and\n",
    "```\n",
    "    std::string Student_info::letter_grade() const {\n",
    "        if (cp) return cp->letter_grade();\n",
    "        else throw std::runtime_error(\"uninitialized Student\");\n",
    "    }\n",
    "```"
   ]
  },
  {
   "cell_type": "code",
   "execution_count": 14,
   "metadata": {},
   "outputs": [
    {
     "name": "stderr",
     "output_type": "stream",
     "text": [
      "Core::grade()\n"
     ]
    },
    {
     "data": {
      "text/plain": [
       "(std::string) \"B\"\n"
      ]
     },
     "execution_count": 14,
     "metadata": {},
     "output_type": "execute_result"
    }
   ],
   "source": [
    "student_from_infile.letter_grade();"
   ]
  },
  {
   "cell_type": "code",
   "execution_count": 15,
   "metadata": {},
   "outputs": [
    {
     "name": "stderr",
     "output_type": "stream",
     "text": [
      "Grad::grade()\n",
      "Core::grade()\n"
     ]
    },
    {
     "data": {
      "text/plain": [
       "(std::string) \"C+\"\n"
      ]
     },
     "execution_count": 15,
     "metadata": {},
     "output_type": "execute_result"
    }
   ],
   "source": [
    "grad_from_infile.letter_grade();"
   ]
  },
  {
   "cell_type": "markdown",
   "metadata": {},
   "source": [
    "**13-5.** Write a predicate to check whether a particular student met all the relevant requirements. That is, check whether a student did all the homework, and if a graduate student, whether the student wrote a thesis."
   ]
  },
  {
   "cell_type": "markdown",
   "metadata": {},
   "source": [
    "I adapted the `valid()` predicate to suit this spec, since it's so close and in terms of interface is a bit silly to have two different methods that both serve basically the same purpose."
   ]
  },
  {
   "cell_type": "markdown",
   "metadata": {},
   "source": [
    "```\n",
    "class Core ...\n",
    "    virtual bool valid() const { return !homework.empty(); };\n",
    "...\n",
    "class Grad ...\n",
    "    bool valid() const { return Core::valid() && thesis != 0; };\n",
    "...\n",
    "```"
   ]
  },
  {
   "cell_type": "code",
   "execution_count": 16,
   "metadata": {},
   "outputs": [
    {
     "data": {
      "text/plain": [
       "(bool) true\n"
      ]
     },
     "execution_count": 16,
     "metadata": {},
     "output_type": "execute_result"
    }
   ],
   "source": [
    "grad_from_infile.valid();"
   ]
  },
  {
   "cell_type": "code",
   "execution_count": 17,
   "metadata": {},
   "outputs": [
    {
     "data": {
      "text/plain": [
       "(bool) true\n"
      ]
     },
     "execution_count": 17,
     "metadata": {},
     "output_type": "execute_result"
    }
   ],
   "source": [
    "student_from_infile.valid(); // undergrad"
   ]
  },
  {
   "cell_type": "markdown",
   "metadata": {},
   "source": [
    "**13-6.** Add a class to the system to represent students taking the course for pass/fail credit. Assume that such students need not do the homework, but might do so. If they do, the homework should participate in determining whether they passed or failed, according to the normal formula. If they did no homework, then the grade is the average of their midterm and final grades. A passing grade is 60 or higher."
   ]
  },
  {
   "cell_type": "markdown",
   "metadata": {},
   "source": [
    "```\n",
    "class PassFail: public Core {\n",
    "public:\n",
    "    PassFail(std::istream& is) { Core::read(is); }\n",
    "    double grade() const;\n",
    "    std::string letter_grade() const;\n",
    "protected:\n",
    "    PassFail* clone() const { return new PassFail(*this); }\n",
    "};\n",
    "\n",
    "...\n",
    "\n",
    "double PassFail::grade() const {\n",
    "    return homework.empty() ? (midterm + final) / 2 : Core::grade();\n",
    "}\n",
    "\n",
    "string PassFail::letter_grade() const {\n",
    "    return grade() >= 60 ? \"P\" : \"F\";\n",
    "}\n",
    "\n",
    "```"
   ]
  },
  {
   "cell_type": "code",
   "execution_count": 18,
   "metadata": {},
   "outputs": [
    {
     "name": "stderr",
     "output_type": "stream",
     "text": [
      "Core::Core()\n",
      "Core::grade()\n"
     ]
    },
    {
     "data": {
      "text/plain": [
       "(double) 82.000000\n"
      ]
     },
     "execution_count": 18,
     "metadata": {},
     "output_type": "execute_result"
    }
   ],
   "source": [
    "std::ifstream pf_infile(\"raw_grad.txt\");\n",
    "PassFail pass_fail(pf_infile);\n",
    "pass_fail.grade();"
   ]
  },
  {
   "cell_type": "code",
   "execution_count": 19,
   "metadata": {},
   "outputs": [
    {
     "name": "stderr",
     "output_type": "stream",
     "text": [
      "Core::grade()\n"
     ]
    },
    {
     "data": {
      "text/plain": [
       "(std::string) \"P\"\n"
      ]
     },
     "execution_count": 19,
     "metadata": {},
     "output_type": "execute_result"
    }
   ],
   "source": [
    "pass_fail.letter_grade();"
   ]
  },
  {
   "cell_type": "markdown",
   "metadata": {},
   "source": [
    "**13-7.** Add a class to the system to represent students auditing the course."
   ]
  },
  {
   "cell_type": "markdown",
   "metadata": {},
   "source": [
    "```\n",
    "class Auditing: public Core {\n",
    "public:\n",
    "    Auditing(std::istream& is) { Core::read(is); }\n",
    "    double grade() const { return 0; } // no grades for auditing students\n",
    "    std::string letter_grade() const { return \"NA\"; }\n",
    "    bool valid() const { return true; }; // auditing students need nothing to be valid\n",
    "protected:\n",
    "    Auditing* clone() const { return new Auditing(*this); }\n",
    "};\n",
    "```"
   ]
  },
  {
   "cell_type": "markdown",
   "metadata": {},
   "source": [
    "**13-8.** Write a program to generate a grade report that can handle all four kinds of students."
   ]
  },
  {
   "cell_type": "markdown",
   "metadata": {},
   "source": [
    "The only changes needed to the original program for this chapter is to add two new student-prefix checks to `std::istream& Student_info::read(std::istream&);`:\n",
    "\n",
    "```\n",
    "    std::istream& read(std::istream& in) {\n",
    "        delete cp;\n",
    "\n",
    "        char ch;\n",
    "        in >> ch;\n",
    "\n",
    "\n",
    "        if (ch == 'A') {\n",
    "            cp = new Auditing(in);\n",
    "        } else if (ch == 'P') {\n",
    "            cp = new PassFail(in);\n",
    "        } else if (ch == 'U') {\n",
    "            cp = new Core(in);\n",
    "        } else {\n",
    "            cp = new Grad(in);\n",
    "        }\n",
    "\n",
    "        return in;\n",
    "    }\n",
    "```"
   ]
  },
  {
   "cell_type": "markdown",
   "metadata": {},
   "source": [
    "```\n",
    "$ gcc grade.cpp Student_info.cpp grading.cpp ../chapter_4/median.cpp -o grading.out -lstdc++\n",
    "$ cat all_student_types_test_data.txt\n",
    "U Karl 80 90 80 80 d\n",
    "P Hank 90 0 80 80 40 30 d\n",
    "P Tina 90 70 80 d\n",
    "A Quentin 90 80 d\n",
    "G GradMan 80 90 70 89 67 d\n",
    "\n",
    "$ cat all_student_types_test_data.txt | ./grading.out\n",
    "GradMan 70: C-\n",
    "\n",
    "Hank    42: F\n",
    "\n",
    "Karl    84: B\n",
    "\n",
    "Quentin 0: NA\n",
    "\n",
    "Tina    78: P\n",
    "```"
   ]
  },
  {
   "cell_type": "markdown",
   "metadata": {},
   "source": [
    "**13-9.** Describe what would happen if the assignment operator in 13.4.2/247 failed to check for self-assignment."
   ]
  },
  {
   "cell_type": "markdown",
   "metadata": {},
   "source": [
    "If the assignment operator failed to check for self-assignment, the operator would first `delete` the member `cp`, and then, since the argument `s` refers to `*this`, it would attempt to call `cp->clone` on a deallocated `cp` object, resulting in a failure."
   ]
  },
  {
   "cell_type": "code",
   "execution_count": null,
   "metadata": {},
   "outputs": [],
   "source": []
  }
 ],
 "metadata": {
  "kernelspec": {
   "display_name": "C++11",
   "language": "C++",
   "name": "cling-cpp11"
  },
  "language_info": {
   "codemirror_mode": "c++",
   "file_extension": ".c++",
   "mimetype": "text/x-c++src",
   "name": "c++"
  }
 },
 "nbformat": 4,
 "nbformat_minor": 2
}
