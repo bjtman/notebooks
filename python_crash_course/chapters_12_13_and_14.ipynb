{
 "cells": [
  {
   "cell_type": "markdown",
   "metadata": {},
   "source": [
    "# Chapters 12, 13 and 14\n",
    "## Alien Invasion Game"
   ]
  },
  {
   "cell_type": "markdown",
   "metadata": {},
   "source": [
    "In these chapters, we build a \"Space Invadors\"-style game using Pygame.\n",
    "To run the game, run the following:\n",
    "```\n",
    "$ pip3 install pygame\n",
    "$ cd alien_invasion\n",
    "$ python3 alien_invasion.py\n",
    "```"
   ]
  },
  {
   "cell_type": "markdown",
   "metadata": {},
   "source": [
    "![](images/alien_invasion_screenshot.png)"
   ]
  },
  {
   "cell_type": "markdown",
   "metadata": {},
   "source": [
    "### Gameplay Directions\n",
    "\n",
    "* To start a game, press 'p' to play, or click the 'Play' button in the center of the screen.\n",
    "* To quit at any time, press 'q' or exit the window.\n",
    "* Use the left and right arrow keys to move the ship.\n",
    "* Hit the space bar to shoot.\n",
    "* Don't let the aliens hit the ship or get to the bottom of the screen.\n",
    "* That's it! Try to rack up some points!"
   ]
  },
  {
   "cell_type": "code",
   "execution_count": null,
   "metadata": {},
   "outputs": [],
   "source": []
  }
 ],
 "metadata": {
  "kernelspec": {
   "display_name": "Python 3",
   "language": "python",
   "name": "python3"
  },
  "language_info": {
   "codemirror_mode": {
    "name": "ipython",
    "version": 3
   },
   "file_extension": ".py",
   "mimetype": "text/x-python",
   "name": "python",
   "nbconvert_exporter": "python",
   "pygments_lexer": "ipython3",
   "version": "3.6.3"
  }
 },
 "nbformat": 4,
 "nbformat_minor": 2
}
