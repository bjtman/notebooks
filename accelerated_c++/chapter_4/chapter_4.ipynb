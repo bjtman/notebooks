{
 "cells": [
  {
   "cell_type": "markdown",
   "metadata": {},
   "source": [
    "## Chapter 4\n",
    "# Organizing programs and data"
   ]
  },
  {
   "cell_type": "markdown",
   "metadata": {},
   "source": [
    "## Exercises"
   ]
  },
  {
   "cell_type": "markdown",
   "metadata": {},
   "source": [
    "**4-0.** Compile, execute and test the programs in this chapter."
   ]
  },
  {
   "cell_type": "markdown",
   "metadata": {},
   "source": [
    "Implemented in `chapter_4_code.cpp`, `median.h`, `median.cpp`, `grade.h`, `grade.cpp`, `Student_info.h` and `Student_info.cpp`."
   ]
  },
  {
   "cell_type": "markdown",
   "metadata": {},
   "source": [
    "**4-1.** We noted that it is essential that the argument types in a call to `max` match exactly. Will the following code work? If there is a problem, how would you fix it?  \n",
    "\n",
    "```\n",
    "int maxlen;\n",
    "Student_info s;\n",
    "max(s.name.size(), maxlen);\n",
    "```"
   ]
  },
  {
   "cell_type": "markdown",
   "metadata": {},
   "source": [
    "No, this code will not work.  The argument types to `max` must both match exactly, but the provided types will be `std::string::size_type` and `int` for the left and right arguments respectively.  \n",
    "\n",
    "To fix the code, either cast `s.name.size()` to type `int`, or change the definition of `maxlen` to be of type `std::string::size_type`.\n",
    "\n",
    "Example:"
   ]
  },
  {
   "cell_type": "code",
   "execution_count": 1,
   "metadata": {},
   "outputs": [
    {
     "data": {
      "text/plain": []
     },
     "execution_count": 1,
     "metadata": {},
     "output_type": "execute_result"
    }
   ],
   "source": [
    "#include \"Student_info.h\"\n",
    "#include <algorithm>\n",
    "#include <string>\n",
    "\n",
    "int main() {\n",
    "    std::string::size_type maxlen;\n",
    "    Student_info s;\n",
    "    std::max(s.name.size(), maxlen);\n",
    "    \n",
    "    return 0;\n",
    "}"
   ]
  },
  {
   "cell_type": "markdown",
   "metadata": {},
   "source": [
    "**4-2.** Write a program to calculate the squares of `int` values up to 100. The program should write two columns: The first lists the value; the second contains the square of that value. Use `setw` (described above) to manage the output so that values line up in columns."
   ]
  },
  {
   "cell_type": "markdown",
   "metadata": {},
   "source": [
    "Implemented in `squares.cpp`."
   ]
  },
  {
   "cell_type": "markdown",
   "metadata": {},
   "source": [
    "**4-3.** What happens if we rewrite the previous program to allow values up to but not including 1000 but neglect to change the arguments to `setw`? Rewrite the program to be more robust in the face of changes that allow `i` to grow without adjusting the `setw` arguments."
   ]
  },
  {
   "cell_type": "markdown",
   "metadata": {},
   "source": [
    "Implemented in `squares_adaptive.cpp`. The important bit is reproduced here:"
   ]
  },
  {
   "cell_type": "code",
   "execution_count": 2,
   "metadata": {},
   "outputs": [
    {
     "data": {
      "text/plain": [
       "(int) 4\n"
      ]
     },
     "execution_count": 2,
     "metadata": {},
     "output_type": "execute_result"
    }
   ],
   "source": [
    "#include <cmath>\n",
    "// e.g. stringLengthOfInt(9999) => 4\n",
    "// e.g. stringLengthOfInt(10000) => 5\n",
    "int stringLengthOfInt(int i) {\n",
    "    return (int) log10(i) + 1;\n",
    "}\n",
    "\n",
    "stringLengthOfInt(9999);"
   ]
  },
  {
   "cell_type": "code",
   "execution_count": 3,
   "metadata": {},
   "outputs": [
    {
     "data": {
      "text/plain": [
       "(int) 5\n"
      ]
     },
     "execution_count": 3,
     "metadata": {},
     "output_type": "execute_result"
    }
   ],
   "source": [
    "stringLengthOfInt(10000);"
   ]
  },
  {
   "cell_type": "markdown",
   "metadata": {},
   "source": [
    "**4-4.** Now change your squares program to use `double` values instead of `int`s. Use manipulators to manage the output so that the values line up in columns."
   ]
  },
  {
   "cell_type": "markdown",
   "metadata": {},
   "source": [
    "Implemented in `squares_adaptive_doubles.cpp`."
   ]
  },
  {
   "cell_type": "markdown",
   "metadata": {},
   "source": [
    "**4-5.** Write a function that reads words from an input stream and stores them in a `vector`. Use that function both to write programs that count the number of words in the input, and to count how many times each word occurred."
   ]
  },
  {
   "cell_type": "markdown",
   "metadata": {},
   "source": [
    "Function implemented in files `read_into_vector.h|cpp`. Programs implemented in `count_words.cpp` and `count_unique_words.cpp`."
   ]
  },
  {
   "cell_type": "markdown",
   "metadata": {},
   "source": [
    "**4-6.** Rewrite the `Student_info` structure, and the `read` and `grade` functions, so that they calculate each student's grades as part of reading the input, and store only the final grade."
   ]
  },
  {
   "cell_type": "markdown",
   "metadata": {},
   "source": [
    "Modified in original files listed above in **4-1**."
   ]
  },
  {
   "cell_type": "markdown",
   "metadata": {},
   "source": [
    "**4-7.** Write a program to calculate the average of the numbers stored in a `vector<double>`."
   ]
  },
  {
   "cell_type": "code",
   "execution_count": 4,
   "metadata": {},
   "outputs": [
    {
     "data": {
      "text/plain": [
       "(double) 4.0000000\n"
      ]
     },
     "execution_count": 4,
     "metadata": {},
     "output_type": "execute_result"
    }
   ],
   "source": [
    "#include <vector>\n",
    "\n",
    "double average(std::vector<double>& vec) {\n",
    "    double sum = 0;\n",
    "\n",
    "    for (int i = 0; i < vec.size(); i++) {\n",
    "        sum += vec[i];\n",
    "    }\n",
    "    \n",
    "    return sum / vec.size();\n",
    "}\n",
    "\n",
    "std::vector<double> vec;\n",
    "vec.push_back(3.0);\n",
    "vec.push_back(4.0);\n",
    "vec.push_back(5.0);\n",
    "average(vec)"
   ]
  },
  {
   "cell_type": "markdown",
   "metadata": {},
   "source": [
    "**4-8.** If the following code is legal, what can we infer about the return type of `f`?  \n",
    "```\n",
    "double d = f()[n];\n",
    "```"
   ]
  },
  {
   "cell_type": "markdown",
   "metadata": {},
   "source": [
    "We can infer that the return type of `f` supports the subscript operator.  This could be an array, string, vector, or any other type that defines the subscript operator."
   ]
  },
  {
   "cell_type": "code",
   "execution_count": null,
   "metadata": {},
   "outputs": [],
   "source": []
  }
 ],
 "metadata": {
  "kernelspec": {
   "display_name": "C++11",
   "language": "C++",
   "name": "cling-cpp11"
  },
  "language_info": {
   "codemirror_mode": "c++",
   "file_extension": ".c++",
   "mimetype": "text/x-c++src",
   "name": "c++"
  }
 },
 "nbformat": 4,
 "nbformat_minor": 2
}
